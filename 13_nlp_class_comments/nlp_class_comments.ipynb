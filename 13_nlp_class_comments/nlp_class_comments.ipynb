{
 "cells": [
  {
   "cell_type": "markdown",
   "metadata": {},
   "source": [
    "# Классификация комментариев интернет-магазина"
   ]
  },
  {
   "cell_type": "markdown",
   "metadata": {},
   "source": [
    "## Описание проекта"
   ]
  },
  {
   "cell_type": "markdown",
   "metadata": {},
   "source": [
    "Интернет-магазин «Викишоп» запускает новый сервис. Теперь пользователи могут редактировать и дополнять описания товаров, как в вики-сообществах. То есть клиенты предлагают свои правки и комментируют изменения других. Магазину нужен инструмент, который будет искать токсичные комментарии и отправлять их на модерацию. \n",
    "\n",
    "Необходимо обучить модель классифицировать комментарии на позитивные и негативные. В вашем распоряжении набор данных с разметкой о токсичности правок.\n",
    "\n",
    "- Необходимо построить модель со значением метрики *F-1* не меньше 0.75. \n",
    "\n",
    "**Исходные данные**\n",
    "\n",
    "Данные находятся в файле `toxic_comments.csv`. Столбец *text* в нём содержит текст комментария, а *toxic* — целевой признак.\n",
    "\n",
    "**Этапы проекта**\n",
    "\n",
    "1. Загрузим и подготовим данные.\n",
    "2. Обучим разные модели. \n",
    "3. Сделаем выводы."
   ]
  },
  {
   "cell_type": "markdown",
   "metadata": {},
   "source": [
    "## Загрузка данных"
   ]
  },
  {
   "cell_type": "markdown",
   "metadata": {},
   "source": [
    "### Подготовка библиотек и загрузка данных"
   ]
  },
  {
   "cell_type": "code",
   "execution_count": 1,
   "metadata": {},
   "outputs": [],
   "source": [
    "## импортируем необходимые библиотеки----------------------------------------------------\n",
    "import pandas as pd\n",
    "import matplotlib.pyplot as plt\n",
    "import warnings\n",
    "import re \n",
    "import nltk\n",
    "import spacy\n",
    "\n",
    "## из библиотек импортируем необходимые функции и классы---------------------------------\n",
    "from sklearn.model_selection import train_test_split\n",
    "from tqdm import tqdm\n",
    "\n",
    "# загружаем инструменты для автоподбора гиперпараметров\n",
    "from sklearn.model_selection import (\n",
    "    GridSearchCV, \n",
    ")\n",
    "\n",
    "# загружаем классы моделей\n",
    "from sklearn.dummy import DummyClassifier\n",
    "from sklearn.tree import DecisionTreeClassifier\n",
    "from sklearn.linear_model import LogisticRegression\n",
    "from sklearn.feature_extraction.text import TfidfVectorizer\n",
    "from catboost import CatBoostClassifier\n",
    "\n",
    "# загружаем класс для работы с пайплайнами\n",
    "from sklearn.pipeline import Pipeline\n",
    "\n",
    "# загружаем метрики\n",
    "from sklearn.metrics import f1_score\n",
    "\n",
    "## константы----------------------------------------------------------------------------\n",
    "\n",
    "# константа для фиксации данных при обучении моделей, чтобы получать одинаковые результаты при пересчёте\n",
    "RANDOM_STATE = 42  \n",
    "\n",
    "# размер тестовой выборки\n",
    "TEST_SIZE = 0.25   \n",
    "\n",
    "## настройки----------------------------------------------------------------------------\n",
    "\n",
    "# скрываем предупреждения\n",
    "warnings.filterwarnings('ignore')"
   ]
  },
  {
   "cell_type": "markdown",
   "metadata": {},
   "source": [
    "Cоздадим датафрейм `df` из файла `toxic_comments.csv`."
   ]
  },
  {
   "cell_type": "code",
   "execution_count": 2,
   "metadata": {},
   "outputs": [],
   "source": [
    "# загружаем данные заказчика, удаляем старые индексы \"Unnamed:\"\" 0 и назначаем новые\n",
    "df = pd.read_csv('toxic_comments.csv', index_col=0).reset_index(drop=True)"
   ]
  },
  {
   "cell_type": "markdown",
   "metadata": {},
   "source": [
    "- Данные загружены в датафрейм.\n",
    "- Ошибок не обнаружено."
   ]
  },
  {
   "cell_type": "markdown",
   "metadata": {},
   "source": [
    "### Получение общей информации о данных"
   ]
  },
  {
   "cell_type": "code",
   "execution_count": 3,
   "metadata": {},
   "outputs": [
    {
     "name": "stdout",
     "output_type": "stream",
     "text": [
      "<class 'pandas.core.frame.DataFrame'>\n",
      "RangeIndex: 159292 entries, 0 to 159291\n",
      "Data columns (total 2 columns):\n",
      " #   Column  Non-Null Count   Dtype \n",
      "---  ------  --------------   ----- \n",
      " 0   text    159292 non-null  object\n",
      " 1   toxic   159292 non-null  int64 \n",
      "dtypes: int64(1), object(1)\n",
      "memory usage: 2.4+ MB\n"
     ]
    }
   ],
   "source": [
    "# получим общую информацию о данных\n",
    "df.info()"
   ]
  },
  {
   "cell_type": "code",
   "execution_count": 4,
   "metadata": {},
   "outputs": [
    {
     "name": "stdout",
     "output_type": "stream",
     "text": [
      "                                                text  toxic\n",
      "0  Explanation\\nWhy the edits made under my usern...      0\n",
      "1  D'aww! He matches this background colour I'm s...      0\n",
      "2  Hey man, I'm really not trying to edit war. It...      0\n",
      "3  \"\\nMore\\nI can't make any real suggestions on ...      0\n",
      "4  You, sir, are my hero. Any chance you remember...      0\n",
      "                                                     text  toxic\n",
      "159287  \":::::And for the second time of asking, when ...      0\n",
      "159288  You should be ashamed of yourself \\n\\nThat is ...      0\n",
      "159289  Spitzer \\n\\nUmm, theres no actual article for ...      0\n",
      "159290  And it looks like it was actually you who put ...      0\n",
      "159291  \"\\nAnd ... I really don't think you understand...      0\n"
     ]
    }
   ],
   "source": [
    "# выведем первые и последние строки датафрейма\n",
    "print(df.head())\n",
    "print(df.tail())"
   ]
  },
  {
   "cell_type": "code",
   "execution_count": 5,
   "metadata": {},
   "outputs": [
    {
     "data": {
      "text/plain": [
       "0"
      ]
     },
     "execution_count": 5,
     "metadata": {},
     "output_type": "execute_result"
    }
   ],
   "source": [
    "#проверим данные на полные дубликаты\n",
    "df.duplicated().sum()"
   ]
  },
  {
   "cell_type": "code",
   "execution_count": 6,
   "metadata": {},
   "outputs": [
    {
     "data": {
      "text/plain": [
       "0"
      ]
     },
     "execution_count": 6,
     "metadata": {},
     "output_type": "execute_result"
    }
   ],
   "source": [
    "# проверим столбец 'text' на дубликаты\n",
    "df['text'].duplicated().sum()"
   ]
  },
  {
   "cell_type": "markdown",
   "metadata": {},
   "source": [
    "Дубликаты не обнаружены.\n",
    "\n",
    "Выведем количество токсичных и нетоксичных комментариев."
   ]
  },
  {
   "cell_type": "code",
   "execution_count": 7,
   "metadata": {},
   "outputs": [
    {
     "data": {
      "image/png": "[encoded data removed]",
      "text/plain": [
       "<Figure size 640x480 with 1 Axes>"
      ]
     },
     "metadata": {},
     "output_type": "display_data"
    }
   ],
   "source": [
    "data=df['toxic'].value_counts().sort_values(ascending=True)\n",
    "ax=data.plot(kind='barh', rot=0)\n",
    "\n",
    "# подписываем и расставляем значения столбцов\n",
    "for p in ax.patches:\n",
    "    ax.annotate(\n",
    "        (f'{p.get_width()} ({(p.get_width()/data.sum()*100).round(1)}%)'), \n",
    "                ((p.get_x() + p.get_width() + 50), p.get_y() + p.get_height() * 0.5), \n",
    "                ha='left', \n",
    "                va='center')\n",
    "    \n",
    "# увеличиваем расстояние до края\n",
    "plt.margins(0.4)\n",
    "\n",
    "plt.title('Количество токсичных и нетоксичных\\nкомментариев в выборке')\n",
    "plt.xlabel(\"Число комментариев\")\n",
    "plt.ylabel(\"Категории комментариев:\\n0 - нетоксичные\\n1 - токсичные\")\n",
    "plt.show()"
   ]
  },
  {
   "cell_type": "markdown",
   "metadata": {},
   "source": [
    "**Вывод**\n",
    "\n",
    "- Данные корректны, пропусков и дубликатов не обраружено.\n",
    "- Почти 90% комментариев в выборке являются нетоксичными. При разделении данных на выборки понадобится стратификация, чтобы избежать дисбаланса классов.\n",
    "- Комментарии являются англоязычными."
   ]
  },
  {
   "cell_type": "markdown",
   "metadata": {},
   "source": [
    "## Подготовка данных"
   ]
  },
  {
   "cell_type": "markdown",
   "metadata": {},
   "source": [
    "1. Выполним очистку текста.\n",
    "2. Токенизируем и лемматизируем текст, использую библиотеку `simplemma`.\n",
    "3. Добавим стоп-слова."
   ]
  },
  {
   "cell_type": "code",
   "execution_count": 8,
   "metadata": {},
   "outputs": [],
   "source": [
    "# функция для очистки текста\n",
    "def clear_text(text):\n",
    "    clear = re.sub(r\"[^a-zA-Z]\", ' ', text) \n",
    "    \n",
    "    return \" \".join(clear.split())"
   ]
  },
  {
   "cell_type": "code",
   "execution_count": 9,
   "metadata": {},
   "outputs": [
    {
     "data": {
      "text/plain": [
       "\"Explanation\\nWhy the edits made under my username Hardcore Metallica Fan were reverted? They weren't vandalisms, just closure on some GAs after I voted at New York Dolls FAC. And please don't remove the template from the talk page since I'm retired now.89.205.38.27\""
      ]
     },
     "execution_count": 9,
     "metadata": {},
     "output_type": "execute_result"
    }
   ],
   "source": [
    "# Создаем корпус тескстов, как список строк\n",
    "corpus = list(df['text'])\n",
    "\n",
    "# выведем первый текст    \n",
    "corpus[0]"
   ]
  },
  {
   "cell_type": "code",
   "execution_count": 10,
   "metadata": {},
   "outputs": [
    {
     "name": "stdout",
     "output_type": "stream",
     "text": [
      "the stripe bat be hang on their foot for good\n",
      "you should be ashamed of yourself go work\n"
     ]
    }
   ],
   "source": [
    "# Протестируем работу библиотеки spacy\n",
    "sentence1 = \"The striped bats are hanging on their feet for best\"\n",
    "sentence2 = \"you should be ashamed of yourself went worked\"\n",
    "\n",
    "nlp = spacy.load('en_core_web_sm', disable=['parser', 'ner'])\n",
    "\n",
    "for i in [sentence1, sentence2]:\n",
    "    print(\" \".join([token.lemma_ for token in nlp(i)]))"
   ]
  },
  {
   "cell_type": "markdown",
   "metadata": {},
   "source": [
    "Результат лемматизации удовлетворительный, будем использовать библиотеку `spacy`."
   ]
  },
  {
   "cell_type": "code",
   "execution_count": 11,
   "metadata": {},
   "outputs": [
    {
     "name": "stderr",
     "output_type": "stream",
     "text": [
      "100%|█████████████████████████████████████████████████████████████████████████| 159292/159292 [25:09<00:00, 105.55it/s]\n"
     ]
    },
    {
     "data": {
      "text/plain": [
       "'Explanation why the edit make under my username Hardcore Metallica Fan be revert they weren t vandalism just closure on some gas after I vote at New York Dolls FAC and please don t remove the template from the talk page since I m retire now'"
      ]
     },
     "execution_count": 11,
     "metadata": {},
     "output_type": "execute_result"
    }
   ],
   "source": [
    "# выполним очистку и лемматизацию текста, использую библиотеку spacy\n",
    "for i in tqdm(range(len(corpus))):\n",
    "    corpus[i] = \" \".join([token.lemma_ for token in nlp(clear_text(corpus[i]))])\n",
    "    \n",
    "# выведем первый текст    \n",
    "corpus[0] "
   ]
  },
  {
   "cell_type": "code",
   "execution_count": 12,
   "metadata": {},
   "outputs": [
    {
     "name": "stdout",
     "output_type": "stream",
     "text": [
      "                                                text  toxic  \\\n",
      "0  Explanation\\nWhy the edits made under my usern...      0   \n",
      "1  D'aww! He matches this background colour I'm s...      0   \n",
      "2  Hey man, I'm really not trying to edit war. It...      0   \n",
      "3  \"\\nMore\\nI can't make any real suggestions on ...      0   \n",
      "4  You, sir, are my hero. Any chance you remember...      0   \n",
      "\n",
      "                                           lemm_text  \n",
      "0  explanation why the edit make under my usernam...  \n",
      "1  d aww he match this background colour i m seem...  \n",
      "2  hey man i m really not try to edit war it s ju...  \n",
      "3  more i can t make any real suggestion on impro...  \n",
      "4  you sir be my hero any chance you remember wha...  \n",
      "                                                     text  toxic  \\\n",
      "159287  \":::::And for the second time of asking, when ...      0   \n",
      "159288  You should be ashamed of yourself \\n\\nThat is ...      0   \n",
      "159289  Spitzer \\n\\nUmm, theres no actual article for ...      0   \n",
      "159290  And it looks like it was actually you who put ...      0   \n",
      "159291  \"\\nAnd ... I really don't think you understand...      0   \n",
      "\n",
      "                                                lemm_text  \n",
      "159287  and for the second time of ask when your view ...  \n",
      "159288  you should be ashamed of yourself that be a ho...  \n",
      "159289  spitzer umm there s no actual article for pros...  \n",
      "159290  and it look like it be actually you who put on...  \n",
      "159291  and i really don t think you understand i come...  \n"
     ]
    }
   ],
   "source": [
    "# добавим очищенный и лемматизированный текст в датафрейм, для правильного\n",
    "# для правильного разделения на выборки со стратификацией\n",
    "df['lemm_text'] = corpus\n",
    "\n",
    "# приводим текст к нижнему регистру\n",
    "df['lemm_text'] = df['lemm_text'].str.lower()\n",
    "\n",
    "# выведем первые и последние строки датафрейма\n",
    "print(df.head())\n",
    "print(df.tail())"
   ]
  },
  {
   "cell_type": "markdown",
   "metadata": {},
   "source": [
    "Разобьем данные на тренировочную и тестовую выборки с применением стратификации в соотношении 3:1.\n"
   ]
  },
  {
   "cell_type": "code",
   "execution_count": 13,
   "metadata": {},
   "outputs": [
    {
     "name": "stdout",
     "output_type": "stream",
     "text": [
      "df_train: (119469, 3)\n",
      "df_test: (39823, 3)\n"
     ]
    }
   ],
   "source": [
    "df_train, df_test = train_test_split(df, \n",
    "                                     test_size=TEST_SIZE, \n",
    "                                     random_state=RANDOM_STATE,\n",
    "                                     stratify=df['toxic'])\n",
    "print(\"df_train:\", df_train.shape)\n",
    "print(\"df_test:\", df_test.shape)"
   ]
  },
  {
   "cell_type": "code",
   "execution_count": 14,
   "metadata": {},
   "outputs": [
    {
     "name": "stdout",
     "output_type": "stream",
     "text": [
      "<class 'pandas.core.frame.DataFrame'>\n",
      "Int64Index: 119469 entries, 119339 to 67881\n",
      "Data columns (total 3 columns):\n",
      " #   Column     Non-Null Count   Dtype \n",
      "---  ------     --------------   ----- \n",
      " 0   text       119469 non-null  object\n",
      " 1   toxic      119469 non-null  int64 \n",
      " 2   lemm_text  119469 non-null  object\n",
      "dtypes: int64(1), object(2)\n",
      "memory usage: 3.6+ MB\n"
     ]
    }
   ],
   "source": [
    "df_train.info()"
   ]
  },
  {
   "cell_type": "code",
   "execution_count": 15,
   "metadata": {},
   "outputs": [
    {
     "name": "stdout",
     "output_type": "stream",
     "text": [
      "<class 'pandas.core.frame.DataFrame'>\n",
      "Int64Index: 39823 entries, 124823 to 74024\n",
      "Data columns (total 3 columns):\n",
      " #   Column     Non-Null Count  Dtype \n",
      "---  ------     --------------  ----- \n",
      " 0   text       39823 non-null  object\n",
      " 1   toxic      39823 non-null  int64 \n",
      " 2   lemm_text  39823 non-null  object\n",
      "dtypes: int64(1), object(2)\n",
      "memory usage: 1.2+ MB\n"
     ]
    }
   ],
   "source": [
    "df_test.info()"
   ]
  },
  {
   "cell_type": "markdown",
   "metadata": {},
   "source": [
    "**Вывод**\n",
    "\n",
    "- Комментарии очищены и лемматизированы.\n",
    "- Данные разделены на тренировочные и тестовые в соотношении 3:1 с учетом стратификации и готовы для обучения и тестирования моделей."
   ]
  },
  {
   "cell_type": "markdown",
   "metadata": {},
   "source": [
    "## Обучение"
   ]
  },
  {
   "cell_type": "markdown",
   "metadata": {},
   "source": [
    "Обучение будем производить в пайплайне. Для решения задачи бинарной классификации протестируем следующие модели:\n",
    "- линейная модель - `LogisticRegression`;\n",
    "- модель дерева решений - `DecisionTreeClassifier`;\n",
    "- модель градиентного бустинга - `CatBoostClassifier`."
   ]
  },
  {
   "cell_type": "code",
   "execution_count": 16,
   "metadata": {},
   "outputs": [],
   "source": [
    "# разделим выборки\n",
    "X_train = df_train['lemm_text']\n",
    "y_train = df_train['toxic']\n",
    "X_test = df_test['lemm_text']\n",
    "y_test = df_test['toxic']"
   ]
  },
  {
   "cell_type": "code",
   "execution_count": 17,
   "metadata": {},
   "outputs": [
    {
     "name": "stdout",
     "output_type": "stream",
     "text": [
      "Fitting 5 folds for each of 59 candidates, totalling 295 fits\n",
      "CPU times: total: 2min 14s\n",
      "Wall time: 33min 21s\n"
     ]
    },
    {
     "data": {
      "text/html": [
       "<style>#sk-container-id-1 {\n",
       "  /* Definition of color scheme common for light and dark mode */\n",
       "  --sklearn-color-text: black;\n",
       "  --sklearn-color-line: gray;\n",
       "  /* Definition of color scheme for unfitted estimators */\n",
       "  --sklearn-color-unfitted-level-0: #fff5e6;\n",
       "  --sklearn-color-unfitted-level-1: #f6e4d2;\n",
       "  --sklearn-color-unfitted-level-2: #ffe0b3;\n",
       "  --sklearn-color-unfitted-level-3: chocolate;\n",
       "  /* Definition of color scheme for fitted estimators */\n",
       "  --sklearn-color-fitted-level-0: #f0f8ff;\n",
       "  --sklearn-color-fitted-level-1: #d4ebff;\n",
       "  --sklearn-color-fitted-level-2: #b3dbfd;\n",
       "  --sklearn-color-fitted-level-3: cornflowerblue;\n",
       "\n",
       "  /* Specific color for light theme */\n",
       "  --sklearn-color-text-on-default-background: var(--sg-text-color, var(--theme-code-foreground, var(--jp-content-font-color1, black)));\n",
       "  --sklearn-color-background: var(--sg-background-color, var(--theme-background, var(--jp-layout-color0, white)));\n",
       "  --sklearn-color-border-box: var(--sg-text-color, var(--theme-code-foreground, var(--jp-content-font-color1, black)));\n",
       "  --sklearn-color-icon: #696969;\n",
       "\n",
       "  @media (prefers-color-scheme: dark) {\n",
       "    /* Redefinition of color scheme for dark theme */\n",
       "    --sklearn-color-text-on-default-background: var(--sg-text-color, var(--theme-code-foreground, var(--jp-content-font-color1, white)));\n",
       "    --sklearn-color-background: var(--sg-background-color, var(--theme-background, var(--jp-layout-color0, #111)));\n",
       "    --sklearn-color-border-box: var(--sg-text-color, var(--theme-code-foreground, var(--jp-content-font-color1, white)));\n",
       "    --sklearn-color-icon: #878787;\n",
       "  }\n",
       "}\n",
       "\n",
       "#sk-container-id-1 {\n",
       "  color: var(--sklearn-color-text);\n",
       "}\n",
       "\n",
       "#sk-container-id-1 pre {\n",
       "  padding: 0;\n",
       "}\n",
       "\n",
       "#sk-container-id-1 input.sk-hidden--visually {\n",
       "  border: 0;\n",
       "  clip: rect(1px 1px 1px 1px);\n",
       "  clip: rect(1px, 1px, 1px, 1px);\n",
       "  height: 1px;\n",
       "  margin: -1px;\n",
       "  overflow: hidden;\n",
       "  padding: 0;\n",
       "  position: absolute;\n",
       "  width: 1px;\n",
       "}\n",
       "\n",
       "#sk-container-id-1 div.sk-dashed-wrapped {\n",
       "  border: 1px dashed var(--sklearn-color-line);\n",
       "  margin: 0 0.4em 0.5em 0.4em;\n",
       "  box-sizing: border-box;\n",
       "  padding-bottom: 0.4em;\n",
       "  background-color: var(--sklearn-color-background);\n",
       "}\n",
       "\n",
       "#sk-container-id-1 div.sk-container {\n",
       "  /* jupyter's `normalize.less` sets `[hidden] { display: none; }`\n",
       "     but bootstrap.min.css set `[hidden] { display: none !important; }`\n",
       "     so we also need the `!important` here to be able to override the\n",
       "     default hidden behavior on the sphinx rendered scikit-learn.org.\n",
       "     See: https://github.com/scikit-learn/scikit-learn/issues/21755 */\n",
       "  display: inline-block !important;\n",
       "  position: relative;\n",
       "}\n",
       "\n",
       "#sk-container-id-1 div.sk-text-repr-fallback {\n",
       "  display: none;\n",
       "}\n",
       "\n",
       "div.sk-parallel-item,\n",
       "div.sk-serial,\n",
       "div.sk-item {\n",
       "  /* draw centered vertical line to link estimators */\n",
       "  background-image: linear-gradient(var(--sklearn-color-text-on-default-background), var(--sklearn-color-text-on-default-background));\n",
       "  background-size: 2px 100%;\n",
       "  background-repeat: no-repeat;\n",
       "  background-position: center center;\n",
       "}\n",
       "\n",
       "/* Parallel-specific style estimator block */\n",
       "\n",
       "#sk-container-id-1 div.sk-parallel-item::after {\n",
       "  content: \"\";\n",
       "  width: 100%;\n",
       "  border-bottom: 2px solid var(--sklearn-color-text-on-default-background);\n",
       "  flex-grow: 1;\n",
       "}\n",
       "\n",
       "#sk-container-id-1 div.sk-parallel {\n",
       "  display: flex;\n",
       "  align-items: stretch;\n",
       "  justify-content: center;\n",
       "  background-color: var(--sklearn-color-background);\n",
       "  position: relative;\n",
       "}\n",
       "\n",
       "#sk-container-id-1 div.sk-parallel-item {\n",
       "  display: flex;\n",
       "  flex-direction: column;\n",
       "}\n",
       "\n",
       "#sk-container-id-1 div.sk-parallel-item:first-child::after {\n",
       "  align-self: flex-end;\n",
       "  width: 50%;\n",
       "}\n",
       "\n",
       "#sk-container-id-1 div.sk-parallel-item:last-child::after {\n",
       "  align-self: flex-start;\n",
       "  width: 50%;\n",
       "}\n",
       "\n",
       "#sk-container-id-1 div.sk-parallel-item:only-child::after {\n",
       "  width: 0;\n",
       "}\n",
       "\n",
       "/* Serial-specific style estimator block */\n",
       "\n",
       "#sk-container-id-1 div.sk-serial {\n",
       "  display: flex;\n",
       "  flex-direction: column;\n",
       "  align-items: center;\n",
       "  background-color: var(--sklearn-color-background);\n",
       "  padding-right: 1em;\n",
       "  padding-left: 1em;\n",
       "}\n",
       "\n",
       "\n",
       "/* Toggleable style: style used for estimator/Pipeline/ColumnTransformer box that is\n",
       "clickable and can be expanded/collapsed.\n",
       "- Pipeline and ColumnTransformer use this feature and define the default style\n",
       "- Estimators will overwrite some part of the style using the `sk-estimator` class\n",
       "*/\n",
       "\n",
       "/* Pipeline and ColumnTransformer style (default) */\n",
       "\n",
       "#sk-container-id-1 div.sk-toggleable {\n",
       "  /* Default theme specific background. It is overwritten whether we have a\n",
       "  specific estimator or a Pipeline/ColumnTransformer */\n",
       "  background-color: var(--sklearn-color-background);\n",
       "}\n",
       "\n",
       "/* Toggleable label */\n",
       "#sk-container-id-1 label.sk-toggleable__label {\n",
       "  cursor: pointer;\n",
       "  display: block;\n",
       "  width: 100%;\n",
       "  margin-bottom: 0;\n",
       "  padding: 0.5em;\n",
       "  box-sizing: border-box;\n",
       "  text-align: center;\n",
       "}\n",
       "\n",
       "#sk-container-id-1 label.sk-toggleable__label-arrow:before {\n",
       "  /* Arrow on the left of the label */\n",
       "  content: \"▸\";\n",
       "  float: left;\n",
       "  margin-right: 0.25em;\n",
       "  color: var(--sklearn-color-icon);\n",
       "}\n",
       "\n",
       "#sk-container-id-1 label.sk-toggleable__label-arrow:hover:before {\n",
       "  color: var(--sklearn-color-text);\n",
       "}\n",
       "\n",
       "/* Toggleable content - dropdown */\n",
       "\n",
       "#sk-container-id-1 div.sk-toggleable__content {\n",
       "  max-height: 0;\n",
       "  max-width: 0;\n",
       "  overflow: hidden;\n",
       "  text-align: left;\n",
       "  /* unfitted */\n",
       "  background-color: var(--sklearn-color-unfitted-level-0);\n",
       "}\n",
       "\n",
       "#sk-container-id-1 div.sk-toggleable__content.fitted {\n",
       "  /* fitted */\n",
       "  background-color: var(--sklearn-color-fitted-level-0);\n",
       "}\n",
       "\n",
       "#sk-container-id-1 div.sk-toggleable__content pre {\n",
       "  margin: 0.2em;\n",
       "  border-radius: 0.25em;\n",
       "  color: var(--sklearn-color-text);\n",
       "  /* unfitted */\n",
       "  background-color: var(--sklearn-color-unfitted-level-0);\n",
       "}\n",
       "\n",
       "#sk-container-id-1 div.sk-toggleable__content.fitted pre {\n",
       "  /* unfitted */\n",
       "  background-color: var(--sklearn-color-fitted-level-0);\n",
       "}\n",
       "\n",
       "#sk-container-id-1 input.sk-toggleable__control:checked~div.sk-toggleable__content {\n",
       "  /* Expand drop-down */\n",
       "  max-height: 200px;\n",
       "  max-width: 100%;\n",
       "  overflow: auto;\n",
       "}\n",
       "\n",
       "#sk-container-id-1 input.sk-toggleable__control:checked~label.sk-toggleable__label-arrow:before {\n",
       "  content: \"▾\";\n",
       "}\n",
       "\n",
       "/* Pipeline/ColumnTransformer-specific style */\n",
       "\n",
       "#sk-container-id-1 div.sk-label input.sk-toggleable__control:checked~label.sk-toggleable__label {\n",
       "  color: var(--sklearn-color-text);\n",
       "  background-color: var(--sklearn-color-unfitted-level-2);\n",
       "}\n",
       "\n",
       "#sk-container-id-1 div.sk-label.fitted input.sk-toggleable__control:checked~label.sk-toggleable__label {\n",
       "  background-color: var(--sklearn-color-fitted-level-2);\n",
       "}\n",
       "\n",
       "/* Estimator-specific style */\n",
       "\n",
       "/* Colorize estimator box */\n",
       "#sk-container-id-1 div.sk-estimator input.sk-toggleable__control:checked~label.sk-toggleable__label {\n",
       "  /* unfitted */\n",
       "  background-color: var(--sklearn-color-unfitted-level-2);\n",
       "}\n",
       "\n",
       "#sk-container-id-1 div.sk-estimator.fitted input.sk-toggleable__control:checked~label.sk-toggleable__label {\n",
       "  /* fitted */\n",
       "  background-color: var(--sklearn-color-fitted-level-2);\n",
       "}\n",
       "\n",
       "#sk-container-id-1 div.sk-label label.sk-toggleable__label,\n",
       "#sk-container-id-1 div.sk-label label {\n",
       "  /* The background is the default theme color */\n",
       "  color: var(--sklearn-color-text-on-default-background);\n",
       "}\n",
       "\n",
       "/* On hover, darken the color of the background */\n",
       "#sk-container-id-1 div.sk-label:hover label.sk-toggleable__label {\n",
       "  color: var(--sklearn-color-text);\n",
       "  background-color: var(--sklearn-color-unfitted-level-2);\n",
       "}\n",
       "\n",
       "/* Label box, darken color on hover, fitted */\n",
       "#sk-container-id-1 div.sk-label.fitted:hover label.sk-toggleable__label.fitted {\n",
       "  color: var(--sklearn-color-text);\n",
       "  background-color: var(--sklearn-color-fitted-level-2);\n",
       "}\n",
       "\n",
       "/* Estimator label */\n",
       "\n",
       "#sk-container-id-1 div.sk-label label {\n",
       "  font-family: monospace;\n",
       "  font-weight: bold;\n",
       "  display: inline-block;\n",
       "  line-height: 1.2em;\n",
       "}\n",
       "\n",
       "#sk-container-id-1 div.sk-label-container {\n",
       "  text-align: center;\n",
       "}\n",
       "\n",
       "/* Estimator-specific */\n",
       "#sk-container-id-1 div.sk-estimator {\n",
       "  font-family: monospace;\n",
       "  border: 1px dotted var(--sklearn-color-border-box);\n",
       "  border-radius: 0.25em;\n",
       "  box-sizing: border-box;\n",
       "  margin-bottom: 0.5em;\n",
       "  /* unfitted */\n",
       "  background-color: var(--sklearn-color-unfitted-level-0);\n",
       "}\n",
       "\n",
       "#sk-container-id-1 div.sk-estimator.fitted {\n",
       "  /* fitted */\n",
       "  background-color: var(--sklearn-color-fitted-level-0);\n",
       "}\n",
       "\n",
       "/* on hover */\n",
       "#sk-container-id-1 div.sk-estimator:hover {\n",
       "  /* unfitted */\n",
       "  background-color: var(--sklearn-color-unfitted-level-2);\n",
       "}\n",
       "\n",
       "#sk-container-id-1 div.sk-estimator.fitted:hover {\n",
       "  /* fitted */\n",
       "  background-color: var(--sklearn-color-fitted-level-2);\n",
       "}\n",
       "\n",
       "/* Specification for estimator info (e.g. \"i\" and \"?\") */\n",
       "\n",
       "/* Common style for \"i\" and \"?\" */\n",
       "\n",
       ".sk-estimator-doc-link,\n",
       "a:link.sk-estimator-doc-link,\n",
       "a:visited.sk-estimator-doc-link {\n",
       "  float: right;\n",
       "  font-size: smaller;\n",
       "  line-height: 1em;\n",
       "  font-family: monospace;\n",
       "  background-color: var(--sklearn-color-background);\n",
       "  border-radius: 1em;\n",
       "  height: 1em;\n",
       "  width: 1em;\n",
       "  text-decoration: none !important;\n",
       "  margin-left: 1ex;\n",
       "  /* unfitted */\n",
       "  border: var(--sklearn-color-unfitted-level-1) 1pt solid;\n",
       "  color: var(--sklearn-color-unfitted-level-1);\n",
       "}\n",
       "\n",
       ".sk-estimator-doc-link.fitted,\n",
       "a:link.sk-estimator-doc-link.fitted,\n",
       "a:visited.sk-estimator-doc-link.fitted {\n",
       "  /* fitted */\n",
       "  border: var(--sklearn-color-fitted-level-1) 1pt solid;\n",
       "  color: var(--sklearn-color-fitted-level-1);\n",
       "}\n",
       "\n",
       "/* On hover */\n",
       "div.sk-estimator:hover .sk-estimator-doc-link:hover,\n",
       ".sk-estimator-doc-link:hover,\n",
       "div.sk-label-container:hover .sk-estimator-doc-link:hover,\n",
       ".sk-estimator-doc-link:hover {\n",
       "  /* unfitted */\n",
       "  background-color: var(--sklearn-color-unfitted-level-3);\n",
       "  color: var(--sklearn-color-background);\n",
       "  text-decoration: none;\n",
       "}\n",
       "\n",
       "div.sk-estimator.fitted:hover .sk-estimator-doc-link.fitted:hover,\n",
       ".sk-estimator-doc-link.fitted:hover,\n",
       "div.sk-label-container:hover .sk-estimator-doc-link.fitted:hover,\n",
       ".sk-estimator-doc-link.fitted:hover {\n",
       "  /* fitted */\n",
       "  background-color: var(--sklearn-color-fitted-level-3);\n",
       "  color: var(--sklearn-color-background);\n",
       "  text-decoration: none;\n",
       "}\n",
       "\n",
       "/* Span, style for the box shown on hovering the info icon */\n",
       ".sk-estimator-doc-link span {\n",
       "  display: none;\n",
       "  z-index: 9999;\n",
       "  position: relative;\n",
       "  font-weight: normal;\n",
       "  right: .2ex;\n",
       "  padding: .5ex;\n",
       "  margin: .5ex;\n",
       "  width: min-content;\n",
       "  min-width: 20ex;\n",
       "  max-width: 50ex;\n",
       "  color: var(--sklearn-color-text);\n",
       "  box-shadow: 2pt 2pt 4pt #999;\n",
       "  /* unfitted */\n",
       "  background: var(--sklearn-color-unfitted-level-0);\n",
       "  border: .5pt solid var(--sklearn-color-unfitted-level-3);\n",
       "}\n",
       "\n",
       ".sk-estimator-doc-link.fitted span {\n",
       "  /* fitted */\n",
       "  background: var(--sklearn-color-fitted-level-0);\n",
       "  border: var(--sklearn-color-fitted-level-3);\n",
       "}\n",
       "\n",
       ".sk-estimator-doc-link:hover span {\n",
       "  display: block;\n",
       "}\n",
       "\n",
       "/* \"?\"-specific style due to the `<a>` HTML tag */\n",
       "\n",
       "#sk-container-id-1 a.estimator_doc_link {\n",
       "  float: right;\n",
       "  font-size: 1rem;\n",
       "  line-height: 1em;\n",
       "  font-family: monospace;\n",
       "  background-color: var(--sklearn-color-background);\n",
       "  border-radius: 1rem;\n",
       "  height: 1rem;\n",
       "  width: 1rem;\n",
       "  text-decoration: none;\n",
       "  /* unfitted */\n",
       "  color: var(--sklearn-color-unfitted-level-1);\n",
       "  border: var(--sklearn-color-unfitted-level-1) 1pt solid;\n",
       "}\n",
       "\n",
       "#sk-container-id-1 a.estimator_doc_link.fitted {\n",
       "  /* fitted */\n",
       "  border: var(--sklearn-color-fitted-level-1) 1pt solid;\n",
       "  color: var(--sklearn-color-fitted-level-1);\n",
       "}\n",
       "\n",
       "/* On hover */\n",
       "#sk-container-id-1 a.estimator_doc_link:hover {\n",
       "  /* unfitted */\n",
       "  background-color: var(--sklearn-color-unfitted-level-3);\n",
       "  color: var(--sklearn-color-background);\n",
       "  text-decoration: none;\n",
       "}\n",
       "\n",
       "#sk-container-id-1 a.estimator_doc_link.fitted:hover {\n",
       "  /* fitted */\n",
       "  background-color: var(--sklearn-color-fitted-level-3);\n",
       "}\n",
       "</style><div id=\"sk-container-id-1\" class=\"sk-top-container\"><div class=\"sk-text-repr-fallback\"><pre>GridSearchCV(cv=5,\n",
       "             estimator=Pipeline(steps=[(&#x27;tfidf&#x27;,\n",
       "                                        TfidfVectorizer(ngram_range=(1, 2),\n",
       "                                                        stop_words=&#x27;english&#x27;)),\n",
       "                                       (&#x27;models&#x27;,\n",
       "                                        DecisionTreeClassifier(random_state=42))]),\n",
       "             n_jobs=-1,\n",
       "             param_grid=[{&#x27;models&#x27;: [LogisticRegression(penalty=&#x27;l1&#x27;,\n",
       "                                                        random_state=42,\n",
       "                                                        solver=&#x27;liblinear&#x27;)],\n",
       "                          &#x27;models__C&#x27;: range(1, 5)},\n",
       "                         {&#x27;models&#x27;: [DecisionTreeClassifier(random_state=42)],\n",
       "                          &#x27;models__max_depth&#x27;: range(2, 5),\n",
       "                          &#x27;models__max_features&#x27;: range(2, 20)},\n",
       "                         {&#x27;models&#x27;: [&lt;catboost.core.CatBoostClassifier object at 0x000002D05E611F50&gt;],\n",
       "                          &#x27;models__loss_function&#x27;: [&#x27;Logloss&#x27;]}],\n",
       "             scoring=&#x27;f1&#x27;, verbose=1)</pre><b>In a Jupyter environment, please rerun this cell to show the HTML representation or trust the notebook. <br />On GitHub, the HTML representation is unable to render, please try loading this page with nbviewer.org.</b></div><div class=\"sk-container\" hidden><div class=\"sk-item sk-dashed-wrapped\"><div class=\"sk-label-container\"><div class=\"sk-label fitted sk-toggleable\"><input class=\"sk-toggleable__control sk-hidden--visually\" id=\"sk-estimator-id-1\" type=\"checkbox\" ><label for=\"sk-estimator-id-1\" class=\"sk-toggleable__label fitted sk-toggleable__label-arrow fitted\">&nbsp;&nbsp;GridSearchCV<a class=\"sk-estimator-doc-link fitted\" rel=\"noreferrer\" target=\"_blank\" href=\"https://scikit-learn.org/1.4/modules/generated/sklearn.model_selection.GridSearchCV.html\">?<span>Documentation for GridSearchCV</span></a><span class=\"sk-estimator-doc-link fitted\">i<span>Fitted</span></span></label><div class=\"sk-toggleable__content fitted\"><pre>GridSearchCV(cv=5,\n",
       "             estimator=Pipeline(steps=[(&#x27;tfidf&#x27;,\n",
       "                                        TfidfVectorizer(ngram_range=(1, 2),\n",
       "                                                        stop_words=&#x27;english&#x27;)),\n",
       "                                       (&#x27;models&#x27;,\n",
       "                                        DecisionTreeClassifier(random_state=42))]),\n",
       "             n_jobs=-1,\n",
       "             param_grid=[{&#x27;models&#x27;: [LogisticRegression(penalty=&#x27;l1&#x27;,\n",
       "                                                        random_state=42,\n",
       "                                                        solver=&#x27;liblinear&#x27;)],\n",
       "                          &#x27;models__C&#x27;: range(1, 5)},\n",
       "                         {&#x27;models&#x27;: [DecisionTreeClassifier(random_state=42)],\n",
       "                          &#x27;models__max_depth&#x27;: range(2, 5),\n",
       "                          &#x27;models__max_features&#x27;: range(2, 20)},\n",
       "                         {&#x27;models&#x27;: [&lt;catboost.core.CatBoostClassifier object at 0x000002D05E611F50&gt;],\n",
       "                          &#x27;models__loss_function&#x27;: [&#x27;Logloss&#x27;]}],\n",
       "             scoring=&#x27;f1&#x27;, verbose=1)</pre></div> </div></div><div class=\"sk-parallel\"><div class=\"sk-parallel-item\"><div class=\"sk-item\"><div class=\"sk-label-container\"><div class=\"sk-label fitted sk-toggleable\"><input class=\"sk-toggleable__control sk-hidden--visually\" id=\"sk-estimator-id-2\" type=\"checkbox\" ><label for=\"sk-estimator-id-2\" class=\"sk-toggleable__label fitted sk-toggleable__label-arrow fitted\">estimator: Pipeline</label><div class=\"sk-toggleable__content fitted\"><pre>Pipeline(steps=[(&#x27;tfidf&#x27;,\n",
       "                 TfidfVectorizer(ngram_range=(1, 2), stop_words=&#x27;english&#x27;)),\n",
       "                (&#x27;models&#x27;, DecisionTreeClassifier(random_state=42))])</pre></div> </div></div><div class=\"sk-serial\"><div class=\"sk-item\"><div class=\"sk-serial\"><div class=\"sk-item\"><div class=\"sk-estimator fitted sk-toggleable\"><input class=\"sk-toggleable__control sk-hidden--visually\" id=\"sk-estimator-id-3\" type=\"checkbox\" ><label for=\"sk-estimator-id-3\" class=\"sk-toggleable__label fitted sk-toggleable__label-arrow fitted\">&nbsp;TfidfVectorizer<a class=\"sk-estimator-doc-link fitted\" rel=\"noreferrer\" target=\"_blank\" href=\"https://scikit-learn.org/1.4/modules/generated/sklearn.feature_extraction.text.TfidfVectorizer.html\">?<span>Documentation for TfidfVectorizer</span></a></label><div class=\"sk-toggleable__content fitted\"><pre>TfidfVectorizer(ngram_range=(1, 2), stop_words=&#x27;english&#x27;)</pre></div> </div></div><div class=\"sk-item\"><div class=\"sk-estimator fitted sk-toggleable\"><input class=\"sk-toggleable__control sk-hidden--visually\" id=\"sk-estimator-id-4\" type=\"checkbox\" ><label for=\"sk-estimator-id-4\" class=\"sk-toggleable__label fitted sk-toggleable__label-arrow fitted\">&nbsp;DecisionTreeClassifier<a class=\"sk-estimator-doc-link fitted\" rel=\"noreferrer\" target=\"_blank\" href=\"https://scikit-learn.org/1.4/modules/generated/sklearn.tree.DecisionTreeClassifier.html\">?<span>Documentation for DecisionTreeClassifier</span></a></label><div class=\"sk-toggleable__content fitted\"><pre>DecisionTreeClassifier(random_state=42)</pre></div> </div></div></div></div></div></div></div></div></div></div></div>"
      ],
      "text/plain": [
       "GridSearchCV(cv=5,\n",
       "             estimator=Pipeline(steps=[('tfidf',\n",
       "                                        TfidfVectorizer(ngram_range=(1, 2),\n",
       "                                                        stop_words='english')),\n",
       "                                       ('models',\n",
       "                                        DecisionTreeClassifier(random_state=42))]),\n",
       "             n_jobs=-1,\n",
       "             param_grid=[{'models': [LogisticRegression(penalty='l1',\n",
       "                                                        random_state=42,\n",
       "                                                        solver='liblinear')],\n",
       "                          'models__C': range(1, 5)},\n",
       "                         {'models': [DecisionTreeClassifier(random_state=42)],\n",
       "                          'models__max_depth': range(2, 5),\n",
       "                          'models__max_features': range(2, 20)},\n",
       "                         {'models': [<catboost.core.CatBoostClassifier object at 0x000002D05E611F50>],\n",
       "                          'models__loss_function': ['Logloss']}],\n",
       "             scoring='f1', verbose=1)"
      ]
     },
     "execution_count": 17,
     "metadata": {},
     "output_type": "execute_result"
    }
   ],
   "source": [
    "%%time\n",
    "# создаём итоговый пайплайн: подготовка данных и модель\n",
    "pipe = Pipeline([\n",
    "    ('tfidf', TfidfVectorizer(stop_words='english', ngram_range=(1,2))),\n",
    "    ('models', DecisionTreeClassifier(random_state=RANDOM_STATE)),       \n",
    "])\n",
    "\n",
    "# перебираем гиперпараметры моделей\n",
    "param_grid = [\n",
    "    \n",
    "    # словарь для модели LogisticRegression()\n",
    "    {\n",
    "        'models': [LogisticRegression(\n",
    "            random_state=RANDOM_STATE, \n",
    "            solver='liblinear', \n",
    "            penalty='l1', \n",
    "        )],\n",
    "        'models__C': range(1, 5),\n",
    "    },\n",
    "\n",
    "    \n",
    "    # словарь для модели DecisionTreeClassifier()\n",
    "    {\n",
    "        'models': [DecisionTreeClassifier(random_state=RANDOM_STATE)],\n",
    "        'models__max_depth': range(2, 5),\n",
    "        'models__max_features': range(2, 20),\n",
    "    },\n",
    "\n",
    "        \n",
    "    # словарь для модели CatBoostClassifier()\n",
    "    {\n",
    "        'models': [CatBoostClassifier(iterations=5)],\n",
    "        'models__loss_function': ['Logloss'],\n",
    "    },   \n",
    "]\n",
    "\n",
    "model = GridSearchCV(\n",
    "    pipe, \n",
    "    param_grid,\n",
    "    cv=5,\n",
    "    scoring='f1',\n",
    "    verbose=1,\n",
    "    n_jobs=-1\n",
    ")\n",
    "model.fit(X_train, y_train)"
   ]
  },
  {
   "cell_type": "code",
   "execution_count": 18,
   "metadata": {},
   "outputs": [
    {
     "name": "stdout",
     "output_type": "stream",
     "text": [
      "Лучшая модель и её параметры:\n",
      "\n",
      " Pipeline(steps=[('tfidf',\n",
      "                 TfidfVectorizer(ngram_range=(1, 2), stop_words='english')),\n",
      "                ('models',\n",
      "                 LogisticRegression(C=3, penalty='l1', random_state=42,\n",
      "                                    solver='liblinear'))])\n",
      "Метрика F-1 лучшей модели на кросс-валидации: 0.7909481094721151\n"
     ]
    },
    {
     "data": {
      "text/html": [
       "<div>\n",
       "<style scoped>\n",
       "    .dataframe tbody tr th:only-of-type {\n",
       "        vertical-align: middle;\n",
       "    }\n",
       "\n",
       "    .dataframe tbody tr th {\n",
       "        vertical-align: top;\n",
       "    }\n",
       "\n",
       "    .dataframe thead th {\n",
       "        text-align: right;\n",
       "    }\n",
       "</style>\n",
       "<table border=\"1\" class=\"dataframe\">\n",
       "  <thead>\n",
       "    <tr style=\"text-align: right;\">\n",
       "      <th></th>\n",
       "      <th>params</th>\n",
       "      <th>mean_test_score</th>\n",
       "    </tr>\n",
       "    <tr>\n",
       "      <th>rank_test_score</th>\n",
       "      <th></th>\n",
       "      <th></th>\n",
       "    </tr>\n",
       "  </thead>\n",
       "  <tbody>\n",
       "    <tr>\n",
       "      <th>1</th>\n",
       "      <td>{'models': LogisticRegression(penalty='l1', random_state=42, solver='liblinear'), 'models__C': 3}</td>\n",
       "      <td>0.790948</td>\n",
       "    </tr>\n",
       "    <tr>\n",
       "      <th>2</th>\n",
       "      <td>{'models': LogisticRegression(penalty='l1', random_state=42, solver='liblinear'), 'models__C': 4}</td>\n",
       "      <td>0.790271</td>\n",
       "    </tr>\n",
       "    <tr>\n",
       "      <th>3</th>\n",
       "      <td>{'models': LogisticRegression(penalty='l1', random_state=42, solver='liblinear'), 'models__C': 2}</td>\n",
       "      <td>0.789704</td>\n",
       "    </tr>\n",
       "    <tr>\n",
       "      <th>4</th>\n",
       "      <td>{'models': LogisticRegression(penalty='l1', random_state=42, solver='liblinear'), 'models__C': 1}</td>\n",
       "      <td>0.778522</td>\n",
       "    </tr>\n",
       "    <tr>\n",
       "      <th>5</th>\n",
       "      <td>{'models': DecisionTreeClassifier(random_state=42), 'models__max_depth': 4, 'models__max_features': 13}</td>\n",
       "      <td>0.000329</td>\n",
       "    </tr>\n",
       "    <tr>\n",
       "      <th>6</th>\n",
       "      <td>{'models': DecisionTreeClassifier(random_state=42), 'models__max_depth': 3, 'models__max_features': 17}</td>\n",
       "      <td>0.000165</td>\n",
       "    </tr>\n",
       "    <tr>\n",
       "      <th>6</th>\n",
       "      <td>{'models': DecisionTreeClassifier(random_state=42), 'models__max_depth': 3, 'models__max_features': 3}</td>\n",
       "      <td>0.000165</td>\n",
       "    </tr>\n",
       "    <tr>\n",
       "      <th>6</th>\n",
       "      <td>{'models': DecisionTreeClassifier(random_state=42), 'models__max_depth': 4, 'models__max_features': 3}</td>\n",
       "      <td>0.000165</td>\n",
       "    </tr>\n",
       "    <tr>\n",
       "      <th>6</th>\n",
       "      <td>{'models': DecisionTreeClassifier(random_state=42), 'models__max_depth': 3, 'models__max_features': 10}</td>\n",
       "      <td>0.000165</td>\n",
       "    </tr>\n",
       "    <tr>\n",
       "      <th>6</th>\n",
       "      <td>{'models': DecisionTreeClassifier(random_state=42), 'models__max_depth': 4, 'models__max_features': 10}</td>\n",
       "      <td>0.000165</td>\n",
       "    </tr>\n",
       "  </tbody>\n",
       "</table>\n",
       "</div>"
      ],
      "text/plain": [
       "                                                                                                                  params  \\\n",
       "rank_test_score                                                                                                            \n",
       "1                      {'models': LogisticRegression(penalty='l1', random_state=42, solver='liblinear'), 'models__C': 3}   \n",
       "2                      {'models': LogisticRegression(penalty='l1', random_state=42, solver='liblinear'), 'models__C': 4}   \n",
       "3                      {'models': LogisticRegression(penalty='l1', random_state=42, solver='liblinear'), 'models__C': 2}   \n",
       "4                      {'models': LogisticRegression(penalty='l1', random_state=42, solver='liblinear'), 'models__C': 1}   \n",
       "5                {'models': DecisionTreeClassifier(random_state=42), 'models__max_depth': 4, 'models__max_features': 13}   \n",
       "6                {'models': DecisionTreeClassifier(random_state=42), 'models__max_depth': 3, 'models__max_features': 17}   \n",
       "6                 {'models': DecisionTreeClassifier(random_state=42), 'models__max_depth': 3, 'models__max_features': 3}   \n",
       "6                 {'models': DecisionTreeClassifier(random_state=42), 'models__max_depth': 4, 'models__max_features': 3}   \n",
       "6                {'models': DecisionTreeClassifier(random_state=42), 'models__max_depth': 3, 'models__max_features': 10}   \n",
       "6                {'models': DecisionTreeClassifier(random_state=42), 'models__max_depth': 4, 'models__max_features': 10}   \n",
       "\n",
       "                 mean_test_score  \n",
       "rank_test_score                   \n",
       "1                       0.790948  \n",
       "2                       0.790271  \n",
       "3                       0.789704  \n",
       "4                       0.778522  \n",
       "5                       0.000329  \n",
       "6                       0.000165  \n",
       "6                       0.000165  \n",
       "6                       0.000165  \n",
       "6                       0.000165  \n",
       "6                       0.000165  "
      ]
     },
     "execution_count": 18,
     "metadata": {},
     "output_type": "execute_result"
    }
   ],
   "source": [
    "print('Лучшая модель и её параметры:\\n\\n', model.best_estimator_)\n",
    "print ('Метрика F-1 лучшей модели на кросс-валидации:', model.best_score_)\n",
    "\n",
    "# отображаем весь текст в ячейке\n",
    "pd.set_option('display.max_colwidth', None)\n",
    "\n",
    "# выбираем нужные данные из таблицы результатов\n",
    "cv_results = pd.DataFrame(model.cv_results_)\\\n",
    "[['params', 'mean_test_score', 'rank_test_score']]\\\n",
    ".set_index(['rank_test_score'])\n",
    "\n",
    "# выведем ТОП-10 моделей по метрике F-1.\n",
    "cv_results.sort_values('rank_test_score', ascending=1).head(10)"
   ]
  },
  {
   "cell_type": "markdown",
   "metadata": {},
   "source": [
    "Протестируем лучшую модель на тестовой выборке."
   ]
  },
  {
   "cell_type": "code",
   "execution_count": 19,
   "metadata": {},
   "outputs": [],
   "source": [
    "# получим предсказания на тестовой выборке\n",
    "preds = model.predict(X_test)"
   ]
  },
  {
   "cell_type": "code",
   "execution_count": 20,
   "metadata": {},
   "outputs": [
    {
     "name": "stdout",
     "output_type": "stream",
     "text": [
      "Метрика F-1 на тестовой выборке: 0.79\n"
     ]
    }
   ],
   "source": [
    "# вычислим метрику F-1\n",
    "f_1 = f1_score(y_test, preds)\n",
    "print('Метрика F-1 на тестовой выборке:', f_1.round(2))"
   ]
  },
  {
   "cell_type": "markdown",
   "metadata": {},
   "source": [
    "Проверим нашу модель на адекватность, сравнив результат с предсказанием модели `DummyClassifier`."
   ]
  },
  {
   "cell_type": "code",
   "execution_count": 21,
   "metadata": {},
   "outputs": [
    {
     "name": "stdout",
     "output_type": "stream",
     "text": [
      "Метрика F-1 модели DummyClassifier на тестовой выборке: 0.18\n"
     ]
    }
   ],
   "source": [
    "# инициализируем модель DummyClassifier, обучим и получим прогноз\n",
    "dummy_сlass = DummyClassifier(strategy = 'constant', constant = 1)\n",
    "dummy_сlass.fit(X_train, y_train)\n",
    "dummy_preds = dummy_сlass.predict(X_test)\n",
    "\n",
    "print('Метрика F-1 модели DummyClassifier на тестовой выборке:', \n",
    "      f1_score(y_test, dummy_preds).round(2))"
   ]
  },
  {
   "cell_type": "markdown",
   "metadata": {},
   "source": [
    "Наша модель показывает лучшие результаты в сравнении с DummyClassifier при стратегии \"uniform\"."
   ]
  },
  {
   "cell_type": "markdown",
   "metadata": {},
   "source": [
    "**Вывод**\n",
    "\n",
    "- Наилучшие результаты показала модель\n",
    "\n",
    "`LogisticRegression(C=4, penalty='l1', random_state=42, solver='liblinear')`\n",
    "- Метрика F-1 на тестовой выборке ≈ 0,79, что удовлетворяет требованиям заказчика (не менее 0,75).\n",
    "- Лучшая модель (`LogisticRegression`) показывает лучшие результаты в сравнении с `DummyClassifier` при стратегии `\"constant\"`, где метрика F-1 на тестовой выборке составляет лишь ≈ 0,18. Тем самым результаты подобранной нами модели можно считать адекватными."
   ]
  },
  {
   "cell_type": "markdown",
   "metadata": {},
   "source": [
    "## Выводы"
   ]
  },
  {
   "cell_type": "markdown",
   "metadata": {},
   "source": [
    "**Задача проекта**:\n",
    "\n",
    "- Обучить модель классифицировать комментарии на позитивные и негативные. При этом метрика *F-1* должна быть не меньше 0.75. \n",
    "\n",
    "**В ходе проекта мы провели следующую работу:**\n",
    "- изучили данные, проверили их на предмет аномалий и несоответствий;\n",
    "\n",
    "- подготовили данные и обучили 3 модели для решения задачи бинарной классификации:\n",
    "  - линейная модель - `LogisticRegression`;\n",
    "  - модель дерева решений - `DecisionTreeClassifier`;\n",
    "  - модель градиентного бустинга - `CatBoostClassifier`.\n",
    "  \n",
    "- выбрали лучшую модель по метрике F-1.\n",
    "  \n",
    "- проверили выбранную модель на тестовой выборке.\n",
    "\n",
    "- проверили лучшую модель на адекватность: сравнили предсказания лучшей модели с предсказанями модели `DummyClassifier`.\n",
    "\n",
    "**Результаты:**\n",
    "\n",
    "- Наилучшие результаты показала модель\n",
    "\n",
    "`LogisticRegression(C=4, penalty='l1', random_state=42, solver='liblinear')`\n",
    "\n",
    "- Метрика F-1 на тестовой выборке ≈ 0,79, что удовлетворяет требованиям заказчика (не менее 0,75).\n",
    "\n",
    "- Лучшая модель (`LogisticRegression`) показывает лучшие результаты в сравнении с `DummyClassifier` при стратегии `\"constant\"`, где метрика F-1 на тестовой выборке составляет лишь ≈ 0,18. Тем самым результаты подобранной нами модели можно считать адекватными."
   ]
  }
 ],
 "metadata": {
  "ExecuteTimeLog": [
   {
    "duration": 9628,
    "start_time": "2024-02-29T19:45:50.281Z"
   },
   {
    "duration": 49,
    "start_time": "2024-02-29T20:20:06.014Z"
   },
   {
    "duration": 1725,
    "start_time": "2024-02-29T20:20:11.992Z"
   },
   {
    "duration": 3235,
    "start_time": "2024-02-29T20:20:14.954Z"
   },
   {
    "duration": 31,
    "start_time": "2024-02-29T20:21:25.170Z"
   },
   {
    "duration": 12,
    "start_time": "2024-02-29T20:22:09.667Z"
   },
   {
    "duration": 8,
    "start_time": "2024-02-29T20:23:21.348Z"
   },
   {
    "duration": 98,
    "start_time": "2024-02-29T20:24:19.259Z"
   },
   {
    "duration": 922,
    "start_time": "2024-02-29T20:24:23.737Z"
   },
   {
    "duration": 30,
    "start_time": "2024-02-29T20:24:26.298Z"
   },
   {
    "duration": 6,
    "start_time": "2024-02-29T20:24:29.647Z"
   },
   {
    "duration": 7,
    "start_time": "2024-02-29T20:25:02.006Z"
   },
   {
    "duration": 7,
    "start_time": "2024-02-29T20:26:02.178Z"
   },
   {
    "duration": 922,
    "start_time": "2024-02-29T20:26:08.557Z"
   },
   {
    "duration": 29,
    "start_time": "2024-02-29T20:26:10.931Z"
   },
   {
    "duration": 7,
    "start_time": "2024-02-29T20:26:13.561Z"
   },
   {
    "duration": 11,
    "start_time": "2024-02-29T20:26:27.568Z"
   },
   {
    "duration": 13,
    "start_time": "2024-02-29T21:25:45.070Z"
   },
   {
    "duration": 9,
    "start_time": "2024-02-29T21:25:49.592Z"
   },
   {
    "duration": 228,
    "start_time": "2024-02-29T21:27:42.954Z"
   },
   {
    "duration": 606,
    "start_time": "2024-02-29T21:32:51.456Z"
   },
   {
    "duration": 6,
    "start_time": "2024-02-29T21:33:51.505Z"
   },
   {
    "duration": 182,
    "start_time": "2024-02-29T21:36:33.389Z"
   },
   {
    "duration": 153,
    "start_time": "2024-02-29T21:37:11.316Z"
   },
   {
    "duration": 205,
    "start_time": "2024-02-29T21:37:16.164Z"
   },
   {
    "duration": 145,
    "start_time": "2024-02-29T21:37:36.205Z"
   },
   {
    "duration": 146,
    "start_time": "2024-02-29T21:37:46.823Z"
   },
   {
    "duration": 141,
    "start_time": "2024-02-29T21:37:51.254Z"
   },
   {
    "duration": 200,
    "start_time": "2024-02-29T21:38:05.491Z"
   },
   {
    "duration": 146,
    "start_time": "2024-02-29T21:38:08.576Z"
   },
   {
    "duration": 144,
    "start_time": "2024-02-29T21:38:17.517Z"
   },
   {
    "duration": 138,
    "start_time": "2024-02-29T21:38:52.923Z"
   },
   {
    "duration": 147,
    "start_time": "2024-02-29T21:38:58.367Z"
   },
   {
    "duration": 145,
    "start_time": "2024-02-29T21:39:04.576Z"
   },
   {
    "duration": 137,
    "start_time": "2024-02-29T21:39:08.196Z"
   },
   {
    "duration": 149,
    "start_time": "2024-02-29T21:39:15.744Z"
   },
   {
    "duration": 296,
    "start_time": "2024-02-29T21:39:19.217Z"
   },
   {
    "duration": 226,
    "start_time": "2024-02-29T21:39:22.988Z"
   },
   {
    "duration": 144,
    "start_time": "2024-02-29T21:39:46.303Z"
   },
   {
    "duration": 151,
    "start_time": "2024-02-29T21:40:10.331Z"
   },
   {
    "duration": 149,
    "start_time": "2024-02-29T21:40:27.057Z"
   },
   {
    "duration": 138,
    "start_time": "2024-02-29T21:40:32.228Z"
   },
   {
    "duration": 130,
    "start_time": "2024-02-29T21:40:39.730Z"
   },
   {
    "duration": 133,
    "start_time": "2024-02-29T21:40:44.567Z"
   },
   {
    "duration": 135,
    "start_time": "2024-02-29T21:40:47.857Z"
   },
   {
    "duration": 131,
    "start_time": "2024-02-29T21:40:50.327Z"
   },
   {
    "duration": 8254,
    "start_time": "2024-02-29T21:40:56.896Z"
   },
   {
    "duration": 1480,
    "start_time": "2024-02-29T21:41:05.152Z"
   },
   {
    "duration": 1002,
    "start_time": "2024-02-29T21:41:06.633Z"
   },
   {
    "duration": 29,
    "start_time": "2024-02-29T21:41:07.637Z"
   },
   {
    "duration": 13,
    "start_time": "2024-02-29T21:41:07.673Z"
   },
   {
    "duration": 9,
    "start_time": "2024-02-29T21:41:07.688Z"
   },
   {
    "duration": 11,
    "start_time": "2024-02-29T21:41:07.698Z"
   },
   {
    "duration": 242,
    "start_time": "2024-02-29T21:41:07.710Z"
   },
   {
    "duration": 101,
    "start_time": "2024-02-29T21:41:07.954Z"
   },
   {
    "duration": 0,
    "start_time": "2024-02-29T21:41:08.057Z"
   },
   {
    "duration": 7,
    "start_time": "2024-02-29T21:41:19.747Z"
   },
   {
    "duration": 196,
    "start_time": "2024-02-29T21:41:21.955Z"
   },
   {
    "duration": 156,
    "start_time": "2024-02-29T21:43:34.736Z"
   },
   {
    "duration": 204,
    "start_time": "2024-02-29T21:43:48.458Z"
   },
   {
    "duration": 149,
    "start_time": "2024-02-29T21:44:00.964Z"
   },
   {
    "duration": 287,
    "start_time": "2024-02-29T21:44:46.611Z"
   },
   {
    "duration": 154,
    "start_time": "2024-02-29T21:46:56.168Z"
   },
   {
    "duration": 146,
    "start_time": "2024-02-29T21:47:00.598Z"
   },
   {
    "duration": 155,
    "start_time": "2024-02-29T21:48:49.024Z"
   },
   {
    "duration": 155,
    "start_time": "2024-02-29T21:49:03.912Z"
   },
   {
    "duration": 143,
    "start_time": "2024-02-29T21:50:35.806Z"
   },
   {
    "duration": 151,
    "start_time": "2024-02-29T21:51:15.749Z"
   },
   {
    "duration": 143,
    "start_time": "2024-02-29T21:51:40.417Z"
   },
   {
    "duration": 81,
    "start_time": "2024-02-29T21:54:23.264Z"
   },
   {
    "duration": 3,
    "start_time": "2024-03-01T00:01:54.821Z"
   },
   {
    "duration": 4,
    "start_time": "2024-03-01T00:11:42.232Z"
   },
   {
    "duration": 3,
    "start_time": "2024-03-01T00:11:45.530Z"
   },
   {
    "duration": 3,
    "start_time": "2024-03-01T00:11:50.440Z"
   },
   {
    "duration": 3,
    "start_time": "2024-03-01T00:12:31.490Z"
   },
   {
    "duration": 8,
    "start_time": "2024-03-01T00:12:37.779Z"
   },
   {
    "duration": 7,
    "start_time": "2024-03-01T00:12:55.610Z"
   },
   {
    "duration": 11,
    "start_time": "2024-03-01T00:16:18.080Z"
   },
   {
    "duration": 7544,
    "start_time": "2024-03-01T00:17:53.419Z"
   },
   {
    "duration": 14763,
    "start_time": "2024-03-01T00:18:36.920Z"
   },
   {
    "duration": 3,
    "start_time": "2024-03-01T00:23:56.930Z"
   },
   {
    "duration": 4,
    "start_time": "2024-03-01T00:24:03.520Z"
   },
   {
    "duration": 4,
    "start_time": "2024-03-01T00:24:22.817Z"
   },
   {
    "duration": 7437,
    "start_time": "2024-03-01T00:27:38.909Z"
   },
   {
    "duration": 9,
    "start_time": "2024-03-01T00:28:06.228Z"
   },
   {
    "duration": 4,
    "start_time": "2024-03-01T00:28:08.149Z"
   },
   {
    "duration": 3713,
    "start_time": "2024-03-01T00:28:11.051Z"
   },
   {
    "duration": 12277,
    "start_time": "2024-03-01T00:41:41.570Z"
   },
   {
    "duration": 16,
    "start_time": "2024-03-01T00:43:46.749Z"
   },
   {
    "duration": 111,
    "start_time": "2024-03-01T00:44:38.879Z"
   },
   {
    "duration": 4,
    "start_time": "2024-03-01T00:45:45.334Z"
   },
   {
    "duration": 3,
    "start_time": "2024-03-01T00:46:08.430Z"
   },
   {
    "duration": 8,
    "start_time": "2024-03-01T00:46:09.930Z"
   },
   {
    "duration": 4,
    "start_time": "2024-03-01T00:46:14.339Z"
   },
   {
    "duration": 7,
    "start_time": "2024-03-01T00:46:19.070Z"
   },
   {
    "duration": 23,
    "start_time": "2024-03-01T00:47:17.890Z"
   },
   {
    "duration": 15,
    "start_time": "2024-03-01T00:47:31.518Z"
   },
   {
    "duration": 2,
    "start_time": "2024-03-01T00:47:49.880Z"
   },
   {
    "duration": 6,
    "start_time": "2024-03-01T00:47:49.884Z"
   },
   {
    "duration": 9,
    "start_time": "2024-03-01T00:47:49.891Z"
   },
   {
    "duration": 8,
    "start_time": "2024-03-01T00:47:49.902Z"
   },
   {
    "duration": 9,
    "start_time": "2024-03-01T00:47:49.912Z"
   },
   {
    "duration": 7,
    "start_time": "2024-03-01T00:47:49.922Z"
   },
   {
    "duration": 8,
    "start_time": "2024-03-01T00:47:49.931Z"
   },
   {
    "duration": 13573,
    "start_time": "2024-03-01T16:13:44.542Z"
   },
   {
    "duration": 1671,
    "start_time": "2024-03-01T16:13:58.119Z"
   },
   {
    "duration": 3508,
    "start_time": "2024-03-01T16:13:59.792Z"
   },
   {
    "duration": 34,
    "start_time": "2024-03-01T16:14:03.302Z"
   },
   {
    "duration": 18,
    "start_time": "2024-03-01T16:14:03.339Z"
   },
   {
    "duration": 13,
    "start_time": "2024-03-01T16:14:03.359Z"
   },
   {
    "duration": 21,
    "start_time": "2024-03-01T16:14:03.374Z"
   },
   {
    "duration": 245,
    "start_time": "2024-03-01T16:14:03.397Z"
   },
   {
    "duration": 81,
    "start_time": "2024-03-01T16:14:03.644Z"
   },
   {
    "duration": 193,
    "start_time": "2024-03-01T16:14:03.727Z"
   },
   {
    "duration": 5585,
    "start_time": "2024-03-01T16:14:03.922Z"
   },
   {
    "duration": 98,
    "start_time": "2024-03-01T16:14:09.510Z"
   },
   {
    "duration": 3,
    "start_time": "2024-03-01T16:14:09.610Z"
   },
   {
    "duration": 11,
    "start_time": "2024-03-01T16:14:09.616Z"
   },
   {
    "duration": 25,
    "start_time": "2024-03-01T16:14:09.629Z"
   },
   {
    "duration": 10,
    "start_time": "2024-03-01T16:14:09.655Z"
   },
   {
    "duration": 16,
    "start_time": "2024-03-01T16:14:09.666Z"
   },
   {
    "duration": 129,
    "start_time": "2024-03-01T16:14:09.683Z"
   },
   {
    "duration": 3,
    "start_time": "2024-03-01T16:18:10.093Z"
   },
   {
    "duration": 24,
    "start_time": "2024-03-01T16:18:10.097Z"
   },
   {
    "duration": 17,
    "start_time": "2024-03-01T16:18:10.123Z"
   },
   {
    "duration": 13,
    "start_time": "2024-03-01T16:18:10.141Z"
   },
   {
    "duration": 6,
    "start_time": "2024-03-01T16:18:10.157Z"
   },
   {
    "duration": 41,
    "start_time": "2024-03-01T16:18:10.165Z"
   },
   {
    "duration": 157,
    "start_time": "2024-03-01T16:18:10.207Z"
   },
   {
    "duration": 4,
    "start_time": "2024-03-01T16:24:37.305Z"
   },
   {
    "duration": 9,
    "start_time": "2024-03-01T16:24:48.133Z"
   },
   {
    "duration": 3,
    "start_time": "2024-03-01T16:24:52.261Z"
   },
   {
    "duration": 8396,
    "start_time": "2024-03-01T16:25:16.056Z"
   },
   {
    "duration": 1533,
    "start_time": "2024-03-01T16:25:24.455Z"
   },
   {
    "duration": 1004,
    "start_time": "2024-03-01T16:25:25.990Z"
   },
   {
    "duration": 32,
    "start_time": "2024-03-01T16:25:26.996Z"
   },
   {
    "duration": 48,
    "start_time": "2024-03-01T16:25:27.030Z"
   },
   {
    "duration": 35,
    "start_time": "2024-03-01T16:25:27.080Z"
   },
   {
    "duration": 36,
    "start_time": "2024-03-01T16:25:27.117Z"
   },
   {
    "duration": 242,
    "start_time": "2024-03-01T16:25:27.155Z"
   },
   {
    "duration": 77,
    "start_time": "2024-03-01T16:25:27.399Z"
   },
   {
    "duration": 173,
    "start_time": "2024-03-01T16:25:27.488Z"
   },
   {
    "duration": 2726,
    "start_time": "2024-03-01T16:25:27.662Z"
   },
   {
    "duration": 11,
    "start_time": "2024-03-01T16:25:30.391Z"
   },
   {
    "duration": 65,
    "start_time": "2024-03-01T16:25:30.404Z"
   },
   {
    "duration": 126,
    "start_time": "2024-03-01T16:25:30.471Z"
   },
   {
    "duration": 52,
    "start_time": "2024-03-01T16:25:30.598Z"
   },
   {
    "duration": 62,
    "start_time": "2024-03-01T16:25:30.653Z"
   },
   {
    "duration": 40,
    "start_time": "2024-03-01T16:25:30.717Z"
   },
   {
    "duration": 69,
    "start_time": "2024-03-01T16:25:30.759Z"
   },
   {
    "duration": 309,
    "start_time": "2024-03-01T16:25:30.830Z"
   },
   {
    "duration": 16,
    "start_time": "2024-03-01T16:30:13.781Z"
   },
   {
    "duration": 4,
    "start_time": "2024-03-01T16:30:31.875Z"
   },
   {
    "duration": 10,
    "start_time": "2024-03-01T16:30:34.662Z"
   },
   {
    "duration": 147,
    "start_time": "2024-03-01T16:32:45.565Z"
   },
   {
    "duration": 6,
    "start_time": "2024-03-01T16:32:51.593Z"
   },
   {
    "duration": 9,
    "start_time": "2024-03-01T16:33:33.556Z"
   },
   {
    "duration": 10,
    "start_time": "2024-03-01T16:33:36.946Z"
   },
   {
    "duration": 10,
    "start_time": "2024-03-01T16:33:41.175Z"
   },
   {
    "duration": 101,
    "start_time": "2024-03-01T16:34:06.765Z"
   },
   {
    "duration": 10,
    "start_time": "2024-03-01T16:34:17.906Z"
   },
   {
    "duration": 5,
    "start_time": "2024-03-01T16:34:46.203Z"
   },
   {
    "duration": 8,
    "start_time": "2024-03-01T16:34:52.166Z"
   },
   {
    "duration": 5,
    "start_time": "2024-03-01T16:35:39.228Z"
   },
   {
    "duration": 7,
    "start_time": "2024-03-01T16:35:58.296Z"
   },
   {
    "duration": 16,
    "start_time": "2024-03-01T16:39:46.726Z"
   },
   {
    "duration": 16,
    "start_time": "2024-03-01T16:39:55.156Z"
   },
   {
    "duration": 15,
    "start_time": "2024-03-01T16:40:03.468Z"
   },
   {
    "duration": 16,
    "start_time": "2024-03-01T16:40:07.895Z"
   },
   {
    "duration": 11153,
    "start_time": "2024-03-01T16:40:26.335Z"
   },
   {
    "duration": 1757,
    "start_time": "2024-03-01T16:40:37.490Z"
   },
   {
    "duration": 931,
    "start_time": "2024-03-01T16:40:39.248Z"
   },
   {
    "duration": 35,
    "start_time": "2024-03-01T16:40:40.181Z"
   },
   {
    "duration": 15,
    "start_time": "2024-03-01T16:40:40.218Z"
   },
   {
    "duration": 20,
    "start_time": "2024-03-01T16:40:40.234Z"
   },
   {
    "duration": 32,
    "start_time": "2024-03-01T16:40:40.255Z"
   },
   {
    "duration": 252,
    "start_time": "2024-03-01T16:40:40.288Z"
   },
   {
    "duration": 76,
    "start_time": "2024-03-01T16:40:40.542Z"
   },
   {
    "duration": 184,
    "start_time": "2024-03-01T16:40:40.620Z"
   },
   {
    "duration": 4,
    "start_time": "2024-03-01T16:40:40.805Z"
   },
   {
    "duration": 29,
    "start_time": "2024-03-01T16:40:40.810Z"
   },
   {
    "duration": 24,
    "start_time": "2024-03-01T16:40:40.840Z"
   },
   {
    "duration": 15,
    "start_time": "2024-03-01T16:40:40.866Z"
   },
   {
    "duration": 133,
    "start_time": "2024-03-01T16:40:40.883Z"
   },
   {
    "duration": 7,
    "start_time": "2024-03-01T16:41:57.116Z"
   },
   {
    "duration": 4,
    "start_time": "2024-03-01T16:42:30.844Z"
   },
   {
    "duration": 3,
    "start_time": "2024-03-01T16:44:20.977Z"
   },
   {
    "duration": 11,
    "start_time": "2024-03-01T16:44:20.982Z"
   },
   {
    "duration": 14,
    "start_time": "2024-03-01T16:44:20.995Z"
   },
   {
    "duration": 10,
    "start_time": "2024-03-01T16:44:21.011Z"
   },
   {
    "duration": 20,
    "start_time": "2024-03-01T16:44:21.023Z"
   },
   {
    "duration": 8,
    "start_time": "2024-03-01T16:44:21.045Z"
   },
   {
    "duration": 13,
    "start_time": "2024-03-01T16:44:21.055Z"
   },
   {
    "duration": 3,
    "start_time": "2024-03-01T16:47:15.727Z"
   },
   {
    "duration": 6,
    "start_time": "2024-03-01T16:47:15.732Z"
   },
   {
    "duration": 8,
    "start_time": "2024-03-01T16:47:15.740Z"
   },
   {
    "duration": 9,
    "start_time": "2024-03-01T16:47:15.750Z"
   },
   {
    "duration": 5,
    "start_time": "2024-03-01T16:47:15.761Z"
   },
   {
    "duration": 4,
    "start_time": "2024-03-01T16:47:15.768Z"
   },
   {
    "duration": 13,
    "start_time": "2024-03-01T16:47:15.775Z"
   },
   {
    "duration": 5,
    "start_time": "2024-03-01T16:48:00.163Z"
   },
   {
    "duration": 5,
    "start_time": "2024-03-01T16:49:23.507Z"
   },
   {
    "duration": 4,
    "start_time": "2024-03-01T16:49:31.685Z"
   },
   {
    "duration": 46,
    "start_time": "2024-03-01T16:49:31.691Z"
   },
   {
    "duration": 32,
    "start_time": "2024-03-01T16:49:31.739Z"
   },
   {
    "duration": 63,
    "start_time": "2024-03-01T16:49:31.774Z"
   },
   {
    "duration": 43,
    "start_time": "2024-03-01T16:49:31.839Z"
   },
   {
    "duration": 59,
    "start_time": "2024-03-01T16:49:31.884Z"
   },
   {
    "duration": 34,
    "start_time": "2024-03-01T16:49:31.945Z"
   },
   {
    "duration": 4,
    "start_time": "2024-03-01T16:49:53.097Z"
   },
   {
    "duration": 17,
    "start_time": "2024-03-01T16:49:53.103Z"
   },
   {
    "duration": 18,
    "start_time": "2024-03-01T16:49:53.122Z"
   },
   {
    "duration": 16,
    "start_time": "2024-03-01T16:49:53.142Z"
   },
   {
    "duration": 7,
    "start_time": "2024-03-01T16:49:53.160Z"
   },
   {
    "duration": 10,
    "start_time": "2024-03-01T16:49:53.169Z"
   },
   {
    "duration": 10,
    "start_time": "2024-03-01T16:49:53.181Z"
   },
   {
    "duration": 160,
    "start_time": "2024-03-01T16:50:27.157Z"
   },
   {
    "duration": 3,
    "start_time": "2024-03-01T16:50:33.728Z"
   },
   {
    "duration": 24,
    "start_time": "2024-03-01T16:50:33.733Z"
   },
   {
    "duration": 9,
    "start_time": "2024-03-01T16:50:33.758Z"
   },
   {
    "duration": 6,
    "start_time": "2024-03-01T16:50:33.769Z"
   },
   {
    "duration": 4,
    "start_time": "2024-03-01T16:50:33.777Z"
   },
   {
    "duration": 5,
    "start_time": "2024-03-01T16:50:33.783Z"
   },
   {
    "duration": 16,
    "start_time": "2024-03-01T16:53:05.456Z"
   },
   {
    "duration": 4,
    "start_time": "2024-03-01T16:53:15.787Z"
   },
   {
    "duration": 8,
    "start_time": "2024-03-01T16:53:15.793Z"
   },
   {
    "duration": 25,
    "start_time": "2024-03-01T16:53:15.803Z"
   },
   {
    "duration": 3,
    "start_time": "2024-03-01T16:53:15.830Z"
   },
   {
    "duration": 11,
    "start_time": "2024-03-01T16:53:15.835Z"
   },
   {
    "duration": 7,
    "start_time": "2024-03-01T16:53:15.848Z"
   },
   {
    "duration": 5,
    "start_time": "2024-03-01T16:53:15.857Z"
   },
   {
    "duration": 5,
    "start_time": "2024-03-01T16:53:15.863Z"
   },
   {
    "duration": 11,
    "start_time": "2024-03-01T16:54:20.277Z"
   },
   {
    "duration": 13,
    "start_time": "2024-03-01T16:54:51.927Z"
   },
   {
    "duration": 18,
    "start_time": "2024-03-01T16:55:51.500Z"
   },
   {
    "duration": 18,
    "start_time": "2024-03-01T16:56:26.997Z"
   },
   {
    "duration": 18,
    "start_time": "2024-03-01T16:56:52.485Z"
   },
   {
    "duration": 3,
    "start_time": "2024-03-01T16:56:59.828Z"
   },
   {
    "duration": 13,
    "start_time": "2024-03-01T16:56:59.833Z"
   },
   {
    "duration": 21,
    "start_time": "2024-03-01T16:56:59.848Z"
   },
   {
    "duration": 12,
    "start_time": "2024-03-01T16:56:59.871Z"
   },
   {
    "duration": 21,
    "start_time": "2024-03-01T16:56:59.885Z"
   },
   {
    "duration": 30,
    "start_time": "2024-03-01T16:56:59.908Z"
   },
   {
    "duration": 20,
    "start_time": "2024-03-01T16:56:59.940Z"
   },
   {
    "duration": 22,
    "start_time": "2024-03-01T16:56:59.962Z"
   },
   {
    "duration": 23,
    "start_time": "2024-03-01T16:56:59.986Z"
   },
   {
    "duration": 8,
    "start_time": "2024-03-01T16:57:28.166Z"
   },
   {
    "duration": 4,
    "start_time": "2024-03-01T16:58:51.069Z"
   },
   {
    "duration": 3,
    "start_time": "2024-03-01T17:00:48.765Z"
   },
   {
    "duration": 10,
    "start_time": "2024-03-01T17:00:48.769Z"
   },
   {
    "duration": 17,
    "start_time": "2024-03-01T17:00:48.781Z"
   },
   {
    "duration": 6,
    "start_time": "2024-03-01T17:00:48.800Z"
   },
   {
    "duration": 5,
    "start_time": "2024-03-01T17:00:48.808Z"
   },
   {
    "duration": 11,
    "start_time": "2024-03-01T17:00:48.815Z"
   },
   {
    "duration": 9,
    "start_time": "2024-03-01T17:00:48.827Z"
   },
   {
    "duration": 7,
    "start_time": "2024-03-01T17:00:48.838Z"
   },
   {
    "duration": 3,
    "start_time": "2024-03-01T17:00:48.847Z"
   },
   {
    "duration": 10,
    "start_time": "2024-03-01T17:00:48.852Z"
   },
   {
    "duration": 3,
    "start_time": "2024-03-01T17:01:23.227Z"
   },
   {
    "duration": 7,
    "start_time": "2024-03-01T17:01:23.232Z"
   },
   {
    "duration": 10,
    "start_time": "2024-03-01T17:01:23.241Z"
   },
   {
    "duration": 6,
    "start_time": "2024-03-01T17:01:23.253Z"
   },
   {
    "duration": 8,
    "start_time": "2024-03-01T17:01:23.261Z"
   },
   {
    "duration": 6,
    "start_time": "2024-03-01T17:01:23.270Z"
   },
   {
    "duration": 11,
    "start_time": "2024-03-01T17:01:23.277Z"
   },
   {
    "duration": 12,
    "start_time": "2024-03-01T17:01:23.290Z"
   },
   {
    "duration": 9,
    "start_time": "2024-03-01T17:01:23.304Z"
   },
   {
    "duration": 6,
    "start_time": "2024-03-01T17:01:23.315Z"
   },
   {
    "duration": 4,
    "start_time": "2024-03-01T17:04:11.488Z"
   },
   {
    "duration": 36,
    "start_time": "2024-03-01T17:04:11.494Z"
   },
   {
    "duration": 21,
    "start_time": "2024-03-01T17:04:11.532Z"
   },
   {
    "duration": 10,
    "start_time": "2024-03-01T17:04:11.554Z"
   },
   {
    "duration": 14,
    "start_time": "2024-03-01T17:04:11.566Z"
   },
   {
    "duration": 15,
    "start_time": "2024-03-01T17:04:11.581Z"
   },
   {
    "duration": 30,
    "start_time": "2024-03-01T17:04:11.599Z"
   },
   {
    "duration": 10,
    "start_time": "2024-03-01T17:04:11.631Z"
   },
   {
    "duration": 14,
    "start_time": "2024-03-01T17:04:11.643Z"
   },
   {
    "duration": 14,
    "start_time": "2024-03-01T17:04:11.659Z"
   },
   {
    "duration": 4,
    "start_time": "2024-03-01T17:04:11.675Z"
   },
   {
    "duration": 3,
    "start_time": "2024-03-01T17:06:27.144Z"
   },
   {
    "duration": 12,
    "start_time": "2024-03-01T17:06:27.149Z"
   },
   {
    "duration": 11,
    "start_time": "2024-03-01T17:06:27.163Z"
   },
   {
    "duration": 4,
    "start_time": "2024-03-01T17:06:27.175Z"
   },
   {
    "duration": 10,
    "start_time": "2024-03-01T17:06:27.181Z"
   },
   {
    "duration": 7,
    "start_time": "2024-03-01T17:06:27.192Z"
   },
   {
    "duration": 3,
    "start_time": "2024-03-01T17:07:05.145Z"
   },
   {
    "duration": 43,
    "start_time": "2024-03-01T17:07:05.150Z"
   },
   {
    "duration": 20,
    "start_time": "2024-03-01T17:07:05.194Z"
   },
   {
    "duration": 39,
    "start_time": "2024-03-01T17:07:05.215Z"
   },
   {
    "duration": 35,
    "start_time": "2024-03-01T17:13:50.777Z"
   },
   {
    "duration": 18,
    "start_time": "2024-03-01T17:16:28.773Z"
   },
   {
    "duration": 14795,
    "start_time": "2024-03-01T17:16:50.494Z"
   },
   {
    "duration": 12,
    "start_time": "2024-03-01T17:17:10.392Z"
   },
   {
    "duration": 3,
    "start_time": "2024-03-01T17:21:28.267Z"
   },
   {
    "duration": 5,
    "start_time": "2024-03-01T17:21:28.272Z"
   },
   {
    "duration": 18,
    "start_time": "2024-03-01T17:21:28.279Z"
   },
   {
    "duration": 6,
    "start_time": "2024-03-01T17:21:28.299Z"
   },
   {
    "duration": 35,
    "start_time": "2024-03-01T17:21:28.306Z"
   },
   {
    "duration": 0,
    "start_time": "2024-03-01T17:21:28.342Z"
   },
   {
    "duration": 9,
    "start_time": "2024-03-01T17:21:55.973Z"
   },
   {
    "duration": 13744,
    "start_time": "2024-03-01T17:22:13.519Z"
   },
   {
    "duration": 1763,
    "start_time": "2024-03-01T17:22:27.266Z"
   },
   {
    "duration": 957,
    "start_time": "2024-03-01T17:22:29.031Z"
   },
   {
    "duration": 36,
    "start_time": "2024-03-01T17:22:29.990Z"
   },
   {
    "duration": 29,
    "start_time": "2024-03-01T17:22:30.027Z"
   },
   {
    "duration": 46,
    "start_time": "2024-03-01T17:22:30.058Z"
   },
   {
    "duration": 60,
    "start_time": "2024-03-01T17:22:30.106Z"
   },
   {
    "duration": 331,
    "start_time": "2024-03-01T17:22:30.167Z"
   },
   {
    "duration": 78,
    "start_time": "2024-03-01T17:22:30.499Z"
   },
   {
    "duration": 328,
    "start_time": "2024-03-01T17:22:30.587Z"
   },
   {
    "duration": 3,
    "start_time": "2024-03-01T17:22:30.917Z"
   },
   {
    "duration": 55,
    "start_time": "2024-03-01T17:22:30.921Z"
   },
   {
    "duration": 46,
    "start_time": "2024-03-01T17:22:30.978Z"
   },
   {
    "duration": 147,
    "start_time": "2024-03-01T17:22:31.025Z"
   },
   {
    "duration": 339,
    "start_time": "2024-03-01T17:22:31.174Z"
   },
   {
    "duration": 0,
    "start_time": "2024-03-01T17:22:31.514Z"
   },
   {
    "duration": 6,
    "start_time": "2024-03-01T17:23:16.370Z"
   },
   {
    "duration": 5,
    "start_time": "2024-03-01T17:23:39.171Z"
   },
   {
    "duration": 3,
    "start_time": "2024-03-01T17:23:47.994Z"
   },
   {
    "duration": 5,
    "start_time": "2024-03-01T17:23:48.000Z"
   },
   {
    "duration": 22,
    "start_time": "2024-03-01T17:23:48.007Z"
   },
   {
    "duration": 11,
    "start_time": "2024-03-01T17:23:48.031Z"
   },
   {
    "duration": 4,
    "start_time": "2024-03-01T17:23:48.044Z"
   },
   {
    "duration": 4,
    "start_time": "2024-03-01T17:23:48.050Z"
   },
   {
    "duration": 6,
    "start_time": "2024-03-01T17:23:48.056Z"
   },
   {
    "duration": 4,
    "start_time": "2024-03-01T17:24:14.896Z"
   },
   {
    "duration": 13,
    "start_time": "2024-03-01T17:24:25.627Z"
   },
   {
    "duration": 5010,
    "start_time": "2024-03-01T17:25:39.827Z"
   },
   {
    "duration": 11,
    "start_time": "2024-03-01T17:28:18.519Z"
   },
   {
    "duration": 25044,
    "start_time": "2024-03-01T17:28:27.121Z"
   },
   {
    "duration": 5017,
    "start_time": "2024-03-01T17:29:25.939Z"
   },
   {
    "duration": 9,
    "start_time": "2024-03-01T17:30:43.501Z"
   },
   {
    "duration": 5018,
    "start_time": "2024-03-01T17:31:00.238Z"
   },
   {
    "duration": 1015,
    "start_time": "2024-03-01T17:31:17.248Z"
   },
   {
    "duration": 2516,
    "start_time": "2024-03-01T17:31:22.068Z"
   },
   {
    "duration": 20732,
    "start_time": "2024-03-01T20:49:58.188Z"
   },
   {
    "duration": 1768,
    "start_time": "2024-03-01T20:50:18.923Z"
   },
   {
    "duration": 2152,
    "start_time": "2024-03-01T20:50:20.693Z"
   },
   {
    "duration": 32,
    "start_time": "2024-03-01T20:50:22.847Z"
   },
   {
    "duration": 19,
    "start_time": "2024-03-01T20:50:22.880Z"
   },
   {
    "duration": 9,
    "start_time": "2024-03-01T20:50:22.901Z"
   },
   {
    "duration": 17,
    "start_time": "2024-03-01T20:50:22.911Z"
   },
   {
    "duration": 218,
    "start_time": "2024-03-01T20:50:22.930Z"
   },
   {
    "duration": 71,
    "start_time": "2024-03-01T20:50:23.149Z"
   },
   {
    "duration": 192,
    "start_time": "2024-03-01T20:50:23.222Z"
   },
   {
    "duration": 3,
    "start_time": "2024-03-01T20:50:23.416Z"
   },
   {
    "duration": 22,
    "start_time": "2024-03-01T20:50:23.420Z"
   },
   {
    "duration": 35,
    "start_time": "2024-03-01T20:50:23.444Z"
   },
   {
    "duration": 12,
    "start_time": "2024-03-01T20:50:23.480Z"
   },
   {
    "duration": 2628,
    "start_time": "2024-03-01T20:50:23.494Z"
   },
   {
    "duration": 5,
    "start_time": "2024-03-01T20:50:26.124Z"
   },
   {
    "duration": 12611,
    "start_time": "2024-03-01T21:42:55.782Z"
   },
   {
    "duration": 1613,
    "start_time": "2024-03-01T21:43:08.395Z"
   },
   {
    "duration": 866,
    "start_time": "2024-03-01T21:43:10.010Z"
   },
   {
    "duration": 30,
    "start_time": "2024-03-01T21:43:10.878Z"
   },
   {
    "duration": 11,
    "start_time": "2024-03-01T21:43:10.910Z"
   },
   {
    "duration": 16,
    "start_time": "2024-03-01T21:43:10.923Z"
   },
   {
    "duration": 18,
    "start_time": "2024-03-01T21:43:10.940Z"
   },
   {
    "duration": 232,
    "start_time": "2024-03-01T21:43:10.959Z"
   },
   {
    "duration": 83,
    "start_time": "2024-03-01T21:43:11.192Z"
   },
   {
    "duration": 149,
    "start_time": "2024-03-01T21:43:11.277Z"
   },
   {
    "duration": 2,
    "start_time": "2024-03-01T21:43:11.428Z"
   },
   {
    "duration": 13,
    "start_time": "2024-03-01T21:43:11.432Z"
   },
   {
    "duration": 7,
    "start_time": "2024-03-01T21:43:11.446Z"
   },
   {
    "duration": 37,
    "start_time": "2024-03-01T21:43:11.454Z"
   },
   {
    "duration": 20257,
    "start_time": "2024-03-01T21:43:11.492Z"
   },
   {
    "duration": 140,
    "start_time": "2024-03-01T21:46:22.580Z"
   },
   {
    "duration": 14966,
    "start_time": "2024-03-01T21:47:24.256Z"
   },
   {
    "duration": 5,
    "start_time": "2024-03-01T21:47:59.582Z"
   },
   {
    "duration": 53,
    "start_time": "2024-03-01T22:00:59.478Z"
   },
   {
    "duration": 34,
    "start_time": "2024-03-01T22:01:13.271Z"
   },
   {
    "duration": 35,
    "start_time": "2024-03-01T22:03:18.301Z"
   },
   {
    "duration": 9,
    "start_time": "2024-03-01T22:05:02.357Z"
   },
   {
    "duration": 113,
    "start_time": "2024-03-01T22:10:21.341Z"
   },
   {
    "duration": 79,
    "start_time": "2024-03-01T22:11:36.230Z"
   },
   {
    "duration": 52,
    "start_time": "2024-03-01T22:22:33.332Z"
   },
   {
    "duration": 14632,
    "start_time": "2024-03-01T22:23:02.791Z"
   },
   {
    "duration": 2224,
    "start_time": "2024-03-01T22:23:17.426Z"
   },
   {
    "duration": 2229,
    "start_time": "2024-03-01T22:23:19.652Z"
   },
   {
    "duration": 31,
    "start_time": "2024-03-01T22:23:21.883Z"
   },
   {
    "duration": 12,
    "start_time": "2024-03-01T22:23:21.915Z"
   },
   {
    "duration": 10,
    "start_time": "2024-03-01T22:23:21.928Z"
   },
   {
    "duration": 10,
    "start_time": "2024-03-01T22:23:21.939Z"
   },
   {
    "duration": 219,
    "start_time": "2024-03-01T22:23:21.965Z"
   },
   {
    "duration": 67,
    "start_time": "2024-03-01T22:23:22.185Z"
   },
   {
    "duration": 169,
    "start_time": "2024-03-01T22:23:22.254Z"
   },
   {
    "duration": 3,
    "start_time": "2024-03-01T22:23:22.425Z"
   },
   {
    "duration": 6,
    "start_time": "2024-03-01T22:23:22.429Z"
   },
   {
    "duration": 4,
    "start_time": "2024-03-01T22:23:22.436Z"
   },
   {
    "duration": 56,
    "start_time": "2024-03-01T22:23:22.442Z"
   },
   {
    "duration": 19003,
    "start_time": "2024-03-01T22:23:22.500Z"
   },
   {
    "duration": 31,
    "start_time": "2024-03-01T22:23:41.505Z"
   },
   {
    "duration": 103,
    "start_time": "2024-03-01T22:23:41.537Z"
   },
   {
    "duration": 146,
    "start_time": "2024-03-01T22:23:41.642Z"
   },
   {
    "duration": 0,
    "start_time": "2024-03-01T22:23:41.790Z"
   },
   {
    "duration": 0,
    "start_time": "2024-03-01T22:23:41.792Z"
   },
   {
    "duration": 0,
    "start_time": "2024-03-01T22:23:41.794Z"
   },
   {
    "duration": 0,
    "start_time": "2024-03-01T22:23:41.796Z"
   },
   {
    "duration": 131,
    "start_time": "2024-03-01T22:24:42.881Z"
   },
   {
    "duration": 54,
    "start_time": "2024-03-01T22:25:38.921Z"
   },
   {
    "duration": 14563,
    "start_time": "2024-03-01T22:26:21.781Z"
   },
   {
    "duration": 2112,
    "start_time": "2024-03-01T22:26:36.346Z"
   },
   {
    "duration": 2176,
    "start_time": "2024-03-01T22:26:38.460Z"
   },
   {
    "duration": 31,
    "start_time": "2024-03-01T22:26:40.637Z"
   },
   {
    "duration": 16,
    "start_time": "2024-03-01T22:26:40.669Z"
   },
   {
    "duration": 10,
    "start_time": "2024-03-01T22:26:40.687Z"
   },
   {
    "duration": 10,
    "start_time": "2024-03-01T22:26:40.698Z"
   },
   {
    "duration": 221,
    "start_time": "2024-03-01T22:26:40.709Z"
   },
   {
    "duration": 69,
    "start_time": "2024-03-01T22:26:40.932Z"
   },
   {
    "duration": 164,
    "start_time": "2024-03-01T22:26:41.004Z"
   },
   {
    "duration": 3,
    "start_time": "2024-03-01T22:26:41.169Z"
   },
   {
    "duration": 6,
    "start_time": "2024-03-01T22:26:41.173Z"
   },
   {
    "duration": 9,
    "start_time": "2024-03-01T22:26:41.181Z"
   },
   {
    "duration": 35,
    "start_time": "2024-03-01T22:26:41.191Z"
   },
   {
    "duration": 18670,
    "start_time": "2024-03-01T22:26:41.228Z"
   },
   {
    "duration": 30,
    "start_time": "2024-03-01T22:26:59.899Z"
   },
   {
    "duration": 109,
    "start_time": "2024-03-01T22:26:59.930Z"
   },
   {
    "duration": 200,
    "start_time": "2024-03-01T22:27:00.041Z"
   },
   {
    "duration": 2089,
    "start_time": "2024-03-01T22:27:00.242Z"
   },
   {
    "duration": 62,
    "start_time": "2024-03-01T22:27:35.092Z"
   },
   {
    "duration": 14399,
    "start_time": "2024-03-01T22:28:29.060Z"
   },
   {
    "duration": 2275,
    "start_time": "2024-03-01T22:28:43.461Z"
   },
   {
    "duration": 2201,
    "start_time": "2024-03-01T22:28:45.738Z"
   },
   {
    "duration": 33,
    "start_time": "2024-03-01T22:28:47.941Z"
   },
   {
    "duration": 12,
    "start_time": "2024-03-01T22:28:47.975Z"
   },
   {
    "duration": 20,
    "start_time": "2024-03-01T22:28:47.988Z"
   },
   {
    "duration": 10,
    "start_time": "2024-03-01T22:28:48.010Z"
   },
   {
    "duration": 233,
    "start_time": "2024-03-01T22:28:48.021Z"
   },
   {
    "duration": 78,
    "start_time": "2024-03-01T22:28:48.255Z"
   },
   {
    "duration": 164,
    "start_time": "2024-03-01T22:28:48.337Z"
   },
   {
    "duration": 3,
    "start_time": "2024-03-01T22:28:48.502Z"
   },
   {
    "duration": 6,
    "start_time": "2024-03-01T22:28:48.507Z"
   },
   {
    "duration": 5,
    "start_time": "2024-03-01T22:28:48.514Z"
   },
   {
    "duration": 33,
    "start_time": "2024-03-01T22:28:48.521Z"
   },
   {
    "duration": 18914,
    "start_time": "2024-03-01T22:28:48.566Z"
   },
   {
    "duration": 31,
    "start_time": "2024-03-01T22:29:07.481Z"
   },
   {
    "duration": 102,
    "start_time": "2024-03-01T22:29:07.513Z"
   },
   {
    "duration": 191,
    "start_time": "2024-03-01T22:29:07.617Z"
   },
   {
    "duration": 2155,
    "start_time": "2024-03-01T22:29:07.810Z"
   },
   {
    "duration": 14691,
    "start_time": "2024-03-01T22:30:56.280Z"
   },
   {
    "duration": 2251,
    "start_time": "2024-03-01T22:31:10.973Z"
   },
   {
    "duration": 2201,
    "start_time": "2024-03-01T22:31:13.225Z"
   },
   {
    "duration": 32,
    "start_time": "2024-03-01T22:31:15.428Z"
   },
   {
    "duration": 15,
    "start_time": "2024-03-01T22:31:15.462Z"
   },
   {
    "duration": 24,
    "start_time": "2024-03-01T22:31:15.478Z"
   },
   {
    "duration": 33,
    "start_time": "2024-03-01T22:31:15.503Z"
   },
   {
    "duration": 238,
    "start_time": "2024-03-01T22:31:15.537Z"
   },
   {
    "duration": 72,
    "start_time": "2024-03-01T22:31:15.777Z"
   },
   {
    "duration": 153,
    "start_time": "2024-03-01T22:31:15.864Z"
   },
   {
    "duration": 4,
    "start_time": "2024-03-01T22:31:16.019Z"
   },
   {
    "duration": 4,
    "start_time": "2024-03-01T22:31:16.024Z"
   },
   {
    "duration": 5,
    "start_time": "2024-03-01T22:31:16.029Z"
   },
   {
    "duration": 46,
    "start_time": "2024-03-01T22:31:16.035Z"
   },
   {
    "duration": 19094,
    "start_time": "2024-03-01T22:31:16.083Z"
   },
   {
    "duration": 31,
    "start_time": "2024-03-01T22:31:35.179Z"
   },
   {
    "duration": 108,
    "start_time": "2024-03-01T22:31:35.211Z"
   },
   {
    "duration": 134,
    "start_time": "2024-03-01T22:31:35.320Z"
   },
   {
    "duration": 2142,
    "start_time": "2024-03-01T22:31:35.456Z"
   },
   {
    "duration": 47,
    "start_time": "2024-03-01T22:32:55.147Z"
   },
   {
    "duration": 14446,
    "start_time": "2024-03-01T22:33:08.587Z"
   },
   {
    "duration": 2222,
    "start_time": "2024-03-01T22:33:23.035Z"
   },
   {
    "duration": 2188,
    "start_time": "2024-03-01T22:33:25.258Z"
   },
   {
    "duration": 32,
    "start_time": "2024-03-01T22:33:27.448Z"
   },
   {
    "duration": 12,
    "start_time": "2024-03-01T22:33:27.482Z"
   },
   {
    "duration": 10,
    "start_time": "2024-03-01T22:33:27.496Z"
   },
   {
    "duration": 14,
    "start_time": "2024-03-01T22:33:27.508Z"
   },
   {
    "duration": 235,
    "start_time": "2024-03-01T22:33:27.524Z"
   },
   {
    "duration": 78,
    "start_time": "2024-03-01T22:33:27.764Z"
   },
   {
    "duration": 163,
    "start_time": "2024-03-01T22:33:27.845Z"
   },
   {
    "duration": 3,
    "start_time": "2024-03-01T22:33:28.009Z"
   },
   {
    "duration": 4,
    "start_time": "2024-03-01T22:33:28.014Z"
   },
   {
    "duration": 3,
    "start_time": "2024-03-01T22:33:28.020Z"
   },
   {
    "duration": 50,
    "start_time": "2024-03-01T22:33:28.025Z"
   },
   {
    "duration": 19212,
    "start_time": "2024-03-01T22:33:28.076Z"
   },
   {
    "duration": 31,
    "start_time": "2024-03-01T22:33:47.290Z"
   },
   {
    "duration": 110,
    "start_time": "2024-03-01T22:33:47.322Z"
   },
   {
    "duration": 209,
    "start_time": "2024-03-01T22:33:47.434Z"
   },
   {
    "duration": 2201,
    "start_time": "2024-03-01T22:33:47.644Z"
   },
   {
    "duration": 28,
    "start_time": "2024-03-01T22:33:49.847Z"
   },
   {
    "duration": 47,
    "start_time": "2024-03-01T22:41:05.062Z"
   },
   {
    "duration": 14192,
    "start_time": "2024-03-01T22:41:11.279Z"
   },
   {
    "duration": 2088,
    "start_time": "2024-03-01T22:41:25.474Z"
   },
   {
    "duration": 2193,
    "start_time": "2024-03-01T22:41:27.564Z"
   },
   {
    "duration": 33,
    "start_time": "2024-03-01T22:41:29.759Z"
   },
   {
    "duration": 12,
    "start_time": "2024-03-01T22:41:29.794Z"
   },
   {
    "duration": 10,
    "start_time": "2024-03-01T22:41:29.808Z"
   },
   {
    "duration": 9,
    "start_time": "2024-03-01T22:41:29.819Z"
   },
   {
    "duration": 227,
    "start_time": "2024-03-01T22:41:29.829Z"
   },
   {
    "duration": 74,
    "start_time": "2024-03-01T22:41:30.058Z"
   },
   {
    "duration": 187,
    "start_time": "2024-03-01T22:41:30.134Z"
   },
   {
    "duration": 3,
    "start_time": "2024-03-01T22:41:30.322Z"
   },
   {
    "duration": 76,
    "start_time": "2024-03-01T22:41:30.327Z"
   },
   {
    "duration": 62,
    "start_time": "2024-03-01T22:41:30.405Z"
   },
   {
    "duration": 85,
    "start_time": "2024-03-01T22:41:30.469Z"
   },
   {
    "duration": 18477,
    "start_time": "2024-03-01T22:41:30.556Z"
   },
   {
    "duration": 36,
    "start_time": "2024-03-01T22:41:49.035Z"
   },
   {
    "duration": 104,
    "start_time": "2024-03-01T22:41:49.072Z"
   },
   {
    "duration": 47,
    "start_time": "2024-03-01T22:41:49.178Z"
   },
   {
    "duration": 38,
    "start_time": "2024-03-01T22:41:49.227Z"
   },
   {
    "duration": 204,
    "start_time": "2024-03-01T22:41:49.267Z"
   },
   {
    "duration": 2,
    "start_time": "2024-03-01T22:41:49.473Z"
   },
   {
    "duration": 591,
    "start_time": "2024-03-01T22:42:57.941Z"
   },
   {
    "duration": 2242,
    "start_time": "2024-03-01T22:45:02.744Z"
   },
   {
    "duration": 2215,
    "start_time": "2024-03-01T22:45:04.988Z"
   },
   {
    "duration": 42,
    "start_time": "2024-03-01T22:45:07.206Z"
   },
   {
    "duration": 18,
    "start_time": "2024-03-01T22:45:07.250Z"
   },
   {
    "duration": 13,
    "start_time": "2024-03-01T22:45:07.270Z"
   },
   {
    "duration": 9,
    "start_time": "2024-03-01T22:45:07.285Z"
   },
   {
    "duration": 240,
    "start_time": "2024-03-01T22:45:07.295Z"
   },
   {
    "duration": 74,
    "start_time": "2024-03-01T22:45:07.536Z"
   },
   {
    "duration": 168,
    "start_time": "2024-03-01T22:45:07.611Z"
   },
   {
    "duration": 4,
    "start_time": "2024-03-01T22:45:07.780Z"
   },
   {
    "duration": 9,
    "start_time": "2024-03-01T22:45:07.785Z"
   },
   {
    "duration": 10,
    "start_time": "2024-03-01T22:45:07.796Z"
   },
   {
    "duration": 33,
    "start_time": "2024-03-01T22:45:07.809Z"
   },
   {
    "duration": 18671,
    "start_time": "2024-03-01T22:45:07.843Z"
   },
   {
    "duration": 30,
    "start_time": "2024-03-01T22:45:26.516Z"
   },
   {
    "duration": 88,
    "start_time": "2024-03-01T22:45:26.565Z"
   },
   {
    "duration": 55,
    "start_time": "2024-03-01T22:45:26.654Z"
   },
   {
    "duration": 35,
    "start_time": "2024-03-01T22:45:26.711Z"
   },
   {
    "duration": 134,
    "start_time": "2024-03-01T22:45:26.747Z"
   },
   {
    "duration": 2117,
    "start_time": "2024-03-01T22:45:26.882Z"
   },
   {
    "duration": 10,
    "start_time": "2024-03-01T22:45:29.001Z"
   },
   {
    "duration": 3,
    "start_time": "2024-03-01T22:45:29.013Z"
   },
   {
    "duration": 148,
    "start_time": "2024-03-01T22:45:29.017Z"
   },
   {
    "duration": 0,
    "start_time": "2024-03-01T22:45:29.167Z"
   },
   {
    "duration": 4,
    "start_time": "2024-03-01T22:47:08.941Z"
   },
   {
    "duration": 2,
    "start_time": "2024-03-01T22:47:22.118Z"
   },
   {
    "duration": 13,
    "start_time": "2024-03-01T22:47:31.600Z"
   },
   {
    "duration": 3,
    "start_time": "2024-03-01T22:48:09.971Z"
   },
   {
    "duration": 7312,
    "start_time": "2024-03-01T22:48:16.537Z"
   },
   {
    "duration": 2147,
    "start_time": "2024-03-01T22:50:48.953Z"
   },
   {
    "duration": 2178,
    "start_time": "2024-03-01T22:50:51.103Z"
   },
   {
    "duration": 32,
    "start_time": "2024-03-01T22:50:53.283Z"
   },
   {
    "duration": 12,
    "start_time": "2024-03-01T22:50:53.317Z"
   },
   {
    "duration": 9,
    "start_time": "2024-03-01T22:50:53.332Z"
   },
   {
    "duration": 8,
    "start_time": "2024-03-01T22:50:53.343Z"
   },
   {
    "duration": 224,
    "start_time": "2024-03-01T22:50:53.352Z"
   },
   {
    "duration": 70,
    "start_time": "2024-03-01T22:50:53.578Z"
   },
   {
    "duration": 162,
    "start_time": "2024-03-01T22:50:53.649Z"
   },
   {
    "duration": 3,
    "start_time": "2024-03-01T22:50:53.813Z"
   },
   {
    "duration": 4,
    "start_time": "2024-03-01T22:50:53.818Z"
   },
   {
    "duration": 2,
    "start_time": "2024-03-01T22:50:53.824Z"
   },
   {
    "duration": 49,
    "start_time": "2024-03-01T22:50:53.828Z"
   },
   {
    "duration": 19106,
    "start_time": "2024-03-01T22:50:53.880Z"
   },
   {
    "duration": 31,
    "start_time": "2024-03-01T22:51:12.987Z"
   },
   {
    "duration": 107,
    "start_time": "2024-03-01T22:51:13.020Z"
   },
   {
    "duration": 57,
    "start_time": "2024-03-01T22:51:13.129Z"
   },
   {
    "duration": 24,
    "start_time": "2024-03-01T22:51:13.188Z"
   },
   {
    "duration": 210,
    "start_time": "2024-03-01T22:51:13.214Z"
   },
   {
    "duration": 2154,
    "start_time": "2024-03-01T22:51:13.426Z"
   },
   {
    "duration": 40,
    "start_time": "2024-03-01T22:51:15.582Z"
   },
   {
    "duration": 7362,
    "start_time": "2024-03-01T22:51:15.624Z"
   },
   {
    "duration": 2249,
    "start_time": "2024-03-01T22:53:12.759Z"
   },
   {
    "duration": 2219,
    "start_time": "2024-03-01T22:53:15.010Z"
   },
   {
    "duration": 33,
    "start_time": "2024-03-01T22:53:17.231Z"
   },
   {
    "duration": 13,
    "start_time": "2024-03-01T22:53:17.265Z"
   },
   {
    "duration": 11,
    "start_time": "2024-03-01T22:53:17.280Z"
   },
   {
    "duration": 10,
    "start_time": "2024-03-01T22:53:17.292Z"
   },
   {
    "duration": 255,
    "start_time": "2024-03-01T22:53:17.304Z"
   },
   {
    "duration": 79,
    "start_time": "2024-03-01T22:53:17.561Z"
   },
   {
    "duration": 178,
    "start_time": "2024-03-01T22:53:17.642Z"
   },
   {
    "duration": 3,
    "start_time": "2024-03-01T22:53:17.822Z"
   },
   {
    "duration": 15,
    "start_time": "2024-03-01T22:53:17.826Z"
   },
   {
    "duration": 8,
    "start_time": "2024-03-01T22:53:17.843Z"
   },
   {
    "duration": 53,
    "start_time": "2024-03-01T22:53:17.852Z"
   },
   {
    "duration": 19041,
    "start_time": "2024-03-01T22:53:17.908Z"
   },
   {
    "duration": 37,
    "start_time": "2024-03-01T22:53:36.951Z"
   },
   {
    "duration": 105,
    "start_time": "2024-03-01T22:53:36.989Z"
   },
   {
    "duration": 50,
    "start_time": "2024-03-01T22:53:37.096Z"
   },
   {
    "duration": 36,
    "start_time": "2024-03-01T22:53:37.148Z"
   },
   {
    "duration": 124,
    "start_time": "2024-03-01T22:53:37.186Z"
   },
   {
    "duration": 596,
    "start_time": "2024-03-01T22:53:37.311Z"
   },
   {
    "duration": 144,
    "start_time": "2024-03-01T22:53:37.909Z"
   },
   {
    "duration": 0,
    "start_time": "2024-03-01T22:53:38.054Z"
   },
   {
    "duration": 1601,
    "start_time": "2024-03-01T22:58:28.973Z"
   },
   {
    "duration": 860,
    "start_time": "2024-03-01T22:58:30.575Z"
   },
   {
    "duration": 36,
    "start_time": "2024-03-01T22:58:31.436Z"
   },
   {
    "duration": 26,
    "start_time": "2024-03-01T22:58:31.473Z"
   },
   {
    "duration": 31,
    "start_time": "2024-03-01T22:58:31.501Z"
   },
   {
    "duration": 34,
    "start_time": "2024-03-01T22:58:31.533Z"
   },
   {
    "duration": 250,
    "start_time": "2024-03-01T22:58:31.569Z"
   },
   {
    "duration": 74,
    "start_time": "2024-03-01T22:58:31.820Z"
   },
   {
    "duration": 159,
    "start_time": "2024-03-01T22:58:31.895Z"
   },
   {
    "duration": 8,
    "start_time": "2024-03-01T22:58:32.057Z"
   },
   {
    "duration": 5,
    "start_time": "2024-03-01T22:58:32.067Z"
   },
   {
    "duration": 6,
    "start_time": "2024-03-01T22:58:32.073Z"
   },
   {
    "duration": 32,
    "start_time": "2024-03-01T22:58:32.081Z"
   },
   {
    "duration": 18962,
    "start_time": "2024-03-01T22:58:32.116Z"
   },
   {
    "duration": 33,
    "start_time": "2024-03-01T22:58:51.080Z"
   },
   {
    "duration": 116,
    "start_time": "2024-03-01T22:58:51.115Z"
   },
   {
    "duration": 53,
    "start_time": "2024-03-01T22:58:51.233Z"
   },
   {
    "duration": 25,
    "start_time": "2024-03-01T22:58:51.288Z"
   },
   {
    "duration": 127,
    "start_time": "2024-03-01T22:58:51.315Z"
   },
   {
    "duration": 2318,
    "start_time": "2024-03-01T23:04:39.146Z"
   },
   {
    "duration": 2232,
    "start_time": "2024-03-01T23:04:41.466Z"
   },
   {
    "duration": 33,
    "start_time": "2024-03-01T23:04:43.700Z"
   },
   {
    "duration": 36,
    "start_time": "2024-03-01T23:04:43.736Z"
   },
   {
    "duration": 19,
    "start_time": "2024-03-01T23:04:43.773Z"
   },
   {
    "duration": 21,
    "start_time": "2024-03-01T23:04:43.794Z"
   },
   {
    "duration": 245,
    "start_time": "2024-03-01T23:04:43.817Z"
   },
   {
    "duration": 71,
    "start_time": "2024-03-01T23:04:44.063Z"
   },
   {
    "duration": 196,
    "start_time": "2024-03-01T23:04:44.136Z"
   },
   {
    "duration": 4,
    "start_time": "2024-03-01T23:04:44.334Z"
   },
   {
    "duration": 25,
    "start_time": "2024-03-01T23:04:44.339Z"
   },
   {
    "duration": 37,
    "start_time": "2024-03-01T23:04:44.366Z"
   },
   {
    "duration": 64,
    "start_time": "2024-03-01T23:04:44.406Z"
   },
   {
    "duration": 19267,
    "start_time": "2024-03-01T23:04:44.472Z"
   },
   {
    "duration": 37,
    "start_time": "2024-03-01T23:05:03.741Z"
   },
   {
    "duration": 108,
    "start_time": "2024-03-01T23:05:03.779Z"
   },
   {
    "duration": 49,
    "start_time": "2024-03-01T23:05:03.889Z"
   },
   {
    "duration": 34,
    "start_time": "2024-03-01T23:05:03.940Z"
   },
   {
    "duration": 125,
    "start_time": "2024-03-01T23:05:03.975Z"
   },
   {
    "duration": 2220,
    "start_time": "2024-03-01T23:05:04.101Z"
   },
   {
    "duration": 8,
    "start_time": "2024-03-01T23:05:06.322Z"
   },
   {
    "duration": 8,
    "start_time": "2024-03-01T23:05:06.331Z"
   },
   {
    "duration": 3,
    "start_time": "2024-03-01T23:06:11.460Z"
   },
   {
    "duration": 4,
    "start_time": "2024-03-01T23:06:22.765Z"
   },
   {
    "duration": 4,
    "start_time": "2024-03-01T23:06:36.546Z"
   },
   {
    "duration": 132,
    "start_time": "2024-03-01T23:11:05.793Z"
   },
   {
    "duration": 7230,
    "start_time": "2024-03-01T23:11:11.049Z"
   },
   {
    "duration": 7096,
    "start_time": "2024-03-01T23:11:52.178Z"
   },
   {
    "duration": 1546,
    "start_time": "2024-03-01T23:13:00.308Z"
   },
   {
    "duration": 4,
    "start_time": "2024-03-01T23:13:50.738Z"
   },
   {
    "duration": 4,
    "start_time": "2024-03-01T23:14:00.419Z"
   },
   {
    "duration": 1549,
    "start_time": "2024-03-01T23:15:09.241Z"
   },
   {
    "duration": 837,
    "start_time": "2024-03-01T23:15:10.792Z"
   },
   {
    "duration": 35,
    "start_time": "2024-03-01T23:15:11.631Z"
   },
   {
    "duration": 12,
    "start_time": "2024-03-01T23:15:11.668Z"
   },
   {
    "duration": 10,
    "start_time": "2024-03-01T23:15:11.681Z"
   },
   {
    "duration": 13,
    "start_time": "2024-03-01T23:15:11.693Z"
   },
   {
    "duration": 230,
    "start_time": "2024-03-01T23:15:11.708Z"
   },
   {
    "duration": 79,
    "start_time": "2024-03-01T23:15:11.940Z"
   },
   {
    "duration": 164,
    "start_time": "2024-03-01T23:15:12.021Z"
   },
   {
    "duration": 3,
    "start_time": "2024-03-01T23:15:12.187Z"
   },
   {
    "duration": 12,
    "start_time": "2024-03-01T23:15:12.192Z"
   },
   {
    "duration": 9,
    "start_time": "2024-03-01T23:15:12.206Z"
   },
   {
    "duration": 33,
    "start_time": "2024-03-01T23:15:12.217Z"
   },
   {
    "duration": 18786,
    "start_time": "2024-03-01T23:15:12.252Z"
   },
   {
    "duration": 42,
    "start_time": "2024-03-01T23:15:31.040Z"
   },
   {
    "duration": 134,
    "start_time": "2024-03-01T23:15:31.083Z"
   },
   {
    "duration": 54,
    "start_time": "2024-03-01T23:15:31.219Z"
   },
   {
    "duration": 66,
    "start_time": "2024-03-01T23:15:31.274Z"
   },
   {
    "duration": 178,
    "start_time": "2024-03-01T23:15:31.342Z"
   },
   {
    "duration": 3,
    "start_time": "2024-03-01T23:15:31.521Z"
   },
   {
    "duration": 4758,
    "start_time": "2024-03-01T23:15:31.525Z"
   },
   {
    "duration": 4688,
    "start_time": "2024-03-01T23:15:36.285Z"
   },
   {
    "duration": 1505,
    "start_time": "2024-03-01T23:15:40.975Z"
   },
   {
    "duration": 2,
    "start_time": "2024-03-01T23:15:42.482Z"
   },
   {
    "duration": 3,
    "start_time": "2024-03-01T23:21:03.483Z"
   },
   {
    "duration": 4,
    "start_time": "2024-03-01T23:21:43.002Z"
   },
   {
    "duration": 6167,
    "start_time": "2024-03-01T23:22:41.344Z"
   },
   {
    "duration": 6,
    "start_time": "2024-03-01T23:22:50.605Z"
   },
   {
    "duration": 1559,
    "start_time": "2024-03-02T16:55:24.694Z"
   },
   {
    "duration": 0,
    "start_time": "2024-03-02T16:55:26.255Z"
   },
   {
    "duration": 0,
    "start_time": "2024-03-02T16:55:26.256Z"
   },
   {
    "duration": 0,
    "start_time": "2024-03-02T16:55:26.257Z"
   },
   {
    "duration": 0,
    "start_time": "2024-03-02T16:55:26.265Z"
   },
   {
    "duration": 0,
    "start_time": "2024-03-02T16:55:26.266Z"
   },
   {
    "duration": 0,
    "start_time": "2024-03-02T16:55:26.267Z"
   },
   {
    "duration": 0,
    "start_time": "2024-03-02T16:55:26.268Z"
   },
   {
    "duration": 0,
    "start_time": "2024-03-02T16:55:26.269Z"
   },
   {
    "duration": 0,
    "start_time": "2024-03-02T16:55:26.270Z"
   },
   {
    "duration": 0,
    "start_time": "2024-03-02T16:55:26.271Z"
   },
   {
    "duration": 0,
    "start_time": "2024-03-02T16:55:26.272Z"
   },
   {
    "duration": 0,
    "start_time": "2024-03-02T16:55:26.273Z"
   },
   {
    "duration": 0,
    "start_time": "2024-03-02T16:55:26.274Z"
   },
   {
    "duration": 0,
    "start_time": "2024-03-02T16:55:26.275Z"
   },
   {
    "duration": 0,
    "start_time": "2024-03-02T16:55:26.276Z"
   },
   {
    "duration": 0,
    "start_time": "2024-03-02T16:55:26.277Z"
   },
   {
    "duration": 0,
    "start_time": "2024-03-02T16:55:26.278Z"
   },
   {
    "duration": 0,
    "start_time": "2024-03-02T16:55:26.279Z"
   },
   {
    "duration": 0,
    "start_time": "2024-03-02T16:55:26.280Z"
   },
   {
    "duration": 0,
    "start_time": "2024-03-02T16:55:26.281Z"
   },
   {
    "duration": 0,
    "start_time": "2024-03-02T16:55:26.282Z"
   },
   {
    "duration": 0,
    "start_time": "2024-03-02T16:55:26.283Z"
   },
   {
    "duration": 1331,
    "start_time": "2024-03-02T16:55:52.520Z"
   },
   {
    "duration": 0,
    "start_time": "2024-03-02T16:55:53.854Z"
   },
   {
    "duration": 0,
    "start_time": "2024-03-02T16:55:53.855Z"
   },
   {
    "duration": 0,
    "start_time": "2024-03-02T16:55:53.856Z"
   },
   {
    "duration": 0,
    "start_time": "2024-03-02T16:55:53.857Z"
   },
   {
    "duration": 0,
    "start_time": "2024-03-02T16:55:53.865Z"
   },
   {
    "duration": 0,
    "start_time": "2024-03-02T16:55:53.866Z"
   },
   {
    "duration": 0,
    "start_time": "2024-03-02T16:55:53.867Z"
   },
   {
    "duration": 0,
    "start_time": "2024-03-02T16:55:53.868Z"
   },
   {
    "duration": 0,
    "start_time": "2024-03-02T16:55:53.869Z"
   },
   {
    "duration": 0,
    "start_time": "2024-03-02T16:55:53.870Z"
   },
   {
    "duration": 0,
    "start_time": "2024-03-02T16:55:53.871Z"
   },
   {
    "duration": 0,
    "start_time": "2024-03-02T16:55:53.872Z"
   },
   {
    "duration": 0,
    "start_time": "2024-03-02T16:55:53.873Z"
   },
   {
    "duration": 0,
    "start_time": "2024-03-02T16:55:53.874Z"
   },
   {
    "duration": 0,
    "start_time": "2024-03-02T16:55:53.875Z"
   },
   {
    "duration": 0,
    "start_time": "2024-03-02T16:55:53.876Z"
   },
   {
    "duration": 0,
    "start_time": "2024-03-02T16:55:53.877Z"
   },
   {
    "duration": 0,
    "start_time": "2024-03-02T16:55:53.878Z"
   },
   {
    "duration": 0,
    "start_time": "2024-03-02T16:55:53.879Z"
   },
   {
    "duration": 0,
    "start_time": "2024-03-02T16:55:53.880Z"
   },
   {
    "duration": 0,
    "start_time": "2024-03-02T16:55:53.881Z"
   },
   {
    "duration": 0,
    "start_time": "2024-03-02T16:55:53.882Z"
   },
   {
    "duration": 22902,
    "start_time": "2024-03-02T16:56:10.670Z"
   },
   {
    "duration": 1563,
    "start_time": "2024-03-02T16:56:33.574Z"
   },
   {
    "duration": 2334,
    "start_time": "2024-03-02T16:56:35.138Z"
   },
   {
    "duration": 29,
    "start_time": "2024-03-02T16:56:37.474Z"
   },
   {
    "duration": 12,
    "start_time": "2024-03-02T16:56:37.505Z"
   },
   {
    "duration": 31,
    "start_time": "2024-03-02T16:56:37.518Z"
   },
   {
    "duration": 25,
    "start_time": "2024-03-02T16:56:37.551Z"
   },
   {
    "duration": 223,
    "start_time": "2024-03-02T16:56:37.578Z"
   },
   {
    "duration": 71,
    "start_time": "2024-03-02T16:56:37.802Z"
   },
   {
    "duration": 175,
    "start_time": "2024-03-02T16:56:37.876Z"
   },
   {
    "duration": 2,
    "start_time": "2024-03-02T16:56:38.053Z"
   },
   {
    "duration": 23,
    "start_time": "2024-03-02T16:56:38.056Z"
   },
   {
    "duration": 19,
    "start_time": "2024-03-02T16:56:38.080Z"
   },
   {
    "duration": 57,
    "start_time": "2024-03-02T16:56:38.101Z"
   },
   {
    "duration": 18669,
    "start_time": "2024-03-02T16:56:38.160Z"
   },
   {
    "duration": 41,
    "start_time": "2024-03-02T16:56:56.831Z"
   },
   {
    "duration": 83,
    "start_time": "2024-03-02T16:56:56.874Z"
   },
   {
    "duration": 51,
    "start_time": "2024-03-02T16:56:56.968Z"
   },
   {
    "duration": 36,
    "start_time": "2024-03-02T16:56:57.021Z"
   },
   {
    "duration": 206,
    "start_time": "2024-03-02T16:56:57.059Z"
   },
   {
    "duration": 2,
    "start_time": "2024-03-02T16:56:57.267Z"
   },
   {
    "duration": 4895,
    "start_time": "2024-03-02T16:56:57.271Z"
   },
   {
    "duration": 6163,
    "start_time": "2024-03-02T16:57:02.168Z"
   },
   {
    "duration": 4,
    "start_time": "2024-03-02T16:57:08.333Z"
   },
   {
    "duration": 40,
    "start_time": "2024-03-02T17:35:06.839Z"
   },
   {
    "duration": 143,
    "start_time": "2024-03-02T17:43:32.136Z"
   },
   {
    "duration": 19,
    "start_time": "2024-03-02T17:45:22.431Z"
   },
   {
    "duration": 12979,
    "start_time": "2024-03-02T17:46:37.251Z"
   },
   {
    "duration": 12967,
    "start_time": "2024-03-02T17:47:43.035Z"
   },
   {
    "duration": 20,
    "start_time": "2024-03-02T18:10:38.900Z"
   },
   {
    "duration": 819,
    "start_time": "2024-03-02T18:10:38.922Z"
   },
   {
    "duration": 31,
    "start_time": "2024-03-02T18:10:39.743Z"
   },
   {
    "duration": 10,
    "start_time": "2024-03-02T18:10:39.776Z"
   },
   {
    "duration": 20,
    "start_time": "2024-03-02T18:10:39.788Z"
   },
   {
    "duration": 12,
    "start_time": "2024-03-02T18:10:39.810Z"
   },
   {
    "duration": 227,
    "start_time": "2024-03-02T18:10:39.823Z"
   },
   {
    "duration": 73,
    "start_time": "2024-03-02T18:10:40.051Z"
   },
   {
    "duration": 161,
    "start_time": "2024-03-02T18:10:40.126Z"
   },
   {
    "duration": 3,
    "start_time": "2024-03-02T18:10:40.289Z"
   },
   {
    "duration": 23,
    "start_time": "2024-03-02T18:10:40.294Z"
   },
   {
    "duration": 13,
    "start_time": "2024-03-02T18:10:40.319Z"
   },
   {
    "duration": 44,
    "start_time": "2024-03-02T18:10:40.334Z"
   },
   {
    "duration": 17331,
    "start_time": "2024-03-02T18:10:40.380Z"
   },
   {
    "duration": 29,
    "start_time": "2024-03-02T18:10:57.712Z"
   },
   {
    "duration": 111,
    "start_time": "2024-03-02T18:10:57.744Z"
   },
   {
    "duration": 53,
    "start_time": "2024-03-02T18:10:57.856Z"
   },
   {
    "duration": 22,
    "start_time": "2024-03-02T18:10:57.910Z"
   },
   {
    "duration": 4,
    "start_time": "2024-03-02T18:10:57.934Z"
   },
   {
    "duration": 31,
    "start_time": "2024-03-02T18:10:57.939Z"
   },
   {
    "duration": 4886,
    "start_time": "2024-03-02T18:10:57.972Z"
   },
   {
    "duration": 6297,
    "start_time": "2024-03-02T18:11:02.860Z"
   },
   {
    "duration": 8,
    "start_time": "2024-03-02T18:11:09.159Z"
   },
   {
    "duration": 12165,
    "start_time": "2024-03-02T18:11:09.168Z"
   },
   {
    "duration": 16,
    "start_time": "2024-03-02T18:11:21.335Z"
   },
   {
    "duration": 155,
    "start_time": "2024-03-02T18:22:28.657Z"
   },
   {
    "duration": 262188,
    "start_time": "2024-03-02T18:23:14.804Z"
   },
   {
    "duration": 72,
    "start_time": "2024-03-02T18:28:18.165Z"
   },
   {
    "duration": 1554,
    "start_time": "2024-03-02T18:28:31.005Z"
   },
   {
    "duration": 869,
    "start_time": "2024-03-02T18:28:32.561Z"
   },
   {
    "duration": 33,
    "start_time": "2024-03-02T18:28:33.432Z"
   },
   {
    "duration": 53,
    "start_time": "2024-03-02T18:28:33.468Z"
   },
   {
    "duration": 80,
    "start_time": "2024-03-02T18:28:33.523Z"
   },
   {
    "duration": 55,
    "start_time": "2024-03-02T18:28:33.605Z"
   },
   {
    "duration": 246,
    "start_time": "2024-03-02T18:28:33.662Z"
   },
   {
    "duration": 78,
    "start_time": "2024-03-02T18:28:33.910Z"
   },
   {
    "duration": 159,
    "start_time": "2024-03-02T18:28:33.990Z"
   },
   {
    "duration": 3,
    "start_time": "2024-03-02T18:28:34.152Z"
   },
   {
    "duration": 16,
    "start_time": "2024-03-02T18:28:34.156Z"
   },
   {
    "duration": 23,
    "start_time": "2024-03-02T18:28:34.173Z"
   },
   {
    "duration": 46,
    "start_time": "2024-03-02T18:28:34.198Z"
   },
   {
    "duration": 19002,
    "start_time": "2024-03-02T18:28:34.245Z"
   },
   {
    "duration": 39,
    "start_time": "2024-03-02T18:28:53.249Z"
   },
   {
    "duration": 101,
    "start_time": "2024-03-02T18:28:53.289Z"
   },
   {
    "duration": 49,
    "start_time": "2024-03-02T18:28:53.391Z"
   },
   {
    "duration": 56,
    "start_time": "2024-03-02T18:28:53.442Z"
   },
   {
    "duration": 252,
    "start_time": "2024-03-02T18:28:53.500Z"
   },
   {
    "duration": 3,
    "start_time": "2024-03-02T18:28:53.754Z"
   },
   {
    "duration": 4860,
    "start_time": "2024-03-02T18:28:53.759Z"
   },
   {
    "duration": 6162,
    "start_time": "2024-03-02T18:28:58.620Z"
   },
   {
    "duration": 5,
    "start_time": "2024-03-02T18:29:04.783Z"
   },
   {
    "duration": 81,
    "start_time": "2024-03-02T18:29:04.789Z"
   },
   {
    "duration": 0,
    "start_time": "2024-03-02T18:29:04.871Z"
   },
   {
    "duration": 26652,
    "start_time": "2024-03-02T18:29:25.923Z"
   },
   {
    "duration": 16,
    "start_time": "2024-03-02T18:32:38.189Z"
   },
   {
    "duration": 25074,
    "start_time": "2024-03-02T18:36:34.409Z"
   },
   {
    "duration": 17,
    "start_time": "2024-03-02T18:37:09.556Z"
   },
   {
    "duration": 63339,
    "start_time": "2024-03-02T18:37:48.086Z"
   },
   {
    "duration": 64526,
    "start_time": "2024-03-02T18:39:13.596Z"
   },
   {
    "duration": 21,
    "start_time": "2024-03-02T18:40:30.445Z"
   },
   {
    "duration": 1553,
    "start_time": "2024-03-02T18:54:53.610Z"
   },
   {
    "duration": 861,
    "start_time": "2024-03-02T18:54:55.166Z"
   },
   {
    "duration": 41,
    "start_time": "2024-03-02T18:54:56.029Z"
   },
   {
    "duration": 13,
    "start_time": "2024-03-02T18:54:56.072Z"
   },
   {
    "duration": 58,
    "start_time": "2024-03-02T18:54:56.087Z"
   },
   {
    "duration": 33,
    "start_time": "2024-03-02T18:54:56.146Z"
   },
   {
    "duration": 265,
    "start_time": "2024-03-02T18:54:56.180Z"
   },
   {
    "duration": 72,
    "start_time": "2024-03-02T18:54:56.446Z"
   },
   {
    "duration": 178,
    "start_time": "2024-03-02T18:54:56.520Z"
   },
   {
    "duration": 3,
    "start_time": "2024-03-02T18:54:56.699Z"
   },
   {
    "duration": 24,
    "start_time": "2024-03-02T18:54:56.704Z"
   },
   {
    "duration": 10,
    "start_time": "2024-03-02T18:54:56.730Z"
   },
   {
    "duration": 56,
    "start_time": "2024-03-02T18:54:56.742Z"
   },
   {
    "duration": 19097,
    "start_time": "2024-03-02T18:54:56.800Z"
   },
   {
    "duration": 38,
    "start_time": "2024-03-02T18:55:15.899Z"
   },
   {
    "duration": 126,
    "start_time": "2024-03-02T18:55:15.939Z"
   },
   {
    "duration": 54,
    "start_time": "2024-03-02T18:55:16.067Z"
   },
   {
    "duration": 42,
    "start_time": "2024-03-02T18:55:16.123Z"
   },
   {
    "duration": 219,
    "start_time": "2024-03-02T18:55:16.167Z"
   },
   {
    "duration": 3,
    "start_time": "2024-03-02T18:55:16.387Z"
   },
   {
    "duration": 4828,
    "start_time": "2024-03-02T18:55:16.391Z"
   },
   {
    "duration": 6224,
    "start_time": "2024-03-02T18:55:21.220Z"
   },
   {
    "duration": 5,
    "start_time": "2024-03-02T18:55:27.446Z"
   },
   {
    "duration": 281369,
    "start_time": "2024-03-02T18:55:27.452Z"
   },
   {
    "duration": 19,
    "start_time": "2024-03-02T19:00:08.823Z"
   },
   {
    "duration": 18,
    "start_time": "2024-03-02T19:01:40.637Z"
   },
   {
    "duration": 230565,
    "start_time": "2024-03-02T19:03:15.447Z"
   },
   {
    "duration": 27,
    "start_time": "2024-03-02T19:08:38.774Z"
   },
   {
    "duration": 37635,
    "start_time": "2024-03-02T19:09:09.571Z"
   },
   {
    "duration": 20,
    "start_time": "2024-03-02T19:09:51.323Z"
   },
   {
    "duration": 196,
    "start_time": "2024-03-02T19:11:04.348Z"
   },
   {
    "duration": 37744,
    "start_time": "2024-03-02T19:12:25.536Z"
   },
   {
    "duration": 20,
    "start_time": "2024-03-02T19:13:24.575Z"
   },
   {
    "duration": 227,
    "start_time": "2024-03-02T19:13:46.381Z"
   },
   {
    "duration": 25393,
    "start_time": "2024-03-02T19:14:25.669Z"
   },
   {
    "duration": 17,
    "start_time": "2024-03-02T19:14:53.911Z"
   },
   {
    "duration": 75246,
    "start_time": "2024-03-02T19:15:10.753Z"
   },
   {
    "duration": 16,
    "start_time": "2024-03-02T19:16:29.700Z"
   },
   {
    "duration": 264948,
    "start_time": "2024-03-02T19:17:51.497Z"
   },
   {
    "duration": 24,
    "start_time": "2024-03-02T20:26:19.592Z"
   },
   {
    "duration": 113,
    "start_time": "2024-03-02T20:27:30.004Z"
   },
   {
    "duration": 9,
    "start_time": "2024-03-02T20:32:55.935Z"
   },
   {
    "duration": 9,
    "start_time": "2024-03-02T20:35:02.580Z"
   },
   {
    "duration": 16,
    "start_time": "2024-03-02T20:36:22.393Z"
   },
   {
    "duration": 16,
    "start_time": "2024-03-02T20:37:05.488Z"
   },
   {
    "duration": 49,
    "start_time": "2024-03-02T20:38:08.009Z"
   },
   {
    "duration": 28,
    "start_time": "2024-03-02T20:38:51.222Z"
   },
   {
    "duration": 17,
    "start_time": "2024-03-02T20:39:13.447Z"
   },
   {
    "duration": 74,
    "start_time": "2024-03-02T20:41:33.248Z"
   },
   {
    "duration": 76,
    "start_time": "2024-03-02T20:46:01.351Z"
   },
   {
    "duration": 22,
    "start_time": "2024-03-02T20:48:00.972Z"
   },
   {
    "duration": 20,
    "start_time": "2024-03-02T20:48:06.858Z"
   },
   {
    "duration": 18,
    "start_time": "2024-03-02T20:48:13.267Z"
   },
   {
    "duration": 4,
    "start_time": "2024-03-02T20:48:55.780Z"
   },
   {
    "duration": 4,
    "start_time": "2024-03-02T20:49:03.039Z"
   },
   {
    "duration": 4,
    "start_time": "2024-03-02T20:49:11.057Z"
   },
   {
    "duration": 19,
    "start_time": "2024-03-02T20:49:25.313Z"
   },
   {
    "duration": 22,
    "start_time": "2024-03-02T20:49:54.252Z"
   },
   {
    "duration": 20,
    "start_time": "2024-03-02T20:50:03.205Z"
   },
   {
    "duration": 22,
    "start_time": "2024-03-02T20:50:08.479Z"
   },
   {
    "duration": 15,
    "start_time": "2024-03-02T20:50:16.129Z"
   },
   {
    "duration": 18,
    "start_time": "2024-03-02T20:50:23.442Z"
   },
   {
    "duration": 21,
    "start_time": "2024-03-02T20:50:36.330Z"
   },
   {
    "duration": 22,
    "start_time": "2024-03-02T20:50:46.621Z"
   },
   {
    "duration": 21,
    "start_time": "2024-03-02T20:50:49.502Z"
   },
   {
    "duration": 17,
    "start_time": "2024-03-02T20:50:59.837Z"
   },
   {
    "duration": 11281,
    "start_time": "2024-03-02T22:02:23.637Z"
   },
   {
    "duration": 1471,
    "start_time": "2024-03-02T22:02:34.920Z"
   },
   {
    "duration": 945,
    "start_time": "2024-03-02T22:02:36.392Z"
   },
   {
    "duration": 42,
    "start_time": "2024-03-02T22:02:37.339Z"
   },
   {
    "duration": 13,
    "start_time": "2024-03-02T22:02:37.384Z"
   },
   {
    "duration": 16,
    "start_time": "2024-03-02T22:02:37.398Z"
   },
   {
    "duration": 243,
    "start_time": "2024-03-02T22:02:37.415Z"
   },
   {
    "duration": 73,
    "start_time": "2024-03-02T22:02:37.659Z"
   },
   {
    "duration": 256,
    "start_time": "2024-03-02T22:02:37.733Z"
   },
   {
    "duration": 3,
    "start_time": "2024-03-02T22:02:37.991Z"
   },
   {
    "duration": 34,
    "start_time": "2024-03-02T22:02:37.995Z"
   },
   {
    "duration": 20813,
    "start_time": "2024-03-02T22:02:38.030Z"
   },
   {
    "duration": 44,
    "start_time": "2024-03-02T22:02:58.845Z"
   },
   {
    "duration": 110,
    "start_time": "2024-03-02T22:02:58.892Z"
   },
   {
    "duration": 73,
    "start_time": "2024-03-02T22:02:59.004Z"
   },
   {
    "duration": 24,
    "start_time": "2024-03-02T22:02:59.079Z"
   },
   {
    "duration": 212,
    "start_time": "2024-03-02T22:02:59.105Z"
   },
   {
    "duration": 2,
    "start_time": "2024-03-02T22:02:59.319Z"
   },
   {
    "duration": 5311,
    "start_time": "2024-03-02T22:02:59.322Z"
   },
   {
    "duration": 7008,
    "start_time": "2024-03-02T22:03:04.635Z"
   },
   {
    "duration": 5,
    "start_time": "2024-03-02T22:03:11.644Z"
   },
   {
    "duration": 278664,
    "start_time": "2024-03-02T22:03:11.651Z"
   },
   {
    "duration": 18,
    "start_time": "2024-03-02T22:07:50.316Z"
   },
   {
    "duration": 7,
    "start_time": "2024-03-02T22:07:50.335Z"
   },
   {
    "duration": 29,
    "start_time": "2024-03-02T22:07:50.344Z"
   },
   {
    "duration": 23,
    "start_time": "2024-03-02T22:07:50.383Z"
   },
   {
    "duration": 18,
    "start_time": "2024-03-02T22:11:56.192Z"
   },
   {
    "duration": 13,
    "start_time": "2024-03-02T22:13:20.849Z"
   },
   {
    "duration": 30,
    "start_time": "2024-03-02T22:13:46.187Z"
   },
   {
    "duration": 22,
    "start_time": "2024-03-02T22:14:43.320Z"
   },
   {
    "duration": 143,
    "start_time": "2024-03-02T22:16:57.668Z"
   },
   {
    "duration": 19,
    "start_time": "2024-03-02T22:17:15.598Z"
   },
   {
    "duration": 19,
    "start_time": "2024-03-02T22:18:09.900Z"
   },
   {
    "duration": 25,
    "start_time": "2024-03-02T22:18:22.985Z"
   },
   {
    "duration": 22,
    "start_time": "2024-03-02T22:19:14.893Z"
   },
   {
    "duration": 36,
    "start_time": "2024-03-02T22:19:50.647Z"
   },
   {
    "duration": 33,
    "start_time": "2024-03-02T22:21:32.456Z"
   },
   {
    "duration": 20,
    "start_time": "2024-03-02T22:22:29.221Z"
   },
   {
    "duration": 10532,
    "start_time": "2024-03-02T22:24:20.983Z"
   },
   {
    "duration": 1536,
    "start_time": "2024-03-02T22:24:31.517Z"
   },
   {
    "duration": 949,
    "start_time": "2024-03-02T22:24:33.055Z"
   },
   {
    "duration": 34,
    "start_time": "2024-03-02T22:24:34.006Z"
   },
   {
    "duration": 39,
    "start_time": "2024-03-02T22:24:34.042Z"
   },
   {
    "duration": 24,
    "start_time": "2024-03-02T22:24:34.083Z"
   },
   {
    "duration": 239,
    "start_time": "2024-03-02T22:24:34.109Z"
   },
   {
    "duration": 82,
    "start_time": "2024-03-02T22:24:34.350Z"
   },
   {
    "duration": 270,
    "start_time": "2024-03-02T22:24:34.434Z"
   },
   {
    "duration": 3,
    "start_time": "2024-03-02T22:24:34.707Z"
   },
   {
    "duration": 59,
    "start_time": "2024-03-02T22:24:34.712Z"
   },
   {
    "duration": 25936,
    "start_time": "2024-03-04T09:42:26.765Z"
   },
   {
    "duration": 1413,
    "start_time": "2024-03-04T09:42:52.703Z"
   },
   {
    "duration": 2050,
    "start_time": "2024-03-04T09:42:54.118Z"
   },
   {
    "duration": 23,
    "start_time": "2024-03-04T09:43:45.210Z"
   },
   {
    "duration": 10,
    "start_time": "2024-03-04T09:43:50.198Z"
   },
   {
    "duration": 751,
    "start_time": "2024-03-04T09:45:25.958Z"
   },
   {
    "duration": 23,
    "start_time": "2024-03-04T09:45:43.906Z"
   },
   {
    "duration": 7,
    "start_time": "2024-03-04T09:45:46.995Z"
   },
   {
    "duration": 211,
    "start_time": "2024-03-04T09:47:20.033Z"
   },
   {
    "duration": 65,
    "start_time": "2024-03-04T09:47:22.795Z"
   },
   {
    "duration": 134,
    "start_time": "2024-03-04T09:47:29.412Z"
   },
   {
    "duration": 2,
    "start_time": "2024-03-04T09:50:44.350Z"
   },
   {
    "duration": 26,
    "start_time": "2024-03-04T09:50:46.833Z"
   },
   {
    "duration": 91,
    "start_time": "2024-03-04T09:53:10.648Z"
   },
   {
    "duration": 64,
    "start_time": "2024-03-04T09:53:32.919Z"
   },
   {
    "duration": 4,
    "start_time": "2024-03-04T09:53:39.534Z"
   },
   {
    "duration": 3,
    "start_time": "2024-03-04T09:54:16.975Z"
   },
   {
    "duration": 121,
    "start_time": "2024-03-04T09:54:57.965Z"
   },
   {
    "duration": 91,
    "start_time": "2024-03-04T09:56:42.145Z"
   },
   {
    "duration": 4,
    "start_time": "2024-03-04T09:58:36.621Z"
   },
   {
    "duration": 3,
    "start_time": "2024-03-04T09:58:40.846Z"
   },
   {
    "duration": 145,
    "start_time": "2024-03-04T10:08:16.233Z"
   },
   {
    "duration": 3,
    "start_time": "2024-03-04T10:08:20.674Z"
   },
   {
    "duration": 92,
    "start_time": "2024-03-04T10:08:27.613Z"
   },
   {
    "duration": 3,
    "start_time": "2024-03-04T10:08:32.134Z"
   },
   {
    "duration": 9,
    "start_time": "2024-03-04T10:11:28.378Z"
   },
   {
    "duration": 19937,
    "start_time": "2024-03-04T10:27:29.696Z"
   },
   {
    "duration": 19668,
    "start_time": "2024-03-04T10:28:33.392Z"
   },
   {
    "duration": 2278,
    "start_time": "2024-03-04T10:29:55.881Z"
   },
   {
    "duration": 77,
    "start_time": "2024-03-04T10:33:57.735Z"
   },
   {
    "duration": 339,
    "start_time": "2024-03-04T10:34:02.106Z"
   },
   {
    "duration": 451,
    "start_time": "2024-03-04T10:34:37.121Z"
   },
   {
    "duration": 544,
    "start_time": "2024-03-04T10:36:50.485Z"
   },
   {
    "duration": 379,
    "start_time": "2024-03-04T10:37:03.849Z"
   },
   {
    "duration": 782700,
    "start_time": "2024-03-04T10:42:47.893Z"
   },
   {
    "duration": 25,
    "start_time": "2024-03-04T10:56:22.134Z"
   },
   {
    "duration": 56,
    "start_time": "2024-03-04T10:56:22.182Z"
   },
   {
    "duration": 33,
    "start_time": "2024-03-04T10:56:22.240Z"
   },
   {
    "duration": 27,
    "start_time": "2024-03-04T10:56:22.274Z"
   },
   {
    "duration": 151,
    "start_time": "2024-03-04T10:56:22.303Z"
   },
   {
    "duration": 3,
    "start_time": "2024-03-04T10:56:22.455Z"
   },
   {
    "duration": 4209,
    "start_time": "2024-03-04T10:56:22.458Z"
   },
   {
    "duration": 5608,
    "start_time": "2024-03-04T10:56:26.668Z"
   },
   {
    "duration": 4,
    "start_time": "2024-03-04T10:56:32.277Z"
   },
   {
    "duration": 279128,
    "start_time": "2024-03-04T10:56:32.283Z"
   },
   {
    "duration": 17,
    "start_time": "2024-03-04T11:01:11.412Z"
   },
   {
    "duration": 21,
    "start_time": "2024-03-04T11:01:11.431Z"
   },
   {
    "duration": 15,
    "start_time": "2024-03-04T11:01:11.453Z"
   },
   {
    "duration": 18,
    "start_time": "2024-03-04T11:01:11.470Z"
   },
   {
    "duration": 15525,
    "start_time": "2024-03-04T11:10:46.672Z"
   },
   {
    "duration": 14432,
    "start_time": "2024-03-04T11:11:14.450Z"
   },
   {
    "duration": 14507,
    "start_time": "2024-03-04T11:11:41.721Z"
   },
   {
    "duration": 4,
    "start_time": "2024-03-04T11:17:58.363Z"
   },
   {
    "duration": 3,
    "start_time": "2024-03-04T11:20:51.362Z"
   },
   {
    "duration": 3,
    "start_time": "2024-03-04T11:20:56.581Z"
   },
   {
    "duration": 3,
    "start_time": "2024-03-04T11:21:03.763Z"
   },
   {
    "duration": 3,
    "start_time": "2024-03-04T11:21:09.364Z"
   },
   {
    "duration": 3,
    "start_time": "2024-03-04T11:21:22.613Z"
   },
   {
    "duration": 16,
    "start_time": "2024-03-04T11:49:55.837Z"
   },
   {
    "duration": 24446,
    "start_time": "2024-03-04T11:50:37.129Z"
   },
   {
    "duration": 449,
    "start_time": "2024-03-04T11:51:33.510Z"
   },
   {
    "duration": 102,
    "start_time": "2024-03-04T11:56:33.423Z"
   },
   {
    "duration": 5,
    "start_time": "2024-03-04T12:00:29.988Z"
   },
   {
    "duration": 5,
    "start_time": "2024-03-04T12:00:33.945Z"
   },
   {
    "duration": 37,
    "start_time": "2024-03-04T12:00:42.516Z"
   },
   {
    "duration": 45,
    "start_time": "2024-03-04T18:21:17.893Z"
   },
   {
    "duration": 29858,
    "start_time": "2024-03-04T18:21:30.674Z"
   },
   {
    "duration": 4255,
    "start_time": "2024-03-04T18:22:00.534Z"
   },
   {
    "duration": 2185,
    "start_time": "2024-03-04T18:22:04.790Z"
   },
   {
    "duration": 21,
    "start_time": "2024-03-04T18:22:06.977Z"
   },
   {
    "duration": 11,
    "start_time": "2024-03-04T18:22:07.000Z"
   },
   {
    "duration": 206,
    "start_time": "2024-03-04T18:22:07.012Z"
   },
   {
    "duration": 74,
    "start_time": "2024-03-04T18:22:07.220Z"
   },
   {
    "duration": 165,
    "start_time": "2024-03-04T18:22:07.295Z"
   },
   {
    "duration": 3,
    "start_time": "2024-03-04T18:22:07.461Z"
   },
   {
    "duration": 692,
    "start_time": "2024-03-04T18:22:07.466Z"
   },
   {
    "duration": 323,
    "start_time": "2024-03-04T18:22:08.160Z"
   },
   {
    "duration": 0,
    "start_time": "2024-03-04T18:22:08.485Z"
   },
   {
    "duration": 0,
    "start_time": "2024-03-04T18:22:08.486Z"
   },
   {
    "duration": 0,
    "start_time": "2024-03-04T18:22:08.487Z"
   },
   {
    "duration": 0,
    "start_time": "2024-03-04T18:22:08.488Z"
   },
   {
    "duration": 0,
    "start_time": "2024-03-04T18:22:08.489Z"
   },
   {
    "duration": 0,
    "start_time": "2024-03-04T18:22:08.490Z"
   },
   {
    "duration": 0,
    "start_time": "2024-03-04T18:22:08.491Z"
   },
   {
    "duration": 0,
    "start_time": "2024-03-04T18:22:08.492Z"
   },
   {
    "duration": 0,
    "start_time": "2024-03-04T18:22:08.493Z"
   },
   {
    "duration": 0,
    "start_time": "2024-03-04T18:22:08.494Z"
   },
   {
    "duration": 0,
    "start_time": "2024-03-04T18:22:08.496Z"
   },
   {
    "duration": 0,
    "start_time": "2024-03-04T18:22:08.496Z"
   },
   {
    "duration": 0,
    "start_time": "2024-03-04T18:22:08.497Z"
   },
   {
    "duration": 0,
    "start_time": "2024-03-04T18:22:08.498Z"
   },
   {
    "duration": 30,
    "start_time": "2024-03-04T18:46:09.927Z"
   },
   {
    "duration": 839337,
    "start_time": "2024-03-04T18:46:40.466Z"
   },
   {
    "duration": 31,
    "start_time": "2024-03-04T19:46:45.858Z"
   },
   {
    "duration": 6,
    "start_time": "2024-03-04T20:23:55.095Z"
   },
   {
    "duration": 91,
    "start_time": "2024-03-04T20:33:24.709Z"
   },
   {
    "duration": 5,
    "start_time": "2024-03-04T20:35:02.004Z"
   },
   {
    "duration": 6,
    "start_time": "2024-03-04T20:35:15.847Z"
   },
   {
    "duration": 87,
    "start_time": "2024-03-04T20:35:22.535Z"
   },
   {
    "duration": 158,
    "start_time": "2024-03-04T20:36:15.980Z"
   },
   {
    "duration": 95,
    "start_time": "2024-03-04T20:36:20.405Z"
   },
   {
    "duration": 86,
    "start_time": "2024-03-04T20:40:10.624Z"
   },
   {
    "duration": 99,
    "start_time": "2024-03-04T22:02:04.576Z"
   },
   {
    "duration": 78,
    "start_time": "2024-03-04T22:02:35.258Z"
   },
   {
    "duration": 44,
    "start_time": "2024-03-04T22:02:39.313Z"
   },
   {
    "duration": 22,
    "start_time": "2024-03-04T22:02:42.244Z"
   },
   {
    "duration": 152,
    "start_time": "2024-03-04T22:03:22.161Z"
   },
   {
    "duration": 105,
    "start_time": "2024-03-04T22:05:29.704Z"
   },
   {
    "duration": 6,
    "start_time": "2024-03-04T22:07:53.626Z"
   },
   {
    "duration": 5,
    "start_time": "2024-03-04T22:08:50.471Z"
   },
   {
    "duration": 74,
    "start_time": "2024-03-04T22:08:59.126Z"
   },
   {
    "duration": 102,
    "start_time": "2024-03-04T22:10:30.584Z"
   },
   {
    "duration": 2,
    "start_time": "2024-03-04T22:13:44.662Z"
   },
   {
    "duration": 113,
    "start_time": "2024-03-04T22:13:48.204Z"
   },
   {
    "duration": 73,
    "start_time": "2024-03-04T22:17:40.726Z"
   },
   {
    "duration": 111,
    "start_time": "2024-03-04T22:19:57.106Z"
   },
   {
    "duration": 105,
    "start_time": "2024-03-04T22:20:08.479Z"
   },
   {
    "duration": 3949,
    "start_time": "2024-03-04T22:20:34.687Z"
   },
   {
    "duration": 2,
    "start_time": "2024-03-04T22:21:11.865Z"
   },
   {
    "duration": 14,
    "start_time": "2024-03-04T22:21:13.736Z"
   },
   {
    "duration": 5,
    "start_time": "2024-03-04T22:21:34.674Z"
   },
   {
    "duration": 2,
    "start_time": "2024-03-04T22:21:36.376Z"
   },
   {
    "duration": 4560,
    "start_time": "2024-03-04T22:21:37.507Z"
   },
   {
    "duration": 5664,
    "start_time": "2024-03-04T22:21:44.258Z"
   },
   {
    "duration": 4,
    "start_time": "2024-03-04T22:21:53.056Z"
   },
   {
    "duration": 255040,
    "start_time": "2024-03-04T22:22:04.907Z"
   },
   {
    "duration": 19,
    "start_time": "2024-03-04T22:28:30.204Z"
   },
   {
    "duration": 6,
    "start_time": "2024-03-04T22:28:34.955Z"
   },
   {
    "duration": 15,
    "start_time": "2024-03-04T22:28:37.347Z"
   },
   {
    "duration": 19,
    "start_time": "2024-03-04T22:29:52.360Z"
   },
   {
    "duration": 5338,
    "start_time": "2024-03-07T14:21:25.787Z"
   },
   {
    "duration": 35780,
    "start_time": "2024-03-07T14:21:53.608Z"
   },
   {
    "duration": 271,
    "start_time": "2024-03-07T14:22:29.390Z"
   },
   {
    "duration": 0,
    "start_time": "2024-03-07T14:22:29.663Z"
   },
   {
    "duration": 0,
    "start_time": "2024-03-07T14:22:29.664Z"
   },
   {
    "duration": 0,
    "start_time": "2024-03-07T14:22:29.665Z"
   },
   {
    "duration": 0,
    "start_time": "2024-03-07T14:22:29.666Z"
   },
   {
    "duration": 0,
    "start_time": "2024-03-07T14:22:29.673Z"
   },
   {
    "duration": 0,
    "start_time": "2024-03-07T14:22:29.674Z"
   },
   {
    "duration": 0,
    "start_time": "2024-03-07T14:22:29.675Z"
   },
   {
    "duration": 0,
    "start_time": "2024-03-07T14:22:29.676Z"
   },
   {
    "duration": 0,
    "start_time": "2024-03-07T14:22:29.677Z"
   },
   {
    "duration": 0,
    "start_time": "2024-03-07T14:22:29.678Z"
   },
   {
    "duration": 25667,
    "start_time": "2024-03-07T14:23:35.399Z"
   },
   {
    "duration": 4660,
    "start_time": "2024-03-07T14:24:01.069Z"
   },
   {
    "duration": 3261,
    "start_time": "2024-03-07T14:24:05.731Z"
   },
   {
    "duration": 32,
    "start_time": "2024-03-07T14:24:08.994Z"
   },
   {
    "duration": 12,
    "start_time": "2024-03-07T14:24:09.028Z"
   },
   {
    "duration": 257,
    "start_time": "2024-03-07T14:24:09.042Z"
   },
   {
    "duration": 90,
    "start_time": "2024-03-07T14:24:09.301Z"
   },
   {
    "duration": 188,
    "start_time": "2024-03-07T14:24:09.393Z"
   },
   {
    "duration": 3,
    "start_time": "2024-03-07T14:24:09.583Z"
   },
   {
    "duration": 36,
    "start_time": "2024-03-07T14:24:09.588Z"
   },
   {
    "duration": 747,
    "start_time": "2024-03-07T14:24:09.626Z"
   },
   {
    "duration": 1052581,
    "start_time": "2024-03-07T14:24:10.375Z"
   },
   {
    "duration": 40,
    "start_time": "2024-03-07T14:41:42.958Z"
   },
   {
    "duration": 110,
    "start_time": "2024-03-07T14:41:43.000Z"
   },
   {
    "duration": 49,
    "start_time": "2024-03-07T14:41:43.111Z"
   },
   {
    "duration": 32,
    "start_time": "2024-03-07T14:41:43.162Z"
   },
   {
    "duration": 167,
    "start_time": "2024-03-07T14:41:43.196Z"
   },
   {
    "duration": 3,
    "start_time": "2024-03-07T14:41:43.365Z"
   },
   {
    "duration": 5607,
    "start_time": "2024-03-07T14:41:43.369Z"
   },
   {
    "duration": 7092,
    "start_time": "2024-03-07T14:41:48.978Z"
   },
   {
    "duration": 6,
    "start_time": "2024-03-07T14:41:56.072Z"
   },
   {
    "duration": 293818,
    "start_time": "2024-03-07T14:41:56.080Z"
   },
   {
    "duration": 22,
    "start_time": "2024-03-07T14:46:49.900Z"
   },
   {
    "duration": 7,
    "start_time": "2024-03-07T14:46:49.923Z"
   },
   {
    "duration": 43,
    "start_time": "2024-03-07T14:46:49.931Z"
   },
   {
    "duration": 22,
    "start_time": "2024-03-07T14:46:49.976Z"
   },
   {
    "duration": 35930,
    "start_time": "2024-03-07T19:44:23.247Z"
   },
   {
    "duration": 414,
    "start_time": "2024-03-07T19:50:35.411Z"
   },
   {
    "duration": 281,
    "start_time": "2024-03-07T19:51:16.414Z"
   },
   {
    "duration": 127,
    "start_time": "2024-03-07T20:00:44.434Z"
   },
   {
    "duration": 53,
    "start_time": "2024-03-07T20:00:44.563Z"
   },
   {
    "duration": 27,
    "start_time": "2024-03-07T20:00:44.618Z"
   },
   {
    "duration": 244,
    "start_time": "2024-03-07T20:00:44.647Z"
   },
   {
    "duration": 14,
    "start_time": "2024-03-07T20:00:44.893Z"
   },
   {
    "duration": 5753,
    "start_time": "2024-03-07T20:00:44.908Z"
   },
   {
    "duration": 7472,
    "start_time": "2024-03-07T20:00:50.663Z"
   },
   {
    "duration": 5,
    "start_time": "2024-03-07T20:00:58.137Z"
   },
   {
    "duration": 292369,
    "start_time": "2024-03-07T20:00:58.144Z"
   },
   {
    "duration": 23,
    "start_time": "2024-03-07T20:05:50.515Z"
   },
   {
    "duration": 9,
    "start_time": "2024-03-07T20:05:50.540Z"
   },
   {
    "duration": 39,
    "start_time": "2024-03-07T20:05:50.551Z"
   },
   {
    "duration": 33,
    "start_time": "2024-03-07T20:05:50.592Z"
   },
   {
    "duration": 179,
    "start_time": "2024-03-07T20:16:32.467Z"
   },
   {
    "duration": 33,
    "start_time": "2024-03-07T20:17:35.879Z"
   },
   {
    "duration": 21,
    "start_time": "2024-03-07T20:19:53.359Z"
   },
   {
    "duration": 7,
    "start_time": "2024-03-07T20:20:20.681Z"
   },
   {
    "duration": 30,
    "start_time": "2024-03-07T20:20:32.313Z"
   },
   {
    "duration": 30,
    "start_time": "2024-03-07T20:29:58.457Z"
   },
   {
    "duration": 17,
    "start_time": "2024-03-07T20:33:08.491Z"
   },
   {
    "duration": 17,
    "start_time": "2024-03-07T20:34:14.647Z"
   },
   {
    "duration": 24,
    "start_time": "2024-03-07T20:34:23.919Z"
   },
   {
    "duration": 18,
    "start_time": "2024-03-07T20:34:35.954Z"
   },
   {
    "duration": 24,
    "start_time": "2024-03-07T20:35:00.898Z"
   },
   {
    "duration": 26,
    "start_time": "2024-03-07T20:38:17.349Z"
   },
   {
    "duration": 20,
    "start_time": "2024-03-07T20:46:39.735Z"
   },
   {
    "duration": 23,
    "start_time": "2024-03-07T21:09:48.467Z"
   },
   {
    "duration": 32992,
    "start_time": "2024-03-07T21:31:04.489Z"
   },
   {
    "duration": 4531,
    "start_time": "2024-03-07T21:31:37.484Z"
   },
   {
    "duration": 967,
    "start_time": "2024-03-07T21:31:42.016Z"
   },
   {
    "duration": 28,
    "start_time": "2024-03-07T21:31:42.985Z"
   },
   {
    "duration": 13,
    "start_time": "2024-03-07T21:31:43.016Z"
   },
   {
    "duration": 252,
    "start_time": "2024-03-07T21:31:43.031Z"
   },
   {
    "duration": 74,
    "start_time": "2024-03-07T21:31:43.285Z"
   },
   {
    "duration": 185,
    "start_time": "2024-03-07T21:31:43.360Z"
   },
   {
    "duration": 3,
    "start_time": "2024-03-07T21:31:43.547Z"
   },
   {
    "duration": 45,
    "start_time": "2024-03-07T21:31:43.551Z"
   },
   {
    "duration": 752,
    "start_time": "2024-03-07T21:31:43.598Z"
   },
   {
    "duration": 1027175,
    "start_time": "2024-03-07T21:31:44.352Z"
   },
   {
    "duration": 213,
    "start_time": "2024-03-07T21:48:51.529Z"
   },
   {
    "duration": 95,
    "start_time": "2024-03-07T21:48:51.745Z"
   },
   {
    "duration": 52,
    "start_time": "2024-03-07T21:48:51.842Z"
   },
   {
    "duration": 22,
    "start_time": "2024-03-07T21:48:51.896Z"
   },
   {
    "duration": 151,
    "start_time": "2024-03-07T21:48:51.919Z"
   },
   {
    "duration": 4,
    "start_time": "2024-03-07T21:48:52.072Z"
   },
   {
    "duration": 5408,
    "start_time": "2024-03-07T21:48:52.078Z"
   },
   {
    "duration": 6932,
    "start_time": "2024-03-07T21:48:57.488Z"
   },
   {
    "duration": 5,
    "start_time": "2024-03-07T21:49:04.422Z"
   },
   {
    "duration": 289911,
    "start_time": "2024-03-07T21:49:04.428Z"
   },
   {
    "duration": 33,
    "start_time": "2024-03-07T21:53:54.340Z"
   },
   {
    "duration": 6,
    "start_time": "2024-03-07T21:53:54.375Z"
   },
   {
    "duration": 16,
    "start_time": "2024-03-07T21:53:54.383Z"
   },
   {
    "duration": 20,
    "start_time": "2024-03-07T21:53:54.401Z"
   },
   {
    "duration": 50873,
    "start_time": "2024-03-08T15:03:03.019Z"
   },
   {
    "duration": 4984,
    "start_time": "2024-03-08T15:03:53.895Z"
   },
   {
    "duration": 3353,
    "start_time": "2024-03-08T15:03:58.881Z"
   },
   {
    "duration": 32,
    "start_time": "2024-03-08T15:04:02.236Z"
   },
   {
    "duration": 48,
    "start_time": "2024-03-08T15:04:02.270Z"
   },
   {
    "duration": 243,
    "start_time": "2024-03-08T15:04:02.319Z"
   },
   {
    "duration": 75,
    "start_time": "2024-03-08T15:04:02.564Z"
   },
   {
    "duration": 354,
    "start_time": "2024-03-08T15:04:02.640Z"
   },
   {
    "duration": 3,
    "start_time": "2024-03-08T15:04:02.995Z"
   },
   {
    "duration": 56,
    "start_time": "2024-03-08T15:04:03.001Z"
   },
   {
    "duration": 602,
    "start_time": "2024-03-08T15:04:03.059Z"
   },
   {
    "duration": 1089683,
    "start_time": "2024-03-08T15:04:03.663Z"
   },
   {
    "duration": 1044841,
    "start_time": "2024-03-08T15:22:13.348Z"
   },
   {
    "duration": 234,
    "start_time": "2024-03-08T15:39:38.190Z"
   },
   {
    "duration": 101,
    "start_time": "2024-03-08T15:39:38.425Z"
   },
   {
    "duration": 62,
    "start_time": "2024-03-08T15:39:38.527Z"
   },
   {
    "duration": 27,
    "start_time": "2024-03-08T15:39:38.590Z"
   },
   {
    "duration": 215,
    "start_time": "2024-03-08T15:39:38.619Z"
   },
   {
    "duration": 877,
    "start_time": "2024-03-08T16:19:15.015Z"
   },
   {
    "duration": 653991,
    "start_time": "2024-03-08T16:22:02.640Z"
   },
   {
    "duration": 26,
    "start_time": "2024-03-08T16:34:04.008Z"
   },
   {
    "duration": 23,
    "start_time": "2024-03-08T16:34:12.712Z"
   },
   {
    "duration": 19,
    "start_time": "2024-03-08T16:37:29.101Z"
   },
   {
    "duration": 3460,
    "start_time": "2024-03-08T16:42:26.694Z"
   },
   {
    "duration": 24,
    "start_time": "2024-03-08T16:42:37.268Z"
   },
   {
    "duration": 32737,
    "start_time": "2024-03-08T16:44:45.055Z"
   },
   {
    "duration": 4669,
    "start_time": "2024-03-08T16:45:17.797Z"
   },
   {
    "duration": 1016,
    "start_time": "2024-03-08T16:45:22.467Z"
   },
   {
    "duration": 35,
    "start_time": "2024-03-08T16:45:23.485Z"
   },
   {
    "duration": 14,
    "start_time": "2024-03-08T16:45:23.521Z"
   },
   {
    "duration": 264,
    "start_time": "2024-03-08T16:45:23.536Z"
   },
   {
    "duration": 86,
    "start_time": "2024-03-08T16:45:23.802Z"
   },
   {
    "duration": 197,
    "start_time": "2024-03-08T16:45:23.889Z"
   },
   {
    "duration": 3,
    "start_time": "2024-03-08T16:45:24.088Z"
   },
   {
    "duration": 41,
    "start_time": "2024-03-08T16:45:24.095Z"
   },
   {
    "duration": 751,
    "start_time": "2024-03-08T16:45:24.138Z"
   },
   {
    "duration": 1079372,
    "start_time": "2024-03-08T16:45:24.890Z"
   },
   {
    "duration": 230,
    "start_time": "2024-03-08T17:03:24.264Z"
   },
   {
    "duration": 98,
    "start_time": "2024-03-08T17:03:24.496Z"
   },
   {
    "duration": 52,
    "start_time": "2024-03-08T17:03:24.596Z"
   },
   {
    "duration": 36,
    "start_time": "2024-03-08T17:03:24.649Z"
   },
   {
    "duration": 161,
    "start_time": "2024-03-08T17:03:24.687Z"
   },
   {
    "duration": 3,
    "start_time": "2024-03-08T17:03:24.850Z"
   },
   {
    "duration": 501666,
    "start_time": "2024-03-08T17:03:24.854Z"
   },
   {
    "duration": 21,
    "start_time": "2024-03-08T17:11:46.522Z"
   },
   {
    "duration": 3361,
    "start_time": "2024-03-08T17:11:46.544Z"
   },
   {
    "duration": 19,
    "start_time": "2024-03-08T17:11:49.906Z"
   },
   {
    "duration": 48,
    "start_time": "2024-03-08T17:11:49.928Z"
   },
   {
    "duration": 501,
    "start_time": "2024-03-08T17:16:59.568Z"
   },
   {
    "duration": 56,
    "start_time": "2024-03-08T17:17:34.147Z"
   },
   {
    "duration": 62,
    "start_time": "2024-03-08T17:18:18.893Z"
   },
   {
    "duration": 56,
    "start_time": "2024-03-08T17:20:15.348Z"
   },
   {
    "duration": 53,
    "start_time": "2024-03-08T17:20:31.442Z"
   },
   {
    "duration": 51,
    "start_time": "2024-03-08T17:22:46.220Z"
   },
   {
    "duration": 203,
    "start_time": "2024-03-08T17:26:14.312Z"
   },
   {
    "duration": 214,
    "start_time": "2024-03-08T17:27:21.389Z"
   },
   {
    "duration": 130,
    "start_time": "2024-03-08T17:28:26.056Z"
   },
   {
    "duration": 126,
    "start_time": "2024-03-08T17:28:52.041Z"
   },
   {
    "duration": 7,
    "start_time": "2024-03-08T17:30:59.924Z"
   },
   {
    "duration": 195,
    "start_time": "2024-03-08T17:33:03.306Z"
   },
   {
    "duration": 112,
    "start_time": "2024-03-08T17:33:37.709Z"
   },
   {
    "duration": 202,
    "start_time": "2024-03-08T17:36:18.842Z"
   },
   {
    "duration": 210,
    "start_time": "2024-03-08T17:44:02.736Z"
   },
   {
    "duration": 193,
    "start_time": "2024-03-08T17:45:27.554Z"
   },
   {
    "duration": 233,
    "start_time": "2024-03-08T17:45:39.869Z"
   },
   {
    "duration": 199,
    "start_time": "2024-03-08T17:46:51.633Z"
   },
   {
    "duration": 207,
    "start_time": "2024-03-08T17:48:08.260Z"
   },
   {
    "duration": 209,
    "start_time": "2024-03-08T17:51:54.238Z"
   },
   {
    "duration": 200793,
    "start_time": "2024-03-09T17:56:42.698Z"
   },
   {
    "duration": 4875,
    "start_time": "2024-03-09T18:00:03.494Z"
   },
   {
    "duration": 2399,
    "start_time": "2024-03-09T18:00:08.371Z"
   },
   {
    "duration": 35,
    "start_time": "2024-03-09T18:00:10.773Z"
   },
   {
    "duration": 20,
    "start_time": "2024-03-09T18:00:10.809Z"
   },
   {
    "duration": 247,
    "start_time": "2024-03-09T18:00:10.830Z"
   },
   {
    "duration": 86,
    "start_time": "2024-03-09T18:00:11.078Z"
   },
   {
    "duration": 451,
    "start_time": "2024-03-09T18:00:11.165Z"
   },
   {
    "duration": 6,
    "start_time": "2024-03-09T18:00:11.618Z"
   },
   {
    "duration": 46,
    "start_time": "2024-03-09T18:00:11.626Z"
   },
   {
    "duration": 546,
    "start_time": "2024-03-09T18:00:11.673Z"
   },
   {
    "duration": 1069667,
    "start_time": "2024-03-09T18:00:12.220Z"
   },
   {
    "duration": 254,
    "start_time": "2024-03-09T18:18:01.889Z"
   },
   {
    "duration": 109,
    "start_time": "2024-03-09T18:18:02.145Z"
   },
   {
    "duration": 68,
    "start_time": "2024-03-09T18:18:02.256Z"
   },
   {
    "duration": 73,
    "start_time": "2024-03-09T18:18:02.326Z"
   },
   {
    "duration": 26,
    "start_time": "2024-03-09T18:18:02.401Z"
   },
   {
    "duration": 500998,
    "start_time": "2024-03-09T18:18:02.429Z"
   },
   {
    "duration": 438,
    "start_time": "2024-03-09T18:26:23.429Z"
   },
   {
    "duration": 0,
    "start_time": "2024-03-09T18:26:23.869Z"
   },
   {
    "duration": 0,
    "start_time": "2024-03-09T18:26:23.871Z"
   },
   {
    "duration": 0,
    "start_time": "2024-03-09T18:26:23.873Z"
   },
   {
    "duration": 0,
    "start_time": "2024-03-09T18:26:23.874Z"
   },
   {
    "duration": 73,
    "start_time": "2024-03-09T18:35:20.707Z"
   },
   {
    "duration": 63,
    "start_time": "2024-03-09T18:35:27.368Z"
   },
   {
    "duration": 7,
    "start_time": "2024-03-09T19:10:18.293Z"
   },
   {
    "duration": 108,
    "start_time": "2024-03-09T19:10:23.846Z"
   },
   {
    "duration": 23,
    "start_time": "2024-03-09T19:11:03.527Z"
   },
   {
    "duration": 7,
    "start_time": "2024-03-09T19:11:26.265Z"
   },
   {
    "duration": 3519,
    "start_time": "2024-03-09T19:11:32.319Z"
   },
   {
    "duration": 38,
    "start_time": "2024-03-09T19:15:25.524Z"
   },
   {
    "duration": 58,
    "start_time": "2024-03-09T20:10:29.104Z"
   },
   {
    "duration": 31544,
    "start_time": "2024-03-09T20:10:47.892Z"
   },
   {
    "duration": 5279,
    "start_time": "2024-03-09T20:11:19.439Z"
   },
   {
    "duration": 2430,
    "start_time": "2024-03-09T20:11:24.719Z"
   },
   {
    "duration": 34,
    "start_time": "2024-03-09T20:11:27.151Z"
   },
   {
    "duration": 18,
    "start_time": "2024-03-09T20:11:27.187Z"
   },
   {
    "duration": 233,
    "start_time": "2024-03-09T20:11:27.207Z"
   },
   {
    "duration": 90,
    "start_time": "2024-03-09T20:11:27.442Z"
   },
   {
    "duration": 391,
    "start_time": "2024-03-09T20:11:27.537Z"
   },
   {
    "duration": 3,
    "start_time": "2024-03-09T20:11:27.929Z"
   },
   {
    "duration": 53,
    "start_time": "2024-03-09T20:11:27.935Z"
   },
   {
    "duration": 581,
    "start_time": "2024-03-09T20:11:27.989Z"
   },
   {
    "duration": 1074101,
    "start_time": "2024-03-09T20:11:28.572Z"
   },
   {
    "duration": 249,
    "start_time": "2024-03-09T20:29:22.675Z"
   },
   {
    "duration": 111,
    "start_time": "2024-03-09T20:29:22.926Z"
   },
   {
    "duration": 56,
    "start_time": "2024-03-09T20:29:23.039Z"
   },
   {
    "duration": 44,
    "start_time": "2024-03-09T20:29:23.098Z"
   },
   {
    "duration": 13,
    "start_time": "2024-03-09T20:29:23.144Z"
   },
   {
    "duration": 40238,
    "start_time": "2024-03-10T11:51:13.841Z"
   },
   {
    "duration": 4452,
    "start_time": "2024-03-10T11:51:54.081Z"
   },
   {
    "duration": 3388,
    "start_time": "2024-03-10T11:51:58.535Z"
   },
   {
    "duration": 214,
    "start_time": "2024-03-10T11:52:01.925Z"
   },
   {
    "duration": 20,
    "start_time": "2024-03-10T11:52:02.141Z"
   },
   {
    "duration": 238,
    "start_time": "2024-03-10T11:52:02.163Z"
   },
   {
    "duration": 68,
    "start_time": "2024-03-10T11:52:02.403Z"
   },
   {
    "duration": 196,
    "start_time": "2024-03-10T11:52:02.472Z"
   },
   {
    "duration": 3,
    "start_time": "2024-03-10T11:52:02.669Z"
   },
   {
    "duration": 37,
    "start_time": "2024-03-10T11:52:02.674Z"
   },
   {
    "duration": 559,
    "start_time": "2024-03-10T11:52:02.714Z"
   },
   {
    "duration": 944749,
    "start_time": "2024-03-10T11:52:03.274Z"
   },
   {
    "duration": 242,
    "start_time": "2024-03-10T12:07:48.025Z"
   },
   {
    "duration": 99,
    "start_time": "2024-03-10T12:07:48.269Z"
   },
   {
    "duration": 51,
    "start_time": "2024-03-10T12:07:48.370Z"
   },
   {
    "duration": 21,
    "start_time": "2024-03-10T12:07:48.422Z"
   },
   {
    "duration": 2,
    "start_time": "2024-03-10T12:07:48.459Z"
   },
   {
    "duration": 1456699,
    "start_time": "2024-03-10T12:07:48.463Z"
   },
   {
    "duration": 51,
    "start_time": "2024-03-10T12:32:05.163Z"
   },
   {
    "duration": 0,
    "start_time": "2024-03-10T12:32:05.215Z"
   },
   {
    "duration": 0,
    "start_time": "2024-03-10T12:32:05.216Z"
   },
   {
    "duration": 0,
    "start_time": "2024-03-10T12:32:05.217Z"
   },
   {
    "duration": 144,
    "start_time": "2024-03-10T13:29:06.921Z"
   },
   {
    "duration": 29664,
    "start_time": "2024-03-10T13:30:20.130Z"
   },
   {
    "duration": 5302,
    "start_time": "2024-03-10T13:30:49.796Z"
   },
   {
    "duration": 3320,
    "start_time": "2024-03-10T13:30:55.099Z"
   },
   {
    "duration": 25,
    "start_time": "2024-03-10T13:30:58.421Z"
   },
   {
    "duration": 15,
    "start_time": "2024-03-10T13:30:58.448Z"
   },
   {
    "duration": 213,
    "start_time": "2024-03-10T13:30:58.464Z"
   },
   {
    "duration": 70,
    "start_time": "2024-03-10T13:30:58.678Z"
   },
   {
    "duration": 349,
    "start_time": "2024-03-10T13:30:58.758Z"
   },
   {
    "duration": 3,
    "start_time": "2024-03-10T13:30:59.108Z"
   },
   {
    "duration": 39,
    "start_time": "2024-03-10T13:30:59.113Z"
   },
   {
    "duration": 555,
    "start_time": "2024-03-10T13:30:59.154Z"
   },
   {
    "duration": 948289,
    "start_time": "2024-03-10T13:30:59.711Z"
   },
   {
    "duration": 218,
    "start_time": "2024-03-10T13:46:48.002Z"
   },
   {
    "duration": 96,
    "start_time": "2024-03-10T13:46:48.223Z"
   },
   {
    "duration": 54,
    "start_time": "2024-03-10T13:46:48.321Z"
   },
   {
    "duration": 26,
    "start_time": "2024-03-10T13:46:48.376Z"
   },
   {
    "duration": 3,
    "start_time": "2024-03-10T13:46:48.403Z"
   },
   {
    "duration": 2460,
    "start_time": "2024-03-10T13:46:48.407Z"
   },
   {
    "duration": 19,
    "start_time": "2024-03-10T13:46:50.868Z"
   },
   {
    "duration": 0,
    "start_time": "2024-03-10T13:46:50.888Z"
   },
   {
    "duration": 0,
    "start_time": "2024-03-10T13:46:50.889Z"
   },
   {
    "duration": 0,
    "start_time": "2024-03-10T13:46:50.890Z"
   },
   {
    "duration": 929349,
    "start_time": "2024-03-10T16:54:17.078Z"
   },
   {
    "duration": 25,
    "start_time": "2024-03-10T19:39:02.873Z"
   },
   {
    "duration": 1536,
    "start_time": "2024-03-10T19:39:08.785Z"
   },
   {
    "duration": 1549,
    "start_time": "2024-03-10T19:39:20.663Z"
   },
   {
    "duration": 18,
    "start_time": "2024-03-10T19:39:22.214Z"
   },
   {
    "duration": 31,
    "start_time": "2024-03-10T19:39:22.233Z"
   },
   {
    "duration": 3,
    "start_time": "2024-03-10T19:56:07.945Z"
   },
   {
    "duration": 252227,
    "start_time": "2024-03-10T19:56:07.949Z"
   },
   {
    "duration": 19,
    "start_time": "2024-03-10T20:00:20.178Z"
   },
   {
    "duration": 1564,
    "start_time": "2024-03-10T20:00:20.199Z"
   },
   {
    "duration": 15,
    "start_time": "2024-03-10T20:00:21.765Z"
   },
   {
    "duration": 19,
    "start_time": "2024-03-10T20:00:21.781Z"
   },
   {
    "duration": 20,
    "start_time": "2024-03-10T20:07:44.060Z"
   },
   {
    "duration": 1504,
    "start_time": "2024-03-10T20:07:44.082Z"
   },
   {
    "duration": 16,
    "start_time": "2024-03-10T20:07:45.587Z"
   },
   {
    "duration": 18,
    "start_time": "2024-03-10T20:07:45.605Z"
   },
   {
    "duration": 29447,
    "start_time": "2024-03-10T20:39:37.876Z"
   },
   {
    "duration": 4945,
    "start_time": "2024-03-10T20:40:07.326Z"
   },
   {
    "duration": 3354,
    "start_time": "2024-03-10T20:40:12.272Z"
   },
   {
    "duration": 30,
    "start_time": "2024-03-10T20:40:15.628Z"
   },
   {
    "duration": 17,
    "start_time": "2024-03-10T20:40:15.660Z"
   },
   {
    "duration": 234,
    "start_time": "2024-03-10T20:40:15.679Z"
   },
   {
    "duration": 75,
    "start_time": "2024-03-10T20:40:15.915Z"
   },
   {
    "duration": 349,
    "start_time": "2024-03-10T20:40:15.992Z"
   },
   {
    "duration": 4,
    "start_time": "2024-03-10T20:40:16.343Z"
   },
   {
    "duration": 38,
    "start_time": "2024-03-10T20:40:16.348Z"
   },
   {
    "duration": 572,
    "start_time": "2024-03-10T20:40:16.387Z"
   },
   {
    "duration": 933904,
    "start_time": "2024-03-10T20:40:16.962Z"
   },
   {
    "duration": 229,
    "start_time": "2024-03-10T20:55:50.868Z"
   },
   {
    "duration": 117,
    "start_time": "2024-03-10T20:55:51.099Z"
   },
   {
    "duration": 57,
    "start_time": "2024-03-10T20:55:51.217Z"
   },
   {
    "duration": 26,
    "start_time": "2024-03-10T20:55:51.275Z"
   },
   {
    "duration": 3,
    "start_time": "2024-03-10T20:55:51.303Z"
   },
   {
    "duration": 856928,
    "start_time": "2024-03-10T20:55:51.307Z"
   },
   {
    "duration": 25,
    "start_time": "2024-03-10T21:10:08.237Z"
   },
   {
    "duration": 3015,
    "start_time": "2024-03-10T21:10:08.263Z"
   },
   {
    "duration": 16,
    "start_time": "2024-03-10T21:10:11.279Z"
   },
   {
    "duration": 19,
    "start_time": "2024-03-10T21:10:11.297Z"
   }
  ],
  "kernelspec": {
   "display_name": "practicum_env",
   "language": "python",
   "name": "practicum_env"
  },
  "language_info": {
   "codemirror_mode": {
    "name": "ipython",
    "version": 3
   },
   "file_extension": ".py",
   "mimetype": "text/x-python",
   "name": "python",
   "nbconvert_exporter": "python",
   "pygments_lexer": "ipython3",
   "version": "3.11.0"
  },
  "toc": {
   "base_numbering": 1,
   "nav_menu": {},
   "number_sections": true,
   "sideBar": true,
   "skip_h1_title": true,
   "title_cell": "Содержание",
   "title_sidebar": "Contents",
   "toc_cell": true,
   "toc_position": {
    "height": "calc(100% - 180px)",
    "left": "10px",
    "top": "150px",
    "width": "165.391px"
   },
   "toc_section_display": true,
   "toc_window_display": true
  }
 },
 "nbformat": 4,
 "nbformat_minor": 4
}

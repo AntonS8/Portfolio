{
 "cells": [
  {
   "cell_type": "markdown",
   "id": "9534d181-1854-4a74-a2c5-2773720031e7",
   "metadata": {
    "tags": []
   },
   "source": [
    "# Исследование надежности заемщиков"
   ]
  },
  {
   "cell_type": "markdown",
   "id": "f2632a4b-bcac-4ef6-91c2-47d23d3f2373",
   "metadata": {},
   "source": [
    "## Описание проекта"
   ]
  },
  {
   "cell_type": "markdown",
   "id": "1fe644c0-8d73-485b-be2c-794158d45fe4",
   "metadata": {},
   "source": [
    "Заказчик — кредитный отдел банка. Нужно разобраться, влияет ли семейное положение и количество детей клиента на факт погашения кредита в срок. Исходные данные от банка — статистика о платёжеспособности клиентов.\n",
    "\n",
    "Результаты исследования будут учтены при построении модели кредитного скоринга — специальной системы, которая оценивает способность потенциального заёмщика вернуть кредит банку."
   ]
  },
  {
   "cell_type": "markdown",
   "id": "098da935-8069-4692-b0fe-3a779f698fca",
   "metadata": {},
   "source": [
    "### Исходные данные"
   ]
  },
  {
   "cell_type": "markdown",
   "id": "aa624ab4-70a8-4a1f-955e-aef9351df89c",
   "metadata": {},
   "source": [
    "Компания-заказчик предоставила файл data.csv со следующими данными:\n",
    "\n",
    "- `children` — количество детей в семье\n",
    "- `days_employed` — общий трудовой стаж в днях\n",
    "- `dob_years` — возраст клиента в годах\n",
    "- `education` — уровень образования клиента\n",
    "- `education_id` — идентификатор уровня образования\n",
    "- `family_status` — семейное положение\n",
    "- `family_status_id` — идентификатор семейного положения\n",
    "- `gender` — пол клиента\n",
    "- `income_type` — тип занятости\n",
    "- `debt` — имел ли задолженность по возврату кредитов\n",
    "- `total_income` — ежемесячный доход\n",
    "- `purpose` — цель получения кредита"
   ]
  },
  {
   "cell_type": "markdown",
   "id": "70159253-0c76-4caf-8301-7a98544cac44",
   "metadata": {},
   "source": [
    "### Этапы проекта"
   ]
  },
  {
   "cell_type": "markdown",
   "id": "df8ea815-f5f7-4980-8896-70ebbb0cc9c2",
   "metadata": {},
   "source": [
    "Решать поставленную задачу будем в следующем порядке:\n",
    "1. Загрузим данные, путь к файлу: data.csv.\n",
    "2. Изучим данные. О качестве данных ничего неизвестно. В случае обнаружения аномалий и несоответствий проведем предобработку данных.\n",
    "3. Категоризируем данные.\n",
    "4. Исследуем данные и ответим на следующие вопросы:\n",
    "   - Есть ли зависимость между количеством детей и возвратом кредита в срок?\n",
    "   - Есть ли зависимость между семейным положением и возвратом кредита в срок?\n",
    "   - Есть ли зависимость между уровнем дохода и возвратом кредита в срок?\n",
    "   - Как разные цели кредита влияют на его возврат в срок?\n",
    "   \n",
    "   Дополнительные вопросы:\n",
    "   - Привести возможные причины появления пропусков в исходных данных.\n",
    "   - Объяснить, почему заполнить пропуски медианным значением — лучшее решение для количественных переменных.\n",
    "5. Общий вывод."
   ]
  },
  {
   "cell_type": "markdown",
   "id": "0d2f846d-e728-4ccd-9d59-8ccba2bf2510",
   "metadata": {},
   "source": [
    "## Загрузка данных"
   ]
  },
  {
   "cell_type": "markdown",
   "id": "a66391b7-9337-43ce-a16a-199f18ab22f7",
   "metadata": {},
   "source": [
    "Импортируем библиотеку pandas. Считаем данные из csv-файла в датафрейм и сохраним в переменную `data`."
   ]
  },
  {
   "cell_type": "code",
   "execution_count": 1,
   "id": "393ec498-3cff-41ec-acdd-0f0e0f1b605e",
   "metadata": {},
   "outputs": [],
   "source": [
    "# импортируем необходимые модули\n",
    "import pandas as pd"
   ]
  },
  {
   "cell_type": "code",
   "execution_count": 2,
   "id": "cb573add-2e59-473e-ba1a-91b6cbf00d03",
   "metadata": {},
   "outputs": [],
   "source": [
    "# загружаем данные заказчика\n",
    "data = pd.read_csv('data.csv')"
   ]
  },
  {
   "cell_type": "markdown",
   "id": "44f41bf3-e53b-4c7f-8299-117dcd98034a",
   "metadata": {},
   "source": [
    "Выведем первые 20 строк датафрейма `data` на экран."
   ]
  },
  {
   "cell_type": "code",
   "execution_count": 3,
   "id": "a7df5dec-d307-4370-8f5e-eb9bd3ad0812",
   "metadata": {},
   "outputs": [
    {
     "data": {
      "text/html": [
       "<div>\n",
       "<style scoped>\n",
       "    .dataframe tbody tr th:only-of-type {\n",
       "        vertical-align: middle;\n",
       "    }\n",
       "\n",
       "    .dataframe tbody tr th {\n",
       "        vertical-align: top;\n",
       "    }\n",
       "\n",
       "    .dataframe thead th {\n",
       "        text-align: right;\n",
       "    }\n",
       "</style>\n",
       "<table border=\"1\" class=\"dataframe\">\n",
       "  <thead>\n",
       "    <tr style=\"text-align: right;\">\n",
       "      <th></th>\n",
       "      <th>children</th>\n",
       "      <th>days_employed</th>\n",
       "      <th>dob_years</th>\n",
       "      <th>education</th>\n",
       "      <th>education_id</th>\n",
       "      <th>family_status</th>\n",
       "      <th>family_status_id</th>\n",
       "      <th>gender</th>\n",
       "      <th>income_type</th>\n",
       "      <th>debt</th>\n",
       "      <th>total_income</th>\n",
       "      <th>purpose</th>\n",
       "    </tr>\n",
       "  </thead>\n",
       "  <tbody>\n",
       "    <tr>\n",
       "      <th>0</th>\n",
       "      <td>1</td>\n",
       "      <td>-8437.673028</td>\n",
       "      <td>42</td>\n",
       "      <td>высшее</td>\n",
       "      <td>0</td>\n",
       "      <td>женат / замужем</td>\n",
       "      <td>0</td>\n",
       "      <td>F</td>\n",
       "      <td>сотрудник</td>\n",
       "      <td>0</td>\n",
       "      <td>253875.639453</td>\n",
       "      <td>покупка жилья</td>\n",
       "    </tr>\n",
       "    <tr>\n",
       "      <th>1</th>\n",
       "      <td>1</td>\n",
       "      <td>-4024.803754</td>\n",
       "      <td>36</td>\n",
       "      <td>среднее</td>\n",
       "      <td>1</td>\n",
       "      <td>женат / замужем</td>\n",
       "      <td>0</td>\n",
       "      <td>F</td>\n",
       "      <td>сотрудник</td>\n",
       "      <td>0</td>\n",
       "      <td>112080.014102</td>\n",
       "      <td>приобретение автомобиля</td>\n",
       "    </tr>\n",
       "    <tr>\n",
       "      <th>2</th>\n",
       "      <td>0</td>\n",
       "      <td>-5623.422610</td>\n",
       "      <td>33</td>\n",
       "      <td>Среднее</td>\n",
       "      <td>1</td>\n",
       "      <td>женат / замужем</td>\n",
       "      <td>0</td>\n",
       "      <td>M</td>\n",
       "      <td>сотрудник</td>\n",
       "      <td>0</td>\n",
       "      <td>145885.952297</td>\n",
       "      <td>покупка жилья</td>\n",
       "    </tr>\n",
       "    <tr>\n",
       "      <th>3</th>\n",
       "      <td>3</td>\n",
       "      <td>-4124.747207</td>\n",
       "      <td>32</td>\n",
       "      <td>среднее</td>\n",
       "      <td>1</td>\n",
       "      <td>женат / замужем</td>\n",
       "      <td>0</td>\n",
       "      <td>M</td>\n",
       "      <td>сотрудник</td>\n",
       "      <td>0</td>\n",
       "      <td>267628.550329</td>\n",
       "      <td>дополнительное образование</td>\n",
       "    </tr>\n",
       "    <tr>\n",
       "      <th>4</th>\n",
       "      <td>0</td>\n",
       "      <td>340266.072047</td>\n",
       "      <td>53</td>\n",
       "      <td>среднее</td>\n",
       "      <td>1</td>\n",
       "      <td>гражданский брак</td>\n",
       "      <td>1</td>\n",
       "      <td>F</td>\n",
       "      <td>пенсионер</td>\n",
       "      <td>0</td>\n",
       "      <td>158616.077870</td>\n",
       "      <td>сыграть свадьбу</td>\n",
       "    </tr>\n",
       "    <tr>\n",
       "      <th>5</th>\n",
       "      <td>0</td>\n",
       "      <td>-926.185831</td>\n",
       "      <td>27</td>\n",
       "      <td>высшее</td>\n",
       "      <td>0</td>\n",
       "      <td>гражданский брак</td>\n",
       "      <td>1</td>\n",
       "      <td>M</td>\n",
       "      <td>компаньон</td>\n",
       "      <td>0</td>\n",
       "      <td>255763.565419</td>\n",
       "      <td>покупка жилья</td>\n",
       "    </tr>\n",
       "    <tr>\n",
       "      <th>6</th>\n",
       "      <td>0</td>\n",
       "      <td>-2879.202052</td>\n",
       "      <td>43</td>\n",
       "      <td>высшее</td>\n",
       "      <td>0</td>\n",
       "      <td>женат / замужем</td>\n",
       "      <td>0</td>\n",
       "      <td>F</td>\n",
       "      <td>компаньон</td>\n",
       "      <td>0</td>\n",
       "      <td>240525.971920</td>\n",
       "      <td>операции с жильем</td>\n",
       "    </tr>\n",
       "    <tr>\n",
       "      <th>7</th>\n",
       "      <td>0</td>\n",
       "      <td>-152.779569</td>\n",
       "      <td>50</td>\n",
       "      <td>СРЕДНЕЕ</td>\n",
       "      <td>1</td>\n",
       "      <td>женат / замужем</td>\n",
       "      <td>0</td>\n",
       "      <td>M</td>\n",
       "      <td>сотрудник</td>\n",
       "      <td>0</td>\n",
       "      <td>135823.934197</td>\n",
       "      <td>образование</td>\n",
       "    </tr>\n",
       "    <tr>\n",
       "      <th>8</th>\n",
       "      <td>2</td>\n",
       "      <td>-6929.865299</td>\n",
       "      <td>35</td>\n",
       "      <td>ВЫСШЕЕ</td>\n",
       "      <td>0</td>\n",
       "      <td>гражданский брак</td>\n",
       "      <td>1</td>\n",
       "      <td>F</td>\n",
       "      <td>сотрудник</td>\n",
       "      <td>0</td>\n",
       "      <td>95856.832424</td>\n",
       "      <td>на проведение свадьбы</td>\n",
       "    </tr>\n",
       "    <tr>\n",
       "      <th>9</th>\n",
       "      <td>0</td>\n",
       "      <td>-2188.756445</td>\n",
       "      <td>41</td>\n",
       "      <td>среднее</td>\n",
       "      <td>1</td>\n",
       "      <td>женат / замужем</td>\n",
       "      <td>0</td>\n",
       "      <td>M</td>\n",
       "      <td>сотрудник</td>\n",
       "      <td>0</td>\n",
       "      <td>144425.938277</td>\n",
       "      <td>покупка жилья для семьи</td>\n",
       "    </tr>\n",
       "    <tr>\n",
       "      <th>10</th>\n",
       "      <td>2</td>\n",
       "      <td>-4171.483647</td>\n",
       "      <td>36</td>\n",
       "      <td>высшее</td>\n",
       "      <td>0</td>\n",
       "      <td>женат / замужем</td>\n",
       "      <td>0</td>\n",
       "      <td>M</td>\n",
       "      <td>компаньон</td>\n",
       "      <td>0</td>\n",
       "      <td>113943.491460</td>\n",
       "      <td>покупка недвижимости</td>\n",
       "    </tr>\n",
       "    <tr>\n",
       "      <th>11</th>\n",
       "      <td>0</td>\n",
       "      <td>-792.701887</td>\n",
       "      <td>40</td>\n",
       "      <td>среднее</td>\n",
       "      <td>1</td>\n",
       "      <td>женат / замужем</td>\n",
       "      <td>0</td>\n",
       "      <td>F</td>\n",
       "      <td>сотрудник</td>\n",
       "      <td>0</td>\n",
       "      <td>77069.234271</td>\n",
       "      <td>покупка коммерческой недвижимости</td>\n",
       "    </tr>\n",
       "    <tr>\n",
       "      <th>12</th>\n",
       "      <td>0</td>\n",
       "      <td>NaN</td>\n",
       "      <td>65</td>\n",
       "      <td>среднее</td>\n",
       "      <td>1</td>\n",
       "      <td>гражданский брак</td>\n",
       "      <td>1</td>\n",
       "      <td>M</td>\n",
       "      <td>пенсионер</td>\n",
       "      <td>0</td>\n",
       "      <td>NaN</td>\n",
       "      <td>сыграть свадьбу</td>\n",
       "    </tr>\n",
       "    <tr>\n",
       "      <th>13</th>\n",
       "      <td>0</td>\n",
       "      <td>-1846.641941</td>\n",
       "      <td>54</td>\n",
       "      <td>неоконченное высшее</td>\n",
       "      <td>2</td>\n",
       "      <td>женат / замужем</td>\n",
       "      <td>0</td>\n",
       "      <td>F</td>\n",
       "      <td>сотрудник</td>\n",
       "      <td>0</td>\n",
       "      <td>130458.228857</td>\n",
       "      <td>приобретение автомобиля</td>\n",
       "    </tr>\n",
       "    <tr>\n",
       "      <th>14</th>\n",
       "      <td>0</td>\n",
       "      <td>-1844.956182</td>\n",
       "      <td>56</td>\n",
       "      <td>высшее</td>\n",
       "      <td>0</td>\n",
       "      <td>гражданский брак</td>\n",
       "      <td>1</td>\n",
       "      <td>F</td>\n",
       "      <td>компаньон</td>\n",
       "      <td>1</td>\n",
       "      <td>165127.911772</td>\n",
       "      <td>покупка жилой недвижимости</td>\n",
       "    </tr>\n",
       "    <tr>\n",
       "      <th>15</th>\n",
       "      <td>1</td>\n",
       "      <td>-972.364419</td>\n",
       "      <td>26</td>\n",
       "      <td>среднее</td>\n",
       "      <td>1</td>\n",
       "      <td>женат / замужем</td>\n",
       "      <td>0</td>\n",
       "      <td>F</td>\n",
       "      <td>сотрудник</td>\n",
       "      <td>0</td>\n",
       "      <td>116820.904450</td>\n",
       "      <td>строительство собственной недвижимости</td>\n",
       "    </tr>\n",
       "    <tr>\n",
       "      <th>16</th>\n",
       "      <td>0</td>\n",
       "      <td>-1719.934226</td>\n",
       "      <td>35</td>\n",
       "      <td>среднее</td>\n",
       "      <td>1</td>\n",
       "      <td>женат / замужем</td>\n",
       "      <td>0</td>\n",
       "      <td>F</td>\n",
       "      <td>сотрудник</td>\n",
       "      <td>0</td>\n",
       "      <td>289202.704229</td>\n",
       "      <td>недвижимость</td>\n",
       "    </tr>\n",
       "    <tr>\n",
       "      <th>17</th>\n",
       "      <td>0</td>\n",
       "      <td>-2369.999720</td>\n",
       "      <td>33</td>\n",
       "      <td>высшее</td>\n",
       "      <td>0</td>\n",
       "      <td>гражданский брак</td>\n",
       "      <td>1</td>\n",
       "      <td>M</td>\n",
       "      <td>сотрудник</td>\n",
       "      <td>0</td>\n",
       "      <td>90410.586745</td>\n",
       "      <td>строительство недвижимости</td>\n",
       "    </tr>\n",
       "    <tr>\n",
       "      <th>18</th>\n",
       "      <td>0</td>\n",
       "      <td>400281.136913</td>\n",
       "      <td>53</td>\n",
       "      <td>среднее</td>\n",
       "      <td>1</td>\n",
       "      <td>вдовец / вдова</td>\n",
       "      <td>2</td>\n",
       "      <td>F</td>\n",
       "      <td>пенсионер</td>\n",
       "      <td>0</td>\n",
       "      <td>56823.777243</td>\n",
       "      <td>на покупку подержанного автомобиля</td>\n",
       "    </tr>\n",
       "    <tr>\n",
       "      <th>19</th>\n",
       "      <td>0</td>\n",
       "      <td>-10038.818549</td>\n",
       "      <td>48</td>\n",
       "      <td>СРЕДНЕЕ</td>\n",
       "      <td>1</td>\n",
       "      <td>в разводе</td>\n",
       "      <td>3</td>\n",
       "      <td>F</td>\n",
       "      <td>сотрудник</td>\n",
       "      <td>0</td>\n",
       "      <td>242831.107982</td>\n",
       "      <td>на покупку своего автомобиля</td>\n",
       "    </tr>\n",
       "  </tbody>\n",
       "</table>\n",
       "</div>"
      ],
      "text/plain": [
       "    children  days_employed  dob_years            education  education_id  \\\n",
       "0          1   -8437.673028         42               высшее             0   \n",
       "1          1   -4024.803754         36              среднее             1   \n",
       "2          0   -5623.422610         33              Среднее             1   \n",
       "3          3   -4124.747207         32              среднее             1   \n",
       "4          0  340266.072047         53              среднее             1   \n",
       "5          0    -926.185831         27               высшее             0   \n",
       "6          0   -2879.202052         43               высшее             0   \n",
       "7          0    -152.779569         50              СРЕДНЕЕ             1   \n",
       "8          2   -6929.865299         35               ВЫСШЕЕ             0   \n",
       "9          0   -2188.756445         41              среднее             1   \n",
       "10         2   -4171.483647         36               высшее             0   \n",
       "11         0    -792.701887         40              среднее             1   \n",
       "12         0            NaN         65              среднее             1   \n",
       "13         0   -1846.641941         54  неоконченное высшее             2   \n",
       "14         0   -1844.956182         56               высшее             0   \n",
       "15         1    -972.364419         26              среднее             1   \n",
       "16         0   -1719.934226         35              среднее             1   \n",
       "17         0   -2369.999720         33               высшее             0   \n",
       "18         0  400281.136913         53              среднее             1   \n",
       "19         0  -10038.818549         48              СРЕДНЕЕ             1   \n",
       "\n",
       "       family_status  family_status_id gender income_type  debt  \\\n",
       "0    женат / замужем                 0      F   сотрудник     0   \n",
       "1    женат / замужем                 0      F   сотрудник     0   \n",
       "2    женат / замужем                 0      M   сотрудник     0   \n",
       "3    женат / замужем                 0      M   сотрудник     0   \n",
       "4   гражданский брак                 1      F   пенсионер     0   \n",
       "5   гражданский брак                 1      M   компаньон     0   \n",
       "6    женат / замужем                 0      F   компаньон     0   \n",
       "7    женат / замужем                 0      M   сотрудник     0   \n",
       "8   гражданский брак                 1      F   сотрудник     0   \n",
       "9    женат / замужем                 0      M   сотрудник     0   \n",
       "10   женат / замужем                 0      M   компаньон     0   \n",
       "11   женат / замужем                 0      F   сотрудник     0   \n",
       "12  гражданский брак                 1      M   пенсионер     0   \n",
       "13   женат / замужем                 0      F   сотрудник     0   \n",
       "14  гражданский брак                 1      F   компаньон     1   \n",
       "15   женат / замужем                 0      F   сотрудник     0   \n",
       "16   женат / замужем                 0      F   сотрудник     0   \n",
       "17  гражданский брак                 1      M   сотрудник     0   \n",
       "18    вдовец / вдова                 2      F   пенсионер     0   \n",
       "19         в разводе                 3      F   сотрудник     0   \n",
       "\n",
       "     total_income                                 purpose  \n",
       "0   253875.639453                           покупка жилья  \n",
       "1   112080.014102                 приобретение автомобиля  \n",
       "2   145885.952297                           покупка жилья  \n",
       "3   267628.550329              дополнительное образование  \n",
       "4   158616.077870                         сыграть свадьбу  \n",
       "5   255763.565419                           покупка жилья  \n",
       "6   240525.971920                       операции с жильем  \n",
       "7   135823.934197                             образование  \n",
       "8    95856.832424                   на проведение свадьбы  \n",
       "9   144425.938277                 покупка жилья для семьи  \n",
       "10  113943.491460                    покупка недвижимости  \n",
       "11   77069.234271       покупка коммерческой недвижимости  \n",
       "12            NaN                         сыграть свадьбу  \n",
       "13  130458.228857                 приобретение автомобиля  \n",
       "14  165127.911772              покупка жилой недвижимости  \n",
       "15  116820.904450  строительство собственной недвижимости  \n",
       "16  289202.704229                            недвижимость  \n",
       "17   90410.586745              строительство недвижимости  \n",
       "18   56823.777243      на покупку подержанного автомобиля  \n",
       "19  242831.107982            на покупку своего автомобиля  "
      ]
     },
     "execution_count": 3,
     "metadata": {},
     "output_type": "execute_result"
    }
   ],
   "source": [
    "data.head(20)"
   ]
  },
  {
   "cell_type": "markdown",
   "id": "3a0c8b75-ec45-4e3b-a905-12a60ebbbe92",
   "metadata": {},
   "source": [
    "Выведем основную информацию о датафрейме."
   ]
  },
  {
   "cell_type": "code",
   "execution_count": 4,
   "id": "ca971fc8-7dca-43e1-8fe0-9221c1265636",
   "metadata": {},
   "outputs": [
    {
     "name": "stdout",
     "output_type": "stream",
     "text": [
      "<class 'pandas.core.frame.DataFrame'>\n",
      "RangeIndex: 21525 entries, 0 to 21524\n",
      "Data columns (total 12 columns):\n",
      " #   Column            Non-Null Count  Dtype  \n",
      "---  ------            --------------  -----  \n",
      " 0   children          21525 non-null  int64  \n",
      " 1   days_employed     19351 non-null  float64\n",
      " 2   dob_years         21525 non-null  int64  \n",
      " 3   education         21525 non-null  object \n",
      " 4   education_id      21525 non-null  int64  \n",
      " 5   family_status     21525 non-null  object \n",
      " 6   family_status_id  21525 non-null  int64  \n",
      " 7   gender            21525 non-null  object \n",
      " 8   income_type       21525 non-null  object \n",
      " 9   debt              21525 non-null  int64  \n",
      " 10  total_income      19351 non-null  float64\n",
      " 11  purpose           21525 non-null  object \n",
      "dtypes: float64(2), int64(5), object(5)\n",
      "memory usage: 2.0+ MB\n"
     ]
    }
   ],
   "source": [
    "data.info()"
   ]
  },
  {
   "cell_type": "markdown",
   "id": "76d7fef9-3dfb-47c5-b6c7-c98d2689a3d5",
   "metadata": {},
   "source": [
    "- Имеются пропуски в столбцах `days_employed`  и  `total_income`.\n",
    "- Данные в `days_employed` должны быть положительными целыми числами.\n",
    "- Данные в `education` написаны в разных регистрах."
   ]
  },
  {
   "cell_type": "markdown",
   "id": "415a4be3-19fb-40c7-9bca-bf71ed84f78b",
   "metadata": {},
   "source": [
    "## Предобработка данных"
   ]
  },
  {
   "cell_type": "markdown",
   "id": "27a9f315-41e7-456a-ae10-ef68acd8106d",
   "metadata": {},
   "source": [
    "### Удаление пропусков"
   ]
  },
  {
   "cell_type": "markdown",
   "id": "ab70b00d-81cd-4d35-a2b6-fc5ec0eea37f",
   "metadata": {},
   "source": [
    "Выведем количество пропущенных значений для каждого столбца."
   ]
  },
  {
   "cell_type": "code",
   "execution_count": 5,
   "id": "d95fb0e9-b2b4-46fc-8edb-eebb3e2716f5",
   "metadata": {},
   "outputs": [
    {
     "data": {
      "text/plain": [
       "children               0\n",
       "days_employed       2174\n",
       "dob_years              0\n",
       "education              0\n",
       "education_id           0\n",
       "family_status          0\n",
       "family_status_id       0\n",
       "gender                 0\n",
       "income_type            0\n",
       "debt                   0\n",
       "total_income        2174\n",
       "purpose                0\n",
       "dtype: int64"
      ]
     },
     "execution_count": 5,
     "metadata": {},
     "output_type": "execute_result"
    }
   ],
   "source": [
    "data.isna().sum()"
   ]
  },
  {
   "cell_type": "markdown",
   "id": "b1708a2f-f1bf-4ee2-a1ac-8378c9e13cff",
   "metadata": {},
   "source": [
    "В двух столбцах есть пропущенные значения. Один из них — `days_employed`. Пропуски в этом столбце мы обработаем на следующем этапе. Другой столбец с пропущенными значениями — `total_income` — хранит данные о доходах. \n",
    "\n",
    "На сумму дохода сильнее всего влияет тип занятости, поэтому заполнить пропуски в этом столбце нужно медианным значением по каждому типу из столбца `income_type`. Например, у человека с типом занятости сотрудник пропуск в столбце `total_income` должен быть заполнен медианным доходом среди всех записей с тем же типом."
   ]
  },
  {
   "cell_type": "code",
   "execution_count": 6,
   "id": "de48776f-bc78-4446-a695-0d9ca01e5fe7",
   "metadata": {},
   "outputs": [],
   "source": [
    "# заполняем пропуски в столбце income_type\n",
    "for t in data['income_type'].unique():\n",
    "    data.loc[(data['income_type'] == t) & (data['total_income'].isna()), 'total_income'] = \\\n",
    "    data.loc[(data['income_type'] == t), 'total_income'].median()"
   ]
  },
  {
   "cell_type": "markdown",
   "id": "3e143205-9f25-47ff-8677-f8bcea19cad5",
   "metadata": {},
   "source": [
    "### Обработка аномальных значений"
   ]
  },
  {
   "cell_type": "markdown",
   "id": "38923ce1-3269-4972-be78-163c84a30985",
   "metadata": {},
   "source": [
    "В данных могут встречаться артефакты (аномалии) — значения, которые не отражают действительность и появились по какой-то ошибке. таким артефактом будет отрицательное количество дней трудового стажа в столбце `days_employed`. Обработаем значения в этом столбце: заменим все отрицательные значения положительными с помощью метода abs() и округлим до целого методом round()."
   ]
  },
  {
   "cell_type": "code",
   "execution_count": 7,
   "id": "85639e9f-ee3b-412c-bd9a-0ec4df4c7d9f",
   "metadata": {},
   "outputs": [],
   "source": [
    "# убираем знак минус и округляем до целого\n",
    "data['days_employed'] = data['days_employed'].abs().round()"
   ]
  },
  {
   "cell_type": "code",
   "execution_count": 8,
   "id": "e2911cf3-e248-454d-b6d9-bd1df3fd088e",
   "metadata": {},
   "outputs": [
    {
     "data": {
      "text/html": [
       "<div>\n",
       "<style scoped>\n",
       "    .dataframe tbody tr th:only-of-type {\n",
       "        vertical-align: middle;\n",
       "    }\n",
       "\n",
       "    .dataframe tbody tr th {\n",
       "        vertical-align: top;\n",
       "    }\n",
       "\n",
       "    .dataframe thead th {\n",
       "        text-align: right;\n",
       "    }\n",
       "</style>\n",
       "<table border=\"1\" class=\"dataframe\">\n",
       "  <thead>\n",
       "    <tr style=\"text-align: right;\">\n",
       "      <th></th>\n",
       "      <th>children</th>\n",
       "      <th>days_employed</th>\n",
       "      <th>dob_years</th>\n",
       "      <th>education</th>\n",
       "      <th>education_id</th>\n",
       "      <th>family_status</th>\n",
       "      <th>family_status_id</th>\n",
       "      <th>gender</th>\n",
       "      <th>income_type</th>\n",
       "      <th>debt</th>\n",
       "      <th>total_income</th>\n",
       "      <th>purpose</th>\n",
       "    </tr>\n",
       "  </thead>\n",
       "  <tbody>\n",
       "    <tr>\n",
       "      <th>0</th>\n",
       "      <td>1</td>\n",
       "      <td>8438.0</td>\n",
       "      <td>42</td>\n",
       "      <td>высшее</td>\n",
       "      <td>0</td>\n",
       "      <td>женат / замужем</td>\n",
       "      <td>0</td>\n",
       "      <td>F</td>\n",
       "      <td>сотрудник</td>\n",
       "      <td>0</td>\n",
       "      <td>253875.639453</td>\n",
       "      <td>покупка жилья</td>\n",
       "    </tr>\n",
       "    <tr>\n",
       "      <th>1</th>\n",
       "      <td>1</td>\n",
       "      <td>4025.0</td>\n",
       "      <td>36</td>\n",
       "      <td>среднее</td>\n",
       "      <td>1</td>\n",
       "      <td>женат / замужем</td>\n",
       "      <td>0</td>\n",
       "      <td>F</td>\n",
       "      <td>сотрудник</td>\n",
       "      <td>0</td>\n",
       "      <td>112080.014102</td>\n",
       "      <td>приобретение автомобиля</td>\n",
       "    </tr>\n",
       "    <tr>\n",
       "      <th>2</th>\n",
       "      <td>0</td>\n",
       "      <td>5623.0</td>\n",
       "      <td>33</td>\n",
       "      <td>Среднее</td>\n",
       "      <td>1</td>\n",
       "      <td>женат / замужем</td>\n",
       "      <td>0</td>\n",
       "      <td>M</td>\n",
       "      <td>сотрудник</td>\n",
       "      <td>0</td>\n",
       "      <td>145885.952297</td>\n",
       "      <td>покупка жилья</td>\n",
       "    </tr>\n",
       "    <tr>\n",
       "      <th>3</th>\n",
       "      <td>3</td>\n",
       "      <td>4125.0</td>\n",
       "      <td>32</td>\n",
       "      <td>среднее</td>\n",
       "      <td>1</td>\n",
       "      <td>женат / замужем</td>\n",
       "      <td>0</td>\n",
       "      <td>M</td>\n",
       "      <td>сотрудник</td>\n",
       "      <td>0</td>\n",
       "      <td>267628.550329</td>\n",
       "      <td>дополнительное образование</td>\n",
       "    </tr>\n",
       "    <tr>\n",
       "      <th>4</th>\n",
       "      <td>0</td>\n",
       "      <td>340266.0</td>\n",
       "      <td>53</td>\n",
       "      <td>среднее</td>\n",
       "      <td>1</td>\n",
       "      <td>гражданский брак</td>\n",
       "      <td>1</td>\n",
       "      <td>F</td>\n",
       "      <td>пенсионер</td>\n",
       "      <td>0</td>\n",
       "      <td>158616.077870</td>\n",
       "      <td>сыграть свадьбу</td>\n",
       "    </tr>\n",
       "  </tbody>\n",
       "</table>\n",
       "</div>"
      ],
      "text/plain": [
       "   children  days_employed  dob_years education  education_id  \\\n",
       "0         1         8438.0         42    высшее             0   \n",
       "1         1         4025.0         36   среднее             1   \n",
       "2         0         5623.0         33   Среднее             1   \n",
       "3         3         4125.0         32   среднее             1   \n",
       "4         0       340266.0         53   среднее             1   \n",
       "\n",
       "      family_status  family_status_id gender income_type  debt   total_income  \\\n",
       "0   женат / замужем                 0      F   сотрудник     0  253875.639453   \n",
       "1   женат / замужем                 0      F   сотрудник     0  112080.014102   \n",
       "2   женат / замужем                 0      M   сотрудник     0  145885.952297   \n",
       "3   женат / замужем                 0      M   сотрудник     0  267628.550329   \n",
       "4  гражданский брак                 1      F   пенсионер     0  158616.077870   \n",
       "\n",
       "                      purpose  \n",
       "0               покупка жилья  \n",
       "1     приобретение автомобиля  \n",
       "2               покупка жилья  \n",
       "3  дополнительное образование  \n",
       "4             сыграть свадьбу  "
      ]
     },
     "execution_count": 8,
     "metadata": {},
     "output_type": "execute_result"
    }
   ],
   "source": [
    "# выведем первые строки исправленной таблицы\n",
    "data.head()"
   ]
  },
  {
   "cell_type": "markdown",
   "id": "c49a26c0-8f7c-46a2-808e-79b02fd7edfc",
   "metadata": {},
   "source": [
    "Данные в столбце `days_employed` выглядят корректными."
   ]
  },
  {
   "cell_type": "markdown",
   "id": "d2656866-474a-49a8-920d-bc1caa851ae7",
   "metadata": {},
   "source": [
    "Для каждого типа занятости выведем медианное значение трудового стажа `days_employed` в днях."
   ]
  },
  {
   "cell_type": "code",
   "execution_count": 9,
   "id": "df8b3764-255f-4773-a74c-91354cf9af2c",
   "metadata": {},
   "outputs": [
    {
     "data": {
      "text/plain": [
       "income_type\n",
       "безработный        366413.5\n",
       "в декрете            3297.0\n",
       "госслужащий          2689.5\n",
       "компаньон            1547.0\n",
       "пенсионер          365213.0\n",
       "предприниматель       521.0\n",
       "сотрудник            1574.0\n",
       "студент               579.0\n",
       "Name: days_employed, dtype: float64"
      ]
     },
     "execution_count": 9,
     "metadata": {},
     "output_type": "execute_result"
    }
   ],
   "source": [
    "data.groupby('income_type')['days_employed'].agg('median')"
   ]
  },
  {
   "cell_type": "markdown",
   "id": "760c252e-3d9c-4c77-99eb-a3ac5a0e9185",
   "metadata": {},
   "source": [
    "У двух типов (безработные и пенсионеры) получатся аномально большие значения. Исправить такие значения сложно, поэтому оставим их как есть. Тем более этот столбец не понадобится нам для исследования."
   ]
  },
  {
   "cell_type": "markdown",
   "id": "26d8b017-2e67-44cb-bb4d-d2ef406cdb01",
   "metadata": {},
   "source": [
    "Выведем перечень уникальных значений столбца `children`."
   ]
  },
  {
   "cell_type": "code",
   "execution_count": 10,
   "id": "0e8a1de2-82e0-40e1-b508-39b004141235",
   "metadata": {},
   "outputs": [
    {
     "data": {
      "text/plain": [
       "array([ 1,  0,  3,  2, -1,  4, 20,  5], dtype=int64)"
      ]
     },
     "execution_count": 10,
     "metadata": {},
     "output_type": "execute_result"
    }
   ],
   "source": [
    "data['children'].unique()"
   ]
  },
  {
   "cell_type": "markdown",
   "id": "17accb46-67a7-4721-b1f1-07b8c6a017e3",
   "metadata": {},
   "source": [
    "В столбце `children` есть два аномальных значения. Удалим строки из датафрейма data, в которых встречаются такие аномальные значения."
   ]
  },
  {
   "cell_type": "code",
   "execution_count": 11,
   "id": "1e2bde87-7e6c-4d79-a452-b5ededeb5b5d",
   "metadata": {},
   "outputs": [],
   "source": [
    "data = data[(data['children'] != -1) & (data['children'] != 20)]"
   ]
  },
  {
   "cell_type": "markdown",
   "id": "f4be5dd2-321d-4774-8d99-5537f436d690",
   "metadata": {},
   "source": [
    "Ещё раз выведем перечень уникальных значений столбца `children`, чтобы убедиться, что артефакты удалены."
   ]
  },
  {
   "cell_type": "code",
   "execution_count": 12,
   "id": "18295b47-a1a2-460e-9807-56130bea1516",
   "metadata": {},
   "outputs": [
    {
     "data": {
      "text/plain": [
       "array([1, 0, 3, 2, 4, 5], dtype=int64)"
      ]
     },
     "execution_count": 12,
     "metadata": {},
     "output_type": "execute_result"
    }
   ],
   "source": [
    "data['children'].unique()"
   ]
  },
  {
   "cell_type": "markdown",
   "id": "4df206ff-22fd-421f-9b9c-53051c342871",
   "metadata": {},
   "source": [
    "### Удаление пропусков (продолжение)"
   ]
  },
  {
   "cell_type": "markdown",
   "id": "922f737d-b8af-49a9-b628-7622a5abcdc9",
   "metadata": {},
   "source": [
    "Заполним пропуски в столбце `days_employed` медианными значениями для каждого типа занятости `income_type`."
   ]
  },
  {
   "cell_type": "code",
   "execution_count": 13,
   "id": "3fed6e42-2afe-43a5-bf9c-56a5771b27da",
   "metadata": {},
   "outputs": [],
   "source": [
    "for t in data['income_type'].unique():\n",
    "    data.loc[(data['income_type'] == t) & (data['days_employed'].isna()), 'days_employed'] = \\\n",
    "    data.loc[(data['income_type'] == t), 'days_employed'].median()"
   ]
  },
  {
   "cell_type": "markdown",
   "id": "7be8bf34-b60f-4f4b-83f5-51c7fe515007",
   "metadata": {},
   "source": [
    "Убедимся, что все пропуски заполнены."
   ]
  },
  {
   "cell_type": "code",
   "execution_count": 14,
   "id": "7f0c114c-73be-4e9b-9031-7c9070e2608d",
   "metadata": {},
   "outputs": [
    {
     "data": {
      "text/plain": [
       "children            0\n",
       "days_employed       0\n",
       "dob_years           0\n",
       "education           0\n",
       "education_id        0\n",
       "family_status       0\n",
       "family_status_id    0\n",
       "gender              0\n",
       "income_type         0\n",
       "debt                0\n",
       "total_income        0\n",
       "purpose             0\n",
       "dtype: int64"
      ]
     },
     "execution_count": 14,
     "metadata": {},
     "output_type": "execute_result"
    }
   ],
   "source": [
    "# выведем количество пропусков в датафрейме data\n",
    "data.isna().sum()"
   ]
  },
  {
   "cell_type": "markdown",
   "id": "3b98a461-f15a-4b45-b8ea-d45855ae70fe",
   "metadata": {},
   "source": [
    "Пропуски обработаны."
   ]
  },
  {
   "cell_type": "markdown",
   "id": "198d9a90-81b8-49b8-b393-f58fc299b46d",
   "metadata": {},
   "source": [
    "### Изменение типов данных"
   ]
  },
  {
   "cell_type": "markdown",
   "id": "3f525de6-2246-4a70-affe-99bf3ed4a3c5",
   "metadata": {},
   "source": [
    "Заменим вещественный тип данных в столбце `total_income` на целочисленный с помощью метода astype()."
   ]
  },
  {
   "cell_type": "code",
   "execution_count": 15,
   "id": "d40a62b3-4920-416d-95e5-3c9af44d42e9",
   "metadata": {},
   "outputs": [],
   "source": [
    "data['total_income'] = data['total_income'].astype(int)"
   ]
  },
  {
   "cell_type": "markdown",
   "id": "d146c109-1b4c-47a3-b7a2-86ddf9edcb6d",
   "metadata": {},
   "source": [
    "Выведем общую информацию для проверки изменения типа данных."
   ]
  },
  {
   "cell_type": "code",
   "execution_count": 16,
   "id": "3c3ee17a-2245-4705-ae13-0da282665b98",
   "metadata": {},
   "outputs": [
    {
     "name": "stdout",
     "output_type": "stream",
     "text": [
      "<class 'pandas.core.frame.DataFrame'>\n",
      "Int64Index: 21402 entries, 0 to 21524\n",
      "Data columns (total 12 columns):\n",
      " #   Column            Non-Null Count  Dtype  \n",
      "---  ------            --------------  -----  \n",
      " 0   children          21402 non-null  int64  \n",
      " 1   days_employed     21402 non-null  float64\n",
      " 2   dob_years         21402 non-null  int64  \n",
      " 3   education         21402 non-null  object \n",
      " 4   education_id      21402 non-null  int64  \n",
      " 5   family_status     21402 non-null  object \n",
      " 6   family_status_id  21402 non-null  int64  \n",
      " 7   gender            21402 non-null  object \n",
      " 8   income_type       21402 non-null  object \n",
      " 9   debt              21402 non-null  int64  \n",
      " 10  total_income      21402 non-null  int32  \n",
      " 11  purpose           21402 non-null  object \n",
      "dtypes: float64(1), int32(1), int64(5), object(5)\n",
      "memory usage: 2.0+ MB\n"
     ]
    }
   ],
   "source": [
    "data.info()"
   ]
  },
  {
   "cell_type": "markdown",
   "id": "2c924460-1205-4223-821a-032ec7e89cc8",
   "metadata": {},
   "source": [
    "Тип данных изменён."
   ]
  },
  {
   "cell_type": "markdown",
   "id": "85287615-fe30-4b4b-974d-b4211574722b",
   "metadata": {},
   "source": [
    "### Обработка дубликатов"
   ]
  },
  {
   "cell_type": "markdown",
   "id": "1a3e1ba5-6b09-4dba-9625-81e8b3f7a503",
   "metadata": {},
   "source": [
    "Обработаем неявные дубликаты в столбце `education`. В этом столбце есть одни и те же значения, но записанные по-разному: с использованием заглавных и строчных букв. Приведём их к нижнему регистру. Проверим остальные столбцы."
   ]
  },
  {
   "cell_type": "code",
   "execution_count": 17,
   "id": "224370b0-2d21-4646-a1d7-809b713becf5",
   "metadata": {},
   "outputs": [],
   "source": [
    "# приводим значения столбца `education` к нижнему регистру\n",
    "data['education'] = data['education'].str.lower()"
   ]
  },
  {
   "cell_type": "markdown",
   "id": "0657d55b-4f4f-4db1-b843-da433651e8ab",
   "metadata": {},
   "source": [
    "Выведем количество строк-дубликатов в данных. Если такие строки присутствуют, удалим их."
   ]
  },
  {
   "cell_type": "code",
   "execution_count": 18,
   "id": "9a5fe521-3ae9-4763-a614-35858baa1cc7",
   "metadata": {},
   "outputs": [
    {
     "data": {
      "text/plain": [
       "71"
      ]
     },
     "execution_count": 18,
     "metadata": {},
     "output_type": "execute_result"
    }
   ],
   "source": [
    "# выводим количество строк-дубликатов\n",
    "data.duplicated().sum()"
   ]
  },
  {
   "cell_type": "code",
   "execution_count": 19,
   "id": "3a1bb9ed-2e6d-4ebd-a7f1-1d8b1a0ffbbb",
   "metadata": {},
   "outputs": [],
   "source": [
    "# удалим строки-дубликаты\n",
    "data = data.drop_duplicates()"
   ]
  },
  {
   "cell_type": "code",
   "execution_count": 20,
   "id": "4e8bb133-3277-4f8d-9bbb-1ecd8312043f",
   "metadata": {},
   "outputs": [
    {
     "data": {
      "text/plain": [
       "0"
      ]
     },
     "execution_count": 20,
     "metadata": {},
     "output_type": "execute_result"
    }
   ],
   "source": [
    "# проверим количество строк-дубликатов\n",
    "data.duplicated().sum()"
   ]
  },
  {
   "cell_type": "markdown",
   "id": "7369ab20-810d-4b64-98cd-a5167897facc",
   "metadata": {},
   "source": [
    "Дублирующиеся строки в столбце `education` удалены."
   ]
  },
  {
   "cell_type": "markdown",
   "id": "7ffba03e-237b-44dd-8c45-89f7e049344b",
   "metadata": {},
   "source": [
    "### Категоризация данных"
   ]
  },
  {
   "cell_type": "markdown",
   "id": "181e4a96-e7e2-47b5-b563-3024413edd9b",
   "metadata": {},
   "source": [
    "На основании диапазонов, указанных ниже, создадим в датафрейме `data` столбец `total_income_category` с категориями:\n",
    "\n",
    "- 0–30000 — `E`;\n",
    "- 30001–50000 — `D`;\n",
    "- 50001–200000 — `C`;\n",
    "- 200001–1000000 — `B`;\n",
    "- 1000001 и выше — `A`."
   ]
  },
  {
   "cell_type": "markdown",
   "id": "926cda1f-db45-48e6-b092-8e55db605bca",
   "metadata": {},
   "source": [
    "Например, кредитополучателю с доходом 25000 нужно назначить категорию `E`, а клиенту, получающему 235000, — `B`. Используем собственную функцию с именем `categorize_income()` и метод apply()."
   ]
  },
  {
   "cell_type": "code",
   "execution_count": 21,
   "id": "4d9185bd-41fb-4406-9708-af5602349e57",
   "metadata": {},
   "outputs": [],
   "source": [
    "# создадим функцию\n",
    "def categorize_income(income):\n",
    "    try:\n",
    "        if 0 <= income <= 30000:\n",
    "            return 'E'\n",
    "        elif 30001 <= income <= 50000:\n",
    "            return 'D'\n",
    "        elif 50001 <= income <= 200000:\n",
    "            return 'C'\n",
    "        elif 200001 <= income <= 1000000:\n",
    "            return 'B'\n",
    "        elif income >= 1000001:\n",
    "            return 'A'\n",
    "    except:\n",
    "        pass"
   ]
  },
  {
   "cell_type": "code",
   "execution_count": 22,
   "id": "424248c9-cb3e-4a56-8edf-89c17d57fb7f",
   "metadata": {},
   "outputs": [],
   "source": [
    "# заполним столбец `total_income_category` категориями.\n",
    "data['total_income_category'] = data['total_income'].apply(categorize_income)"
   ]
  },
  {
   "cell_type": "code",
   "execution_count": 23,
   "id": "b1cf71e2-0afd-498f-9eb4-8355a725762c",
   "metadata": {},
   "outputs": [
    {
     "data": {
      "text/html": [
       "<div>\n",
       "<style scoped>\n",
       "    .dataframe tbody tr th:only-of-type {\n",
       "        vertical-align: middle;\n",
       "    }\n",
       "\n",
       "    .dataframe tbody tr th {\n",
       "        vertical-align: top;\n",
       "    }\n",
       "\n",
       "    .dataframe thead th {\n",
       "        text-align: right;\n",
       "    }\n",
       "</style>\n",
       "<table border=\"1\" class=\"dataframe\">\n",
       "  <thead>\n",
       "    <tr style=\"text-align: right;\">\n",
       "      <th></th>\n",
       "      <th>total_income</th>\n",
       "      <th>total_income_category</th>\n",
       "    </tr>\n",
       "  </thead>\n",
       "  <tbody>\n",
       "    <tr>\n",
       "      <th>0</th>\n",
       "      <td>253875</td>\n",
       "      <td>B</td>\n",
       "    </tr>\n",
       "    <tr>\n",
       "      <th>1</th>\n",
       "      <td>112080</td>\n",
       "      <td>C</td>\n",
       "    </tr>\n",
       "    <tr>\n",
       "      <th>2</th>\n",
       "      <td>145885</td>\n",
       "      <td>C</td>\n",
       "    </tr>\n",
       "    <tr>\n",
       "      <th>3</th>\n",
       "      <td>267628</td>\n",
       "      <td>B</td>\n",
       "    </tr>\n",
       "    <tr>\n",
       "      <th>4</th>\n",
       "      <td>158616</td>\n",
       "      <td>C</td>\n",
       "    </tr>\n",
       "  </tbody>\n",
       "</table>\n",
       "</div>"
      ],
      "text/plain": [
       "   total_income total_income_category\n",
       "0        253875                     B\n",
       "1        112080                     C\n",
       "2        145885                     C\n",
       "3        267628                     B\n",
       "4        158616                     C"
      ]
     },
     "execution_count": 23,
     "metadata": {},
     "output_type": "execute_result"
    }
   ],
   "source": [
    "# выведем первые 5 значений total_`income_category` и `total_income`\n",
    "data[['total_income','total_income_category']].head()"
   ]
  },
  {
   "cell_type": "markdown",
   "id": "d38500b3-8a65-446f-b8c7-92a9b99d029d",
   "metadata": {},
   "source": [
    "Назначение категорий прошло корректно."
   ]
  },
  {
   "cell_type": "markdown",
   "id": "e89cfd7b-35da-408a-b784-b9601e932f1d",
   "metadata": {},
   "source": [
    "Выведем на экран перечень уникальных целей взятия кредита из столбца `purpose`."
   ]
  },
  {
   "cell_type": "code",
   "execution_count": 24,
   "id": "9c60b8f5-f463-46e6-9b8e-5f35e7077a27",
   "metadata": {},
   "outputs": [
    {
     "data": {
      "text/plain": [
       "array(['покупка жилья', 'приобретение автомобиля',\n",
       "       'дополнительное образование', 'сыграть свадьбу',\n",
       "       'операции с жильем', 'образование', 'на проведение свадьбы',\n",
       "       'покупка жилья для семьи', 'покупка недвижимости',\n",
       "       'покупка коммерческой недвижимости', 'покупка жилой недвижимости',\n",
       "       'строительство собственной недвижимости', 'недвижимость',\n",
       "       'строительство недвижимости', 'на покупку подержанного автомобиля',\n",
       "       'на покупку своего автомобиля',\n",
       "       'операции с коммерческой недвижимостью',\n",
       "       'строительство жилой недвижимости', 'жилье',\n",
       "       'операции со своей недвижимостью', 'автомобили',\n",
       "       'заняться образованием', 'сделка с подержанным автомобилем',\n",
       "       'получение образования', 'автомобиль', 'свадьба',\n",
       "       'получение дополнительного образования', 'покупка своего жилья',\n",
       "       'операции с недвижимостью', 'получение высшего образования',\n",
       "       'свой автомобиль', 'сделка с автомобилем',\n",
       "       'профильное образование', 'высшее образование',\n",
       "       'покупка жилья для сдачи', 'на покупку автомобиля', 'ремонт жилью',\n",
       "       'заняться высшим образованием'], dtype=object)"
      ]
     },
     "execution_count": 24,
     "metadata": {},
     "output_type": "execute_result"
    }
   ],
   "source": [
    "data['purpose'].unique()"
   ]
  },
  {
   "cell_type": "markdown",
   "id": "69521e14-3973-4154-bd9f-137ecb238c57",
   "metadata": {},
   "source": [
    "Создадим функцию, которая на основании данных из столбца `purpose` сформирует новый столбец `purpose_category`, в который войдут следующие категории:\n",
    "\n",
    "- `'операции с автомобилем'`,\n",
    "- `'операции с недвижимостью'`,\n",
    "- `'проведение свадьбы'`,\n",
    "- `'получение образования'`.\n",
    "\n",
    "Например, если в столбце `purpose` находится подстрока `'на покупку автомобиля'`, то в столбце purpose_category должна появиться строка `'операции с автомобилем'`."
   ]
  },
  {
   "cell_type": "markdown",
   "id": "b7f551f6-c6f8-4639-9c74-c6d1990d88d2",
   "metadata": {},
   "source": [
    "Используем собственную функцию с именем `categorize_purpose()` и метод apply()."
   ]
  },
  {
   "cell_type": "code",
   "execution_count": 25,
   "id": "812abea4-184a-4137-aea1-37aaf21d0442",
   "metadata": {},
   "outputs": [],
   "source": [
    "# функция для категоризации целей\n",
    "def categorize_purpose(row):\n",
    "    try:\n",
    "        if 'автом' in row:\n",
    "            return 'операции с автомобилем'\n",
    "        elif 'жил' in row or 'недвиж' in row:\n",
    "            return 'операции с недвижимостью'\n",
    "        elif 'свад' in row:\n",
    "            return 'проведение свадьбы'\n",
    "        elif 'образов' in row:\n",
    "            return 'получение образования'\n",
    "    except:\n",
    "        return 'нет категории'"
   ]
  },
  {
   "cell_type": "code",
   "execution_count": 26,
   "id": "264d6195-aa51-48ed-b9a9-ef937b1e7d62",
   "metadata": {},
   "outputs": [],
   "source": [
    "# создадим столбец с категориями цели кредита\n",
    "data['purpose_category'] = data['purpose'].apply(categorize_purpose)"
   ]
  },
  {
   "cell_type": "code",
   "execution_count": 27,
   "id": "c17aab0c-71d5-47f7-a0bb-b3651337d121",
   "metadata": {},
   "outputs": [
    {
     "data": {
      "text/html": [
       "<div>\n",
       "<style scoped>\n",
       "    .dataframe tbody tr th:only-of-type {\n",
       "        vertical-align: middle;\n",
       "    }\n",
       "\n",
       "    .dataframe tbody tr th {\n",
       "        vertical-align: top;\n",
       "    }\n",
       "\n",
       "    .dataframe thead th {\n",
       "        text-align: right;\n",
       "    }\n",
       "</style>\n",
       "<table border=\"1\" class=\"dataframe\">\n",
       "  <thead>\n",
       "    <tr style=\"text-align: right;\">\n",
       "      <th></th>\n",
       "      <th>purpose</th>\n",
       "      <th>purpose_category</th>\n",
       "    </tr>\n",
       "  </thead>\n",
       "  <tbody>\n",
       "    <tr>\n",
       "      <th>0</th>\n",
       "      <td>покупка жилья</td>\n",
       "      <td>операции с недвижимостью</td>\n",
       "    </tr>\n",
       "    <tr>\n",
       "      <th>1</th>\n",
       "      <td>приобретение автомобиля</td>\n",
       "      <td>операции с автомобилем</td>\n",
       "    </tr>\n",
       "    <tr>\n",
       "      <th>2</th>\n",
       "      <td>покупка жилья</td>\n",
       "      <td>операции с недвижимостью</td>\n",
       "    </tr>\n",
       "    <tr>\n",
       "      <th>3</th>\n",
       "      <td>дополнительное образование</td>\n",
       "      <td>получение образования</td>\n",
       "    </tr>\n",
       "    <tr>\n",
       "      <th>4</th>\n",
       "      <td>сыграть свадьбу</td>\n",
       "      <td>проведение свадьбы</td>\n",
       "    </tr>\n",
       "  </tbody>\n",
       "</table>\n",
       "</div>"
      ],
      "text/plain": [
       "                      purpose          purpose_category\n",
       "0               покупка жилья  операции с недвижимостью\n",
       "1     приобретение автомобиля    операции с автомобилем\n",
       "2               покупка жилья  операции с недвижимостью\n",
       "3  дополнительное образование     получение образования\n",
       "4             сыграть свадьбу        проведение свадьбы"
      ]
     },
     "execution_count": 27,
     "metadata": {},
     "output_type": "execute_result"
    }
   ],
   "source": [
    "# выведем первые значения нового столбца и исходного для проверки категорий\n",
    "data[['purpose', 'purpose_category']].head()"
   ]
  },
  {
   "cell_type": "markdown",
   "id": "975ee0d6-bb65-4b49-899c-fbd63a4f0e54",
   "metadata": {},
   "source": [
    "Категоризация данных проведена корректно."
   ]
  },
  {
   "cell_type": "markdown",
   "id": "1409ad02-0e2e-4c98-82d5-b30e3818757c",
   "metadata": {},
   "source": [
    "## Исследование данных"
   ]
  },
  {
   "cell_type": "markdown",
   "id": "27f87fc5-e40d-4b2e-a974-731fb50fc4b9",
   "metadata": {},
   "source": [
    "Исследуем данные, чтобы ответить на следующие вопросы:\n",
    "- Есть ли зависимость между количеством детей и возвратом кредита в срок?\n",
    "- Есть ли зависимость между семейным положением и возвратом кредита в срок?\n",
    "- Есть ли зависимость между уровнем дохода и возвратом кредита в срок?\n",
    "- Как разные цели кредита влияют на его возврат в срок?\n",
    "\n",
    "\n",
    "\n",
    "\n"
   ]
  },
  {
   "cell_type": "markdown",
   "id": "e0357013-845d-4795-ba77-5a6739523f76",
   "metadata": {},
   "source": [
    "### Есть ли зависимость между количеством детей и возвратом кредита в срок?"
   ]
  },
  {
   "cell_type": "markdown",
   "id": "62566cd4-7080-490b-8bbc-5e5d06b748bb",
   "metadata": {},
   "source": [
    "Создадим функцию для формирования таблиц зависимости между возвратом кредита и различными факторами."
   ]
  },
  {
   "cell_type": "code",
   "execution_count": 28,
   "id": "102ea675-9f81-4372-b24b-d9a405bffb4d",
   "metadata": {
    "tags": []
   },
   "outputs": [],
   "source": [
    "'''\n",
    "функция debtors_dependence выводит таблицу для анализа зависимости задолженностей по возврату кредита 'debt' \n",
    "от различных факторов: количества детей, уровня дохода и т.д.\n",
    "\n",
    "На вход принимает аргументы:\n",
    "\n",
    "df - предобработанный объект pandas.DataFrame\n",
    "\n",
    "col - название столбца, зависимость от которого мы хотим выяснить (например, 'children')\n",
    "\n",
    "sort - необязательный аргумент для сортировки данных в результирующей таблице. \n",
    "Может принимать 2 значения: True и False (по умолчанию).\n",
    "\n",
    "age - необязательный аргумент для вывода столбца со средним возрастом клиентов для каждой категории.\n",
    "Может принимать 2 значения: True и False (по умолчанию).\n",
    "'''\n",
    "\n",
    "def debtors_dependence (df, col, sort=False, age=False):   \n",
    "    # группируем данные, посчитаем количество клиентов в каждой категории\n",
    "    clients = df.groupby(col)[col].count()\n",
    "    \n",
    "    # вычислим процентное отношение клиентов в рассматриваемой категории к общему числу клиентов\n",
    "    clients_percent = clients / clients.sum() * 100\n",
    "    \n",
    "    # посчитаем количество должников в каждой категории\n",
    "    debtors = df.groupby(col)['debt'].sum()\n",
    "    \n",
    "    # вычислим процентное отношение должников к числу клиентов в рассматриваемой категории\n",
    "    debtors_percent = debtors / clients * 100\n",
    "    \n",
    "    # вычислим средний возраст для каждой категории\n",
    "    dob_years = df.groupby(col)['dob_years'].sum() / df.groupby(col)['dob_years'].count()\n",
    "    \n",
    "    # имена столбцов в результирующей таблице\n",
    "    col_names = ['clients', 'clients, %', 'debtors', 'debtors, %', 'age']\n",
    "    \n",
    "    # значения столбцов в результирующей таблице\n",
    "    col_values = [\n",
    "        clients,\n",
    "        round(clients_percent, 2),\n",
    "        debtors,\n",
    "        round(debtors_percent, 2),\n",
    "        round(dob_years, 0).astype('int')\n",
    "        ]\n",
    "    \n",
    "    # если параметр age=False, не добавляем столбец 'age' в результирующую таблицу\n",
    "    if age == False:  \n",
    "        col_names.pop()\n",
    "        col_values.pop()\n",
    "        \n",
    "    # сцепляем столбцы в единую таблицу\n",
    "    table = pd.concat(col_values, axis = 1)\n",
    "    \n",
    "    # переименовываем столбцы для удобства восприятия\n",
    "    table.columns = col_names\n",
    "    \n",
    "    # если параметр sort=True сортируем данные по убыванию процента должников\n",
    "    if sort:\n",
    "        table=table.sort_values(['debtors, %'], ascending = False)\n",
    "        \n",
    "    # выводим итоговую таблицу    \n",
    "    return table"
   ]
  },
  {
   "cell_type": "code",
   "execution_count": 29,
   "id": "7fdef5a3-846b-4c98-8d8c-e30c450289ad",
   "metadata": {},
   "outputs": [
    {
     "data": {
      "text/html": [
       "<div>\n",
       "<style scoped>\n",
       "    .dataframe tbody tr th:only-of-type {\n",
       "        vertical-align: middle;\n",
       "    }\n",
       "\n",
       "    .dataframe tbody tr th {\n",
       "        vertical-align: top;\n",
       "    }\n",
       "\n",
       "    .dataframe thead th {\n",
       "        text-align: right;\n",
       "    }\n",
       "</style>\n",
       "<table border=\"1\" class=\"dataframe\">\n",
       "  <thead>\n",
       "    <tr style=\"text-align: right;\">\n",
       "      <th></th>\n",
       "      <th>clients</th>\n",
       "      <th>clients, %</th>\n",
       "      <th>debtors</th>\n",
       "      <th>debtors, %</th>\n",
       "    </tr>\n",
       "    <tr>\n",
       "      <th>children</th>\n",
       "      <th></th>\n",
       "      <th></th>\n",
       "      <th></th>\n",
       "      <th></th>\n",
       "    </tr>\n",
       "  </thead>\n",
       "  <tbody>\n",
       "    <tr>\n",
       "      <th>0</th>\n",
       "      <td>14091</td>\n",
       "      <td>66.06</td>\n",
       "      <td>1063</td>\n",
       "      <td>7.54</td>\n",
       "    </tr>\n",
       "    <tr>\n",
       "      <th>1</th>\n",
       "      <td>4808</td>\n",
       "      <td>22.54</td>\n",
       "      <td>444</td>\n",
       "      <td>9.23</td>\n",
       "    </tr>\n",
       "    <tr>\n",
       "      <th>2</th>\n",
       "      <td>2052</td>\n",
       "      <td>9.62</td>\n",
       "      <td>194</td>\n",
       "      <td>9.45</td>\n",
       "    </tr>\n",
       "    <tr>\n",
       "      <th>3</th>\n",
       "      <td>330</td>\n",
       "      <td>1.55</td>\n",
       "      <td>27</td>\n",
       "      <td>8.18</td>\n",
       "    </tr>\n",
       "    <tr>\n",
       "      <th>4</th>\n",
       "      <td>41</td>\n",
       "      <td>0.19</td>\n",
       "      <td>4</td>\n",
       "      <td>9.76</td>\n",
       "    </tr>\n",
       "    <tr>\n",
       "      <th>5</th>\n",
       "      <td>9</td>\n",
       "      <td>0.04</td>\n",
       "      <td>0</td>\n",
       "      <td>0.00</td>\n",
       "    </tr>\n",
       "  </tbody>\n",
       "</table>\n",
       "</div>"
      ],
      "text/plain": [
       "          clients  clients, %  debtors  debtors, %\n",
       "children                                          \n",
       "0           14091       66.06     1063        7.54\n",
       "1            4808       22.54      444        9.23\n",
       "2            2052        9.62      194        9.45\n",
       "3             330        1.55       27        8.18\n",
       "4              41        0.19        4        9.76\n",
       "5               9        0.04        0        0.00"
      ]
     },
     "execution_count": 29,
     "metadata": {},
     "output_type": "execute_result"
    }
   ],
   "source": [
    "# зависимость между количеством детей и возвратом кредита в срок\n",
    "debtors_dependence(data, 'children')"
   ]
  },
  {
   "cell_type": "markdown",
   "id": "2a76d85d-559f-4976-b652-919bf2c56963",
   "metadata": {},
   "source": [
    "**Вывод:**\n",
    "\n",
    "Выборки клиентов с 3, 4, 5 детьми малы и не позволяют делать однозначные выводы.\n",
    "Процент должников в категориях с 1 и 2 детьми различается незначительно.\n",
    "Различие более 1 п. п. наблюдаем, если сравнивать клиентов с детьми (количество не имеет значения) и без детей. Задолженность среди клиентов с детьми возникает чаще."
   ]
  },
  {
   "cell_type": "markdown",
   "id": "bb48dfa4-44f1-4800-beb3-c63c5bf2109a",
   "metadata": {},
   "source": [
    "### Есть ли зависимость между семейным положением и возвратом кредита в срок?"
   ]
  },
  {
   "cell_type": "code",
   "execution_count": 30,
   "id": "f06a0ea2-a574-46ff-b725-876609d614ae",
   "metadata": {},
   "outputs": [
    {
     "data": {
      "text/html": [
       "<div>\n",
       "<style scoped>\n",
       "    .dataframe tbody tr th:only-of-type {\n",
       "        vertical-align: middle;\n",
       "    }\n",
       "\n",
       "    .dataframe tbody tr th {\n",
       "        vertical-align: top;\n",
       "    }\n",
       "\n",
       "    .dataframe thead th {\n",
       "        text-align: right;\n",
       "    }\n",
       "</style>\n",
       "<table border=\"1\" class=\"dataframe\">\n",
       "  <thead>\n",
       "    <tr style=\"text-align: right;\">\n",
       "      <th></th>\n",
       "      <th>clients</th>\n",
       "      <th>clients, %</th>\n",
       "      <th>debtors</th>\n",
       "      <th>debtors, %</th>\n",
       "      <th>age</th>\n",
       "    </tr>\n",
       "    <tr>\n",
       "      <th>family_status</th>\n",
       "      <th></th>\n",
       "      <th></th>\n",
       "      <th></th>\n",
       "      <th></th>\n",
       "      <th></th>\n",
       "    </tr>\n",
       "  </thead>\n",
       "  <tbody>\n",
       "    <tr>\n",
       "      <th>Не женат / не замужем</th>\n",
       "      <td>2796</td>\n",
       "      <td>13.11</td>\n",
       "      <td>273</td>\n",
       "      <td>9.76</td>\n",
       "      <td>38</td>\n",
       "    </tr>\n",
       "    <tr>\n",
       "      <th>гражданский брак</th>\n",
       "      <td>4134</td>\n",
       "      <td>19.38</td>\n",
       "      <td>385</td>\n",
       "      <td>9.31</td>\n",
       "      <td>42</td>\n",
       "    </tr>\n",
       "    <tr>\n",
       "      <th>женат / замужем</th>\n",
       "      <td>12261</td>\n",
       "      <td>57.48</td>\n",
       "      <td>927</td>\n",
       "      <td>7.56</td>\n",
       "      <td>44</td>\n",
       "    </tr>\n",
       "    <tr>\n",
       "      <th>в разводе</th>\n",
       "      <td>1189</td>\n",
       "      <td>5.57</td>\n",
       "      <td>84</td>\n",
       "      <td>7.06</td>\n",
       "      <td>46</td>\n",
       "    </tr>\n",
       "    <tr>\n",
       "      <th>вдовец / вдова</th>\n",
       "      <td>951</td>\n",
       "      <td>4.46</td>\n",
       "      <td>63</td>\n",
       "      <td>6.62</td>\n",
       "      <td>57</td>\n",
       "    </tr>\n",
       "  </tbody>\n",
       "</table>\n",
       "</div>"
      ],
      "text/plain": [
       "                       clients  clients, %  debtors  debtors, %  age\n",
       "family_status                                                       \n",
       "Не женат / не замужем     2796       13.11      273        9.76   38\n",
       "гражданский брак          4134       19.38      385        9.31   42\n",
       "женат / замужем          12261       57.48      927        7.56   44\n",
       "в разводе                 1189        5.57       84        7.06   46\n",
       "вдовец / вдова             951        4.46       63        6.62   57"
      ]
     },
     "execution_count": 30,
     "metadata": {},
     "output_type": "execute_result"
    }
   ],
   "source": [
    "# зависимость между семейным положением и возвратом кредита в срок\n",
    "debtors_dependence(data, 'family_status', sort=True, age=True)"
   ]
  },
  {
   "cell_type": "markdown",
   "id": "821e171e-73c2-47af-82ac-34fde50a93f0",
   "metadata": {},
   "source": [
    "Можно предположить, что зависимость между семейным положением и возвратом кредита носит опосредованный характер, поскольку налицо зависимость от возраста. Столбец семейного положения напоминает стадии взросления человека и коррелируется с возрастом.\n",
    "\n",
    "Убедимся в зависимости от семейного положения, исключив возрастной фактор. Для этого рассмотрим самую многочисленную группу клиентов одного возраста."
   ]
  },
  {
   "cell_type": "code",
   "execution_count": 31,
   "id": "672e1b61-a0dd-4d1e-83bb-ef112ed9955e",
   "metadata": {},
   "outputs": [
    {
     "data": {
      "text/plain": [
       "35"
      ]
     },
     "execution_count": 31,
     "metadata": {},
     "output_type": "execute_result"
    }
   ],
   "source": [
    "# Найдем самую многочисленную группу одного возраста, получим возраст\n",
    "data.groupby('dob_years')['dob_years'].count().idxmax(axis= 0)"
   ]
  },
  {
   "cell_type": "code",
   "execution_count": 32,
   "id": "284eb1a4-0458-4f5b-a0c4-ec380bcddf89",
   "metadata": {},
   "outputs": [
    {
     "data": {
      "text/html": [
       "<div>\n",
       "<style scoped>\n",
       "    .dataframe tbody tr th:only-of-type {\n",
       "        vertical-align: middle;\n",
       "    }\n",
       "\n",
       "    .dataframe tbody tr th {\n",
       "        vertical-align: top;\n",
       "    }\n",
       "\n",
       "    .dataframe thead th {\n",
       "        text-align: right;\n",
       "    }\n",
       "</style>\n",
       "<table border=\"1\" class=\"dataframe\">\n",
       "  <thead>\n",
       "    <tr style=\"text-align: right;\">\n",
       "      <th></th>\n",
       "      <th>clients</th>\n",
       "      <th>clients, %</th>\n",
       "      <th>debtors</th>\n",
       "      <th>debtors, %</th>\n",
       "      <th>age</th>\n",
       "    </tr>\n",
       "    <tr>\n",
       "      <th>family_status</th>\n",
       "      <th></th>\n",
       "      <th></th>\n",
       "      <th></th>\n",
       "      <th></th>\n",
       "      <th></th>\n",
       "    </tr>\n",
       "  </thead>\n",
       "  <tbody>\n",
       "    <tr>\n",
       "      <th>гражданский брак</th>\n",
       "      <td>135</td>\n",
       "      <td>22.02</td>\n",
       "      <td>11</td>\n",
       "      <td>8.15</td>\n",
       "      <td>35</td>\n",
       "    </tr>\n",
       "    <tr>\n",
       "      <th>Не женат / не замужем</th>\n",
       "      <td>63</td>\n",
       "      <td>10.28</td>\n",
       "      <td>5</td>\n",
       "      <td>7.94</td>\n",
       "      <td>35</td>\n",
       "    </tr>\n",
       "    <tr>\n",
       "      <th>женат / замужем</th>\n",
       "      <td>381</td>\n",
       "      <td>62.15</td>\n",
       "      <td>30</td>\n",
       "      <td>7.87</td>\n",
       "      <td>35</td>\n",
       "    </tr>\n",
       "    <tr>\n",
       "      <th>в разводе</th>\n",
       "      <td>31</td>\n",
       "      <td>5.06</td>\n",
       "      <td>1</td>\n",
       "      <td>3.23</td>\n",
       "      <td>35</td>\n",
       "    </tr>\n",
       "    <tr>\n",
       "      <th>вдовец / вдова</th>\n",
       "      <td>3</td>\n",
       "      <td>0.49</td>\n",
       "      <td>0</td>\n",
       "      <td>0.00</td>\n",
       "      <td>35</td>\n",
       "    </tr>\n",
       "  </tbody>\n",
       "</table>\n",
       "</div>"
      ],
      "text/plain": [
       "                       clients  clients, %  debtors  debtors, %  age\n",
       "family_status                                                       \n",
       "гражданский брак           135       22.02       11        8.15   35\n",
       "Не женат / не замужем       63       10.28        5        7.94   35\n",
       "женат / замужем            381       62.15       30        7.87   35\n",
       "в разводе                   31        5.06        1        3.23   35\n",
       "вдовец / вдова               3        0.49        0        0.00   35"
      ]
     },
     "execution_count": 32,
     "metadata": {},
     "output_type": "execute_result"
    }
   ],
   "source": [
    "# зависимость между семейным положением и возвратом кредита для клиентов одного возраста\n",
    "data_age = data.loc[data['dob_years'] == 35]\n",
    "debtors_dependence(data_age, 'family_status', sort=True, age=True)"
   ]
  },
  {
   "cell_type": "markdown",
   "id": "3232d0e6-8b82-4d06-a86f-c044c4832e59",
   "metadata": {},
   "source": [
    "В группе с возрастом 35 лет расстановка строк с сортировкой по проценту должников совпадает с ранее полученным результатом, но выборки слишком малы для окончательного вывода. Получим такие таблицы для всех возрастов и вычислим, на какой позиции чаще всего встречается каждый семейный статус при следующих условиях:\n",
    "\n",
    "в таблице присутствуют все категории;\n",
    "нет нулевых значений в колонке 'debtors'."
   ]
  },
  {
   "cell_type": "code",
   "execution_count": 33,
   "id": "63e77a3d-220a-446e-841f-88aaa29ee3e6",
   "metadata": {},
   "outputs": [
    {
     "name": "stdout",
     "output_type": "stream",
     "text": [
      "Расчет позиций произведен на основании анализа 45 групп одного возраста.\n",
      "\n",
      "2 Не женат / не замужем\n",
      "1 гражданский брак\n",
      "3 женат / замужем\n",
      "4 в разводе\n",
      "5 вдовец / вдова\n"
     ]
    }
   ],
   "source": [
    "# импортирует модуль statistics для использования функции mode\n",
    "# (поиск наиболее часто встречающегося элемента списка).\n",
    "import statistics\n",
    "from statistics import mode\n",
    "\n",
    "# создаем словарь. В значениях будут храниться списки с перечислением номеров позиций для поиска наиболее часто встречающейся.\n",
    "dict_ = {\n",
    " 'Не женат / не замужем': [],\n",
    " 'гражданский брак'     : [],\n",
    " 'женат / замужем'      : [],\n",
    " 'в разводе'            : [],\n",
    " 'вдовец / вдова'       : [],\n",
    "} \n",
    "\n",
    "# счетчик количества таблиц, на основании которых рассчитываются номера строк\n",
    "count = 0\n",
    "\n",
    "for i in range(18,76):\n",
    "    \n",
    "    # вызываем функцию debtors_dependence для каждого возраста\n",
    "    data_age = data.loc[data['dob_years'] == i]\n",
    "    \n",
    "    # сохраняем результат работы функции в DataFrame\n",
    "    df = debtors_dependence(data_age, 'family_status', sort=True, age=True)\n",
    "    \n",
    "    # для каждого датафрейма получаем список индексов вида: ['гражданский брак', 'Не женат / не замужем', ... , ]\n",
    "    # элементы в списке находятся в порядке убывания процентного соотношения должников 'debtors, %'\n",
    "    list_ = df.index.tolist() \n",
    "\n",
    "    # если в списке присутствуют все категории и нет нулевых значений в колонке 'debtors'\n",
    "    # добавляем в словарь dict_ номер позиции каждого элемента списка list_ по соответствующему ключу\n",
    "    if (len(list_) == 5) and (0 not in df['debtors']):\n",
    "        for i in list_:\n",
    "            dict_[i].append(list_.index(i))\n",
    "        count += 1 \n",
    "        \n",
    "                           \n",
    "# выводим словарь, где значение - это наиболее часто встречающаяся позиция в списке  \n",
    "print(f'Расчет позиций произведен на основании анализа {count} групп одного возраста.\\n')\n",
    "for key, val in dict_.items():\n",
    "    print(mode(val) + 1, key)"
   ]
  },
  {
   "cell_type": "markdown",
   "id": "0413aef8-a24a-4919-9d78-01d0644cdbc2",
   "metadata": {},
   "source": [
    "Рассчет подтверждает, что на процент должников влияет семейное положение. Процент должников в первых двух строках схож (9,76% и 9,31% соответственно), поэтому сменой их порядка можно пренебречь. Порядок остальных строк полностью совпадает. Возраст, очевидно, оказывает влияние на семейное положение, но семейное положение влияет на процент должников независимо от возраста."
   ]
  },
  {
   "cell_type": "markdown",
   "id": "f7b84fc7-f2de-4d10-9052-4847be997cef",
   "metadata": {},
   "source": [
    "**Вывод:**\n",
    "\n",
    "Зависимость между семейным положением и возвратом кредита в срок подтверждается."
   ]
  },
  {
   "cell_type": "markdown",
   "id": "3e231e64-9ff8-404f-b75a-e62d0c4f63ce",
   "metadata": {},
   "source": [
    "### Есть ли зависимость между уровнем дохода и возвратом кредита в срок?"
   ]
  },
  {
   "cell_type": "code",
   "execution_count": 34,
   "id": "f127241c-bfe6-47b2-8914-dc5e2301c7e2",
   "metadata": {},
   "outputs": [
    {
     "data": {
      "text/html": [
       "<div>\n",
       "<style scoped>\n",
       "    .dataframe tbody tr th:only-of-type {\n",
       "        vertical-align: middle;\n",
       "    }\n",
       "\n",
       "    .dataframe tbody tr th {\n",
       "        vertical-align: top;\n",
       "    }\n",
       "\n",
       "    .dataframe thead th {\n",
       "        text-align: right;\n",
       "    }\n",
       "</style>\n",
       "<table border=\"1\" class=\"dataframe\">\n",
       "  <thead>\n",
       "    <tr style=\"text-align: right;\">\n",
       "      <th></th>\n",
       "      <th>clients</th>\n",
       "      <th>clients, %</th>\n",
       "      <th>debtors</th>\n",
       "      <th>debtors, %</th>\n",
       "    </tr>\n",
       "    <tr>\n",
       "      <th>total_income_category</th>\n",
       "      <th></th>\n",
       "      <th></th>\n",
       "      <th></th>\n",
       "      <th></th>\n",
       "    </tr>\n",
       "  </thead>\n",
       "  <tbody>\n",
       "    <tr>\n",
       "      <th>A</th>\n",
       "      <td>25</td>\n",
       "      <td>0.12</td>\n",
       "      <td>2</td>\n",
       "      <td>8.00</td>\n",
       "    </tr>\n",
       "    <tr>\n",
       "      <th>B</th>\n",
       "      <td>5014</td>\n",
       "      <td>23.51</td>\n",
       "      <td>354</td>\n",
       "      <td>7.06</td>\n",
       "    </tr>\n",
       "    <tr>\n",
       "      <th>C</th>\n",
       "      <td>15921</td>\n",
       "      <td>74.64</td>\n",
       "      <td>1353</td>\n",
       "      <td>8.50</td>\n",
       "    </tr>\n",
       "    <tr>\n",
       "      <th>D</th>\n",
       "      <td>349</td>\n",
       "      <td>1.64</td>\n",
       "      <td>21</td>\n",
       "      <td>6.02</td>\n",
       "    </tr>\n",
       "    <tr>\n",
       "      <th>E</th>\n",
       "      <td>22</td>\n",
       "      <td>0.10</td>\n",
       "      <td>2</td>\n",
       "      <td>9.09</td>\n",
       "    </tr>\n",
       "  </tbody>\n",
       "</table>\n",
       "</div>"
      ],
      "text/plain": [
       "                       clients  clients, %  debtors  debtors, %\n",
       "total_income_category                                          \n",
       "A                           25        0.12        2        8.00\n",
       "B                         5014       23.51      354        7.06\n",
       "C                        15921       74.64     1353        8.50\n",
       "D                          349        1.64       21        6.02\n",
       "E                           22        0.10        2        9.09"
      ]
     },
     "execution_count": 34,
     "metadata": {},
     "output_type": "execute_result"
    }
   ],
   "source": [
    "debtors_dependence(data, 'total_income_category')"
   ]
  },
  {
   "cell_type": "markdown",
   "id": "4f34daa4-2a79-447f-8ce8-1fc2063f069f",
   "metadata": {},
   "source": [
    "Исходя из таблицы можно предположить, что чем выше доход, тем чаще клиенты возвращают кредит в срок. Однако, распределение клиентов по категориям неравномерное. Для более точного анализа создадим новые категории, где распределение клиентов будет примерно одинаковым."
   ]
  },
  {
   "cell_type": "markdown",
   "id": "bf90ae05-8d88-4d0a-8a2a-df8a985621ed",
   "metadata": {},
   "source": [
    "Повторим категоризацию клиентов по доходу с новыми параметрами:\n",
    "\n",
    "- 0–98500 — `'E_new'`;\n",
    "- 98501–132000 — `'D_new'`;\n",
    "- 132001–161000 — `'C_new'`;\n",
    "- 161001–214000 — `'B_new'`;\n",
    "- 214001 и выше — `'A_new'`."
   ]
  },
  {
   "cell_type": "code",
   "execution_count": 35,
   "id": "f62de9b6-c763-4af5-bc5f-7af0d9510930",
   "metadata": {},
   "outputs": [],
   "source": [
    "# создадим функцию для расчета категорий дохода\n",
    "def categorize_income_new(income):\n",
    "    try:\n",
    "        if 0 <= income <= 98500:\n",
    "            return 'E_new'\n",
    "        elif 98501 <= income <= 132000:\n",
    "            return 'D_new'\n",
    "        elif 132001 <= income <= 161000:\n",
    "            return 'C_new'\n",
    "        elif 161001 <= income <= 214000:\n",
    "            return 'B_new'\n",
    "        elif income >= 214001:\n",
    "            return 'A_new'\n",
    "    except:\n",
    "        pass"
   ]
  },
  {
   "cell_type": "code",
   "execution_count": 36,
   "id": "6260abc0-9c84-4c60-b64f-5e25c885d975",
   "metadata": {},
   "outputs": [],
   "source": [
    "# создаем столбец 'total_income_category_new' и добавим в него категории, вычисленные функцией categorize_income_new\n",
    "data['total_income_category_new'] = \\\n",
    "data['total_income'].apply(categorize_income_new)"
   ]
  },
  {
   "cell_type": "markdown",
   "id": "e6ce5142-f299-4b14-a0b1-34204568287e",
   "metadata": {},
   "source": [
    "Передадим в функцию `debtors_dependence` новый столбец ``'total_income_category_new'`` c равномерным распределением клиентов по категорям и сформируем новую таблицу для анализа."
   ]
  },
  {
   "cell_type": "code",
   "execution_count": 37,
   "id": "f4bc15d7-d420-44b3-a8e6-63872139259f",
   "metadata": {},
   "outputs": [
    {
     "data": {
      "text/html": [
       "<div>\n",
       "<style scoped>\n",
       "    .dataframe tbody tr th:only-of-type {\n",
       "        vertical-align: middle;\n",
       "    }\n",
       "\n",
       "    .dataframe tbody tr th {\n",
       "        vertical-align: top;\n",
       "    }\n",
       "\n",
       "    .dataframe thead th {\n",
       "        text-align: right;\n",
       "    }\n",
       "</style>\n",
       "<table border=\"1\" class=\"dataframe\">\n",
       "  <thead>\n",
       "    <tr style=\"text-align: right;\">\n",
       "      <th></th>\n",
       "      <th>clients</th>\n",
       "      <th>clients, %</th>\n",
       "      <th>debtors</th>\n",
       "      <th>debtors, %</th>\n",
       "    </tr>\n",
       "    <tr>\n",
       "      <th>total_income_category_new</th>\n",
       "      <th></th>\n",
       "      <th></th>\n",
       "      <th></th>\n",
       "      <th></th>\n",
       "    </tr>\n",
       "  </thead>\n",
       "  <tbody>\n",
       "    <tr>\n",
       "      <th>A_new</th>\n",
       "      <td>4289</td>\n",
       "      <td>20.11</td>\n",
       "      <td>303</td>\n",
       "      <td>7.06</td>\n",
       "    </tr>\n",
       "    <tr>\n",
       "      <th>B_new</th>\n",
       "      <td>4282</td>\n",
       "      <td>20.07</td>\n",
       "      <td>356</td>\n",
       "      <td>8.31</td>\n",
       "    </tr>\n",
       "    <tr>\n",
       "      <th>C_new</th>\n",
       "      <td>4243</td>\n",
       "      <td>19.89</td>\n",
       "      <td>375</td>\n",
       "      <td>8.84</td>\n",
       "    </tr>\n",
       "    <tr>\n",
       "      <th>D_new</th>\n",
       "      <td>4255</td>\n",
       "      <td>19.95</td>\n",
       "      <td>355</td>\n",
       "      <td>8.34</td>\n",
       "    </tr>\n",
       "    <tr>\n",
       "      <th>E_new</th>\n",
       "      <td>4262</td>\n",
       "      <td>19.98</td>\n",
       "      <td>343</td>\n",
       "      <td>8.05</td>\n",
       "    </tr>\n",
       "  </tbody>\n",
       "</table>\n",
       "</div>"
      ],
      "text/plain": [
       "                           clients  clients, %  debtors  debtors, %\n",
       "total_income_category_new                                          \n",
       "A_new                         4289       20.11      303        7.06\n",
       "B_new                         4282       20.07      356        8.31\n",
       "C_new                         4243       19.89      375        8.84\n",
       "D_new                         4255       19.95      355        8.34\n",
       "E_new                         4262       19.98      343        8.05"
      ]
     },
     "execution_count": 37,
     "metadata": {},
     "output_type": "execute_result"
    }
   ],
   "source": [
    "debtors_dependence(data, 'total_income_category_new')"
   ]
  },
  {
   "cell_type": "markdown",
   "id": "d8d48491-095c-4e78-9b07-dcb20c0b175c",
   "metadata": {},
   "source": [
    "Предположение об уменьшении должников с ростом дохода подтверждается лишь отчасти. Категория C_new находится ровно посередине и разделяет клиентов с более высоким и низким доходом. Как видим, снижение процента должников идет как с повышением дохода, так и с понижением. Если зависимость от дохода и есть, то она является не пропорциональной и меняет свою направленность, что требует дополнительных исследований."
   ]
  },
  {
   "cell_type": "markdown",
   "id": "b7e9f2b1-f706-4e77-8c20-1ca1d88590fd",
   "metadata": {},
   "source": [
    "**Вывод:**\n",
    "\n",
    "Явная зависимость между уровнем дохода и возвратом кредита в срок отсутствует. Возможно зависимость является более сложной, поскольку относительно клиентов из выборки со средним доходом, наблюдается снижение процента должников как в сторону увеличения дохода, так и в сторону уменьшения. Подтверждение такой зависимости требует дополнительных статистических исследований."
   ]
  },
  {
   "cell_type": "markdown",
   "id": "57832d01-cb37-4c57-8b98-ee1f124a632b",
   "metadata": {
    "tags": []
   },
   "source": [
    "### Как разные цели кредита влияют на его возврат в срок?"
   ]
  },
  {
   "cell_type": "code",
   "execution_count": 38,
   "id": "a8c6c3d5-59d7-4e14-babd-efc8e07995a8",
   "metadata": {},
   "outputs": [
    {
     "data": {
      "text/html": [
       "<div>\n",
       "<style scoped>\n",
       "    .dataframe tbody tr th:only-of-type {\n",
       "        vertical-align: middle;\n",
       "    }\n",
       "\n",
       "    .dataframe tbody tr th {\n",
       "        vertical-align: top;\n",
       "    }\n",
       "\n",
       "    .dataframe thead th {\n",
       "        text-align: right;\n",
       "    }\n",
       "</style>\n",
       "<table border=\"1\" class=\"dataframe\">\n",
       "  <thead>\n",
       "    <tr style=\"text-align: right;\">\n",
       "      <th></th>\n",
       "      <th>clients</th>\n",
       "      <th>clients, %</th>\n",
       "      <th>debtors</th>\n",
       "      <th>debtors, %</th>\n",
       "    </tr>\n",
       "    <tr>\n",
       "      <th>purpose_category</th>\n",
       "      <th></th>\n",
       "      <th></th>\n",
       "      <th></th>\n",
       "      <th></th>\n",
       "    </tr>\n",
       "  </thead>\n",
       "  <tbody>\n",
       "    <tr>\n",
       "      <th>операции с автомобилем</th>\n",
       "      <td>4279</td>\n",
       "      <td>20.06</td>\n",
       "      <td>400</td>\n",
       "      <td>9.35</td>\n",
       "    </tr>\n",
       "    <tr>\n",
       "      <th>получение образования</th>\n",
       "      <td>3988</td>\n",
       "      <td>18.70</td>\n",
       "      <td>369</td>\n",
       "      <td>9.25</td>\n",
       "    </tr>\n",
       "    <tr>\n",
       "      <th>проведение свадьбы</th>\n",
       "      <td>2313</td>\n",
       "      <td>10.84</td>\n",
       "      <td>183</td>\n",
       "      <td>7.91</td>\n",
       "    </tr>\n",
       "    <tr>\n",
       "      <th>операции с недвижимостью</th>\n",
       "      <td>10751</td>\n",
       "      <td>50.40</td>\n",
       "      <td>780</td>\n",
       "      <td>7.26</td>\n",
       "    </tr>\n",
       "  </tbody>\n",
       "</table>\n",
       "</div>"
      ],
      "text/plain": [
       "                          clients  clients, %  debtors  debtors, %\n",
       "purpose_category                                                  \n",
       "операции с автомобилем       4279       20.06      400        9.35\n",
       "получение образования        3988       18.70      369        9.25\n",
       "проведение свадьбы           2313       10.84      183        7.91\n",
       "операции с недвижимостью    10751       50.40      780        7.26"
      ]
     },
     "execution_count": 38,
     "metadata": {},
     "output_type": "execute_result"
    }
   ],
   "source": [
    "# передадим в функцию `debtors_dependence` столбец 'purpose_category'.\n",
    "debtors_dependence(data, 'purpose_category', sort=True)"
   ]
  },
  {
   "cell_type": "markdown",
   "id": "a68634d7-1319-49c3-952d-26bfc7885fb6",
   "metadata": {},
   "source": [
    "**Вывод:**\n",
    "\n",
    "Цель получения кредита оказывает влияние на процент задолженностей.\n",
    "\n",
    "- Кредит на автомобиль или образование - категории со схожим наиболее высоким процентом задолженностей по возврату.\n",
    "- Наименьшее количество задолженностей в категории операций с недвижимостью.\n",
    "- Кредит на свадьбу занимает промежуточное положение."
   ]
  },
  {
   "cell_type": "markdown",
   "id": "0e8ccf08-7d6e-4246-808f-77038117fa64",
   "metadata": {},
   "source": [
    "### Дополнительные вопросы"
   ]
  },
  {
   "cell_type": "markdown",
   "id": "85540cfc-2247-4bb6-a4d7-d1b89c4d4806",
   "metadata": {},
   "source": [
    "**Приведите возможные причины появления пропусков в исходных данных.**"
   ]
  },
  {
   "cell_type": "markdown",
   "id": "61618d73-b8d9-475a-aa95-862d4bfd96e2",
   "metadata": {},
   "source": [
    "**Ответ:**\n",
    "\n",
    "Пропуски в столбце `'days_employed'` (общий трудовой стаж в днях) могут быть связаны со следующими факторами:\n",
    "\n",
    "- Трудовой стаж при получении кредита не запрашивали.\n",
    "- Трудовой стаж мал/отсутствует.\n",
    "- У клиента нет сиюминутной возможности / желания вычислять трудовой стаж, особенно с точностью до дня, поскольку это трудоемко, особенно при частой смене работы.\n",
    "- Работа неофициальная и нет возможности подтвердить документально.\n",
    "\n",
    "Пропуски в столбце `'total_income'` (ежемесячный доход) могут быть связаны:\n",
    "\n",
    "- Доход при получении кредита не запрашивали.\n",
    "- Дохода нет / недостаточно для одобрения кредита, клиент его не указывает.\n",
    "- Есть достаточный доход, но его невозможно документально подтвердить (нелегальный).\n",
    "- У клиента высокий доход, который он предпочитает не раскрывать.\n",
    "\n",
    "Помимо перечисленных причин, характерных для определенных категорий, также пропуски могут быть связаны с ошибками в записи (человеческий фактор) и техническими проблемами."
   ]
  },
  {
   "cell_type": "markdown",
   "id": "c73ca39e-8fac-4b86-aac0-106dd8593890",
   "metadata": {},
   "source": [
    "**Объясните, почему заполнить пропуски медианным значением — лучшее решение для количественных переменных.**"
   ]
  },
  {
   "cell_type": "markdown",
   "id": "f9be0561-9347-40ce-a242-4deb19f633d7",
   "metadata": {},
   "source": [
    "**Ответ:**\n",
    "\n",
    "На практике чаще используют заполнение пропусков медианным значением, так как медиана является более устойчивым показателем к выбросам в данных и не требует сложных вычислений. Однако, это не всегда лучшее решение для количественных переменных. Для задачи кредитного скоринга попуски могут выделяться в отдельную категорию, заменяться средним значением или заполняться с использованием более сложных методов в зависимости от конкретного случая.\n",
    "\n",
    "<br>[Cпособы работы с пропущенными данными для задач кредитного скоринга](https://vaael.ru/ru/article/view?id=1157)"
   ]
  },
  {
   "cell_type": "markdown",
   "id": "d404974f-7bad-49af-a52b-daff57a26242",
   "metadata": {},
   "source": [
    "## Общий вывод"
   ]
  },
  {
   "cell_type": "markdown",
   "id": "02588943-b816-4f50-80f9-4a3231b3ee34",
   "metadata": {},
   "source": [
    "**В ходе проекта мы провели следующую работу:**\n",
    "- изучили данные, проверили их на предмет аномалий и несоответствий;\n",
    "\n",
    "- произвели предобработку данных для последующего анализа;\n",
    "\n",
    "- произвели исследования и выяснили зависимость возврата кредита в срок от различных факторов (см. ниже).\n",
    "\n",
    "**Результаты:**\n",
    "\n",
    "В результате исследования мы установили следующее:\n",
    "\n",
    "- Зависимость между количеством детей и возвратом кредита в срок подтвердилась частично. Количество детей не оказывает существенного влияния на этот показатель, но влияет факт наличия / отсутствия детей. Если дети есть, то клиенты чаще задерживают выплаты.\n",
    "\n",
    "- Зависимость между семейным положением и возвратом кредита в срок подтвердилась. Самый высокий процент должников наблюдается в категориях `'Не женат / не замужем'` и `'гражданский брак'`. Далее этот показатель снижается в соответствии с порядком: `'женат / замужем'`, `'в разводе'`, `'вдовец / вдова'`.\n",
    "\n",
    "- Зависимость между уровнем дохода и возвратом кредита в срок отсутствует, либо не является пропорциональной, а представляет более сложный вид зависимости, что требует дополнительных исследований.\n",
    "\n",
    "- Зависимость между целями кредита и возвратом в срок подтвердилась. Схожий максимальный процент должников обнаружен в категориях: `'операции с автомобилем'` и `'получение образования'`. Минимальный процент должников в категории `'операции с недвижимостью'`. Кредит на получение свадьбы занимает промежуточное положение.\n",
    "\n",
    "**Рекомендации:**\n",
    "\n",
    "Для повышения качества анализа необходимо заполнить пропуски реальными данными в столбцах `days_employed` и `total_income`.       "
   ]
  }
 ],
 "metadata": {
  "kernelspec": {
   "display_name": "practicum_env",
   "language": "python",
   "name": "practicum_env"
  },
  "language_info": {
   "codemirror_mode": {
    "name": "ipython",
    "version": 3
   },
   "file_extension": ".py",
   "mimetype": "text/x-python",
   "name": "python",
   "nbconvert_exporter": "python",
   "pygments_lexer": "ipython3",
   "version": "3.11.0"
  },
  "toc-autonumbering": true,
  "toc-showcode": false,
  "toc-showmarkdowntxt": false,
  "toc-showtags": false
 },
 "nbformat": 4,
 "nbformat_minor": 5
}

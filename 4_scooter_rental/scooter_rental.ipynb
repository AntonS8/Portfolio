{
 "cells": [
  {
   "cell_type": "markdown",
   "id": "cf1876ba",
   "metadata": {},
   "source": [
    "# Исследование показателей сервиса аренды самокатов"
   ]
  },
  {
   "cell_type": "markdown",
   "id": "25cefa6d",
   "metadata": {},
   "source": [
    "## Цель исследования"
   ]
  },
  {
   "cell_type": "markdown",
   "id": "733b7858",
   "metadata": {},
   "source": [
    "- Изучить основные показатели.\n",
    "- Рассчитать выручку.\n",
    "\n",
    "Проверить гипотезы:\n",
    "- Тратят ли пользователи с подпиской больше времени на поездки?\n",
    "- Среднее расстояние, которое проезжают пользователи с подпиской за одну поездку, не превышает 3130 метров (оптимальное расстояние с точки зрения износа самоката)? \n",
    "- Будет ли помесячная выручка от пользователей с подпиской по месяцам выше, чем выручка от пользователей без подписки?\n",
    "\n",
    "Дополнительные задачи:\n",
    "- Выяснить, снизилось ли количество обращений в техподдержку всвязи с обновлением серверов?\n",
    "- Рассчитать минимальное количество промокодов, необходимое для продления подписки заданного числа клиентов.\n",
    "- Рассчитать минимальное количество рассылки push-уведомлений, которые прочитает заданное число клиентов."
   ]
  },
  {
   "cell_type": "markdown",
   "id": "d4835f7b",
   "metadata": {},
   "source": [
    "### Ход исследования"
   ]
  },
  {
   "cell_type": "markdown",
   "id": "939ced19",
   "metadata": {},
   "source": [
    "В качестве исходных данных используем информацию, предоставленную сервисом аренды самокатов в виде трёх таблиц в формате \".csv\", описание таблиц приведем ниже.\n",
    "\n",
    "Пользователи (users_go.csv):\n",
    "\n",
    "- `user_id` - уникальный идентификатор пользователя;\n",
    "- `name` - имя пользователя;\n",
    "- `age` - возраст;\n",
    "- `city` - город;\n",
    "- `subscription_type` - тип подписки (free, ultra).\n",
    "\n",
    "Поездки (rides_go.csv):\n",
    "\n",
    "- `user_id` - уникальный идентификатор пользователя;\n",
    "- `distance` - расстояние, которое пользователь проехал в текущей сессии (в метрах);\n",
    "- `duration` - продолжительность сессии (в минутах) — время с того момента, как пользователь нажал кнопку «Начать поездку» до момента, как он нажал кнопку «Завершить поездку»;\n",
    "- `date` - дата совершения поездки.\n",
    "\n",
    "Подписки (subscriptions_go.csv):\n",
    "\n",
    "- `subscription_type` - тип подписки;\n",
    "- `minute_price` - стоимость одной минуты поездки по данной подписке;\n",
    "- `start_ride_price` - стоимость начала поездки;\n",
    "- `subscription_fee` - стоимость ежемесячного платежа.\n",
    "\n",
    "О качестве данных ничего не известно. Перед тем как приступить к исследованию, понадобится обзор данных и, при необходимости, предобработка.\n",
    "\n",
    "Таким образом исследование имеет следующие этапы:\n",
    "- Обзор данных.\n",
    "- Предобработка данных.\n",
    "- Исследование основных показателей.\n",
    "- Объединение данных.\n",
    "- Расчёт выручки.\n",
    "- Проверка гипотез.\n",
    "- Дополнительные задачи.\n",
    "- Вывод."
   ]
  },
  {
   "cell_type": "markdown",
   "id": "051ba72b",
   "metadata": {},
   "source": [
    "## Обзор данных"
   ]
  },
  {
   "cell_type": "markdown",
   "id": "b17bb458",
   "metadata": {},
   "source": [
    "### Получение данных"
   ]
  },
  {
   "cell_type": "markdown",
   "id": "d3ddb775",
   "metadata": {},
   "source": [
    "Загрузим данные из csv-файлов в датафреймы c помощью библиотеки pandas."
   ]
  },
  {
   "cell_type": "code",
   "execution_count": 1,
   "id": "575b2eb0",
   "metadata": {},
   "outputs": [],
   "source": [
    "# импортируем необходимые модули\n",
    "import pandas as pd\n",
    "import matplotlib.pyplot as plt\n",
    "import numpy as np\n",
    "from scipy import stats as st\n",
    "from scipy.stats import binom, norm\n",
    "from math import factorial, sqrt\n",
    "from matplotlib.pyplot import figure\n",
    "import time\n",
    "import warnings\n",
    "import seaborn as sns"
   ]
  },
  {
   "cell_type": "code",
   "execution_count": 2,
   "id": "f996ec3c",
   "metadata": {},
   "outputs": [],
   "source": [
    "# создаем датафреймы из файлов .csv\n",
    "users = pd.read_csv('users_go.csv')\n",
    "rides = pd.read_csv('rides_go.csv')\n",
    "subscriptions = pd.read_csv('subscriptions_go.csv')"
   ]
  },
  {
   "cell_type": "markdown",
   "id": "9ca96175",
   "metadata": {},
   "source": [
    "### Общая информация"
   ]
  },
  {
   "cell_type": "markdown",
   "id": "5f4a6a20",
   "metadata": {},
   "source": [
    "Выведем первые строки каждого датафрейма и получим общую информацию."
   ]
  },
  {
   "cell_type": "code",
   "execution_count": 3,
   "id": "323c3e37",
   "metadata": {},
   "outputs": [
    {
     "data": {
      "text/html": [
       "<div>\n",
       "<style scoped>\n",
       "    .dataframe tbody tr th:only-of-type {\n",
       "        vertical-align: middle;\n",
       "    }\n",
       "\n",
       "    .dataframe tbody tr th {\n",
       "        vertical-align: top;\n",
       "    }\n",
       "\n",
       "    .dataframe thead th {\n",
       "        text-align: right;\n",
       "    }\n",
       "</style>\n",
       "<table border=\"1\" class=\"dataframe\">\n",
       "  <thead>\n",
       "    <tr style=\"text-align: right;\">\n",
       "      <th></th>\n",
       "      <th>user_id</th>\n",
       "      <th>name</th>\n",
       "      <th>age</th>\n",
       "      <th>city</th>\n",
       "      <th>subscription_type</th>\n",
       "    </tr>\n",
       "  </thead>\n",
       "  <tbody>\n",
       "    <tr>\n",
       "      <th>0</th>\n",
       "      <td>1</td>\n",
       "      <td>Кира</td>\n",
       "      <td>22</td>\n",
       "      <td>Тюмень</td>\n",
       "      <td>ultra</td>\n",
       "    </tr>\n",
       "    <tr>\n",
       "      <th>1</th>\n",
       "      <td>2</td>\n",
       "      <td>Станислав</td>\n",
       "      <td>31</td>\n",
       "      <td>Омск</td>\n",
       "      <td>ultra</td>\n",
       "    </tr>\n",
       "    <tr>\n",
       "      <th>2</th>\n",
       "      <td>3</td>\n",
       "      <td>Алексей</td>\n",
       "      <td>20</td>\n",
       "      <td>Москва</td>\n",
       "      <td>ultra</td>\n",
       "    </tr>\n",
       "    <tr>\n",
       "      <th>3</th>\n",
       "      <td>4</td>\n",
       "      <td>Константин</td>\n",
       "      <td>26</td>\n",
       "      <td>Ростов-на-Дону</td>\n",
       "      <td>ultra</td>\n",
       "    </tr>\n",
       "    <tr>\n",
       "      <th>4</th>\n",
       "      <td>5</td>\n",
       "      <td>Адель</td>\n",
       "      <td>28</td>\n",
       "      <td>Омск</td>\n",
       "      <td>ultra</td>\n",
       "    </tr>\n",
       "  </tbody>\n",
       "</table>\n",
       "</div>"
      ],
      "text/plain": [
       "   user_id        name  age            city subscription_type\n",
       "0        1        Кира   22          Тюмень             ultra\n",
       "1        2   Станислав   31            Омск             ultra\n",
       "2        3     Алексей   20          Москва             ultra\n",
       "3        4  Константин   26  Ростов-на-Дону             ultra\n",
       "4        5       Адель   28            Омск             ultra"
      ]
     },
     "execution_count": 3,
     "metadata": {},
     "output_type": "execute_result"
    }
   ],
   "source": [
    "users.head()"
   ]
  },
  {
   "cell_type": "code",
   "execution_count": 4,
   "id": "9417fd04",
   "metadata": {},
   "outputs": [
    {
     "name": "stdout",
     "output_type": "stream",
     "text": [
      "<class 'pandas.core.frame.DataFrame'>\n",
      "RangeIndex: 1565 entries, 0 to 1564\n",
      "Data columns (total 5 columns):\n",
      " #   Column             Non-Null Count  Dtype \n",
      "---  ------             --------------  ----- \n",
      " 0   user_id            1565 non-null   int64 \n",
      " 1   name               1565 non-null   object\n",
      " 2   age                1565 non-null   int64 \n",
      " 3   city               1565 non-null   object\n",
      " 4   subscription_type  1565 non-null   object\n",
      "dtypes: int64(2), object(3)\n",
      "memory usage: 61.3+ KB\n"
     ]
    }
   ],
   "source": [
    "users.info()"
   ]
  },
  {
   "cell_type": "markdown",
   "id": "71e0d612",
   "metadata": {},
   "source": [
    "**Вывод:**\n",
    "\n",
    "Пропусков нет. Данные имеют корректную структуру."
   ]
  },
  {
   "cell_type": "code",
   "execution_count": 5,
   "id": "2bd1d8cb",
   "metadata": {},
   "outputs": [
    {
     "data": {
      "text/html": [
       "<div>\n",
       "<style scoped>\n",
       "    .dataframe tbody tr th:only-of-type {\n",
       "        vertical-align: middle;\n",
       "    }\n",
       "\n",
       "    .dataframe tbody tr th {\n",
       "        vertical-align: top;\n",
       "    }\n",
       "\n",
       "    .dataframe thead th {\n",
       "        text-align: right;\n",
       "    }\n",
       "</style>\n",
       "<table border=\"1\" class=\"dataframe\">\n",
       "  <thead>\n",
       "    <tr style=\"text-align: right;\">\n",
       "      <th></th>\n",
       "      <th>user_id</th>\n",
       "      <th>distance</th>\n",
       "      <th>duration</th>\n",
       "      <th>date</th>\n",
       "    </tr>\n",
       "  </thead>\n",
       "  <tbody>\n",
       "    <tr>\n",
       "      <th>0</th>\n",
       "      <td>1</td>\n",
       "      <td>4409.919140</td>\n",
       "      <td>25.599769</td>\n",
       "      <td>2021-01-01</td>\n",
       "    </tr>\n",
       "    <tr>\n",
       "      <th>1</th>\n",
       "      <td>1</td>\n",
       "      <td>2617.592153</td>\n",
       "      <td>15.816871</td>\n",
       "      <td>2021-01-18</td>\n",
       "    </tr>\n",
       "    <tr>\n",
       "      <th>2</th>\n",
       "      <td>1</td>\n",
       "      <td>754.159807</td>\n",
       "      <td>6.232113</td>\n",
       "      <td>2021-04-20</td>\n",
       "    </tr>\n",
       "    <tr>\n",
       "      <th>3</th>\n",
       "      <td>1</td>\n",
       "      <td>2694.783254</td>\n",
       "      <td>18.511000</td>\n",
       "      <td>2021-08-11</td>\n",
       "    </tr>\n",
       "    <tr>\n",
       "      <th>4</th>\n",
       "      <td>1</td>\n",
       "      <td>4028.687306</td>\n",
       "      <td>26.265803</td>\n",
       "      <td>2021-08-28</td>\n",
       "    </tr>\n",
       "  </tbody>\n",
       "</table>\n",
       "</div>"
      ],
      "text/plain": [
       "   user_id     distance   duration        date\n",
       "0        1  4409.919140  25.599769  2021-01-01\n",
       "1        1  2617.592153  15.816871  2021-01-18\n",
       "2        1   754.159807   6.232113  2021-04-20\n",
       "3        1  2694.783254  18.511000  2021-08-11\n",
       "4        1  4028.687306  26.265803  2021-08-28"
      ]
     },
     "execution_count": 5,
     "metadata": {},
     "output_type": "execute_result"
    }
   ],
   "source": [
    "rides.head()"
   ]
  },
  {
   "cell_type": "code",
   "execution_count": 6,
   "id": "cffef2f5",
   "metadata": {},
   "outputs": [
    {
     "name": "stdout",
     "output_type": "stream",
     "text": [
      "<class 'pandas.core.frame.DataFrame'>\n",
      "RangeIndex: 18068 entries, 0 to 18067\n",
      "Data columns (total 4 columns):\n",
      " #   Column    Non-Null Count  Dtype  \n",
      "---  ------    --------------  -----  \n",
      " 0   user_id   18068 non-null  int64  \n",
      " 1   distance  18068 non-null  float64\n",
      " 2   duration  18068 non-null  float64\n",
      " 3   date      18068 non-null  object \n",
      "dtypes: float64(2), int64(1), object(1)\n",
      "memory usage: 564.8+ KB\n"
     ]
    }
   ],
   "source": [
    "rides.info()"
   ]
  },
  {
   "cell_type": "markdown",
   "id": "ac1ebd29",
   "metadata": {},
   "source": [
    "**Вывод:**\n",
    "\n",
    "Пропусков нет. Необходимо привести столбец `date` к типу даты pandas."
   ]
  },
  {
   "cell_type": "code",
   "execution_count": 7,
   "id": "a4839daf",
   "metadata": {},
   "outputs": [
    {
     "data": {
      "text/html": [
       "<div>\n",
       "<style scoped>\n",
       "    .dataframe tbody tr th:only-of-type {\n",
       "        vertical-align: middle;\n",
       "    }\n",
       "\n",
       "    .dataframe tbody tr th {\n",
       "        vertical-align: top;\n",
       "    }\n",
       "\n",
       "    .dataframe thead th {\n",
       "        text-align: right;\n",
       "    }\n",
       "</style>\n",
       "<table border=\"1\" class=\"dataframe\">\n",
       "  <thead>\n",
       "    <tr style=\"text-align: right;\">\n",
       "      <th></th>\n",
       "      <th>subscription_type</th>\n",
       "      <th>minute_price</th>\n",
       "      <th>start_ride_price</th>\n",
       "      <th>subscription_fee</th>\n",
       "    </tr>\n",
       "  </thead>\n",
       "  <tbody>\n",
       "    <tr>\n",
       "      <th>0</th>\n",
       "      <td>free</td>\n",
       "      <td>8</td>\n",
       "      <td>50</td>\n",
       "      <td>0</td>\n",
       "    </tr>\n",
       "    <tr>\n",
       "      <th>1</th>\n",
       "      <td>ultra</td>\n",
       "      <td>6</td>\n",
       "      <td>0</td>\n",
       "      <td>199</td>\n",
       "    </tr>\n",
       "  </tbody>\n",
       "</table>\n",
       "</div>"
      ],
      "text/plain": [
       "  subscription_type  minute_price  start_ride_price  subscription_fee\n",
       "0              free             8                50                 0\n",
       "1             ultra             6                 0               199"
      ]
     },
     "execution_count": 7,
     "metadata": {},
     "output_type": "execute_result"
    }
   ],
   "source": [
    "subscriptions.head()"
   ]
  },
  {
   "cell_type": "code",
   "execution_count": 8,
   "id": "a21fa78a",
   "metadata": {},
   "outputs": [
    {
     "name": "stdout",
     "output_type": "stream",
     "text": [
      "<class 'pandas.core.frame.DataFrame'>\n",
      "RangeIndex: 2 entries, 0 to 1\n",
      "Data columns (total 4 columns):\n",
      " #   Column             Non-Null Count  Dtype \n",
      "---  ------             --------------  ----- \n",
      " 0   subscription_type  2 non-null      object\n",
      " 1   minute_price       2 non-null      int64 \n",
      " 2   start_ride_price   2 non-null      int64 \n",
      " 3   subscription_fee   2 non-null      int64 \n",
      "dtypes: int64(3), object(1)\n",
      "memory usage: 192.0+ bytes\n"
     ]
    }
   ],
   "source": [
    "subscriptions.info()"
   ]
  },
  {
   "cell_type": "markdown",
   "id": "039d05d1",
   "metadata": {},
   "source": [
    "**Вывод:**\n",
    "\n",
    "Пропусков нет. Данные имеют корректную структуру."
   ]
  },
  {
   "cell_type": "markdown",
   "id": "7cee877a",
   "metadata": {},
   "source": [
    "## Предобработка данных"
   ]
  },
  {
   "cell_type": "markdown",
   "id": "f178c63f",
   "metadata": {},
   "source": [
    "### Изменение типов данных"
   ]
  },
  {
   "cell_type": "code",
   "execution_count": 9,
   "id": "3f4fef42",
   "metadata": {},
   "outputs": [],
   "source": [
    "# в датафрейме rides приведем столбец 'date' к типу даты pandas.\n",
    "rides['date'] = pd.to_datetime(rides['date'], format='%Y-%m-%d')"
   ]
  },
  {
   "cell_type": "code",
   "execution_count": 10,
   "id": "77672f42",
   "metadata": {},
   "outputs": [
    {
     "data": {
      "text/html": [
       "<div>\n",
       "<style scoped>\n",
       "    .dataframe tbody tr th:only-of-type {\n",
       "        vertical-align: middle;\n",
       "    }\n",
       "\n",
       "    .dataframe tbody tr th {\n",
       "        vertical-align: top;\n",
       "    }\n",
       "\n",
       "    .dataframe thead th {\n",
       "        text-align: right;\n",
       "    }\n",
       "</style>\n",
       "<table border=\"1\" class=\"dataframe\">\n",
       "  <thead>\n",
       "    <tr style=\"text-align: right;\">\n",
       "      <th></th>\n",
       "      <th>user_id</th>\n",
       "      <th>distance</th>\n",
       "      <th>duration</th>\n",
       "      <th>date</th>\n",
       "    </tr>\n",
       "  </thead>\n",
       "  <tbody>\n",
       "    <tr>\n",
       "      <th>0</th>\n",
       "      <td>1</td>\n",
       "      <td>4409.919140</td>\n",
       "      <td>25.599769</td>\n",
       "      <td>2021-01-01</td>\n",
       "    </tr>\n",
       "    <tr>\n",
       "      <th>1</th>\n",
       "      <td>1</td>\n",
       "      <td>2617.592153</td>\n",
       "      <td>15.816871</td>\n",
       "      <td>2021-01-18</td>\n",
       "    </tr>\n",
       "    <tr>\n",
       "      <th>2</th>\n",
       "      <td>1</td>\n",
       "      <td>754.159807</td>\n",
       "      <td>6.232113</td>\n",
       "      <td>2021-04-20</td>\n",
       "    </tr>\n",
       "  </tbody>\n",
       "</table>\n",
       "</div>"
      ],
      "text/plain": [
       "   user_id     distance   duration       date\n",
       "0        1  4409.919140  25.599769 2021-01-01\n",
       "1        1  2617.592153  15.816871 2021-01-18\n",
       "2        1   754.159807   6.232113 2021-04-20"
      ]
     },
     "execution_count": 10,
     "metadata": {},
     "output_type": "execute_result"
    }
   ],
   "source": [
    "# выведем первые строки таблицы\n",
    "rides.head(3)"
   ]
  },
  {
   "cell_type": "code",
   "execution_count": 11,
   "id": "10422916",
   "metadata": {},
   "outputs": [
    {
     "name": "stdout",
     "output_type": "stream",
     "text": [
      "<class 'pandas.core.frame.DataFrame'>\n",
      "RangeIndex: 18068 entries, 0 to 18067\n",
      "Data columns (total 4 columns):\n",
      " #   Column    Non-Null Count  Dtype         \n",
      "---  ------    --------------  -----         \n",
      " 0   user_id   18068 non-null  int64         \n",
      " 1   distance  18068 non-null  float64       \n",
      " 2   duration  18068 non-null  float64       \n",
      " 3   date      18068 non-null  datetime64[ns]\n",
      "dtypes: datetime64[ns](1), float64(2), int64(1)\n",
      "memory usage: 564.8 KB\n"
     ]
    }
   ],
   "source": [
    "# получим общую информацию о данных\n",
    "rides.info()"
   ]
  },
  {
   "cell_type": "markdown",
   "id": "9d302cdc",
   "metadata": {},
   "source": [
    "**Вывод:**\n",
    "\n",
    "Тип данных изменен."
   ]
  },
  {
   "cell_type": "markdown",
   "id": "f730dcea",
   "metadata": {},
   "source": [
    "### Проверка на пропуски и дубликаты"
   ]
  },
  {
   "cell_type": "markdown",
   "id": "87d22d71",
   "metadata": {},
   "source": [
    "**Выполним проверку для датафрейма `users`.**"
   ]
  },
  {
   "cell_type": "code",
   "execution_count": 12,
   "id": "42aaf2ae",
   "metadata": {
    "scrolled": true
   },
   "outputs": [
    {
     "data": {
      "text/plain": [
       "user_id              0\n",
       "name                 0\n",
       "age                  0\n",
       "city                 0\n",
       "subscription_type    0\n",
       "dtype: int64"
      ]
     },
     "execution_count": 12,
     "metadata": {},
     "output_type": "execute_result"
    }
   ],
   "source": [
    "# Число пропусков\n",
    "users.isna().sum()"
   ]
  },
  {
   "cell_type": "markdown",
   "id": "6530dc43",
   "metadata": {},
   "source": [
    "Пропусков не обнаружено."
   ]
  },
  {
   "cell_type": "code",
   "execution_count": 13,
   "id": "4c61cd28",
   "metadata": {},
   "outputs": [
    {
     "data": {
      "text/plain": [
       "31"
      ]
     },
     "execution_count": 13,
     "metadata": {},
     "output_type": "execute_result"
    }
   ],
   "source": [
    "# Число явных дубликатов\n",
    "users.duplicated().sum()"
   ]
  },
  {
   "cell_type": "code",
   "execution_count": 14,
   "id": "7b774e61",
   "metadata": {},
   "outputs": [
    {
     "data": {
      "text/plain": [
       "31"
      ]
     },
     "execution_count": 14,
     "metadata": {},
     "output_type": "execute_result"
    }
   ],
   "source": [
    "# Дубликаты в столбце 'user_id'\n",
    "users['user_id'].duplicated().sum()"
   ]
  },
  {
   "cell_type": "markdown",
   "id": "b6c4981f",
   "metadata": {},
   "source": [
    "Обнаружены явные дубликаты. Удалим их."
   ]
  },
  {
   "cell_type": "code",
   "execution_count": 15,
   "id": "94e30107",
   "metadata": {},
   "outputs": [
    {
     "data": {
      "text/plain": [
       "0"
      ]
     },
     "execution_count": 15,
     "metadata": {},
     "output_type": "execute_result"
    }
   ],
   "source": [
    "# удаление явных дубликатов\n",
    "users = users.drop_duplicates().reset_index(drop=True)\n",
    "\n",
    "# Число явных дубликатов после удаленя\n",
    "users.duplicated().sum()"
   ]
  },
  {
   "cell_type": "markdown",
   "id": "3d3ed6b1",
   "metadata": {},
   "source": [
    "Явные дубликаты удалены. Проверим, есть ли неявные."
   ]
  },
  {
   "cell_type": "code",
   "execution_count": 16,
   "id": "27b9f790",
   "metadata": {},
   "outputs": [
    {
     "data": {
      "text/html": [
       "<div>\n",
       "<style scoped>\n",
       "    .dataframe tbody tr th:only-of-type {\n",
       "        vertical-align: middle;\n",
       "    }\n",
       "\n",
       "    .dataframe tbody tr th {\n",
       "        vertical-align: top;\n",
       "    }\n",
       "\n",
       "    .dataframe thead th {\n",
       "        text-align: right;\n",
       "    }\n",
       "</style>\n",
       "<table border=\"1\" class=\"dataframe\">\n",
       "  <thead>\n",
       "    <tr style=\"text-align: right;\">\n",
       "      <th></th>\n",
       "      <th>user_id</th>\n",
       "      <th>name</th>\n",
       "      <th>age</th>\n",
       "      <th>city</th>\n",
       "      <th>subscription_type</th>\n",
       "    </tr>\n",
       "  </thead>\n",
       "  <tbody>\n",
       "    <tr>\n",
       "      <th>0</th>\n",
       "      <td>1</td>\n",
       "      <td>Кира</td>\n",
       "      <td>22</td>\n",
       "      <td>Тюмень</td>\n",
       "      <td>ultra</td>\n",
       "    </tr>\n",
       "    <tr>\n",
       "      <th>1</th>\n",
       "      <td>2</td>\n",
       "      <td>Станислав</td>\n",
       "      <td>31</td>\n",
       "      <td>Омск</td>\n",
       "      <td>ultra</td>\n",
       "    </tr>\n",
       "    <tr>\n",
       "      <th>2</th>\n",
       "      <td>3</td>\n",
       "      <td>Алексей</td>\n",
       "      <td>20</td>\n",
       "      <td>Москва</td>\n",
       "      <td>ultra</td>\n",
       "    </tr>\n",
       "    <tr>\n",
       "      <th>3</th>\n",
       "      <td>4</td>\n",
       "      <td>Константин</td>\n",
       "      <td>26</td>\n",
       "      <td>Ростов-на-Дону</td>\n",
       "      <td>ultra</td>\n",
       "    </tr>\n",
       "    <tr>\n",
       "      <th>4</th>\n",
       "      <td>5</td>\n",
       "      <td>Адель</td>\n",
       "      <td>28</td>\n",
       "      <td>Омск</td>\n",
       "      <td>ultra</td>\n",
       "    </tr>\n",
       "  </tbody>\n",
       "</table>\n",
       "</div>"
      ],
      "text/plain": [
       "   user_id        name  age            city subscription_type\n",
       "0        1        Кира   22          Тюмень             ultra\n",
       "1        2   Станислав   31            Омск             ultra\n",
       "2        3     Алексей   20          Москва             ultra\n",
       "3        4  Константин   26  Ростов-на-Дону             ultra\n",
       "4        5       Адель   28            Омск             ultra"
      ]
     },
     "execution_count": 16,
     "metadata": {},
     "output_type": "execute_result"
    }
   ],
   "source": [
    "# выведем первые строки\n",
    "users.head()"
   ]
  },
  {
   "cell_type": "code",
   "execution_count": 17,
   "id": "2a05672c",
   "metadata": {},
   "outputs": [
    {
     "data": {
      "text/plain": [
       "Пятигорск         219\n",
       "Екатеринбург      204\n",
       "Ростов-на-Дону    198\n",
       "Краснодар         193\n",
       "Сочи              189\n",
       "Омск              183\n",
       "Тюмень            180\n",
       "Москва            168\n",
       "Name: city, dtype: int64"
      ]
     },
     "execution_count": 17,
     "metadata": {},
     "output_type": "execute_result"
    }
   ],
   "source": [
    "# уникальные значения в столбце 'city'\n",
    "users['city'].value_counts()"
   ]
  },
  {
   "cell_type": "code",
   "execution_count": 18,
   "id": "0ece55f1",
   "metadata": {},
   "outputs": [
    {
     "data": {
      "text/plain": [
       "free     835\n",
       "ultra    699\n",
       "Name: subscription_type, dtype: int64"
      ]
     },
     "execution_count": 18,
     "metadata": {},
     "output_type": "execute_result"
    }
   ],
   "source": [
    "# уникальные значения в столбце 'subscription_type'\n",
    "users['subscription_type'].value_counts()"
   ]
  },
  {
   "cell_type": "markdown",
   "id": "48932109",
   "metadata": {},
   "source": [
    "Неявных дубликатов не обнаружено."
   ]
  },
  {
   "cell_type": "markdown",
   "id": "98e64c67",
   "metadata": {},
   "source": [
    "**Выполним проверку для датафрейма `rides`.**"
   ]
  },
  {
   "cell_type": "code",
   "execution_count": 19,
   "id": "10ca6626",
   "metadata": {},
   "outputs": [
    {
     "data": {
      "text/plain": [
       "user_id     0\n",
       "distance    0\n",
       "duration    0\n",
       "date        0\n",
       "dtype: int64"
      ]
     },
     "execution_count": 19,
     "metadata": {},
     "output_type": "execute_result"
    }
   ],
   "source": [
    "# Число пропусков\n",
    "rides.isna().sum()"
   ]
  },
  {
   "cell_type": "markdown",
   "id": "9343803d",
   "metadata": {},
   "source": [
    "Пропусков не обнаружено."
   ]
  },
  {
   "cell_type": "code",
   "execution_count": 20,
   "id": "7521e7e1",
   "metadata": {},
   "outputs": [
    {
     "data": {
      "text/plain": [
       "0"
      ]
     },
     "execution_count": 20,
     "metadata": {},
     "output_type": "execute_result"
    }
   ],
   "source": [
    "# Число явных дубликатов\n",
    "rides.duplicated().sum()"
   ]
  },
  {
   "cell_type": "markdown",
   "id": "2d0b4f7e",
   "metadata": {},
   "source": [
    "Явных дубликатов не обнаружено."
   ]
  },
  {
   "cell_type": "markdown",
   "id": "aa994a54",
   "metadata": {},
   "source": [
    "**Выполним проверку для датафрейма `subscriptions`.**"
   ]
  },
  {
   "cell_type": "code",
   "execution_count": 21,
   "id": "c17dd4a5",
   "metadata": {},
   "outputs": [
    {
     "data": {
      "text/plain": [
       "subscription_type    0\n",
       "minute_price         0\n",
       "start_ride_price     0\n",
       "subscription_fee     0\n",
       "dtype: int64"
      ]
     },
     "execution_count": 21,
     "metadata": {},
     "output_type": "execute_result"
    }
   ],
   "source": [
    "# Число пропусков\n",
    "subscriptions.isna().sum()"
   ]
  },
  {
   "cell_type": "markdown",
   "id": "02a22305",
   "metadata": {},
   "source": [
    "Пропусков не обнаружено."
   ]
  },
  {
   "cell_type": "code",
   "execution_count": 22,
   "id": "4e44bed7",
   "metadata": {},
   "outputs": [
    {
     "data": {
      "text/plain": [
       "0"
      ]
     },
     "execution_count": 22,
     "metadata": {},
     "output_type": "execute_result"
    }
   ],
   "source": [
    "# Число явных дубликатов\n",
    "subscriptions.duplicated().sum()"
   ]
  },
  {
   "cell_type": "markdown",
   "id": "c079c473",
   "metadata": {},
   "source": [
    "Явных дубликатов не обнаружено. Проверим наличие неявных дубликатов."
   ]
  },
  {
   "cell_type": "code",
   "execution_count": 23,
   "id": "97122b05",
   "metadata": {},
   "outputs": [
    {
     "data": {
      "text/plain": [
       "free     1\n",
       "ultra    1\n",
       "Name: subscription_type, dtype: int64"
      ]
     },
     "execution_count": 23,
     "metadata": {},
     "output_type": "execute_result"
    }
   ],
   "source": [
    "# уникальные значения в столбце 'subscription_type'\n",
    "subscriptions['subscription_type'].value_counts()"
   ]
  },
  {
   "cell_type": "markdown",
   "id": "2addd599",
   "metadata": {},
   "source": [
    "Неявных дубликатов не обнаружено."
   ]
  },
  {
   "cell_type": "markdown",
   "id": "a2de451e",
   "metadata": {},
   "source": [
    "**Вывод:**\n",
    "\n",
    "Пропусков не обнаружено. Дубликаты удалены."
   ]
  },
  {
   "cell_type": "markdown",
   "id": "172839e7",
   "metadata": {},
   "source": [
    "### Создание нового столбца"
   ]
  },
  {
   "cell_type": "markdown",
   "id": "a96ead74",
   "metadata": {},
   "source": [
    "Создадим новый столбец с номером месяца на основе столбца `'date'`."
   ]
  },
  {
   "cell_type": "code",
   "execution_count": 24,
   "id": "65a525c8",
   "metadata": {},
   "outputs": [
    {
     "name": "stdout",
     "output_type": "stream",
     "text": [
      "Данные имеются за период:\n",
      "2021-01-01 - 2021-12-30\n"
     ]
    }
   ],
   "source": [
    "# проверим за какой период имеются данные\n",
    "print('Данные имеются за период:')\n",
    "print(rides['date'].min().date(), '-', rides['date'].max().date())"
   ]
  },
  {
   "cell_type": "markdown",
   "id": "87f3780a",
   "metadata": {},
   "source": [
    "Данные имеются за 1 календарный год. Создадим столбец с номерами месяцев от 1 до 12."
   ]
  },
  {
   "cell_type": "code",
   "execution_count": 25,
   "id": "4912970a",
   "metadata": {},
   "outputs": [],
   "source": [
    "# создаем столбец\n",
    "rides['month'] = rides['date'].dt.month.astype('Int64')"
   ]
  },
  {
   "cell_type": "code",
   "execution_count": 26,
   "id": "bf089bc9",
   "metadata": {
    "scrolled": true
   },
   "outputs": [
    {
     "data": {
      "text/html": [
       "<div>\n",
       "<style scoped>\n",
       "    .dataframe tbody tr th:only-of-type {\n",
       "        vertical-align: middle;\n",
       "    }\n",
       "\n",
       "    .dataframe tbody tr th {\n",
       "        vertical-align: top;\n",
       "    }\n",
       "\n",
       "    .dataframe thead th {\n",
       "        text-align: right;\n",
       "    }\n",
       "</style>\n",
       "<table border=\"1\" class=\"dataframe\">\n",
       "  <thead>\n",
       "    <tr style=\"text-align: right;\">\n",
       "      <th></th>\n",
       "      <th>user_id</th>\n",
       "      <th>distance</th>\n",
       "      <th>duration</th>\n",
       "      <th>date</th>\n",
       "      <th>month</th>\n",
       "    </tr>\n",
       "  </thead>\n",
       "  <tbody>\n",
       "    <tr>\n",
       "      <th>0</th>\n",
       "      <td>1</td>\n",
       "      <td>4409.919140</td>\n",
       "      <td>25.599769</td>\n",
       "      <td>2021-01-01</td>\n",
       "      <td>1</td>\n",
       "    </tr>\n",
       "    <tr>\n",
       "      <th>1</th>\n",
       "      <td>1</td>\n",
       "      <td>2617.592153</td>\n",
       "      <td>15.816871</td>\n",
       "      <td>2021-01-18</td>\n",
       "      <td>1</td>\n",
       "    </tr>\n",
       "    <tr>\n",
       "      <th>2</th>\n",
       "      <td>1</td>\n",
       "      <td>754.159807</td>\n",
       "      <td>6.232113</td>\n",
       "      <td>2021-04-20</td>\n",
       "      <td>4</td>\n",
       "    </tr>\n",
       "    <tr>\n",
       "      <th>3</th>\n",
       "      <td>1</td>\n",
       "      <td>2694.783254</td>\n",
       "      <td>18.511000</td>\n",
       "      <td>2021-08-11</td>\n",
       "      <td>8</td>\n",
       "    </tr>\n",
       "    <tr>\n",
       "      <th>4</th>\n",
       "      <td>1</td>\n",
       "      <td>4028.687306</td>\n",
       "      <td>26.265803</td>\n",
       "      <td>2021-08-28</td>\n",
       "      <td>8</td>\n",
       "    </tr>\n",
       "  </tbody>\n",
       "</table>\n",
       "</div>"
      ],
      "text/plain": [
       "   user_id     distance   duration       date  month\n",
       "0        1  4409.919140  25.599769 2021-01-01      1\n",
       "1        1  2617.592153  15.816871 2021-01-18      1\n",
       "2        1   754.159807   6.232113 2021-04-20      4\n",
       "3        1  2694.783254  18.511000 2021-08-11      8\n",
       "4        1  4028.687306  26.265803 2021-08-28      8"
      ]
     },
     "execution_count": 26,
     "metadata": {},
     "output_type": "execute_result"
    }
   ],
   "source": [
    "# для проверки выведем первые строки таблицы\n",
    "rides.head()"
   ]
  },
  {
   "cell_type": "markdown",
   "id": "ea65e57c",
   "metadata": {},
   "source": [
    "**Вывод:**\n",
    "\n",
    "Создан новый столбец `'month'`."
   ]
  },
  {
   "cell_type": "markdown",
   "id": "1e4a7052",
   "metadata": {},
   "source": [
    "## Исследование основных показателей"
   ]
  },
  {
   "cell_type": "markdown",
   "id": "aa759d2b",
   "metadata": {},
   "source": [
    "Исследуем следующие параметры:\n",
    "- частота встречаемости городов;\n",
    "- соотношение пользователей с подпиской и без подписки;\n",
    "- возраст пользователей;\n",
    "- расстояние, которое пользователь преодолел за одну поездку;\n",
    "- продолжительность поездок."
   ]
  },
  {
   "cell_type": "markdown",
   "id": "19508d35",
   "metadata": {},
   "source": [
    "### Частота встречаемости городов"
   ]
  },
  {
   "cell_type": "code",
   "execution_count": 27,
   "id": "f036cf7d",
   "metadata": {},
   "outputs": [
    {
     "data": {
      "image/png": "[encoded data removed]",
      "text/plain": [
       "<Figure size 640x480 with 1 Axes>"
      ]
     },
     "metadata": {},
     "output_type": "display_data"
    }
   ],
   "source": [
    "# построим диаграмму \n",
    "ax=users['city'].value_counts().plot(kind='bar')\n",
    "for p in ax.patches:\n",
    "    ax.annotate(str(p.get_height()), (p.get_x() * 1, p.get_height() * 1.01))\n",
    "plt.title('Частота встречаемости городов')\n",
    "plt.ylabel('Количество пользователей')\n",
    "plt.xlabel('Название города')\n",
    "\n",
    "plt.show()"
   ]
  },
  {
   "cell_type": "markdown",
   "id": "faf9cbff",
   "metadata": {},
   "source": [
    "**Вывод:**\n",
    "\n",
    "В таблице `users` наибольшее число пользователей из Пятигорска и наименьшее из Москвы."
   ]
  },
  {
   "cell_type": "markdown",
   "id": "b0edf9e0",
   "metadata": {},
   "source": [
    "### Cоотношение пользователей с подпиской и без подписки"
   ]
  },
  {
   "cell_type": "code",
   "execution_count": 28,
   "id": "b4f9ddda",
   "metadata": {
    "scrolled": true
   },
   "outputs": [
    {
     "data": {
      "image/png": "[encoded data removed]",
      "text/plain": [
       "<Figure size 500x500 with 1 Axes>"
      ]
     },
     "metadata": {},
     "output_type": "display_data"
    }
   ],
   "source": [
    "# построим круговую диаграмму \n",
    "users['subscription_type'].value_counts().plot(\n",
    "    kind='pie', \n",
    "    autopct='%.2f%%'\n",
    ") \n",
    "plt.title('Соотношение пользователей \\nс подпиской \"ultra\" и без подписки \"free\"')\n",
    "plt.ylabel('')\n",
    "fig = plt.gcf()\n",
    "fig.set_size_inches(5,5) \n",
    "\n",
    "plt.show()"
   ]
  },
  {
   "cell_type": "markdown",
   "id": "afd5c868",
   "metadata": {},
   "source": [
    "**Вывод:**\n",
    "\n",
    "Пользователей без подписки больше на 8,86 %."
   ]
  },
  {
   "cell_type": "markdown",
   "id": "a1e6e6ed",
   "metadata": {},
   "source": [
    "### Возраст пользователей"
   ]
  },
  {
   "cell_type": "code",
   "execution_count": 29,
   "id": "057dfbf9",
   "metadata": {},
   "outputs": [
    {
     "data": {
      "image/png": "[encoded data removed]",
      "text/plain": [
       "<Figure size 640x480 with 1 Axes>"
      ]
     },
     "metadata": {},
     "output_type": "display_data"
    }
   ],
   "source": [
    "# построим гистограмму\n",
    "(users['age']\n",
    " .value_counts()\n",
    " .sort_index()\n",
    " .plot(kind='bar'))\n",
    "\n",
    "plt.title('Распределение пользователей по возрасту')\n",
    "plt.xlabel('Возраст')\n",
    "plt.ylabel('Число пользователей')\n",
    "\n",
    "plt.show()"
   ]
  },
  {
   "cell_type": "code",
   "execution_count": 30,
   "id": "6aadad04",
   "metadata": {},
   "outputs": [
    {
     "data": {
      "text/plain": [
       "count    1534.000000\n",
       "mean       24.903520\n",
       "std         4.572367\n",
       "min        12.000000\n",
       "25%        22.000000\n",
       "50%        25.000000\n",
       "75%        28.000000\n",
       "max        43.000000\n",
       "Name: age, dtype: float64"
      ]
     },
     "execution_count": 30,
     "metadata": {},
     "output_type": "execute_result"
    }
   ],
   "source": [
    "# получим общую информацию о столбце\n",
    "users['age'].describe()"
   ]
  },
  {
   "cell_type": "markdown",
   "id": "3a0c0c3f",
   "metadata": {},
   "source": [
    "**Вывод:**\n",
    "\n",
    "Средний возраст пользователей 25 лет. Минимальный возраст 12 лет, максимальный - 43 года. "
   ]
  },
  {
   "cell_type": "markdown",
   "id": "45336eca",
   "metadata": {},
   "source": [
    "### Расстояние, которое пользователь преодолел за одну поездку"
   ]
  },
  {
   "cell_type": "code",
   "execution_count": 31,
   "id": "f1c28258",
   "metadata": {},
   "outputs": [
    {
     "data": {
      "image/png": "[encoded data removed]",
      "text/plain": [
       "<Figure size 640x480 with 1 Axes>"
      ]
     },
     "metadata": {},
     "output_type": "display_data"
    }
   ],
   "source": [
    "# построим гистограмму\n",
    "rides['distance'].plot(kind='hist', \n",
    "                       bins=30, \n",
    "                       title = 'Расстояние за одну поездку')\n",
    "plt.show()"
   ]
  },
  {
   "cell_type": "code",
   "execution_count": 32,
   "id": "5f08587a",
   "metadata": {},
   "outputs": [
    {
     "data": {
      "text/plain": [
       "count    18068.000000\n",
       "mean      3070.659976\n",
       "std       1116.831209\n",
       "min          0.855683\n",
       "25%       2543.226360\n",
       "50%       3133.609994\n",
       "75%       3776.222735\n",
       "max       7211.007745\n",
       "Name: distance, dtype: float64"
      ]
     },
     "execution_count": 32,
     "metadata": {},
     "output_type": "execute_result"
    }
   ],
   "source": [
    "# получим общую информацию о столбце\n",
    "rides['distance'].describe()"
   ]
  },
  {
   "cell_type": "markdown",
   "id": "7bbbc928",
   "metadata": {},
   "source": [
    "**Вывод:**\n",
    "\n",
    "Медианное расстояние 3134 м., что близко к оптимальному расстоянию с точки зрения износа самоката - 3130 м. \n",
    "\n",
    "На графике заметен пик с вершиной при расстоянии в районе полукилометра. Это может отображать, что пользователи меняют самокат на другой. Например, если возле дома был самокат с низким уровнем заряда или с неполадками (м.б. плохо работающими тормозами), можно доехать до другой ближайшей стоянки и сменить его. Данная гипотеза требует отдельной проверки."
   ]
  },
  {
   "cell_type": "markdown",
   "id": "180b6817",
   "metadata": {},
   "source": [
    "### Продолжительность поездок"
   ]
  },
  {
   "cell_type": "code",
   "execution_count": 33,
   "id": "f1c01de2",
   "metadata": {},
   "outputs": [
    {
     "data": {
      "image/png": "[encoded data removed]",
      "text/plain": [
       "<Figure size 640x480 with 1 Axes>"
      ]
     },
     "metadata": {},
     "output_type": "display_data"
    }
   ],
   "source": [
    "# построим гистограмму\n",
    "rides['duration'].plot(kind='hist', \n",
    "                       bins=30, \n",
    "                       title = 'Продолжительность поездки в минутах')\n",
    "plt.show()"
   ]
  },
  {
   "cell_type": "code",
   "execution_count": 34,
   "id": "e3228152",
   "metadata": {},
   "outputs": [
    {
     "data": {
      "text/plain": [
       "count    18068.000000\n",
       "mean        17.805011\n",
       "std          6.091051\n",
       "min          0.500000\n",
       "25%         13.597563\n",
       "50%         17.678395\n",
       "75%         21.724800\n",
       "max         40.823963\n",
       "Name: duration, dtype: float64"
      ]
     },
     "execution_count": 34,
     "metadata": {},
     "output_type": "execute_result"
    }
   ],
   "source": [
    "# получим общую информацию о столбце\n",
    "rides['duration'].describe()"
   ]
  },
  {
   "cell_type": "markdown",
   "id": "e9eadea7",
   "metadata": {},
   "source": [
    "**Вывод:**\n",
    "\n",
    "Медианная длительность поездки 18 минут. Самая длительная поездка - 41 минута. Более половины всех поездок в диапазоне от 13 до 22 минут."
   ]
  },
  {
   "cell_type": "markdown",
   "id": "81e1b88c",
   "metadata": {},
   "source": [
    "## Объединение данных"
   ]
  },
  {
   "cell_type": "markdown",
   "id": "86fee02a",
   "metadata": {},
   "source": [
    "Создадим 3 датафрейма:\n",
    "- `df_all` - данные о пользователях, поездках и подписках;\n",
    "- `df_free` - на основе `df_all`, пользователи без подписки;\n",
    "- `df_ultra` - на основе `df_all`, пользователи с подпиской."
   ]
  },
  {
   "cell_type": "code",
   "execution_count": 35,
   "id": "aacb10b1",
   "metadata": {},
   "outputs": [],
   "source": [
    "# объединяем датафреймы в один df_all\n",
    "df_all = users.merge(\n",
    "    subscriptions,\n",
    "    on='subscription_type', # название столбца, по которому объединять\n",
    "    how='inner', # режим объединения\n",
    "    )\n",
    "df_all = df_all.merge(\n",
    "    rides,\n",
    "    on='user_id', # название столбца, по которому объединять\n",
    "    how='inner', # режим объединения\n",
    "    )"
   ]
  },
  {
   "cell_type": "code",
   "execution_count": 36,
   "id": "fa21f0f3",
   "metadata": {},
   "outputs": [
    {
     "data": {
      "text/html": [
       "<div>\n",
       "<style scoped>\n",
       "    .dataframe tbody tr th:only-of-type {\n",
       "        vertical-align: middle;\n",
       "    }\n",
       "\n",
       "    .dataframe tbody tr th {\n",
       "        vertical-align: top;\n",
       "    }\n",
       "\n",
       "    .dataframe thead th {\n",
       "        text-align: right;\n",
       "    }\n",
       "</style>\n",
       "<table border=\"1\" class=\"dataframe\">\n",
       "  <thead>\n",
       "    <tr style=\"text-align: right;\">\n",
       "      <th></th>\n",
       "      <th>user_id</th>\n",
       "      <th>name</th>\n",
       "      <th>age</th>\n",
       "      <th>city</th>\n",
       "      <th>subscription_type</th>\n",
       "      <th>minute_price</th>\n",
       "      <th>start_ride_price</th>\n",
       "      <th>subscription_fee</th>\n",
       "      <th>distance</th>\n",
       "      <th>duration</th>\n",
       "      <th>date</th>\n",
       "      <th>month</th>\n",
       "      <th>is_subscription</th>\n",
       "    </tr>\n",
       "  </thead>\n",
       "  <tbody>\n",
       "    <tr>\n",
       "      <th>0</th>\n",
       "      <td>1</td>\n",
       "      <td>Кира</td>\n",
       "      <td>22</td>\n",
       "      <td>Тюмень</td>\n",
       "      <td>ultra</td>\n",
       "      <td>6</td>\n",
       "      <td>0</td>\n",
       "      <td>199</td>\n",
       "      <td>4409.919140</td>\n",
       "      <td>25.599769</td>\n",
       "      <td>2021-01-01</td>\n",
       "      <td>1</td>\n",
       "      <td>True</td>\n",
       "    </tr>\n",
       "    <tr>\n",
       "      <th>1</th>\n",
       "      <td>1</td>\n",
       "      <td>Кира</td>\n",
       "      <td>22</td>\n",
       "      <td>Тюмень</td>\n",
       "      <td>ultra</td>\n",
       "      <td>6</td>\n",
       "      <td>0</td>\n",
       "      <td>199</td>\n",
       "      <td>2617.592153</td>\n",
       "      <td>15.816871</td>\n",
       "      <td>2021-01-18</td>\n",
       "      <td>1</td>\n",
       "      <td>True</td>\n",
       "    </tr>\n",
       "    <tr>\n",
       "      <th>2</th>\n",
       "      <td>1</td>\n",
       "      <td>Кира</td>\n",
       "      <td>22</td>\n",
       "      <td>Тюмень</td>\n",
       "      <td>ultra</td>\n",
       "      <td>6</td>\n",
       "      <td>0</td>\n",
       "      <td>199</td>\n",
       "      <td>754.159807</td>\n",
       "      <td>6.232113</td>\n",
       "      <td>2021-04-20</td>\n",
       "      <td>4</td>\n",
       "      <td>True</td>\n",
       "    </tr>\n",
       "    <tr>\n",
       "      <th>3</th>\n",
       "      <td>1</td>\n",
       "      <td>Кира</td>\n",
       "      <td>22</td>\n",
       "      <td>Тюмень</td>\n",
       "      <td>ultra</td>\n",
       "      <td>6</td>\n",
       "      <td>0</td>\n",
       "      <td>199</td>\n",
       "      <td>2694.783254</td>\n",
       "      <td>18.511000</td>\n",
       "      <td>2021-08-11</td>\n",
       "      <td>8</td>\n",
       "      <td>True</td>\n",
       "    </tr>\n",
       "    <tr>\n",
       "      <th>4</th>\n",
       "      <td>1</td>\n",
       "      <td>Кира</td>\n",
       "      <td>22</td>\n",
       "      <td>Тюмень</td>\n",
       "      <td>ultra</td>\n",
       "      <td>6</td>\n",
       "      <td>0</td>\n",
       "      <td>199</td>\n",
       "      <td>4028.687306</td>\n",
       "      <td>26.265803</td>\n",
       "      <td>2021-08-28</td>\n",
       "      <td>8</td>\n",
       "      <td>True</td>\n",
       "    </tr>\n",
       "  </tbody>\n",
       "</table>\n",
       "</div>"
      ],
      "text/plain": [
       "   user_id  name  age    city subscription_type  minute_price  \\\n",
       "0        1  Кира   22  Тюмень             ultra             6   \n",
       "1        1  Кира   22  Тюмень             ultra             6   \n",
       "2        1  Кира   22  Тюмень             ultra             6   \n",
       "3        1  Кира   22  Тюмень             ultra             6   \n",
       "4        1  Кира   22  Тюмень             ultra             6   \n",
       "\n",
       "   start_ride_price  subscription_fee     distance   duration       date  \\\n",
       "0                 0               199  4409.919140  25.599769 2021-01-01   \n",
       "1                 0               199  2617.592153  15.816871 2021-01-18   \n",
       "2                 0               199   754.159807   6.232113 2021-04-20   \n",
       "3                 0               199  2694.783254  18.511000 2021-08-11   \n",
       "4                 0               199  4028.687306  26.265803 2021-08-28   \n",
       "\n",
       "   month  is_subscription  \n",
       "0      1             True  \n",
       "1      1             True  \n",
       "2      4             True  \n",
       "3      8             True  \n",
       "4      8             True  "
      ]
     },
     "execution_count": 36,
     "metadata": {},
     "output_type": "execute_result"
    }
   ],
   "source": [
    "# Добавим в датафрейм df_all столбец 'is_subscription' с информацией о типе подписки в формате:\n",
    "# False - нет подписки, True - есть подписка.\n",
    "\n",
    "def categorize(row):\n",
    "    if 'ultra' in row:\n",
    "        return True\n",
    "    elif 'free' in row:\n",
    "        return False\n",
    "\n",
    "df_all['is_subscription'] = df_all['subscription_type'].apply(categorize).astype('bool')\n",
    "\n",
    "# выведем первые строки df_all\n",
    "df_all.head()"
   ]
  },
  {
   "cell_type": "code",
   "execution_count": 37,
   "id": "ecea20ad",
   "metadata": {
    "scrolled": true
   },
   "outputs": [
    {
     "name": "stdout",
     "output_type": "stream",
     "text": [
      "<class 'pandas.core.frame.DataFrame'>\n",
      "Int64Index: 18068 entries, 0 to 18067\n",
      "Data columns (total 13 columns):\n",
      " #   Column             Non-Null Count  Dtype         \n",
      "---  ------             --------------  -----         \n",
      " 0   user_id            18068 non-null  int64         \n",
      " 1   name               18068 non-null  object        \n",
      " 2   age                18068 non-null  int64         \n",
      " 3   city               18068 non-null  object        \n",
      " 4   subscription_type  18068 non-null  object        \n",
      " 5   minute_price       18068 non-null  int64         \n",
      " 6   start_ride_price   18068 non-null  int64         \n",
      " 7   subscription_fee   18068 non-null  int64         \n",
      " 8   distance           18068 non-null  float64       \n",
      " 9   duration           18068 non-null  float64       \n",
      " 10  date               18068 non-null  datetime64[ns]\n",
      " 11  month              18068 non-null  Int64         \n",
      " 12  is_subscription    18068 non-null  bool          \n",
      "dtypes: Int64(1), bool(1), datetime64[ns](1), float64(2), int64(5), object(3)\n",
      "memory usage: 1.8+ MB\n"
     ]
    }
   ],
   "source": [
    "# Получим информацию о новом датафрейме\n",
    "df_all.info()"
   ]
  },
  {
   "cell_type": "code",
   "execution_count": 38,
   "id": "8d06ae1d",
   "metadata": {},
   "outputs": [
    {
     "name": "stdout",
     "output_type": "stream",
     "text": [
      "размеры исходных таблиц\n",
      "users: (1534, 5)\n",
      "rides: (18068, 5)\n",
      "subscriptions: (2, 4)\n"
     ]
    }
   ],
   "source": [
    "# выведем размеры исходных таблиц для срерки с результирующей\n",
    "print(f'размеры исходных таблиц\\nusers: {users.shape}\\nrides: {rides.shape}\\nsubscriptions: {subscriptions.shape}')"
   ]
  },
  {
   "cell_type": "markdown",
   "id": "64e6f8cb",
   "metadata": {},
   "source": [
    "Количество строк: 18068 - совпадает, количество столбцов: 5 + 5 + 4 - 2 (по которым объединяли) + 1 (новый) = 13 - верно."
   ]
  },
  {
   "cell_type": "code",
   "execution_count": 39,
   "id": "d6fc1b92",
   "metadata": {},
   "outputs": [
    {
     "name": "stdout",
     "output_type": "stream",
     "text": [
      "6500\n",
      "6500\n"
     ]
    }
   ],
   "source": [
    "# Сверим количество записей \"ultra\" с количеством \"True\" в новом столбце \n",
    "print(df_all.query('subscription_type == \"ultra\"')['subscription_type'].count()) \n",
    "print(df_all.query('is_subscription == True')['is_subscription'].count())"
   ]
  },
  {
   "cell_type": "markdown",
   "id": "398ede35",
   "metadata": {},
   "source": [
    "Количество записей \"ultra\" совпадает с количеством \"True\" в новом столбце `'is_subscription'`."
   ]
  },
  {
   "cell_type": "code",
   "execution_count": 40,
   "id": "eecf8fed",
   "metadata": {},
   "outputs": [
    {
     "data": {
      "text/plain": [
       "user_id              0\n",
       "name                 0\n",
       "age                  0\n",
       "city                 0\n",
       "subscription_type    0\n",
       "minute_price         0\n",
       "start_ride_price     0\n",
       "subscription_fee     0\n",
       "distance             0\n",
       "duration             0\n",
       "date                 0\n",
       "month                0\n",
       "is_subscription      0\n",
       "dtype: int64"
      ]
     },
     "execution_count": 40,
     "metadata": {},
     "output_type": "execute_result"
    }
   ],
   "source": [
    "# проверим новый датафрейм на пропуски\n",
    "df_all.isna().sum()"
   ]
  },
  {
   "cell_type": "markdown",
   "id": "c904dbb1",
   "metadata": {},
   "source": [
    "Пропусков не обнаружено."
   ]
  },
  {
   "cell_type": "markdown",
   "id": "38a6a3f5",
   "metadata": {},
   "source": [
    "**Вывод:**\n",
    "\n",
    "Новый датафрейм `df_all` создан. Объединение данных прошло корректно. Добавлен новый столбец `is_subscription`."
   ]
  },
  {
   "cell_type": "code",
   "execution_count": 41,
   "id": "0a7b7137",
   "metadata": {},
   "outputs": [
    {
     "data": {
      "text/html": [
       "<div>\n",
       "<style scoped>\n",
       "    .dataframe tbody tr th:only-of-type {\n",
       "        vertical-align: middle;\n",
       "    }\n",
       "\n",
       "    .dataframe tbody tr th {\n",
       "        vertical-align: top;\n",
       "    }\n",
       "\n",
       "    .dataframe thead th {\n",
       "        text-align: right;\n",
       "    }\n",
       "</style>\n",
       "<table border=\"1\" class=\"dataframe\">\n",
       "  <thead>\n",
       "    <tr style=\"text-align: right;\">\n",
       "      <th></th>\n",
       "      <th>user_id</th>\n",
       "      <th>name</th>\n",
       "      <th>age</th>\n",
       "      <th>city</th>\n",
       "      <th>subscription_type</th>\n",
       "      <th>minute_price</th>\n",
       "      <th>start_ride_price</th>\n",
       "      <th>subscription_fee</th>\n",
       "      <th>distance</th>\n",
       "      <th>duration</th>\n",
       "      <th>date</th>\n",
       "      <th>month</th>\n",
       "      <th>is_subscription</th>\n",
       "    </tr>\n",
       "  </thead>\n",
       "  <tbody>\n",
       "    <tr>\n",
       "      <th>6500</th>\n",
       "      <td>700</td>\n",
       "      <td>Айдар</td>\n",
       "      <td>22</td>\n",
       "      <td>Омск</td>\n",
       "      <td>free</td>\n",
       "      <td>8</td>\n",
       "      <td>50</td>\n",
       "      <td>0</td>\n",
       "      <td>2515.690719</td>\n",
       "      <td>14.944286</td>\n",
       "      <td>2021-01-02</td>\n",
       "      <td>1</td>\n",
       "      <td>False</td>\n",
       "    </tr>\n",
       "    <tr>\n",
       "      <th>6501</th>\n",
       "      <td>700</td>\n",
       "      <td>Айдар</td>\n",
       "      <td>22</td>\n",
       "      <td>Омск</td>\n",
       "      <td>free</td>\n",
       "      <td>8</td>\n",
       "      <td>50</td>\n",
       "      <td>0</td>\n",
       "      <td>846.932642</td>\n",
       "      <td>16.234663</td>\n",
       "      <td>2021-02-01</td>\n",
       "      <td>2</td>\n",
       "      <td>False</td>\n",
       "    </tr>\n",
       "    <tr>\n",
       "      <th>6502</th>\n",
       "      <td>700</td>\n",
       "      <td>Айдар</td>\n",
       "      <td>22</td>\n",
       "      <td>Омск</td>\n",
       "      <td>free</td>\n",
       "      <td>8</td>\n",
       "      <td>50</td>\n",
       "      <td>0</td>\n",
       "      <td>4004.434142</td>\n",
       "      <td>20.016628</td>\n",
       "      <td>2021-02-04</td>\n",
       "      <td>2</td>\n",
       "      <td>False</td>\n",
       "    </tr>\n",
       "    <tr>\n",
       "      <th>6503</th>\n",
       "      <td>700</td>\n",
       "      <td>Айдар</td>\n",
       "      <td>22</td>\n",
       "      <td>Омск</td>\n",
       "      <td>free</td>\n",
       "      <td>8</td>\n",
       "      <td>50</td>\n",
       "      <td>0</td>\n",
       "      <td>1205.911290</td>\n",
       "      <td>9.782872</td>\n",
       "      <td>2021-02-10</td>\n",
       "      <td>2</td>\n",
       "      <td>False</td>\n",
       "    </tr>\n",
       "    <tr>\n",
       "      <th>6504</th>\n",
       "      <td>700</td>\n",
       "      <td>Айдар</td>\n",
       "      <td>22</td>\n",
       "      <td>Омск</td>\n",
       "      <td>free</td>\n",
       "      <td>8</td>\n",
       "      <td>50</td>\n",
       "      <td>0</td>\n",
       "      <td>3047.379435</td>\n",
       "      <td>17.427673</td>\n",
       "      <td>2021-02-14</td>\n",
       "      <td>2</td>\n",
       "      <td>False</td>\n",
       "    </tr>\n",
       "  </tbody>\n",
       "</table>\n",
       "</div>"
      ],
      "text/plain": [
       "      user_id   name  age  city subscription_type  minute_price  \\\n",
       "6500      700  Айдар   22  Омск              free             8   \n",
       "6501      700  Айдар   22  Омск              free             8   \n",
       "6502      700  Айдар   22  Омск              free             8   \n",
       "6503      700  Айдар   22  Омск              free             8   \n",
       "6504      700  Айдар   22  Омск              free             8   \n",
       "\n",
       "      start_ride_price  subscription_fee     distance   duration       date  \\\n",
       "6500                50                 0  2515.690719  14.944286 2021-01-02   \n",
       "6501                50                 0   846.932642  16.234663 2021-02-01   \n",
       "6502                50                 0  4004.434142  20.016628 2021-02-04   \n",
       "6503                50                 0  1205.911290   9.782872 2021-02-10   \n",
       "6504                50                 0  3047.379435  17.427673 2021-02-14   \n",
       "\n",
       "      month  is_subscription  \n",
       "6500      1            False  \n",
       "6501      2            False  \n",
       "6502      2            False  \n",
       "6503      2            False  \n",
       "6504      2            False  "
      ]
     },
     "execution_count": 41,
     "metadata": {},
     "output_type": "execute_result"
    }
   ],
   "source": [
    "# создаем датафрейм df_free (пользователи без подписки)\n",
    "df_free = df_all.query('subscription_type == \"free\"')\n",
    "\n",
    "# выведем первые строки\n",
    "df_free.head()"
   ]
  },
  {
   "cell_type": "code",
   "execution_count": 42,
   "id": "ec268448",
   "metadata": {},
   "outputs": [
    {
     "data": {
      "text/plain": [
       "(11568, 13)"
      ]
     },
     "execution_count": 42,
     "metadata": {},
     "output_type": "execute_result"
    }
   ],
   "source": [
    "# размеры датафрейма\n",
    "df_free.shape"
   ]
  },
  {
   "cell_type": "code",
   "execution_count": 43,
   "id": "905ba975",
   "metadata": {},
   "outputs": [
    {
     "data": {
      "text/html": [
       "<div>\n",
       "<style scoped>\n",
       "    .dataframe tbody tr th:only-of-type {\n",
       "        vertical-align: middle;\n",
       "    }\n",
       "\n",
       "    .dataframe tbody tr th {\n",
       "        vertical-align: top;\n",
       "    }\n",
       "\n",
       "    .dataframe thead th {\n",
       "        text-align: right;\n",
       "    }\n",
       "</style>\n",
       "<table border=\"1\" class=\"dataframe\">\n",
       "  <thead>\n",
       "    <tr style=\"text-align: right;\">\n",
       "      <th></th>\n",
       "      <th>user_id</th>\n",
       "      <th>name</th>\n",
       "      <th>age</th>\n",
       "      <th>city</th>\n",
       "      <th>subscription_type</th>\n",
       "      <th>minute_price</th>\n",
       "      <th>start_ride_price</th>\n",
       "      <th>subscription_fee</th>\n",
       "      <th>distance</th>\n",
       "      <th>duration</th>\n",
       "      <th>date</th>\n",
       "      <th>month</th>\n",
       "      <th>is_subscription</th>\n",
       "    </tr>\n",
       "  </thead>\n",
       "  <tbody>\n",
       "    <tr>\n",
       "      <th>0</th>\n",
       "      <td>1</td>\n",
       "      <td>Кира</td>\n",
       "      <td>22</td>\n",
       "      <td>Тюмень</td>\n",
       "      <td>ultra</td>\n",
       "      <td>6</td>\n",
       "      <td>0</td>\n",
       "      <td>199</td>\n",
       "      <td>4409.919140</td>\n",
       "      <td>25.599769</td>\n",
       "      <td>2021-01-01</td>\n",
       "      <td>1</td>\n",
       "      <td>True</td>\n",
       "    </tr>\n",
       "    <tr>\n",
       "      <th>1</th>\n",
       "      <td>1</td>\n",
       "      <td>Кира</td>\n",
       "      <td>22</td>\n",
       "      <td>Тюмень</td>\n",
       "      <td>ultra</td>\n",
       "      <td>6</td>\n",
       "      <td>0</td>\n",
       "      <td>199</td>\n",
       "      <td>2617.592153</td>\n",
       "      <td>15.816871</td>\n",
       "      <td>2021-01-18</td>\n",
       "      <td>1</td>\n",
       "      <td>True</td>\n",
       "    </tr>\n",
       "    <tr>\n",
       "      <th>2</th>\n",
       "      <td>1</td>\n",
       "      <td>Кира</td>\n",
       "      <td>22</td>\n",
       "      <td>Тюмень</td>\n",
       "      <td>ultra</td>\n",
       "      <td>6</td>\n",
       "      <td>0</td>\n",
       "      <td>199</td>\n",
       "      <td>754.159807</td>\n",
       "      <td>6.232113</td>\n",
       "      <td>2021-04-20</td>\n",
       "      <td>4</td>\n",
       "      <td>True</td>\n",
       "    </tr>\n",
       "    <tr>\n",
       "      <th>3</th>\n",
       "      <td>1</td>\n",
       "      <td>Кира</td>\n",
       "      <td>22</td>\n",
       "      <td>Тюмень</td>\n",
       "      <td>ultra</td>\n",
       "      <td>6</td>\n",
       "      <td>0</td>\n",
       "      <td>199</td>\n",
       "      <td>2694.783254</td>\n",
       "      <td>18.511000</td>\n",
       "      <td>2021-08-11</td>\n",
       "      <td>8</td>\n",
       "      <td>True</td>\n",
       "    </tr>\n",
       "    <tr>\n",
       "      <th>4</th>\n",
       "      <td>1</td>\n",
       "      <td>Кира</td>\n",
       "      <td>22</td>\n",
       "      <td>Тюмень</td>\n",
       "      <td>ultra</td>\n",
       "      <td>6</td>\n",
       "      <td>0</td>\n",
       "      <td>199</td>\n",
       "      <td>4028.687306</td>\n",
       "      <td>26.265803</td>\n",
       "      <td>2021-08-28</td>\n",
       "      <td>8</td>\n",
       "      <td>True</td>\n",
       "    </tr>\n",
       "  </tbody>\n",
       "</table>\n",
       "</div>"
      ],
      "text/plain": [
       "   user_id  name  age    city subscription_type  minute_price  \\\n",
       "0        1  Кира   22  Тюмень             ultra             6   \n",
       "1        1  Кира   22  Тюмень             ultra             6   \n",
       "2        1  Кира   22  Тюмень             ultra             6   \n",
       "3        1  Кира   22  Тюмень             ultra             6   \n",
       "4        1  Кира   22  Тюмень             ultra             6   \n",
       "\n",
       "   start_ride_price  subscription_fee     distance   duration       date  \\\n",
       "0                 0               199  4409.919140  25.599769 2021-01-01   \n",
       "1                 0               199  2617.592153  15.816871 2021-01-18   \n",
       "2                 0               199   754.159807   6.232113 2021-04-20   \n",
       "3                 0               199  2694.783254  18.511000 2021-08-11   \n",
       "4                 0               199  4028.687306  26.265803 2021-08-28   \n",
       "\n",
       "   month  is_subscription  \n",
       "0      1             True  \n",
       "1      1             True  \n",
       "2      4             True  \n",
       "3      8             True  \n",
       "4      8             True  "
      ]
     },
     "execution_count": 43,
     "metadata": {},
     "output_type": "execute_result"
    }
   ],
   "source": [
    "# создаем датафрейм df_ultra (пользователи с подпиской)\n",
    "df_ultra = df_all.query('subscription_type == \"ultra\"')\n",
    "\n",
    "# выведем первые строки\n",
    "df_ultra.head()"
   ]
  },
  {
   "cell_type": "code",
   "execution_count": 44,
   "id": "16f7e6c2",
   "metadata": {},
   "outputs": [
    {
     "data": {
      "text/plain": [
       "(6500, 13)"
      ]
     },
     "execution_count": 44,
     "metadata": {},
     "output_type": "execute_result"
    }
   ],
   "source": [
    "# размеры датафрейма\n",
    "df_ultra.shape"
   ]
  },
  {
   "cell_type": "code",
   "execution_count": 45,
   "id": "40746e63",
   "metadata": {},
   "outputs": [
    {
     "data": {
      "text/plain": [
       "True"
      ]
     },
     "execution_count": 45,
     "metadata": {},
     "output_type": "execute_result"
    }
   ],
   "source": [
    "# сверим количесво строк и столбцов в трех датафреймах\n",
    "(df_ultra.shape[0] + df_free.shape[0] == df_all.shape[0] and\n",
    " df_all.shape[1] == df_ultra.shape[1] and\n",
    " df_all.shape[1] == df_free.shape[1])"
   ]
  },
  {
   "cell_type": "markdown",
   "id": "8b4304ae",
   "metadata": {},
   "source": [
    "**Вывод:**\n",
    "\n",
    "Новые датафреймы `df_free` и `df_ultra` созданы. "
   ]
  },
  {
   "cell_type": "markdown",
   "id": "1571f7d2",
   "metadata": {},
   "source": [
    "### Расстояние и время поездки для пользователей с подпиской и без подписки"
   ]
  },
  {
   "cell_type": "markdown",
   "id": "580d2c37",
   "metadata": {},
   "source": [
    "Используя объединенные данные визуализируем информацию о расстоянии и времени поездок для пользователей обеих категорий подписки."
   ]
  },
  {
   "cell_type": "code",
   "execution_count": 46,
   "id": "723e2cb3",
   "metadata": {},
   "outputs": [
    {
     "data": {
      "image/png": "[encoded data removed]",
      "text/plain": [
       "<Figure size 1000x500 with 1 Axes>"
      ]
     },
     "metadata": {},
     "output_type": "display_data"
    }
   ],
   "source": [
    "# построим гистограмму \n",
    "plt.hist([df_free['distance'], df_ultra['distance']], 50, label=['free', 'ultra'])\n",
    "plt.legend(loc='upper right')\n",
    "plt.title('Расстояние поездки для разных категорий подписки')\n",
    "plt.xlabel('Расстояние поездки, м.')\n",
    "plt.ylabel('Количество поездок')\n",
    "fig = plt.gcf()\n",
    "fig.set_size_inches(10,5) \n",
    "plt.show()"
   ]
  },
  {
   "cell_type": "code",
   "execution_count": 47,
   "id": "580b3a0d",
   "metadata": {},
   "outputs": [
    {
     "data": {
      "text/plain": [
       "count    11568.000000\n",
       "mean      3045.495282\n",
       "std       1246.173806\n",
       "min          0.855683\n",
       "25%       2366.562689\n",
       "50%       3114.648465\n",
       "75%       3905.697894\n",
       "max       7211.007745\n",
       "Name: distance, dtype: float64"
      ]
     },
     "execution_count": 47,
     "metadata": {},
     "output_type": "execute_result"
    }
   ],
   "source": [
    "# выведем информацию по столбцу 'distance' для пользователей без подписки\n",
    "df_free['distance'].describe()"
   ]
  },
  {
   "cell_type": "code",
   "execution_count": 48,
   "id": "04ebb49b",
   "metadata": {
    "scrolled": true
   },
   "outputs": [
    {
     "data": {
      "text/plain": [
       "count    6500.000000\n",
       "mean     3115.445388\n",
       "std       836.895330\n",
       "min       244.210438\n",
       "25%      2785.444017\n",
       "50%      3148.637229\n",
       "75%      3560.574425\n",
       "max      5699.769662\n",
       "Name: distance, dtype: float64"
      ]
     },
     "execution_count": 48,
     "metadata": {},
     "output_type": "execute_result"
    }
   ],
   "source": [
    "# выведем информацию по столбцу 'distance' для пользователей с подпиской\n",
    "df_ultra['distance'].describe()"
   ]
  },
  {
   "cell_type": "markdown",
   "id": "cdfb4f8b",
   "metadata": {},
   "source": [
    "**Вывод:**\n",
    "\n",
    "Пользователи с подпиской всреднем ездят на более длинные дистанции: 3315 м., у пользователей без подписки этот показатель составляет 3045 м. При этом стандартное отклонение расстояния поездки у пользователей с подпиской гораздо ниже. Это может означать, что пользователи берут подписку с определенной целью, например, чтобы добираться на самокате до работы, поэтому расстояние изо дня в день меняется не так сильно. "
   ]
  },
  {
   "cell_type": "code",
   "execution_count": 49,
   "id": "a093a0ea",
   "metadata": {},
   "outputs": [
    {
     "data": {
      "image/png": "[encoded data removed]",
      "text/plain": [
       "<Figure size 1000x500 with 1 Axes>"
      ]
     },
     "metadata": {},
     "output_type": "display_data"
    }
   ],
   "source": [
    "# построим гистограмму \n",
    "plt.hist([df_free['duration'], df_ultra['duration']], 50, label=['free', 'ultra'])\n",
    "plt.legend(loc='upper right')\n",
    "plt.title('Длительность поездки для разных категорий подписки')\n",
    "plt.xlabel('Длительность поездки, мин.')\n",
    "plt.ylabel('Количество поездок')\n",
    "fig = plt.gcf()\n",
    "fig.set_size_inches(10,5) \n",
    "plt.show()"
   ]
  },
  {
   "cell_type": "code",
   "execution_count": 50,
   "id": "093ddb9f",
   "metadata": {},
   "outputs": [
    {
     "data": {
      "text/plain": [
       "count    11568.000000\n",
       "mean        17.390909\n",
       "std          6.326803\n",
       "min          0.500000\n",
       "25%         12.958437\n",
       "50%         17.326890\n",
       "75%         21.594071\n",
       "max         34.948498\n",
       "Name: duration, dtype: float64"
      ]
     },
     "execution_count": 50,
     "metadata": {},
     "output_type": "execute_result"
    }
   ],
   "source": [
    "# выведем информацию по столбцу 'duration' для пользователей без подписки\n",
    "df_free['duration'].describe()"
   ]
  },
  {
   "cell_type": "code",
   "execution_count": 51,
   "id": "e40c71e9",
   "metadata": {},
   "outputs": [
    {
     "data": {
      "text/plain": [
       "count    6500.000000\n",
       "mean       18.541985\n",
       "std         5.572048\n",
       "min         3.760353\n",
       "25%        14.524654\n",
       "50%        18.178153\n",
       "75%        21.884129\n",
       "max        40.823963\n",
       "Name: duration, dtype: float64"
      ]
     },
     "execution_count": 51,
     "metadata": {},
     "output_type": "execute_result"
    }
   ],
   "source": [
    "# выведем информацию по столбцу 'duration' для пользователей с подпиской\n",
    "df_ultra['duration'].describe()"
   ]
  },
  {
   "cell_type": "markdown",
   "id": "babd3e9b",
   "metadata": {},
   "source": [
    "**Вывод:**\n",
    "\n",
    "Среднее время поездки у пользователей с подпиской больше, чем у пользователей без подписки (18,5 мин. и 17,4 мин. соответственно). При этом, как и в случае с расстоянием, стандартное отклонение времени поездки у пользователей с подпиской ниже."
   ]
  },
  {
   "cell_type": "markdown",
   "id": "2c52518d",
   "metadata": {},
   "source": [
    "### Расчёт выручки"
   ]
  },
  {
   "cell_type": "markdown",
   "id": "c98ca4cf",
   "metadata": {},
   "source": [
    "Для расчёта выручки произведем следующие шаги:\n",
    "1. Создадим датафрейм `df_revenue` с агрегированными данными на основе `df_all` для каждого пользователя за каждый месяц со следующими параметрами:\n",
    "- суммарное расстояние; \n",
    "- количество поездок; \n",
    "- суммарное время.\n",
    "\n",
    "Продолжительность каждой поездки в каждой строке исходного датафрейма для подсчёта стоимости округлим вверх до следующего целого числа.\n",
    "\n",
    "Для расчёта выручки добавим дополнительные столбцы:\n",
    "- стоимость старта;\n",
    "- стоимость 1 минуты;\n",
    "- стоимость подписки.\n",
    "\n",
    "2. В полученный датафрейм добавим столбец с помесячной выручкой, которую принёс каждый пользователь.\n",
    "\n",
    "Помесячная выручка = стоимость старта поездки *  количество поездок + стоимость одной минуты поездки * общая продолжительность всех поездок в минутах + стоимость подписки.\n",
    "\n",
    "\n"
   ]
  },
  {
   "cell_type": "code",
   "execution_count": 52,
   "id": "096eca53",
   "metadata": {},
   "outputs": [],
   "source": [
    "# округляем столбец 'duration' вверх до целого числа\n",
    "df_all['duration'] = np.ceil(df_all['duration'])"
   ]
  },
  {
   "cell_type": "code",
   "execution_count": 53,
   "id": "45804f8e",
   "metadata": {
    "scrolled": true
   },
   "outputs": [
    {
     "data": {
      "text/html": [
       "<div>\n",
       "<style scoped>\n",
       "    .dataframe tbody tr th:only-of-type {\n",
       "        vertical-align: middle;\n",
       "    }\n",
       "\n",
       "    .dataframe tbody tr th {\n",
       "        vertical-align: top;\n",
       "    }\n",
       "\n",
       "    .dataframe thead th {\n",
       "        text-align: right;\n",
       "    }\n",
       "</style>\n",
       "<table border=\"1\" class=\"dataframe\">\n",
       "  <thead>\n",
       "    <tr style=\"text-align: right;\">\n",
       "      <th></th>\n",
       "      <th>user_id</th>\n",
       "      <th>name</th>\n",
       "      <th>age</th>\n",
       "      <th>city</th>\n",
       "      <th>subscription_type</th>\n",
       "      <th>minute_price</th>\n",
       "      <th>start_ride_price</th>\n",
       "      <th>subscription_fee</th>\n",
       "      <th>distance</th>\n",
       "      <th>duration</th>\n",
       "      <th>date</th>\n",
       "      <th>month</th>\n",
       "      <th>is_subscription</th>\n",
       "    </tr>\n",
       "  </thead>\n",
       "  <tbody>\n",
       "    <tr>\n",
       "      <th>0</th>\n",
       "      <td>1</td>\n",
       "      <td>Кира</td>\n",
       "      <td>22</td>\n",
       "      <td>Тюмень</td>\n",
       "      <td>ultra</td>\n",
       "      <td>6</td>\n",
       "      <td>0</td>\n",
       "      <td>199</td>\n",
       "      <td>4409.919140</td>\n",
       "      <td>26.0</td>\n",
       "      <td>2021-01-01</td>\n",
       "      <td>1</td>\n",
       "      <td>True</td>\n",
       "    </tr>\n",
       "    <tr>\n",
       "      <th>1</th>\n",
       "      <td>1</td>\n",
       "      <td>Кира</td>\n",
       "      <td>22</td>\n",
       "      <td>Тюмень</td>\n",
       "      <td>ultra</td>\n",
       "      <td>6</td>\n",
       "      <td>0</td>\n",
       "      <td>199</td>\n",
       "      <td>2617.592153</td>\n",
       "      <td>16.0</td>\n",
       "      <td>2021-01-18</td>\n",
       "      <td>1</td>\n",
       "      <td>True</td>\n",
       "    </tr>\n",
       "    <tr>\n",
       "      <th>2</th>\n",
       "      <td>1</td>\n",
       "      <td>Кира</td>\n",
       "      <td>22</td>\n",
       "      <td>Тюмень</td>\n",
       "      <td>ultra</td>\n",
       "      <td>6</td>\n",
       "      <td>0</td>\n",
       "      <td>199</td>\n",
       "      <td>754.159807</td>\n",
       "      <td>7.0</td>\n",
       "      <td>2021-04-20</td>\n",
       "      <td>4</td>\n",
       "      <td>True</td>\n",
       "    </tr>\n",
       "    <tr>\n",
       "      <th>3</th>\n",
       "      <td>1</td>\n",
       "      <td>Кира</td>\n",
       "      <td>22</td>\n",
       "      <td>Тюмень</td>\n",
       "      <td>ultra</td>\n",
       "      <td>6</td>\n",
       "      <td>0</td>\n",
       "      <td>199</td>\n",
       "      <td>2694.783254</td>\n",
       "      <td>19.0</td>\n",
       "      <td>2021-08-11</td>\n",
       "      <td>8</td>\n",
       "      <td>True</td>\n",
       "    </tr>\n",
       "    <tr>\n",
       "      <th>4</th>\n",
       "      <td>1</td>\n",
       "      <td>Кира</td>\n",
       "      <td>22</td>\n",
       "      <td>Тюмень</td>\n",
       "      <td>ultra</td>\n",
       "      <td>6</td>\n",
       "      <td>0</td>\n",
       "      <td>199</td>\n",
       "      <td>4028.687306</td>\n",
       "      <td>27.0</td>\n",
       "      <td>2021-08-28</td>\n",
       "      <td>8</td>\n",
       "      <td>True</td>\n",
       "    </tr>\n",
       "  </tbody>\n",
       "</table>\n",
       "</div>"
      ],
      "text/plain": [
       "   user_id  name  age    city subscription_type  minute_price  \\\n",
       "0        1  Кира   22  Тюмень             ultra             6   \n",
       "1        1  Кира   22  Тюмень             ultra             6   \n",
       "2        1  Кира   22  Тюмень             ultra             6   \n",
       "3        1  Кира   22  Тюмень             ultra             6   \n",
       "4        1  Кира   22  Тюмень             ultra             6   \n",
       "\n",
       "   start_ride_price  subscription_fee     distance  duration       date  \\\n",
       "0                 0               199  4409.919140      26.0 2021-01-01   \n",
       "1                 0               199  2617.592153      16.0 2021-01-18   \n",
       "2                 0               199   754.159807       7.0 2021-04-20   \n",
       "3                 0               199  2694.783254      19.0 2021-08-11   \n",
       "4                 0               199  4028.687306      27.0 2021-08-28   \n",
       "\n",
       "   month  is_subscription  \n",
       "0      1             True  \n",
       "1      1             True  \n",
       "2      4             True  \n",
       "3      8             True  \n",
       "4      8             True  "
      ]
     },
     "execution_count": 53,
     "metadata": {},
     "output_type": "execute_result"
    }
   ],
   "source": [
    "# выведем первые строки, проверим округление\n",
    "df_all.head()"
   ]
  },
  {
   "cell_type": "code",
   "execution_count": 54,
   "id": "b21d2408",
   "metadata": {},
   "outputs": [
    {
     "data": {
      "text/plain": [
       "(18068, 13)"
      ]
     },
     "execution_count": 54,
     "metadata": {},
     "output_type": "execute_result"
    }
   ],
   "source": [
    "# проверка количества строк\n",
    "df_all.shape"
   ]
  },
  {
   "cell_type": "code",
   "execution_count": 55,
   "id": "a01b676e",
   "metadata": {},
   "outputs": [
    {
     "data": {
      "text/plain": [
       "0"
      ]
     },
     "execution_count": 55,
     "metadata": {},
     "output_type": "execute_result"
    }
   ],
   "source": [
    "# проверка пропусков\n",
    "df_all.isna().sum().sum()"
   ]
  },
  {
   "cell_type": "markdown",
   "id": "0e084f19",
   "metadata": {},
   "source": [
    "Округление данных прошло успешно."
   ]
  },
  {
   "cell_type": "code",
   "execution_count": 56,
   "id": "54fb6623",
   "metadata": {},
   "outputs": [
    {
     "data": {
      "text/html": [
       "<div>\n",
       "<style scoped>\n",
       "    .dataframe tbody tr th:only-of-type {\n",
       "        vertical-align: middle;\n",
       "    }\n",
       "\n",
       "    .dataframe tbody tr th {\n",
       "        vertical-align: top;\n",
       "    }\n",
       "\n",
       "    .dataframe thead th {\n",
       "        text-align: right;\n",
       "    }\n",
       "</style>\n",
       "<table border=\"1\" class=\"dataframe\">\n",
       "  <thead>\n",
       "    <tr style=\"text-align: right;\">\n",
       "      <th></th>\n",
       "      <th></th>\n",
       "      <th>distance_count</th>\n",
       "      <th>distance_sum</th>\n",
       "      <th>duration_sum</th>\n",
       "      <th>is_subscription_mean</th>\n",
       "      <th>minute_price_mean</th>\n",
       "      <th>start_ride_price_mean</th>\n",
       "      <th>subscription_fee_mean</th>\n",
       "    </tr>\n",
       "    <tr>\n",
       "      <th>user_id</th>\n",
       "      <th>month</th>\n",
       "      <th></th>\n",
       "      <th></th>\n",
       "      <th></th>\n",
       "      <th></th>\n",
       "      <th></th>\n",
       "      <th></th>\n",
       "      <th></th>\n",
       "    </tr>\n",
       "  </thead>\n",
       "  <tbody>\n",
       "    <tr>\n",
       "      <th rowspan=\"6\" valign=\"top\">1</th>\n",
       "      <th>1</th>\n",
       "      <td>2</td>\n",
       "      <td>7027.511294</td>\n",
       "      <td>42.0</td>\n",
       "      <td>1.0</td>\n",
       "      <td>6.0</td>\n",
       "      <td>0.0</td>\n",
       "      <td>199.0</td>\n",
       "    </tr>\n",
       "    <tr>\n",
       "      <th>4</th>\n",
       "      <td>1</td>\n",
       "      <td>754.159807</td>\n",
       "      <td>7.0</td>\n",
       "      <td>1.0</td>\n",
       "      <td>6.0</td>\n",
       "      <td>0.0</td>\n",
       "      <td>199.0</td>\n",
       "    </tr>\n",
       "    <tr>\n",
       "      <th>8</th>\n",
       "      <td>2</td>\n",
       "      <td>6723.470560</td>\n",
       "      <td>46.0</td>\n",
       "      <td>1.0</td>\n",
       "      <td>6.0</td>\n",
       "      <td>0.0</td>\n",
       "      <td>199.0</td>\n",
       "    </tr>\n",
       "    <tr>\n",
       "      <th>10</th>\n",
       "      <td>2</td>\n",
       "      <td>5809.911100</td>\n",
       "      <td>32.0</td>\n",
       "      <td>1.0</td>\n",
       "      <td>6.0</td>\n",
       "      <td>0.0</td>\n",
       "      <td>199.0</td>\n",
       "    </tr>\n",
       "    <tr>\n",
       "      <th>11</th>\n",
       "      <td>3</td>\n",
       "      <td>7003.499363</td>\n",
       "      <td>56.0</td>\n",
       "      <td>1.0</td>\n",
       "      <td>6.0</td>\n",
       "      <td>0.0</td>\n",
       "      <td>199.0</td>\n",
       "    </tr>\n",
       "    <tr>\n",
       "      <th>12</th>\n",
       "      <td>2</td>\n",
       "      <td>6751.629942</td>\n",
       "      <td>28.0</td>\n",
       "      <td>1.0</td>\n",
       "      <td>6.0</td>\n",
       "      <td>0.0</td>\n",
       "      <td>199.0</td>\n",
       "    </tr>\n",
       "    <tr>\n",
       "      <th rowspan=\"4\" valign=\"top\">2</th>\n",
       "      <th>3</th>\n",
       "      <td>3</td>\n",
       "      <td>10187.723006</td>\n",
       "      <td>63.0</td>\n",
       "      <td>1.0</td>\n",
       "      <td>6.0</td>\n",
       "      <td>0.0</td>\n",
       "      <td>199.0</td>\n",
       "    </tr>\n",
       "    <tr>\n",
       "      <th>4</th>\n",
       "      <td>2</td>\n",
       "      <td>6164.381824</td>\n",
       "      <td>40.0</td>\n",
       "      <td>1.0</td>\n",
       "      <td>6.0</td>\n",
       "      <td>0.0</td>\n",
       "      <td>199.0</td>\n",
       "    </tr>\n",
       "    <tr>\n",
       "      <th>6</th>\n",
       "      <td>1</td>\n",
       "      <td>3255.338202</td>\n",
       "      <td>14.0</td>\n",
       "      <td>1.0</td>\n",
       "      <td>6.0</td>\n",
       "      <td>0.0</td>\n",
       "      <td>199.0</td>\n",
       "    </tr>\n",
       "    <tr>\n",
       "      <th>7</th>\n",
       "      <td>2</td>\n",
       "      <td>6780.722964</td>\n",
       "      <td>48.0</td>\n",
       "      <td>1.0</td>\n",
       "      <td>6.0</td>\n",
       "      <td>0.0</td>\n",
       "      <td>199.0</td>\n",
       "    </tr>\n",
       "  </tbody>\n",
       "</table>\n",
       "</div>"
      ],
      "text/plain": [
       "               distance_count  distance_sum  duration_sum  \\\n",
       "user_id month                                               \n",
       "1       1                   2   7027.511294          42.0   \n",
       "        4                   1    754.159807           7.0   \n",
       "        8                   2   6723.470560          46.0   \n",
       "        10                  2   5809.911100          32.0   \n",
       "        11                  3   7003.499363          56.0   \n",
       "        12                  2   6751.629942          28.0   \n",
       "2       3                   3  10187.723006          63.0   \n",
       "        4                   2   6164.381824          40.0   \n",
       "        6                   1   3255.338202          14.0   \n",
       "        7                   2   6780.722964          48.0   \n",
       "\n",
       "               is_subscription_mean  minute_price_mean  start_ride_price_mean  \\\n",
       "user_id month                                                                   \n",
       "1       1                       1.0                6.0                    0.0   \n",
       "        4                       1.0                6.0                    0.0   \n",
       "        8                       1.0                6.0                    0.0   \n",
       "        10                      1.0                6.0                    0.0   \n",
       "        11                      1.0                6.0                    0.0   \n",
       "        12                      1.0                6.0                    0.0   \n",
       "2       3                       1.0                6.0                    0.0   \n",
       "        4                       1.0                6.0                    0.0   \n",
       "        6                       1.0                6.0                    0.0   \n",
       "        7                       1.0                6.0                    0.0   \n",
       "\n",
       "               subscription_fee_mean  \n",
       "user_id month                         \n",
       "1       1                      199.0  \n",
       "        4                      199.0  \n",
       "        8                      199.0  \n",
       "        10                     199.0  \n",
       "        11                     199.0  \n",
       "        12                     199.0  \n",
       "2       3                      199.0  \n",
       "        4                      199.0  \n",
       "        6                      199.0  \n",
       "        7                      199.0  "
      ]
     },
     "execution_count": 56,
     "metadata": {},
     "output_type": "execute_result"
    }
   ],
   "source": [
    "# создаем датафрейм - сводную таблицу\n",
    "df_revenue = df_all.pivot_table(\n",
    "    index = ['user_id', 'month'],  \n",
    "    values = ['distance', \n",
    "              'duration',\n",
    "              'date',\n",
    "              'start_ride_price',\n",
    "              'minute_price',\n",
    "              'subscription_fee',\n",
    "              'is_subscription',\n",
    "             ],\n",
    "    aggfunc = {'distance' : ['sum', 'count'], \n",
    "               'duration' : 'sum',\n",
    "               'start_ride_price' : 'mean',\n",
    "               'minute_price' : 'mean',\n",
    "               'subscription_fee' : 'mean',\n",
    "               'is_subscription' : 'mean',\n",
    "              })\n",
    "\n",
    "# объединяем двухуровневые названия столбцов в одну строку через '_'\n",
    "df_revenue.columns = list(map(\"_\".join, df_revenue.columns))\n",
    "\n",
    "# выведем первые строки полученной таблицы\n",
    "df_revenue.head(10)"
   ]
  },
  {
   "cell_type": "code",
   "execution_count": 57,
   "id": "84ceb462",
   "metadata": {
    "scrolled": true
   },
   "outputs": [
    {
     "data": {
      "text/html": [
       "<div>\n",
       "<style scoped>\n",
       "    .dataframe tbody tr th:only-of-type {\n",
       "        vertical-align: middle;\n",
       "    }\n",
       "\n",
       "    .dataframe tbody tr th {\n",
       "        vertical-align: top;\n",
       "    }\n",
       "\n",
       "    .dataframe thead th {\n",
       "        text-align: right;\n",
       "    }\n",
       "</style>\n",
       "<table border=\"1\" class=\"dataframe\">\n",
       "  <thead>\n",
       "    <tr style=\"text-align: right;\">\n",
       "      <th></th>\n",
       "      <th></th>\n",
       "      <th>distance_count</th>\n",
       "      <th>distance_sum</th>\n",
       "      <th>duration_sum</th>\n",
       "      <th>is_subscription_mean</th>\n",
       "      <th>minute_price_mean</th>\n",
       "      <th>start_ride_price_mean</th>\n",
       "      <th>subscription_fee_mean</th>\n",
       "    </tr>\n",
       "    <tr>\n",
       "      <th>user_id</th>\n",
       "      <th>month</th>\n",
       "      <th></th>\n",
       "      <th></th>\n",
       "      <th></th>\n",
       "      <th></th>\n",
       "      <th></th>\n",
       "      <th></th>\n",
       "      <th></th>\n",
       "    </tr>\n",
       "  </thead>\n",
       "  <tbody>\n",
       "    <tr>\n",
       "      <th rowspan=\"9\" valign=\"top\">700</th>\n",
       "      <th>1</th>\n",
       "      <td>1</td>\n",
       "      <td>2515.690719</td>\n",
       "      <td>15.0</td>\n",
       "      <td>0.0</td>\n",
       "      <td>8.0</td>\n",
       "      <td>50.0</td>\n",
       "      <td>0.0</td>\n",
       "    </tr>\n",
       "    <tr>\n",
       "      <th>2</th>\n",
       "      <td>5</td>\n",
       "      <td>13446.659764</td>\n",
       "      <td>89.0</td>\n",
       "      <td>0.0</td>\n",
       "      <td>8.0</td>\n",
       "      <td>50.0</td>\n",
       "      <td>0.0</td>\n",
       "    </tr>\n",
       "    <tr>\n",
       "      <th>3</th>\n",
       "      <td>1</td>\n",
       "      <td>3798.334905</td>\n",
       "      <td>19.0</td>\n",
       "      <td>0.0</td>\n",
       "      <td>8.0</td>\n",
       "      <td>50.0</td>\n",
       "      <td>0.0</td>\n",
       "    </tr>\n",
       "    <tr>\n",
       "      <th>4</th>\n",
       "      <td>1</td>\n",
       "      <td>2984.551206</td>\n",
       "      <td>16.0</td>\n",
       "      <td>0.0</td>\n",
       "      <td>8.0</td>\n",
       "      <td>50.0</td>\n",
       "      <td>0.0</td>\n",
       "    </tr>\n",
       "    <tr>\n",
       "      <th>6</th>\n",
       "      <td>2</td>\n",
       "      <td>5927.650988</td>\n",
       "      <td>29.0</td>\n",
       "      <td>0.0</td>\n",
       "      <td>8.0</td>\n",
       "      <td>50.0</td>\n",
       "      <td>0.0</td>\n",
       "    </tr>\n",
       "    <tr>\n",
       "      <th>7</th>\n",
       "      <td>2</td>\n",
       "      <td>4399.206279</td>\n",
       "      <td>21.0</td>\n",
       "      <td>0.0</td>\n",
       "      <td>8.0</td>\n",
       "      <td>50.0</td>\n",
       "      <td>0.0</td>\n",
       "    </tr>\n",
       "    <tr>\n",
       "      <th>8</th>\n",
       "      <td>1</td>\n",
       "      <td>4071.654669</td>\n",
       "      <td>17.0</td>\n",
       "      <td>0.0</td>\n",
       "      <td>8.0</td>\n",
       "      <td>50.0</td>\n",
       "      <td>0.0</td>\n",
       "    </tr>\n",
       "    <tr>\n",
       "      <th>10</th>\n",
       "      <td>2</td>\n",
       "      <td>6322.578618</td>\n",
       "      <td>44.0</td>\n",
       "      <td>0.0</td>\n",
       "      <td>8.0</td>\n",
       "      <td>50.0</td>\n",
       "      <td>0.0</td>\n",
       "    </tr>\n",
       "    <tr>\n",
       "      <th>11</th>\n",
       "      <td>3</td>\n",
       "      <td>8735.782625</td>\n",
       "      <td>32.0</td>\n",
       "      <td>0.0</td>\n",
       "      <td>8.0</td>\n",
       "      <td>50.0</td>\n",
       "      <td>0.0</td>\n",
       "    </tr>\n",
       "    <tr>\n",
       "      <th>701</th>\n",
       "      <th>1</th>\n",
       "      <td>1</td>\n",
       "      <td>2676.472894</td>\n",
       "      <td>18.0</td>\n",
       "      <td>0.0</td>\n",
       "      <td>8.0</td>\n",
       "      <td>50.0</td>\n",
       "      <td>0.0</td>\n",
       "    </tr>\n",
       "  </tbody>\n",
       "</table>\n",
       "</div>"
      ],
      "text/plain": [
       "               distance_count  distance_sum  duration_sum  \\\n",
       "user_id month                                               \n",
       "700     1                   1   2515.690719          15.0   \n",
       "        2                   5  13446.659764          89.0   \n",
       "        3                   1   3798.334905          19.0   \n",
       "        4                   1   2984.551206          16.0   \n",
       "        6                   2   5927.650988          29.0   \n",
       "        7                   2   4399.206279          21.0   \n",
       "        8                   1   4071.654669          17.0   \n",
       "        10                  2   6322.578618          44.0   \n",
       "        11                  3   8735.782625          32.0   \n",
       "701     1                   1   2676.472894          18.0   \n",
       "\n",
       "               is_subscription_mean  minute_price_mean  start_ride_price_mean  \\\n",
       "user_id month                                                                   \n",
       "700     1                       0.0                8.0                   50.0   \n",
       "        2                       0.0                8.0                   50.0   \n",
       "        3                       0.0                8.0                   50.0   \n",
       "        4                       0.0                8.0                   50.0   \n",
       "        6                       0.0                8.0                   50.0   \n",
       "        7                       0.0                8.0                   50.0   \n",
       "        8                       0.0                8.0                   50.0   \n",
       "        10                      0.0                8.0                   50.0   \n",
       "        11                      0.0                8.0                   50.0   \n",
       "701     1                       0.0                8.0                   50.0   \n",
       "\n",
       "               subscription_fee_mean  \n",
       "user_id month                         \n",
       "700     1                        0.0  \n",
       "        2                        0.0  \n",
       "        3                        0.0  \n",
       "        4                        0.0  \n",
       "        6                        0.0  \n",
       "        7                        0.0  \n",
       "        8                        0.0  \n",
       "        10                       0.0  \n",
       "        11                       0.0  \n",
       "701     1                        0.0  "
      ]
     },
     "execution_count": 57,
     "metadata": {},
     "output_type": "execute_result"
    }
   ],
   "source": [
    "# проверим корректность столбца 'is_subscription_mean'\n",
    "df_revenue.query('is_subscription_mean == False').head(10)"
   ]
  },
  {
   "cell_type": "markdown",
   "id": "24d92ea8",
   "metadata": {},
   "source": [
    "Значения \"False\" также присутствуют в таблице. Верно."
   ]
  },
  {
   "cell_type": "code",
   "execution_count": 58,
   "id": "ef79df04",
   "metadata": {
    "scrolled": true
   },
   "outputs": [
    {
     "data": {
      "text/plain": [
       "distance_count           0\n",
       "distance_sum             0\n",
       "duration_sum             0\n",
       "is_subscription_mean     0\n",
       "minute_price_mean        0\n",
       "start_ride_price_mean    0\n",
       "subscription_fee_mean    0\n",
       "dtype: int64"
      ]
     },
     "execution_count": 58,
     "metadata": {},
     "output_type": "execute_result"
    }
   ],
   "source": [
    "# проверим сводную таблицу на ниличие пропусков\n",
    "df_revenue.isna().sum()"
   ]
  },
  {
   "cell_type": "markdown",
   "id": "7a630b44",
   "metadata": {},
   "source": [
    "Пропусков не обнаружено."
   ]
  },
  {
   "cell_type": "markdown",
   "id": "c50c928d",
   "metadata": {},
   "source": [
    "Сводная таблица создана. Пропусков и ошибок не обнаружено. Приступим к подсчёту выручки."
   ]
  },
  {
   "cell_type": "code",
   "execution_count": 59,
   "id": "537a7a73",
   "metadata": {},
   "outputs": [
    {
     "data": {
      "text/html": [
       "<div>\n",
       "<style scoped>\n",
       "    .dataframe tbody tr th:only-of-type {\n",
       "        vertical-align: middle;\n",
       "    }\n",
       "\n",
       "    .dataframe tbody tr th {\n",
       "        vertical-align: top;\n",
       "    }\n",
       "\n",
       "    .dataframe thead th {\n",
       "        text-align: right;\n",
       "    }\n",
       "</style>\n",
       "<table border=\"1\" class=\"dataframe\">\n",
       "  <thead>\n",
       "    <tr style=\"text-align: right;\">\n",
       "      <th></th>\n",
       "      <th></th>\n",
       "      <th>distance_count</th>\n",
       "      <th>distance_sum</th>\n",
       "      <th>duration_sum</th>\n",
       "      <th>is_subscription_mean</th>\n",
       "      <th>minute_price_mean</th>\n",
       "      <th>start_ride_price_mean</th>\n",
       "      <th>subscription_fee_mean</th>\n",
       "      <th>revenue</th>\n",
       "    </tr>\n",
       "    <tr>\n",
       "      <th>user_id</th>\n",
       "      <th>month</th>\n",
       "      <th></th>\n",
       "      <th></th>\n",
       "      <th></th>\n",
       "      <th></th>\n",
       "      <th></th>\n",
       "      <th></th>\n",
       "      <th></th>\n",
       "      <th></th>\n",
       "    </tr>\n",
       "  </thead>\n",
       "  <tbody>\n",
       "    <tr>\n",
       "      <th rowspan=\"6\" valign=\"top\">1</th>\n",
       "      <th>1</th>\n",
       "      <td>2</td>\n",
       "      <td>7027.511294</td>\n",
       "      <td>42.0</td>\n",
       "      <td>1.0</td>\n",
       "      <td>6.0</td>\n",
       "      <td>0.0</td>\n",
       "      <td>199.0</td>\n",
       "      <td>451.0</td>\n",
       "    </tr>\n",
       "    <tr>\n",
       "      <th>4</th>\n",
       "      <td>1</td>\n",
       "      <td>754.159807</td>\n",
       "      <td>7.0</td>\n",
       "      <td>1.0</td>\n",
       "      <td>6.0</td>\n",
       "      <td>0.0</td>\n",
       "      <td>199.0</td>\n",
       "      <td>241.0</td>\n",
       "    </tr>\n",
       "    <tr>\n",
       "      <th>8</th>\n",
       "      <td>2</td>\n",
       "      <td>6723.470560</td>\n",
       "      <td>46.0</td>\n",
       "      <td>1.0</td>\n",
       "      <td>6.0</td>\n",
       "      <td>0.0</td>\n",
       "      <td>199.0</td>\n",
       "      <td>475.0</td>\n",
       "    </tr>\n",
       "    <tr>\n",
       "      <th>10</th>\n",
       "      <td>2</td>\n",
       "      <td>5809.911100</td>\n",
       "      <td>32.0</td>\n",
       "      <td>1.0</td>\n",
       "      <td>6.0</td>\n",
       "      <td>0.0</td>\n",
       "      <td>199.0</td>\n",
       "      <td>391.0</td>\n",
       "    </tr>\n",
       "    <tr>\n",
       "      <th>11</th>\n",
       "      <td>3</td>\n",
       "      <td>7003.499363</td>\n",
       "      <td>56.0</td>\n",
       "      <td>1.0</td>\n",
       "      <td>6.0</td>\n",
       "      <td>0.0</td>\n",
       "      <td>199.0</td>\n",
       "      <td>535.0</td>\n",
       "    </tr>\n",
       "    <tr>\n",
       "      <th>12</th>\n",
       "      <td>2</td>\n",
       "      <td>6751.629942</td>\n",
       "      <td>28.0</td>\n",
       "      <td>1.0</td>\n",
       "      <td>6.0</td>\n",
       "      <td>0.0</td>\n",
       "      <td>199.0</td>\n",
       "      <td>367.0</td>\n",
       "    </tr>\n",
       "    <tr>\n",
       "      <th rowspan=\"4\" valign=\"top\">2</th>\n",
       "      <th>3</th>\n",
       "      <td>3</td>\n",
       "      <td>10187.723006</td>\n",
       "      <td>63.0</td>\n",
       "      <td>1.0</td>\n",
       "      <td>6.0</td>\n",
       "      <td>0.0</td>\n",
       "      <td>199.0</td>\n",
       "      <td>577.0</td>\n",
       "    </tr>\n",
       "    <tr>\n",
       "      <th>4</th>\n",
       "      <td>2</td>\n",
       "      <td>6164.381824</td>\n",
       "      <td>40.0</td>\n",
       "      <td>1.0</td>\n",
       "      <td>6.0</td>\n",
       "      <td>0.0</td>\n",
       "      <td>199.0</td>\n",
       "      <td>439.0</td>\n",
       "    </tr>\n",
       "    <tr>\n",
       "      <th>6</th>\n",
       "      <td>1</td>\n",
       "      <td>3255.338202</td>\n",
       "      <td>14.0</td>\n",
       "      <td>1.0</td>\n",
       "      <td>6.0</td>\n",
       "      <td>0.0</td>\n",
       "      <td>199.0</td>\n",
       "      <td>283.0</td>\n",
       "    </tr>\n",
       "    <tr>\n",
       "      <th>7</th>\n",
       "      <td>2</td>\n",
       "      <td>6780.722964</td>\n",
       "      <td>48.0</td>\n",
       "      <td>1.0</td>\n",
       "      <td>6.0</td>\n",
       "      <td>0.0</td>\n",
       "      <td>199.0</td>\n",
       "      <td>487.0</td>\n",
       "    </tr>\n",
       "  </tbody>\n",
       "</table>\n",
       "</div>"
      ],
      "text/plain": [
       "               distance_count  distance_sum  duration_sum  \\\n",
       "user_id month                                               \n",
       "1       1                   2   7027.511294          42.0   \n",
       "        4                   1    754.159807           7.0   \n",
       "        8                   2   6723.470560          46.0   \n",
       "        10                  2   5809.911100          32.0   \n",
       "        11                  3   7003.499363          56.0   \n",
       "        12                  2   6751.629942          28.0   \n",
       "2       3                   3  10187.723006          63.0   \n",
       "        4                   2   6164.381824          40.0   \n",
       "        6                   1   3255.338202          14.0   \n",
       "        7                   2   6780.722964          48.0   \n",
       "\n",
       "               is_subscription_mean  minute_price_mean  start_ride_price_mean  \\\n",
       "user_id month                                                                   \n",
       "1       1                       1.0                6.0                    0.0   \n",
       "        4                       1.0                6.0                    0.0   \n",
       "        8                       1.0                6.0                    0.0   \n",
       "        10                      1.0                6.0                    0.0   \n",
       "        11                      1.0                6.0                    0.0   \n",
       "        12                      1.0                6.0                    0.0   \n",
       "2       3                       1.0                6.0                    0.0   \n",
       "        4                       1.0                6.0                    0.0   \n",
       "        6                       1.0                6.0                    0.0   \n",
       "        7                       1.0                6.0                    0.0   \n",
       "\n",
       "               subscription_fee_mean  revenue  \n",
       "user_id month                                  \n",
       "1       1                      199.0    451.0  \n",
       "        4                      199.0    241.0  \n",
       "        8                      199.0    475.0  \n",
       "        10                     199.0    391.0  \n",
       "        11                     199.0    535.0  \n",
       "        12                     199.0    367.0  \n",
       "2       3                      199.0    577.0  \n",
       "        4                      199.0    439.0  \n",
       "        6                      199.0    283.0  \n",
       "        7                      199.0    487.0  "
      ]
     },
     "execution_count": 59,
     "metadata": {},
     "output_type": "execute_result"
    }
   ],
   "source": [
    "# добавляем столбец с выручкой\n",
    "df_revenue['revenue'] = (\n",
    "    # цена старта * кол. поездок\n",
    "    (df_revenue['start_ride_price_mean'] * df_revenue['distance_count']) \n",
    "    +\n",
    "    # цена минуты * кол. минут\n",
    "    (df_revenue['minute_price_mean'] * df_revenue['duration_sum'])\n",
    "    +\n",
    "    # стоимость подписки\n",
    "    df_revenue['subscription_fee_mean']\n",
    ")\n",
    "\n",
    "# выведем первые строки\n",
    "df_revenue.head(10)"
   ]
  },
  {
   "cell_type": "code",
   "execution_count": 60,
   "id": "f33e7f3a",
   "metadata": {},
   "outputs": [
    {
     "name": "stdout",
     "output_type": "stream",
     "text": [
      "Средняя помесячная выручка от всех пользователей: 342.3\n",
      "Средняя помесячная выручка от пользователей без подписки: 328.64\n",
      "Средняя помесячная выручка от пользователей с подпиской: 362.79\n"
     ]
    }
   ],
   "source": [
    "# средняя выручка по месяцам от каждого пользователя.\n",
    "print('Средняя помесячная выручка от всех пользователей:', df_revenue['revenue'].mean().round(2))\n",
    "print('Средняя помесячная выручка от пользователей без подписки:', df_revenue.query('is_subscription_mean == False')['revenue'].mean().round(2))\n",
    "print('Средняя помесячная выручка от пользователей с подпиской:', df_revenue.query('is_subscription_mean == True')['revenue'].mean().round(2))"
   ]
  },
  {
   "cell_type": "markdown",
   "id": "e1158926",
   "metadata": {},
   "source": [
    "**Вывод:**\n",
    "\n",
    "Расчитали выручку от каждого пользователя по месяцам. \n",
    "\n",
    "Средняя помесячная выручка от пользователей: \n",
    "- общая: 342,3 руб./мес.;\n",
    "- без подписки: 328.64 руб./мес.;\n",
    "- с подпиской: 362.79 руб./мес.."
   ]
  },
  {
   "cell_type": "markdown",
   "id": "677877ec",
   "metadata": {},
   "source": [
    "## Проверка гипотез"
   ]
  },
  {
   "cell_type": "markdown",
   "id": "90b83f8c",
   "metadata": {},
   "source": [
    "### Тратят ли пользователи с подпиской больше времени на поездки?"
   ]
  },
  {
   "cell_type": "markdown",
   "id": "4a6d7ecc",
   "metadata": {},
   "source": [
    "Для проверки гипотезы выполним T-тест.\n",
    "\n",
    "- Нулевая гипотеза: пользователи с подпиской и пользователи без подписки всреднем тратят одинаковое количество времени на поездки.\n",
    "- Альтернативная гипотеза: среднее время поездки пользователей с подпиской больше, чем среднее время поездки пользователей без подписки\n",
    "\n",
    "Чтобы проверить такую гипотезу, нужно передать в метод `ttest_ind()` сначала выборку с продолжительностью поездки пользователей с подпиской `df_ultra['duration']`, затем выборку с продолжительностью поездки пользователей без подписки `df_free['duration']`. В качестве alternative нужно указать 'greater', то есть «больше»."
   ]
  },
  {
   "cell_type": "code",
   "execution_count": 61,
   "id": "31038d6b",
   "metadata": {},
   "outputs": [
    {
     "name": "stdout",
     "output_type": "stream",
     "text": [
      "p-значение: 1.2804098316645613e-34\n",
      "Отвергаем нулевую гипотезу\n"
     ]
    }
   ],
   "source": [
    "# задаём уровень значимости\n",
    "alpha = 0.05\n",
    "\n",
    "# время поездки первой группы пользователей (с подпиской)\n",
    "first_group = df_ultra['duration']\n",
    "\n",
    "# время поездки второй группы пользователей (без подписки)\n",
    "second_group = df_free['duration']\n",
    "\n",
    "# проводим ttest для двух выборок, в качестве альтернативной используем одностороннюю гипотезу «больше»\n",
    "results = st.ttest_ind(first_group, second_group, alternative='greater')\n",
    "\n",
    "print(f'p-значение: {results.pvalue}')\n",
    "\n",
    "# проверяем p-value\n",
    "if results.pvalue < alpha:\n",
    "    print('Отвергаем нулевую гипотезу')\n",
    "else:\n",
    "    print('Нет оснований отвергнуть нулевую гипотезу')"
   ]
  },
  {
   "cell_type": "markdown",
   "id": "2ea4e0ff",
   "metadata": {},
   "source": [
    "**Вывод:**\n",
    "\n",
    "Полученное значение p-значение: 1.2804098316645618e-34 меньше заданного уровня значимости, поэтому можно отвергнуть нулевую гипотезу. Есть основания утверждать, что пользователи с подпиской тратят больше времени на поездки."
   ]
  },
  {
   "cell_type": "markdown",
   "id": "008a1c65",
   "metadata": {},
   "source": [
    "### Расстояние, которое проезжают пользователи с подпиской не превышает 3130 метров?"
   ]
  },
  {
   "cell_type": "markdown",
   "id": "9e51a62c",
   "metadata": {},
   "source": [
    "Для проверки гипотезы выполним T-тест. Гипотеза является односторонней. \n",
    "\n",
    "- Нулевая гипотеза: среднее расстояние, которое проезжают пользователи с подпиской не превышает 3130 метров\n",
    "- Альтернативная гипотеза: среднее расстояние, которое проезжают пользователи с подпиской больше 3130 метров\n",
    "\n",
    "Чтобы проверить такую гипотезу, нужно передать в метод `ttest_1samp()` сначала выборку с расстоянием поездок пользователей с подпиской `df_ultra['distance']`, затем интересующее значение 3130 м. В качестве alternative нужно указать 'greater', то есть «больше»."
   ]
  },
  {
   "cell_type": "code",
   "execution_count": 62,
   "id": "05e399c8",
   "metadata": {},
   "outputs": [
    {
     "name": "stdout",
     "output_type": "stream",
     "text": [
      "p-значение: 0.9195368847849785\n",
      "Не получилось отвергнуть нулевую гипотезу: расстояние не превышает 3130 м.\n"
     ]
    }
   ],
   "source": [
    "distance = df_ultra['distance']\n",
    "\n",
    "target_distance = 3130 # предельное расстояние поездки для оптимального износа\n",
    "\n",
    "alpha = 0.05 # уровень статистической значимости\n",
    "\n",
    "results = st.ttest_1samp(distance, target_distance, alternative='greater')\n",
    "print('p-значение:', results.pvalue)\n",
    "\n",
    "if results.pvalue < alpha:\n",
    "    print(f'Отвергаем нулевую гипотезу: расстояние значимо больше {target_distance} м.')\n",
    "else:\n",
    "    print(f'Не получилось отвергнуть нулевую гипотезу: расстояние не превышает {target_distance} м.')   "
   ]
  },
  {
   "cell_type": "markdown",
   "id": "d2aad4d7",
   "metadata": {},
   "source": [
    "**Вывод:**\n",
    "\n",
    "Полученное p-значение больше заданного уровня значимости, поэтому не отвергаем нулевую гипотезу. \n",
    "\n",
    "Есть основания говорить, что среднее расстояние, которое проезжают пользователи с подпиской не превышает 3130 метров."
   ]
  },
  {
   "cell_type": "markdown",
   "id": "f171087a",
   "metadata": {},
   "source": [
    "### Помесячная выручка от пользователей с подпиской выше, чем без подписки?"
   ]
  },
  {
   "cell_type": "markdown",
   "id": "3de69546",
   "metadata": {},
   "source": [
    "Для проверки гипотезы выполним T-тест.\n",
    "\n",
    "- Нулевая гипотеза: средняя помесячная выручка от пользователей с подпиской и от пользователей без подписки одинакова.\n",
    "- Альтернативная гипотеза: средняя помесячная выручка от пользователей с подпиской выше, чем от пользователей без подписки.\n",
    "\n",
    "Чтобы проверить такую гипотезу, нужно передать в метод `ttest_ind()` сначала выборку с помесячной выручкой от пользователей с подпиской `df_revenue.query('subscription_fee_mean != 0')['revenue']`, затем выборку с помесячной выручкой от пользователей без подписки `df_revenue.query('subscription_fee_mean == 0')['revenue']`. В качестве alternative нужно указать 'greater', то есть «больше»."
   ]
  },
  {
   "cell_type": "code",
   "execution_count": 63,
   "id": "2004b210",
   "metadata": {
    "scrolled": true
   },
   "outputs": [
    {
     "name": "stdout",
     "output_type": "stream",
     "text": [
      "p-значение: 1.8850394384715216e-31\n",
      "Отвергаем нулевую гипотезу\n"
     ]
    }
   ],
   "source": [
    "# задаём уровень значимости\n",
    "alpha = 0.05\n",
    "\n",
    "# время поездки первой группы пользователей (с подпиской)\n",
    "first_group = df_revenue.query('subscription_fee_mean != 0')['revenue']\n",
    "\n",
    "# время поездки второй группы пользователей (без подписки)\n",
    "second_group = df_revenue.query('subscription_fee_mean == 0')['revenue']\n",
    "\n",
    "# проводим ttest для двух выборок, в качестве альтернативной используем одностороннюю гипотезу «больше»\n",
    "results = st.ttest_ind(first_group, second_group, alternative='greater')\n",
    "\n",
    "print(f'p-значение: {results.pvalue}')\n",
    "\n",
    "# проверяем p-value\n",
    "if results.pvalue < alpha:\n",
    "    print('Отвергаем нулевую гипотезу')\n",
    "else:\n",
    "    print('Нет оснований отвергнуть нулевую гипотезу')"
   ]
  },
  {
   "cell_type": "markdown",
   "id": "4787f57f",
   "metadata": {},
   "source": [
    "**Вывод:**\n",
    "\n",
    "Полученное p-значение меньше заданного уровня значимости, поэтому можно отвергнуть нулевую гипотезу. Есть основания утверждать, что средняя помесячная выручка от пользователей с подпиской выше, чем без подписки."
   ]
  },
  {
   "cell_type": "markdown",
   "id": "882cfe1e",
   "metadata": {},
   "source": [
    "## Дополнительные задачи"
   ]
  },
  {
   "cell_type": "markdown",
   "id": "bd32d9d2",
   "metadata": {},
   "source": [
    "###  Снизилось ли количество обращений в техподдержку всвязи с обновлением серверов?"
   ]
  },
  {
   "cell_type": "markdown",
   "id": "de05b6a8",
   "metadata": {},
   "source": [
    "Данные для проверки гипотезы не были предоставлены, однако известно, что некоторый файл содержит для каждого пользователя данные о количестве обращений до обновления и после него. \n",
    "\n",
    "**Рекомендация:**\n",
    "\n",
    "Для решения этой задачи нужно проверить одностороннюю гипотезу о равенстве среднего генеральной совокупности для зависимых (парных) выборок. Для расчёта в Python можно применить метод `scipy.stats.ttest_rel()`."
   ]
  },
  {
   "cell_type": "markdown",
   "id": "cb79386e",
   "metadata": {},
   "source": [
    "### Количество промокодов, необходимых для продления подписки заданного количества клиентов."
   ]
  },
  {
   "cell_type": "markdown",
   "id": "ec5e2b76",
   "metadata": {},
   "source": [
    "Нужно провести акцию с раздачей промокодов на один бесплатный месяц подписки, в рамках которой как минимум 100 существующих клиентов должны продлить эту подписку. То есть по завершении периода действия подписки пользователь может либо отказаться от неё, либо продлить, совершив соответствующий платёж. \n",
    "Эта акция уже проводилась ранее и по итогу выяснилось, что после бесплатного пробного периода подписку продлевают 10 % пользователей. \n",
    "\n",
    "Необходимо выяснить, какое минимальное количество промокодов нужно разослать, чтобы вероятность не выполнить план была примерно 5 %."
   ]
  },
  {
   "cell_type": "markdown",
   "id": "88ced463",
   "metadata": {},
   "source": [
    "Для решения используем биномиальное распределение, которое описывает указанную ситуацию. Затем подберем подходящее значение параметра `n` для заданного параметра `p=0.1` с помощью графиков и метода `cdf()`."
   ]
  },
  {
   "cell_type": "code",
   "execution_count": 64,
   "id": "85b01b0a",
   "metadata": {},
   "outputs": [
    {
     "name": "stdout",
     "output_type": "stream",
     "text": [
      "Минимальное число промокодов: 1161\n",
      "Для подписки 100 клиентов\n",
      "c вероятностью успеха: 95.02 %\n"
     ]
    },
    {
     "data": {
      "image/png": "[encoded data removed]",
      "text/plain": [
       "<Figure size 640x480 with 1 Axes>"
      ]
     },
     "metadata": {},
     "output_type": "display_data"
    }
   ],
   "source": [
    "n = 1 # количество попыток, искомая величина, 1 - начальное значение.\n",
    "p = 0.1 # вероятность успеха\n",
    "alpha = 0.05 # уровень статистической значимости\n",
    "success_target = 99 # целевое число успехов\n",
    "\n",
    "timeout = time.time() + 10 # остановим цикл, если за отведенное время решение не найдется\n",
    "warnings.filterwarnings(\"ignore\", category=RuntimeWarning) # отключаем оповещения, поскольку timeout мы выставили \n",
    "\n",
    "# Увеличиваем число попыток, пока вероятность неудачи не станет меньше alpha\n",
    "while binom.cdf(success_target, n, p, loc=0) > alpha:\n",
    "    if time.time() > timeout:\n",
    "        break\n",
    "    n += 1\n",
    "else: \n",
    "    print('Минимальное число промокодов:', n)  \n",
    "    print(f'Для подписки {success_target + 1} клиентов')\n",
    "    print(f'c вероятностью успеха: {round((1-binom.cdf(success_target, n, p, loc=0))*100,2)} %')\n",
    "\n",
    "# cтроим диаграмму  \n",
    "distr = [] # в этом списке храним значения распределения\n",
    "\n",
    "for k in range(0, n + 1):\n",
    "    current_value = binom.pmf(k, n, p)\n",
    "    distr.append(current_value)\n",
    "    \n",
    "plt.bar(range(0, n + 1), distr) # строим столбчатую диаграмму\n",
    "plt.title('Биномиальное распределение', fontsize=15) # заголовок\n",
    "plt.xlabel('Число успешных попыток') # подпись оси х\n",
    "plt.ylabel('Вероятность') # подпись оси у\n",
    "plt.grid(True) # оси\n",
    "\n",
    "expect = n * p # мат. ожидание\n",
    "std = binom.std(n, p, loc=0) # стандартное отклонение\n",
    "k_ = int(expect) # возьмем за число успехов мат. ожидание (для масштаба графика)\n",
    "prob = binom.pmf(k_, n, p, loc=0) # найдем вероятность k-успешных попыток\n",
    "\n",
    "# автоматически масштабируем график, обрезаем по х и по y\n",
    "plt.axis([expect - 4 * std, expect + 4 * std, 0, 1.1 * prob]) \n",
    "\n",
    "plt.show()\n",
    "warnings.filterwarnings(\"default\", category=RuntimeWarning) # снова включаем оповещения"
   ]
  },
  {
   "cell_type": "markdown",
   "id": "3d0e06f2",
   "metadata": {},
   "source": [
    "**Вывод:**\n",
    "\n",
    "Необходимо разослать минимум 1161 промокод для подписки 100 клиентов, при таком количестве вероятность успеха составляет более 95%."
   ]
  },
  {
   "cell_type": "markdown",
   "id": "04b6e63f",
   "metadata": {},
   "source": [
    "### Количество push-уведомлений, которые прочитает заданное число клиентов."
   ]
  },
  {
   "cell_type": "markdown",
   "id": "0af9be36",
   "metadata": {},
   "source": [
    "Отдел маркетинга рассылает клиентам push-уведомления в мобильном приложении. Клиенты могут открыть его или не открывать. Известно, что уведомления открывают около 40 % получивших клиентов. Отдел планирует разослать 1 млн уведомлений. \n",
    "\n",
    "Необходимо:\n",
    "1. Построить примерный график распределения (с помощью аппроксимации).\n",
    "2. Оценить вероятность того, что уведомление откроют не более 399,5 тыс. пользователей.\n",
    "\n",
    "Возьмем промежуток от математического ожидания биномиального распределения плюс-минус три его стандартных отклонения. Если он лежит в пределах `[0,n]`(то есть там, где биномиальное распределение определено), то его форма будет симметрична и близка к нормальному распределению, тогда аппроксимируем биномиальное распределение нормальным."
   ]
  },
  {
   "cell_type": "code",
   "execution_count": 65,
   "id": "b5131f16",
   "metadata": {},
   "outputs": [
    {
     "name": "stdout",
     "output_type": "stream",
     "text": [
      "Условие аппроксимации выполняется\n",
      "Вероятность, что уведомление откроют не более 399500 чел.: 15.37 %\n"
     ]
    },
    {
     "data": {
      "image/png": "[encoded data removed]",
      "text/plain": [
       "<Figure size 640x480 with 1 Axes>"
      ]
     },
     "metadata": {},
     "output_type": "display_data"
    }
   ],
   "source": [
    "# задаём параметры биномиального распределения\n",
    "n = 1000000 # количество попыток\n",
    "p = 0.4 # вероятность успеха\n",
    "target = 399500 # целевое число успехов (максимальное)\n",
    "\n",
    "# задаём параметры нормального распределения равными\n",
    "# мат.ожиданию и дисперсии биномиального распределения\n",
    "expect = n * p\n",
    "std = sqrt(n * p * (1 - p))\n",
    "\n",
    "# выводим, выполняется ли наше условие аппроксимации:\n",
    "# лежит ли expect ± 3 std в промежутке от 0 до n:\n",
    "if (expect - (3 * std) >= 0) and ((expect + (3 * std) <= n)):\n",
    "    print('Условие аппроксимации выполняется')\n",
    "else:\n",
    "    print('Условие аппроксимации не выполняется')\n",
    "\n",
    "# задаём нормальное распределение\n",
    "distr = st.norm(expect, std) \n",
    "\n",
    "# считаем вероятность хвоста слева от числа успехов\n",
    "result = distr.cdf(target)\n",
    "print(f'Вероятность, что уведомление откроют не более {target} чел.: {round(result*100,2)} %')\n",
    "\n",
    "x = np.linspace(expect - 3 * std, expect + 3 * std, 100)\n",
    "plt.plot(x, st.norm.pdf(x, expect, std))\n",
    "plt.title('Нормальное распределение', fontsize=15) # заголовок\n",
    "plt.xlabel('Число успешных попыток') # подпись оси х\n",
    "plt.ylabel('Плотность вероятности') # подпись оси у\n",
    "plt.grid(True) # оси\n",
    "\n",
    "plt.show()"
   ]
  },
  {
   "cell_type": "markdown",
   "id": "cd4d556e",
   "metadata": {},
   "source": [
    "**Вывод:**\n",
    "\n",
    "Биномиальное распределение аппроксимировали нормальным и построили график. Вероятность того, что уведомление откроют не более 399,5 тыс. пользователей равна 15,37%."
   ]
  },
  {
   "cell_type": "markdown",
   "id": "f70ed1f2",
   "metadata": {},
   "source": [
    "## Вывод"
   ]
  },
  {
   "cell_type": "markdown",
   "id": "5c7eaaf6",
   "metadata": {},
   "source": [
    "**Вывод:**\n",
    "\n",
    "В ходе исследования мы провли следующую работу:\n",
    "- изучили данные, проверили их на предмет аномалий и несоответствий;\n",
    "- подготовили данные для анализа: удалили дубликаты, изменили тип данных в столбце, добавили новый столбец;\n",
    "- исследовали основные параметры сервиса аренды самокатов: распределение пользователей по городам и возрасту, расстояние и продолжительность поездок, тип подписки;\n",
    "- объединили данные и рассчитали: помесячную выручку, расстояние и время поездки по типам подписки;\n",
    "- проверили три гипотезы;\n",
    "- решили две дополнительные задачи и дали рекомендацию по решению третьей.\n",
    "\n",
    "В ходе исследования установили следующее:\n",
    "- в предоставленных данных чаще всего встречаются пользователи из Пятигорска, реже - из Москвы;\n",
    "- пользователей без подписки: 54,43 %;\n",
    "- средний  возраст пользователей: 25 лет;\n",
    "- медианное растояние за одну поездку: 3134 м;\n",
    "- медианная длительность поездки: 18 минут.;\n",
    "- пользователи с подпиской ездят на более длинные дистанции;\n",
    "- средняя помесячная выручка от пользователей: \n",
    "-- общая: 342,3 руб./мес.;\n",
    "-- без подписки: 328.64 руб./мес.;\n",
    "-- с подпиской: 362.79 руб./мес..\n",
    "\n",
    "В ходе проверки гипотез появились основания утверждать следующее:\n",
    "- пользователи с подпиской всреднем тратят больше времени на поездки;\n",
    "- среднее расстояние, которое проезжают пользователи с подпиской не превышает 3130 метров;\n",
    "- средняя помесячная выручка от пользователей с подпиской выше, чем без подписки.\n",
    "\n",
    "Принимая в учёт, что пользователи с подпиской приносят бóльшую выручку, а среднее расстояние их поездки не превышает оптимального с точки зрения износа самоката, можно сделать вывод, что пользователи с подпиской выгоднее для сервиса.\n",
    "\n",
    "Решили дополнительные задачи и получили следующие результаты:\n",
    "- необходимо разослать минимум 1161 промокод для подписки 100 клиентов, при таком количестве вероятность успеха составляет более 95%;\n",
    "- при рассылке 1 млн. push-уведомлений вероятность того, что уведомление откроют не более 399,5 тыс. пользователей равна 15,37%.\n",
    "\n",
    "Рекомендация для проверки снизилось ли количество обращений в техподдержку всвязи с обновлением серверов:\n",
    "- для ответа на этот вопрос нужно проверить одностороннюю гипотезу о равенстве среднего генеральной совокупности для зависимых (парных) выборок. Для расчёта в Python можно применить метод `scipy.stats.ttest_rel()`."
   ]
  }
 ],
 "metadata": {
  "ExecuteTimeLog": [
   {
    "duration": 760,
    "start_time": "2023-10-09T09:12:51.172Z"
   },
   {
    "duration": 196,
    "start_time": "2023-10-09T09:16:23.403Z"
   },
   {
    "duration": 14,
    "start_time": "2023-10-09T09:18:02.257Z"
   },
   {
    "duration": 79,
    "start_time": "2023-10-09T09:18:13.092Z"
   },
   {
    "duration": 8,
    "start_time": "2023-10-09T09:18:15.891Z"
   },
   {
    "duration": 64,
    "start_time": "2023-10-09T09:18:26.365Z"
   },
   {
    "duration": 67,
    "start_time": "2023-10-09T09:18:31.227Z"
   },
   {
    "duration": 7,
    "start_time": "2023-10-09T09:18:51.492Z"
   },
   {
    "duration": 6,
    "start_time": "2023-10-09T09:19:05.523Z"
   },
   {
    "duration": 21,
    "start_time": "2023-10-09T09:19:44.341Z"
   },
   {
    "duration": 9,
    "start_time": "2023-10-09T09:20:08.670Z"
   },
   {
    "duration": 6,
    "start_time": "2023-10-09T09:20:28.701Z"
   },
   {
    "duration": 8,
    "start_time": "2023-10-09T09:20:38.525Z"
   },
   {
    "duration": 133,
    "start_time": "2023-10-09T09:29:01.949Z"
   },
   {
    "duration": 6,
    "start_time": "2023-10-09T09:53:43.056Z"
   },
   {
    "duration": 7,
    "start_time": "2023-10-09T09:54:33.272Z"
   },
   {
    "duration": 7,
    "start_time": "2023-10-09T09:54:43.889Z"
   },
   {
    "duration": 65,
    "start_time": "2023-10-09T09:55:11.417Z"
   },
   {
    "duration": 10,
    "start_time": "2023-10-09T09:55:17.673Z"
   },
   {
    "duration": 9,
    "start_time": "2023-10-09T09:55:40.890Z"
   },
   {
    "duration": 10,
    "start_time": "2023-10-09T09:55:46.945Z"
   },
   {
    "duration": 72,
    "start_time": "2023-10-09T09:56:39.410Z"
   },
   {
    "duration": 6,
    "start_time": "2023-10-09T10:03:34.534Z"
   },
   {
    "duration": 6,
    "start_time": "2023-10-09T10:06:38.028Z"
   },
   {
    "duration": 7,
    "start_time": "2023-10-09T10:07:28.238Z"
   },
   {
    "duration": 6,
    "start_time": "2023-10-09T10:11:39.074Z"
   },
   {
    "duration": 10,
    "start_time": "2023-10-09T10:12:13.738Z"
   },
   {
    "duration": 11,
    "start_time": "2023-10-09T10:12:23.954Z"
   },
   {
    "duration": 7,
    "start_time": "2023-10-09T10:13:14.018Z"
   },
   {
    "duration": 7,
    "start_time": "2023-10-09T10:13:17.107Z"
   },
   {
    "duration": 4,
    "start_time": "2023-10-09T10:14:29.427Z"
   },
   {
    "duration": 4,
    "start_time": "2023-10-09T10:15:01.084Z"
   },
   {
    "duration": 5,
    "start_time": "2023-10-09T10:16:45.206Z"
   },
   {
    "duration": 9,
    "start_time": "2023-10-09T10:17:27.663Z"
   },
   {
    "duration": 11,
    "start_time": "2023-10-09T10:17:46.014Z"
   },
   {
    "duration": 9,
    "start_time": "2023-10-09T10:18:27.008Z"
   },
   {
    "duration": 6,
    "start_time": "2023-10-09T14:37:26.489Z"
   },
   {
    "duration": 5,
    "start_time": "2023-10-09T14:37:37.937Z"
   },
   {
    "duration": 4,
    "start_time": "2023-10-09T14:37:53.139Z"
   },
   {
    "duration": 5,
    "start_time": "2023-10-09T14:38:48.042Z"
   },
   {
    "duration": 4,
    "start_time": "2023-10-09T14:39:05.302Z"
   },
   {
    "duration": 6,
    "start_time": "2023-10-09T14:39:38.610Z"
   },
   {
    "duration": 5,
    "start_time": "2023-10-09T14:39:53.906Z"
   },
   {
    "duration": 6,
    "start_time": "2023-10-09T14:44:55.903Z"
   },
   {
    "duration": 5,
    "start_time": "2023-10-09T14:45:01.350Z"
   },
   {
    "duration": 5,
    "start_time": "2023-10-09T14:46:40.687Z"
   },
   {
    "duration": 6,
    "start_time": "2023-10-09T14:46:55.536Z"
   },
   {
    "duration": 4,
    "start_time": "2023-10-09T14:50:50.922Z"
   },
   {
    "duration": 5,
    "start_time": "2023-10-09T14:56:21.805Z"
   },
   {
    "duration": 5,
    "start_time": "2023-10-09T14:57:12.742Z"
   },
   {
    "duration": 8,
    "start_time": "2023-10-09T14:58:10.104Z"
   },
   {
    "duration": 5,
    "start_time": "2023-10-09T14:58:34.502Z"
   },
   {
    "duration": 10,
    "start_time": "2023-10-09T14:58:43.607Z"
   },
   {
    "duration": 5,
    "start_time": "2023-10-09T15:06:51.716Z"
   },
   {
    "duration": 8,
    "start_time": "2023-10-09T15:07:57.694Z"
   },
   {
    "duration": 148,
    "start_time": "2023-10-09T15:21:37.608Z"
   },
   {
    "duration": 131,
    "start_time": "2023-10-09T15:22:16.036Z"
   },
   {
    "duration": 129,
    "start_time": "2023-10-09T15:23:49.285Z"
   },
   {
    "duration": 130,
    "start_time": "2023-10-09T15:23:55.956Z"
   },
   {
    "duration": 170,
    "start_time": "2023-10-09T15:24:02.813Z"
   },
   {
    "duration": 118,
    "start_time": "2023-10-09T15:24:11.732Z"
   },
   {
    "duration": 112,
    "start_time": "2023-10-09T15:29:30.522Z"
   },
   {
    "duration": 98,
    "start_time": "2023-10-09T15:52:33.491Z"
   },
   {
    "duration": 99,
    "start_time": "2023-10-09T15:53:38.662Z"
   },
   {
    "duration": 75,
    "start_time": "2023-10-09T15:54:12.125Z"
   },
   {
    "duration": 104,
    "start_time": "2023-10-09T15:54:37.613Z"
   },
   {
    "duration": 125,
    "start_time": "2023-10-09T15:55:10.638Z"
   },
   {
    "duration": 139,
    "start_time": "2023-10-09T16:02:49.436Z"
   },
   {
    "duration": 120,
    "start_time": "2023-10-09T16:03:05.612Z"
   },
   {
    "duration": 116,
    "start_time": "2023-10-09T16:03:25.925Z"
   },
   {
    "duration": 0,
    "start_time": "2023-10-09T16:03:55.842Z"
   },
   {
    "duration": 0,
    "start_time": "2023-10-09T16:04:19.430Z"
   },
   {
    "duration": 17750,
    "start_time": "2023-10-09T16:04:27.422Z"
   },
   {
    "duration": 121,
    "start_time": "2023-10-09T16:05:19.343Z"
   },
   {
    "duration": 1530,
    "start_time": "2023-10-09T16:09:58.482Z"
   },
   {
    "duration": 141,
    "start_time": "2023-10-09T16:10:10.242Z"
   },
   {
    "duration": 291,
    "start_time": "2023-10-09T16:10:35.761Z"
   },
   {
    "duration": 118,
    "start_time": "2023-10-09T16:10:45.906Z"
   },
   {
    "duration": 120,
    "start_time": "2023-10-09T16:10:51.106Z"
   },
   {
    "duration": 122,
    "start_time": "2023-10-09T16:12:22.907Z"
   },
   {
    "duration": 121,
    "start_time": "2023-10-09T16:12:38.292Z"
   },
   {
    "duration": 126,
    "start_time": "2023-10-09T16:16:06.113Z"
   },
   {
    "duration": 118,
    "start_time": "2023-10-09T16:16:25.983Z"
   },
   {
    "duration": 119,
    "start_time": "2023-10-09T16:23:10.383Z"
   },
   {
    "duration": 157,
    "start_time": "2023-10-09T16:23:22.504Z"
   },
   {
    "duration": 144,
    "start_time": "2023-10-09T16:23:42.415Z"
   },
   {
    "duration": 115,
    "start_time": "2023-10-09T16:23:47.975Z"
   },
   {
    "duration": 142,
    "start_time": "2023-10-09T16:30:53.787Z"
   },
   {
    "duration": 129,
    "start_time": "2023-10-09T16:30:59.605Z"
   },
   {
    "duration": 120,
    "start_time": "2023-10-09T16:31:09.246Z"
   },
   {
    "duration": 119,
    "start_time": "2023-10-09T16:31:42.617Z"
   },
   {
    "duration": 123,
    "start_time": "2023-10-09T16:31:48.543Z"
   },
   {
    "duration": 119,
    "start_time": "2023-10-09T16:31:53.254Z"
   },
   {
    "duration": 117,
    "start_time": "2023-10-09T16:32:03.169Z"
   },
   {
    "duration": 123,
    "start_time": "2023-10-09T16:34:33.802Z"
   },
   {
    "duration": 123,
    "start_time": "2023-10-09T16:35:28.898Z"
   },
   {
    "duration": 199,
    "start_time": "2023-10-09T16:36:02.418Z"
   },
   {
    "duration": 127,
    "start_time": "2023-10-09T16:36:10.597Z"
   },
   {
    "duration": 117,
    "start_time": "2023-10-09T16:36:15.714Z"
   },
   {
    "duration": 120,
    "start_time": "2023-10-09T16:36:25.171Z"
   },
   {
    "duration": 128,
    "start_time": "2023-10-09T16:37:08.686Z"
   },
   {
    "duration": 134,
    "start_time": "2023-10-09T16:37:18.844Z"
   },
   {
    "duration": 127,
    "start_time": "2023-10-09T16:37:47.150Z"
   },
   {
    "duration": 128,
    "start_time": "2023-10-09T16:37:58.532Z"
   },
   {
    "duration": 130,
    "start_time": "2023-10-09T16:42:00.295Z"
   },
   {
    "duration": 136,
    "start_time": "2023-10-09T16:42:07.391Z"
   },
   {
    "duration": 135,
    "start_time": "2023-10-09T16:42:20.760Z"
   },
   {
    "duration": 147,
    "start_time": "2023-10-09T16:42:24.735Z"
   },
   {
    "duration": 127,
    "start_time": "2023-10-09T16:42:33.760Z"
   },
   {
    "duration": 123,
    "start_time": "2023-10-09T16:42:41.087Z"
   },
   {
    "duration": 490,
    "start_time": "2023-10-09T16:43:10.352Z"
   },
   {
    "duration": 129,
    "start_time": "2023-10-09T16:43:16.696Z"
   },
   {
    "duration": 162,
    "start_time": "2023-10-09T16:43:32.433Z"
   },
   {
    "duration": 123,
    "start_time": "2023-10-09T16:43:45.256Z"
   },
   {
    "duration": 125,
    "start_time": "2023-10-09T16:44:13.833Z"
   },
   {
    "duration": 114,
    "start_time": "2023-10-09T16:44:19.189Z"
   },
   {
    "duration": 129,
    "start_time": "2023-10-09T16:44:27.897Z"
   },
   {
    "duration": 133,
    "start_time": "2023-10-09T16:44:35.469Z"
   },
   {
    "duration": 117,
    "start_time": "2023-10-09T16:46:28.299Z"
   },
   {
    "duration": 107,
    "start_time": "2023-10-09T16:47:39.443Z"
   },
   {
    "duration": 105,
    "start_time": "2023-10-09T16:48:14.315Z"
   },
   {
    "duration": 8,
    "start_time": "2023-10-09T16:48:26.819Z"
   },
   {
    "duration": 4,
    "start_time": "2023-10-09T16:48:36.956Z"
   },
   {
    "duration": 5,
    "start_time": "2023-10-09T16:49:07.156Z"
   },
   {
    "duration": 149,
    "start_time": "2023-10-09T16:49:20.852Z"
   },
   {
    "duration": 91,
    "start_time": "2023-10-09T16:49:34.443Z"
   },
   {
    "duration": 111,
    "start_time": "2023-10-09T16:49:52.916Z"
   },
   {
    "duration": 4,
    "start_time": "2023-10-09T16:50:06.427Z"
   },
   {
    "duration": 5,
    "start_time": "2023-10-09T16:50:21.323Z"
   },
   {
    "duration": 10,
    "start_time": "2023-10-09T16:50:28.185Z"
   },
   {
    "duration": 5,
    "start_time": "2023-10-09T16:50:31.252Z"
   },
   {
    "duration": 7,
    "start_time": "2023-10-09T16:51:12.028Z"
   },
   {
    "duration": 4,
    "start_time": "2023-10-09T16:51:16.931Z"
   },
   {
    "duration": 8,
    "start_time": "2023-10-09T16:51:38.899Z"
   },
   {
    "duration": 5,
    "start_time": "2023-10-09T16:52:01.786Z"
   },
   {
    "duration": 8,
    "start_time": "2023-10-09T16:52:09.916Z"
   },
   {
    "duration": 7,
    "start_time": "2023-10-09T16:52:24.292Z"
   },
   {
    "duration": 5,
    "start_time": "2023-10-09T16:52:27.886Z"
   },
   {
    "duration": 8,
    "start_time": "2023-10-09T16:52:46.446Z"
   },
   {
    "duration": 5,
    "start_time": "2023-10-09T16:52:52.783Z"
   },
   {
    "duration": 6,
    "start_time": "2023-10-09T16:53:11.154Z"
   },
   {
    "duration": 5,
    "start_time": "2023-10-09T16:53:39.804Z"
   },
   {
    "duration": 6,
    "start_time": "2023-10-09T16:54:34.253Z"
   },
   {
    "duration": 126,
    "start_time": "2023-10-09T16:55:01.300Z"
   },
   {
    "duration": 101,
    "start_time": "2023-10-09T16:55:15.551Z"
   },
   {
    "duration": 245,
    "start_time": "2023-10-09T16:55:27.693Z"
   },
   {
    "duration": 134,
    "start_time": "2023-10-09T16:56:01.492Z"
   },
   {
    "duration": 79,
    "start_time": "2023-10-09T16:56:51.613Z"
   },
   {
    "duration": 172,
    "start_time": "2023-10-09T16:57:10.253Z"
   },
   {
    "duration": 4,
    "start_time": "2023-10-09T16:57:19.927Z"
   },
   {
    "duration": 3,
    "start_time": "2023-10-09T16:57:39.725Z"
   },
   {
    "duration": 12,
    "start_time": "2023-10-09T16:57:50.545Z"
   },
   {
    "duration": 7,
    "start_time": "2023-10-09T16:58:02.725Z"
   },
   {
    "duration": 91,
    "start_time": "2023-10-09T16:58:35.789Z"
   },
   {
    "duration": 4,
    "start_time": "2023-10-09T16:58:45.318Z"
   },
   {
    "duration": 108,
    "start_time": "2023-10-09T16:58:57.882Z"
   },
   {
    "duration": 169,
    "start_time": "2023-10-09T16:59:08.083Z"
   },
   {
    "duration": 120,
    "start_time": "2023-10-09T16:59:36.348Z"
   },
   {
    "duration": 298,
    "start_time": "2023-10-09T16:59:47.327Z"
   },
   {
    "duration": 311,
    "start_time": "2023-10-09T16:59:53.006Z"
   },
   {
    "duration": 5,
    "start_time": "2023-10-09T16:59:58.414Z"
   },
   {
    "duration": 124,
    "start_time": "2023-10-09T17:00:35.911Z"
   },
   {
    "duration": 4,
    "start_time": "2023-10-09T17:00:46.511Z"
   },
   {
    "duration": 245,
    "start_time": "2023-10-09T17:01:22.895Z"
   },
   {
    "duration": 143,
    "start_time": "2023-10-09T17:01:30.424Z"
   },
   {
    "duration": 9,
    "start_time": "2023-10-09T17:01:37.239Z"
   },
   {
    "duration": 4,
    "start_time": "2023-10-09T17:01:46.191Z"
   },
   {
    "duration": 74,
    "start_time": "2023-10-09T17:01:49.380Z"
   },
   {
    "duration": 99,
    "start_time": "2023-10-09T17:01:57.152Z"
   },
   {
    "duration": 178,
    "start_time": "2023-10-09T17:02:04.023Z"
   },
   {
    "duration": 140,
    "start_time": "2023-10-09T17:03:03.018Z"
   },
   {
    "duration": 118,
    "start_time": "2023-10-09T17:03:08.607Z"
   },
   {
    "duration": 115,
    "start_time": "2023-10-09T17:03:17.248Z"
   },
   {
    "duration": 76,
    "start_time": "2023-10-09T17:03:24.297Z"
   },
   {
    "duration": 6,
    "start_time": "2023-10-09T17:03:33.578Z"
   },
   {
    "duration": 140,
    "start_time": "2023-10-09T17:03:54.149Z"
   },
   {
    "duration": 8,
    "start_time": "2023-10-09T17:04:47.529Z"
   },
   {
    "duration": 14,
    "start_time": "2023-10-09T17:05:00.067Z"
   },
   {
    "duration": 748,
    "start_time": "2023-10-09T17:05:10.490Z"
   },
   {
    "duration": 122,
    "start_time": "2023-10-09T17:05:22.801Z"
   },
   {
    "duration": 4,
    "start_time": "2023-10-09T17:05:29.633Z"
   },
   {
    "duration": 10,
    "start_time": "2023-10-09T17:05:36.817Z"
   },
   {
    "duration": 6,
    "start_time": "2023-10-09T17:05:46.253Z"
   },
   {
    "duration": 6,
    "start_time": "2023-10-09T17:05:59.202Z"
   },
   {
    "duration": 6,
    "start_time": "2023-10-09T17:06:08.077Z"
   },
   {
    "duration": 89,
    "start_time": "2023-10-09T17:06:12.193Z"
   },
   {
    "duration": 5,
    "start_time": "2023-10-09T17:06:40.914Z"
   },
   {
    "duration": 6,
    "start_time": "2023-10-09T17:06:46.586Z"
   },
   {
    "duration": 83,
    "start_time": "2023-10-09T17:06:49.923Z"
   },
   {
    "duration": 6,
    "start_time": "2023-10-09T17:06:58.975Z"
   },
   {
    "duration": 108,
    "start_time": "2023-10-09T17:08:55.483Z"
   },
   {
    "duration": 158,
    "start_time": "2023-10-09T17:09:12.492Z"
   },
   {
    "duration": 5,
    "start_time": "2023-10-09T17:09:35.749Z"
   },
   {
    "duration": 4,
    "start_time": "2023-10-09T17:10:10.367Z"
   },
   {
    "duration": 149,
    "start_time": "2023-10-09T17:10:48.820Z"
   },
   {
    "duration": 104,
    "start_time": "2023-10-09T17:11:18.581Z"
   },
   {
    "duration": 112,
    "start_time": "2023-10-09T17:11:22.997Z"
   },
   {
    "duration": 6,
    "start_time": "2023-10-09T17:46:24.024Z"
   },
   {
    "duration": 101,
    "start_time": "2023-10-09T17:46:38.713Z"
   },
   {
    "duration": 164,
    "start_time": "2023-10-09T17:46:50.010Z"
   },
   {
    "duration": 107,
    "start_time": "2023-10-09T17:47:36.899Z"
   },
   {
    "duration": 110,
    "start_time": "2023-10-09T17:48:06.438Z"
   },
   {
    "duration": 102,
    "start_time": "2023-10-09T17:48:14.059Z"
   },
   {
    "duration": 110,
    "start_time": "2023-10-09T17:48:38.107Z"
   },
   {
    "duration": 108,
    "start_time": "2023-10-09T17:48:48.931Z"
   },
   {
    "duration": 101,
    "start_time": "2023-10-09T17:49:00.796Z"
   },
   {
    "duration": 107,
    "start_time": "2023-10-09T17:49:13.565Z"
   },
   {
    "duration": 83,
    "start_time": "2023-10-09T17:49:24.603Z"
   },
   {
    "duration": 330,
    "start_time": "2023-10-09T17:49:39.532Z"
   },
   {
    "duration": 119,
    "start_time": "2023-10-09T17:49:56.212Z"
   },
   {
    "duration": 112,
    "start_time": "2023-10-09T17:50:59.685Z"
   },
   {
    "duration": 105,
    "start_time": "2023-10-09T17:51:05.870Z"
   },
   {
    "duration": 186,
    "start_time": "2023-10-09T17:51:14.558Z"
   },
   {
    "duration": 109,
    "start_time": "2023-10-09T17:51:20.870Z"
   },
   {
    "duration": 111,
    "start_time": "2023-10-09T17:51:30.597Z"
   },
   {
    "duration": 105,
    "start_time": "2023-10-09T17:51:54.910Z"
   },
   {
    "duration": 109,
    "start_time": "2023-10-09T17:52:04.814Z"
   },
   {
    "duration": 109,
    "start_time": "2023-10-09T17:52:16.798Z"
   },
   {
    "duration": 117,
    "start_time": "2023-10-09T17:52:37.295Z"
   },
   {
    "duration": 7,
    "start_time": "2023-10-09T17:53:14.591Z"
   },
   {
    "duration": 148,
    "start_time": "2023-10-09T17:53:34.070Z"
   },
   {
    "duration": 149,
    "start_time": "2023-10-09T17:53:54.351Z"
   },
   {
    "duration": 4,
    "start_time": "2023-10-09T17:55:03.137Z"
   },
   {
    "duration": 204,
    "start_time": "2023-10-09T17:55:16.761Z"
   },
   {
    "duration": 267,
    "start_time": "2023-10-09T17:55:34.401Z"
   },
   {
    "duration": 208,
    "start_time": "2023-10-09T17:55:43.872Z"
   },
   {
    "duration": 7819,
    "start_time": "2023-10-09T17:57:07.074Z"
   },
   {
    "duration": 201,
    "start_time": "2023-10-09T17:58:00.349Z"
   },
   {
    "duration": 4,
    "start_time": "2023-10-09T17:58:03.562Z"
   },
   {
    "duration": 206,
    "start_time": "2023-10-09T18:01:23.061Z"
   },
   {
    "duration": 245,
    "start_time": "2023-10-09T18:02:52.262Z"
   },
   {
    "duration": 281,
    "start_time": "2023-10-09T18:02:59.477Z"
   },
   {
    "duration": 390,
    "start_time": "2023-10-09T18:03:39.085Z"
   },
   {
    "duration": 223,
    "start_time": "2023-10-09T18:03:51.358Z"
   },
   {
    "duration": 216,
    "start_time": "2023-10-09T18:04:06.077Z"
   },
   {
    "duration": 205,
    "start_time": "2023-10-09T18:05:29.142Z"
   },
   {
    "duration": 202,
    "start_time": "2023-10-09T18:05:50.134Z"
   },
   {
    "duration": 213,
    "start_time": "2023-10-09T18:09:06.105Z"
   },
   {
    "duration": 204,
    "start_time": "2023-10-09T18:09:36.657Z"
   },
   {
    "duration": 7,
    "start_time": "2023-10-09T18:10:14.866Z"
   },
   {
    "duration": 121,
    "start_time": "2023-10-09T18:18:34.327Z"
   },
   {
    "duration": 137,
    "start_time": "2023-10-09T18:20:35.336Z"
   },
   {
    "duration": 8,
    "start_time": "2023-10-09T18:23:20.600Z"
   },
   {
    "duration": 7,
    "start_time": "2023-10-09T18:23:37.203Z"
   },
   {
    "duration": 133,
    "start_time": "2023-10-09T18:24:07.892Z"
   },
   {
    "duration": 153,
    "start_time": "2023-10-09T18:27:59.933Z"
   },
   {
    "duration": 147,
    "start_time": "2023-10-09T18:28:06.294Z"
   },
   {
    "duration": 2,
    "start_time": "2023-10-09T18:28:19.918Z"
   },
   {
    "duration": 104,
    "start_time": "2023-10-09T18:28:29.879Z"
   },
   {
    "duration": 134,
    "start_time": "2023-10-09T18:28:38.023Z"
   },
   {
    "duration": 147,
    "start_time": "2023-10-09T18:36:21.694Z"
   },
   {
    "duration": 465,
    "start_time": "2023-10-09T18:37:59.082Z"
   },
   {
    "duration": 168,
    "start_time": "2023-10-09T18:39:08.313Z"
   },
   {
    "duration": 157,
    "start_time": "2023-10-09T18:39:13.706Z"
   },
   {
    "duration": 111,
    "start_time": "2023-10-09T18:40:33.899Z"
   },
   {
    "duration": 117,
    "start_time": "2023-10-09T18:41:25.481Z"
   },
   {
    "duration": 144,
    "start_time": "2023-10-09T18:41:29.555Z"
   },
   {
    "duration": 159,
    "start_time": "2023-10-09T18:41:37.255Z"
   },
   {
    "duration": 99,
    "start_time": "2023-10-09T18:41:40.451Z"
   },
   {
    "duration": 128,
    "start_time": "2023-10-09T18:41:54.770Z"
   },
   {
    "duration": 118,
    "start_time": "2023-10-09T18:42:08.532Z"
   },
   {
    "duration": 114,
    "start_time": "2023-10-09T18:44:08.389Z"
   },
   {
    "duration": 113,
    "start_time": "2023-10-09T18:44:37.998Z"
   },
   {
    "duration": 146,
    "start_time": "2023-10-09T18:44:41.589Z"
   },
   {
    "duration": 209,
    "start_time": "2023-10-09T18:45:03.110Z"
   },
   {
    "duration": 160,
    "start_time": "2023-10-09T18:47:19.616Z"
   },
   {
    "duration": 169,
    "start_time": "2023-10-09T18:47:41.487Z"
   },
   {
    "duration": 148,
    "start_time": "2023-10-09T18:48:14.385Z"
   },
   {
    "duration": 154,
    "start_time": "2023-10-09T18:49:24.057Z"
   },
   {
    "duration": 147,
    "start_time": "2023-10-09T18:49:42.885Z"
   },
   {
    "duration": 7,
    "start_time": "2023-10-09T18:50:20.409Z"
   },
   {
    "duration": 25,
    "start_time": "2023-10-09T20:23:33.931Z"
   },
   {
    "duration": 20,
    "start_time": "2023-10-09T20:25:09.354Z"
   },
   {
    "duration": 328,
    "start_time": "2023-10-09T20:28:05.790Z"
   },
   {
    "duration": 22,
    "start_time": "2023-10-09T21:13:07.033Z"
   },
   {
    "duration": 18,
    "start_time": "2023-10-09T21:13:19.684Z"
   },
   {
    "duration": 22,
    "start_time": "2023-10-09T21:15:44.915Z"
   },
   {
    "duration": 23,
    "start_time": "2023-10-09T21:17:26.805Z"
   },
   {
    "duration": 15,
    "start_time": "2023-10-09T21:17:30.969Z"
   },
   {
    "duration": 17,
    "start_time": "2023-10-09T21:18:27.373Z"
   },
   {
    "duration": 22,
    "start_time": "2023-10-09T21:18:30.221Z"
   },
   {
    "duration": 14,
    "start_time": "2023-10-09T21:19:10.677Z"
   },
   {
    "duration": 22,
    "start_time": "2023-10-09T21:20:00.113Z"
   },
   {
    "duration": 12,
    "start_time": "2023-10-09T21:20:11.918Z"
   },
   {
    "duration": 23,
    "start_time": "2023-10-09T21:21:58.884Z"
   },
   {
    "duration": 12,
    "start_time": "2023-10-09T21:22:05.992Z"
   },
   {
    "duration": 11,
    "start_time": "2023-10-09T21:23:54.135Z"
   },
   {
    "duration": 20,
    "start_time": "2023-10-09T21:24:42.374Z"
   },
   {
    "duration": 12,
    "start_time": "2023-10-09T21:25:16.358Z"
   },
   {
    "duration": 14,
    "start_time": "2023-10-09T21:29:25.913Z"
   },
   {
    "duration": 14,
    "start_time": "2023-10-09T21:30:15.260Z"
   },
   {
    "duration": 20,
    "start_time": "2023-10-09T21:31:02.699Z"
   },
   {
    "duration": 9,
    "start_time": "2023-10-09T21:31:21.499Z"
   },
   {
    "duration": 20,
    "start_time": "2023-10-09T21:32:24.358Z"
   },
   {
    "duration": 10,
    "start_time": "2023-10-09T21:32:47.219Z"
   },
   {
    "duration": 7,
    "start_time": "2023-10-09T21:32:50.490Z"
   },
   {
    "duration": 14,
    "start_time": "2023-10-09T21:33:43.867Z"
   },
   {
    "duration": 5,
    "start_time": "2023-10-09T21:33:46.690Z"
   },
   {
    "duration": 18,
    "start_time": "2023-10-09T21:35:36.870Z"
   },
   {
    "duration": 18,
    "start_time": "2023-10-09T21:35:50.219Z"
   },
   {
    "duration": 4,
    "start_time": "2023-10-09T21:35:57.821Z"
   },
   {
    "duration": 7,
    "start_time": "2023-10-09T21:36:01.884Z"
   },
   {
    "duration": 3,
    "start_time": "2023-10-09T21:36:11.908Z"
   },
   {
    "duration": 79,
    "start_time": "2023-10-09T21:38:17.286Z"
   },
   {
    "duration": 4,
    "start_time": "2023-10-09T21:38:26.845Z"
   },
   {
    "duration": 4,
    "start_time": "2023-10-09T21:38:58.606Z"
   },
   {
    "duration": 6,
    "start_time": "2023-10-09T21:40:40.559Z"
   },
   {
    "duration": 7,
    "start_time": "2023-10-09T21:40:44.383Z"
   },
   {
    "duration": 8,
    "start_time": "2023-10-09T21:41:03.487Z"
   },
   {
    "duration": 5,
    "start_time": "2023-10-09T21:41:34.575Z"
   },
   {
    "duration": 4,
    "start_time": "2023-10-09T21:42:50.577Z"
   },
   {
    "duration": 4,
    "start_time": "2023-10-09T21:43:57.363Z"
   },
   {
    "duration": 91,
    "start_time": "2023-10-09T21:57:34.033Z"
   },
   {
    "duration": 102,
    "start_time": "2023-10-09T21:59:04.297Z"
   },
   {
    "duration": 104,
    "start_time": "2023-10-09T22:00:17.593Z"
   },
   {
    "duration": 98,
    "start_time": "2023-10-09T22:01:13.210Z"
   },
   {
    "duration": 103,
    "start_time": "2023-10-09T22:05:53.204Z"
   },
   {
    "duration": 186,
    "start_time": "2023-10-09T22:06:04.917Z"
   },
   {
    "duration": 98,
    "start_time": "2023-10-09T22:07:48.292Z"
   },
   {
    "duration": 103,
    "start_time": "2023-10-09T22:08:40.989Z"
   },
   {
    "duration": 92,
    "start_time": "2023-10-09T22:09:03.749Z"
   },
   {
    "duration": 92,
    "start_time": "2023-10-09T22:09:40.222Z"
   },
   {
    "duration": 91,
    "start_time": "2023-10-09T22:10:01.895Z"
   },
   {
    "duration": 131,
    "start_time": "2023-10-09T22:10:08.406Z"
   },
   {
    "duration": 107,
    "start_time": "2023-10-09T22:10:33.750Z"
   },
   {
    "duration": 105,
    "start_time": "2023-10-09T22:10:42.821Z"
   },
   {
    "duration": 103,
    "start_time": "2023-10-09T22:11:01.856Z"
   },
   {
    "duration": 106,
    "start_time": "2023-10-09T22:11:09.240Z"
   },
   {
    "duration": 105,
    "start_time": "2023-10-09T22:11:55.799Z"
   },
   {
    "duration": 156,
    "start_time": "2023-10-09T22:11:59.448Z"
   },
   {
    "duration": 0,
    "start_time": "2023-10-09T22:13:18.563Z"
   },
   {
    "duration": 108033,
    "start_time": "2023-10-09T22:14:01.704Z"
   },
   {
    "duration": 608,
    "start_time": "2023-10-09T22:39:38.053Z"
   },
   {
    "duration": 65,
    "start_time": "2023-10-09T22:39:38.663Z"
   },
   {
    "duration": 22,
    "start_time": "2023-10-09T22:39:38.730Z"
   },
   {
    "duration": 10,
    "start_time": "2023-10-09T22:39:38.755Z"
   },
   {
    "duration": 31,
    "start_time": "2023-10-09T22:39:38.767Z"
   },
   {
    "duration": 29,
    "start_time": "2023-10-09T22:39:38.800Z"
   },
   {
    "duration": 6,
    "start_time": "2023-10-09T22:39:38.831Z"
   },
   {
    "duration": 21,
    "start_time": "2023-10-09T22:39:38.838Z"
   },
   {
    "duration": 13,
    "start_time": "2023-10-09T22:39:38.861Z"
   },
   {
    "duration": 11,
    "start_time": "2023-10-09T22:39:38.877Z"
   },
   {
    "duration": 16,
    "start_time": "2023-10-09T22:39:38.889Z"
   },
   {
    "duration": 5,
    "start_time": "2023-10-09T22:39:38.906Z"
   },
   {
    "duration": 6,
    "start_time": "2023-10-09T22:39:38.912Z"
   },
   {
    "duration": 4,
    "start_time": "2023-10-09T22:39:38.919Z"
   },
   {
    "duration": 10,
    "start_time": "2023-10-09T22:39:38.924Z"
   },
   {
    "duration": 18,
    "start_time": "2023-10-09T22:39:38.935Z"
   },
   {
    "duration": 10,
    "start_time": "2023-10-09T22:39:38.954Z"
   },
   {
    "duration": 18,
    "start_time": "2023-10-09T22:39:38.966Z"
   },
   {
    "duration": 9,
    "start_time": "2023-10-09T22:39:38.986Z"
   },
   {
    "duration": 6,
    "start_time": "2023-10-09T22:39:38.997Z"
   },
   {
    "duration": 13,
    "start_time": "2023-10-09T22:39:39.004Z"
   },
   {
    "duration": 4,
    "start_time": "2023-10-09T22:39:39.019Z"
   },
   {
    "duration": 9,
    "start_time": "2023-10-09T22:39:39.025Z"
   },
   {
    "duration": 9,
    "start_time": "2023-10-09T22:39:39.035Z"
   },
   {
    "duration": 15,
    "start_time": "2023-10-09T22:39:39.045Z"
   },
   {
    "duration": 151,
    "start_time": "2023-10-09T22:39:39.062Z"
   },
   {
    "duration": 139,
    "start_time": "2023-10-09T22:39:39.214Z"
   },
   {
    "duration": 219,
    "start_time": "2023-10-09T22:39:39.356Z"
   },
   {
    "duration": 6,
    "start_time": "2023-10-09T22:39:39.577Z"
   },
   {
    "duration": 191,
    "start_time": "2023-10-09T22:39:39.585Z"
   },
   {
    "duration": 7,
    "start_time": "2023-10-09T22:39:39.777Z"
   },
   {
    "duration": 170,
    "start_time": "2023-10-09T22:39:39.786Z"
   },
   {
    "duration": 8,
    "start_time": "2023-10-09T22:39:39.958Z"
   },
   {
    "duration": 20,
    "start_time": "2023-10-09T22:39:39.967Z"
   },
   {
    "duration": 12,
    "start_time": "2023-10-09T22:39:39.989Z"
   },
   {
    "duration": 38,
    "start_time": "2023-10-09T22:39:40.002Z"
   },
   {
    "duration": 4,
    "start_time": "2023-10-09T22:39:40.051Z"
   },
   {
    "duration": 20,
    "start_time": "2023-10-09T22:39:40.056Z"
   },
   {
    "duration": 3,
    "start_time": "2023-10-09T22:39:40.077Z"
   },
   {
    "duration": 7,
    "start_time": "2023-10-09T22:39:40.082Z"
   },
   {
    "duration": 62935,
    "start_time": "2023-10-09T22:39:40.091Z"
   },
   {
    "duration": 0,
    "start_time": "2023-10-09T22:42:37.682Z"
   },
   {
    "duration": 0,
    "start_time": "2023-10-09T22:42:58.864Z"
   },
   {
    "duration": 0,
    "start_time": "2023-10-09T22:43:45.839Z"
   },
   {
    "duration": 111,
    "start_time": "2023-10-09T22:44:06.162Z"
   },
   {
    "duration": 120,
    "start_time": "2023-10-09T22:44:30.557Z"
   },
   {
    "duration": 124,
    "start_time": "2023-10-09T22:44:36.267Z"
   },
   {
    "duration": 110,
    "start_time": "2023-10-09T22:44:54.802Z"
   },
   {
    "duration": 108,
    "start_time": "2023-10-09T22:45:24.682Z"
   },
   {
    "duration": 98,
    "start_time": "2023-10-09T22:46:51.155Z"
   },
   {
    "duration": 111,
    "start_time": "2023-10-09T22:47:07.316Z"
   },
   {
    "duration": 107,
    "start_time": "2023-10-09T22:47:24.804Z"
   },
   {
    "duration": 103,
    "start_time": "2023-10-09T22:47:31.836Z"
   },
   {
    "duration": 97,
    "start_time": "2023-10-09T22:47:39.891Z"
   },
   {
    "duration": 100,
    "start_time": "2023-10-09T22:49:15.901Z"
   },
   {
    "duration": 100,
    "start_time": "2023-10-09T22:49:25.812Z"
   },
   {
    "duration": 99,
    "start_time": "2023-10-09T22:49:33.957Z"
   },
   {
    "duration": 97,
    "start_time": "2023-10-09T22:49:48.173Z"
   },
   {
    "duration": 109,
    "start_time": "2023-10-09T22:50:09.501Z"
   },
   {
    "duration": 103,
    "start_time": "2023-10-09T22:50:21.157Z"
   },
   {
    "duration": 104,
    "start_time": "2023-10-09T22:50:27.052Z"
   },
   {
    "duration": 95,
    "start_time": "2023-10-09T22:53:18.311Z"
   },
   {
    "duration": 112,
    "start_time": "2023-10-09T22:53:43.160Z"
   },
   {
    "duration": 133,
    "start_time": "2023-10-09T22:59:32.386Z"
   },
   {
    "duration": 104,
    "start_time": "2023-10-09T23:02:08.012Z"
   },
   {
    "duration": 105,
    "start_time": "2023-10-09T23:02:18.164Z"
   },
   {
    "duration": 110,
    "start_time": "2023-10-09T23:02:24.132Z"
   },
   {
    "duration": 110,
    "start_time": "2023-10-09T23:02:32.116Z"
   },
   {
    "duration": 111,
    "start_time": "2023-10-09T23:03:01.325Z"
   },
   {
    "duration": 113,
    "start_time": "2023-10-09T23:03:33.775Z"
   },
   {
    "duration": 106,
    "start_time": "2023-10-09T23:03:50.565Z"
   },
   {
    "duration": 110,
    "start_time": "2023-10-09T23:04:27.030Z"
   },
   {
    "duration": 105,
    "start_time": "2023-10-10T12:17:39.110Z"
   },
   {
    "duration": 43,
    "start_time": "2023-10-10T12:17:54.281Z"
   },
   {
    "duration": 813,
    "start_time": "2023-10-10T12:18:28.901Z"
   },
   {
    "duration": 258,
    "start_time": "2023-10-10T12:18:29.716Z"
   },
   {
    "duration": 12,
    "start_time": "2023-10-10T12:18:29.975Z"
   },
   {
    "duration": 33,
    "start_time": "2023-10-10T12:18:29.989Z"
   },
   {
    "duration": 68,
    "start_time": "2023-10-10T12:18:30.024Z"
   },
   {
    "duration": 88,
    "start_time": "2023-10-10T12:18:30.094Z"
   },
   {
    "duration": 59,
    "start_time": "2023-10-10T12:18:30.185Z"
   },
   {
    "duration": 65,
    "start_time": "2023-10-10T12:18:30.245Z"
   },
   {
    "duration": 74,
    "start_time": "2023-10-10T12:18:30.311Z"
   },
   {
    "duration": 61,
    "start_time": "2023-10-10T12:18:30.387Z"
   },
   {
    "duration": 64,
    "start_time": "2023-10-10T12:18:30.455Z"
   },
   {
    "duration": 42,
    "start_time": "2023-10-10T12:18:30.521Z"
   },
   {
    "duration": 48,
    "start_time": "2023-10-10T12:18:30.568Z"
   },
   {
    "duration": 45,
    "start_time": "2023-10-10T12:18:30.619Z"
   },
   {
    "duration": 68,
    "start_time": "2023-10-10T12:18:30.666Z"
   },
   {
    "duration": 65,
    "start_time": "2023-10-10T12:18:30.735Z"
   },
   {
    "duration": 37,
    "start_time": "2023-10-10T12:18:30.801Z"
   },
   {
    "duration": 69,
    "start_time": "2023-10-10T12:18:30.840Z"
   },
   {
    "duration": 67,
    "start_time": "2023-10-10T12:18:30.911Z"
   },
   {
    "duration": 88,
    "start_time": "2023-10-10T12:18:30.979Z"
   },
   {
    "duration": 92,
    "start_time": "2023-10-10T12:18:31.069Z"
   },
   {
    "duration": 75,
    "start_time": "2023-10-10T12:18:31.162Z"
   },
   {
    "duration": 76,
    "start_time": "2023-10-10T12:18:31.238Z"
   },
   {
    "duration": 95,
    "start_time": "2023-10-10T12:18:31.315Z"
   },
   {
    "duration": 68,
    "start_time": "2023-10-10T12:18:31.412Z"
   },
   {
    "duration": 242,
    "start_time": "2023-10-10T12:18:31.481Z"
   },
   {
    "duration": 155,
    "start_time": "2023-10-10T12:18:31.725Z"
   },
   {
    "duration": 237,
    "start_time": "2023-10-10T12:18:31.881Z"
   },
   {
    "duration": 7,
    "start_time": "2023-10-10T12:18:32.120Z"
   },
   {
    "duration": 259,
    "start_time": "2023-10-10T12:18:32.128Z"
   },
   {
    "duration": 9,
    "start_time": "2023-10-10T12:18:32.389Z"
   },
   {
    "duration": 212,
    "start_time": "2023-10-10T12:18:32.399Z"
   },
   {
    "duration": 8,
    "start_time": "2023-10-10T12:18:32.613Z"
   },
   {
    "duration": 49,
    "start_time": "2023-10-10T12:18:32.622Z"
   },
   {
    "duration": 33,
    "start_time": "2023-10-10T12:18:32.674Z"
   },
   {
    "duration": 18,
    "start_time": "2023-10-10T12:18:32.708Z"
   },
   {
    "duration": 12,
    "start_time": "2023-10-10T12:18:32.728Z"
   },
   {
    "duration": 38,
    "start_time": "2023-10-10T12:18:32.741Z"
   },
   {
    "duration": 16,
    "start_time": "2023-10-10T12:18:32.780Z"
   },
   {
    "duration": 42,
    "start_time": "2023-10-10T12:18:32.797Z"
   },
   {
    "duration": 240,
    "start_time": "2023-10-10T12:18:32.842Z"
   },
   {
    "duration": 120,
    "start_time": "2023-10-10T12:18:33.083Z"
   },
   {
    "duration": 32,
    "start_time": "2023-10-10T12:18:33.204Z"
   },
   {
    "duration": 39,
    "start_time": "2023-10-10T12:18:57.451Z"
   },
   {
    "duration": 22,
    "start_time": "2023-10-10T12:24:27.873Z"
   },
   {
    "duration": 18,
    "start_time": "2023-10-10T12:24:41.661Z"
   },
   {
    "duration": 34,
    "start_time": "2023-10-10T12:25:02.240Z"
   },
   {
    "duration": 92,
    "start_time": "2023-10-10T12:28:05.888Z"
   },
   {
    "duration": 20,
    "start_time": "2023-10-10T12:28:14.558Z"
   },
   {
    "duration": 16,
    "start_time": "2023-10-10T12:28:30.080Z"
   },
   {
    "duration": 509,
    "start_time": "2023-10-10T12:28:53.176Z"
   },
   {
    "duration": 89,
    "start_time": "2023-10-10T12:57:23.277Z"
   },
   {
    "duration": 35,
    "start_time": "2023-10-10T12:58:21.126Z"
   },
   {
    "duration": 37,
    "start_time": "2023-10-10T12:58:28.805Z"
   },
   {
    "duration": 46,
    "start_time": "2023-10-10T13:00:08.774Z"
   },
   {
    "duration": 677,
    "start_time": "2023-10-10T13:00:42.485Z"
   },
   {
    "duration": 219,
    "start_time": "2023-10-10T13:00:43.165Z"
   },
   {
    "duration": 13,
    "start_time": "2023-10-10T13:00:43.385Z"
   },
   {
    "duration": 36,
    "start_time": "2023-10-10T13:00:43.400Z"
   },
   {
    "duration": 237,
    "start_time": "2023-10-10T13:00:43.438Z"
   },
   {
    "duration": 86,
    "start_time": "2023-10-10T13:00:43.678Z"
   },
   {
    "duration": 22,
    "start_time": "2023-10-10T13:00:43.766Z"
   },
   {
    "duration": 27,
    "start_time": "2023-10-10T13:00:43.789Z"
   },
   {
    "duration": 25,
    "start_time": "2023-10-10T13:00:43.818Z"
   },
   {
    "duration": 31,
    "start_time": "2023-10-10T13:00:43.846Z"
   },
   {
    "duration": 34,
    "start_time": "2023-10-10T13:00:43.879Z"
   },
   {
    "duration": 41,
    "start_time": "2023-10-10T13:00:43.918Z"
   },
   {
    "duration": 24,
    "start_time": "2023-10-10T13:00:43.961Z"
   },
   {
    "duration": 30,
    "start_time": "2023-10-10T13:00:43.987Z"
   },
   {
    "duration": 17,
    "start_time": "2023-10-10T13:00:44.019Z"
   },
   {
    "duration": 32,
    "start_time": "2023-10-10T13:00:44.038Z"
   },
   {
    "duration": 12,
    "start_time": "2023-10-10T13:00:44.072Z"
   },
   {
    "duration": 25,
    "start_time": "2023-10-10T13:00:44.086Z"
   },
   {
    "duration": 32,
    "start_time": "2023-10-10T13:00:44.113Z"
   },
   {
    "duration": 31,
    "start_time": "2023-10-10T13:00:44.146Z"
   },
   {
    "duration": 32,
    "start_time": "2023-10-10T13:00:44.179Z"
   },
   {
    "duration": 30,
    "start_time": "2023-10-10T13:00:44.213Z"
   },
   {
    "duration": 36,
    "start_time": "2023-10-10T13:00:44.245Z"
   },
   {
    "duration": 36,
    "start_time": "2023-10-10T13:00:44.283Z"
   },
   {
    "duration": 37,
    "start_time": "2023-10-10T13:00:44.320Z"
   },
   {
    "duration": 197,
    "start_time": "2023-10-10T13:00:44.358Z"
   },
   {
    "duration": 147,
    "start_time": "2023-10-10T13:00:44.556Z"
   },
   {
    "duration": 280,
    "start_time": "2023-10-10T13:00:44.706Z"
   },
   {
    "duration": 9,
    "start_time": "2023-10-10T13:00:44.987Z"
   },
   {
    "duration": 252,
    "start_time": "2023-10-10T13:00:44.997Z"
   },
   {
    "duration": 15,
    "start_time": "2023-10-10T13:00:45.251Z"
   },
   {
    "duration": 245,
    "start_time": "2023-10-10T13:00:45.268Z"
   },
   {
    "duration": 10,
    "start_time": "2023-10-10T13:00:45.515Z"
   },
   {
    "duration": 50,
    "start_time": "2023-10-10T13:00:45.526Z"
   },
   {
    "duration": 33,
    "start_time": "2023-10-10T13:00:45.578Z"
   },
   {
    "duration": 22,
    "start_time": "2023-10-10T13:00:45.613Z"
   },
   {
    "duration": 4,
    "start_time": "2023-10-10T13:00:45.636Z"
   },
   {
    "duration": 50,
    "start_time": "2023-10-10T13:00:45.642Z"
   },
   {
    "duration": 37,
    "start_time": "2023-10-10T13:00:45.693Z"
   },
   {
    "duration": 36,
    "start_time": "2023-10-10T13:00:45.731Z"
   },
   {
    "duration": 165,
    "start_time": "2023-10-10T13:00:45.769Z"
   },
   {
    "duration": 160,
    "start_time": "2023-10-10T13:00:45.936Z"
   },
   {
    "duration": 61,
    "start_time": "2023-10-10T13:00:46.098Z"
   },
   {
    "duration": 56,
    "start_time": "2023-10-10T13:00:46.165Z"
   },
   {
    "duration": 80,
    "start_time": "2023-10-10T13:03:16.081Z"
   },
   {
    "duration": 19,
    "start_time": "2023-10-10T13:04:06.382Z"
   },
   {
    "duration": 82,
    "start_time": "2023-10-10T13:15:44.723Z"
   },
   {
    "duration": 10,
    "start_time": "2023-10-10T13:16:17.473Z"
   },
   {
    "duration": 8,
    "start_time": "2023-10-10T13:16:38.875Z"
   },
   {
    "duration": 12,
    "start_time": "2023-10-10T13:16:48.972Z"
   },
   {
    "duration": 363,
    "start_time": "2023-10-10T13:17:06.965Z"
   },
   {
    "duration": 9,
    "start_time": "2023-10-10T13:17:54.482Z"
   },
   {
    "duration": 82,
    "start_time": "2023-10-10T13:18:44.373Z"
   },
   {
    "duration": 18,
    "start_time": "2023-10-10T13:18:51.373Z"
   },
   {
    "duration": 7,
    "start_time": "2023-10-10T13:19:11.005Z"
   },
   {
    "duration": 7,
    "start_time": "2023-10-10T13:19:14.533Z"
   },
   {
    "duration": 103,
    "start_time": "2023-10-10T13:19:26.036Z"
   },
   {
    "duration": 17,
    "start_time": "2023-10-10T13:20:47.093Z"
   },
   {
    "duration": 86,
    "start_time": "2023-10-10T13:21:14.175Z"
   },
   {
    "duration": 95,
    "start_time": "2023-10-10T13:21:41.606Z"
   },
   {
    "duration": 161,
    "start_time": "2023-10-10T13:21:57.782Z"
   },
   {
    "duration": 8,
    "start_time": "2023-10-10T13:22:13.287Z"
   },
   {
    "duration": 8,
    "start_time": "2023-10-10T13:22:46.976Z"
   },
   {
    "duration": 14,
    "start_time": "2023-10-10T13:22:59.399Z"
   },
   {
    "duration": 93,
    "start_time": "2023-10-10T13:23:11.272Z"
   },
   {
    "duration": 23,
    "start_time": "2023-10-10T13:24:48.393Z"
   },
   {
    "duration": 190,
    "start_time": "2023-10-10T13:25:16.402Z"
   },
   {
    "duration": 135,
    "start_time": "2023-10-10T13:25:21.632Z"
   },
   {
    "duration": 24,
    "start_time": "2023-10-10T13:25:27.617Z"
   },
   {
    "duration": 29,
    "start_time": "2023-10-10T13:26:01.411Z"
   },
   {
    "duration": 36,
    "start_time": "2023-10-10T13:26:36.492Z"
   },
   {
    "duration": 38,
    "start_time": "2023-10-10T13:31:56.498Z"
   },
   {
    "duration": 38,
    "start_time": "2023-10-10T13:32:39.504Z"
   },
   {
    "duration": 28,
    "start_time": "2023-10-10T13:35:07.912Z"
   },
   {
    "duration": 45,
    "start_time": "2023-10-10T13:35:48.641Z"
   },
   {
    "duration": 33,
    "start_time": "2023-10-10T13:38:17.203Z"
   },
   {
    "duration": 31,
    "start_time": "2023-10-10T13:38:37.576Z"
   },
   {
    "duration": 32,
    "start_time": "2023-10-10T13:38:45.812Z"
   },
   {
    "duration": 41,
    "start_time": "2023-10-10T13:39:01.844Z"
   },
   {
    "duration": 33,
    "start_time": "2023-10-10T13:39:09.828Z"
   },
   {
    "duration": 32,
    "start_time": "2023-10-10T13:40:44.925Z"
   },
   {
    "duration": 29,
    "start_time": "2023-10-10T13:42:38.510Z"
   },
   {
    "duration": 31,
    "start_time": "2023-10-10T13:43:15.207Z"
   },
   {
    "duration": 9,
    "start_time": "2023-10-10T14:12:25.516Z"
   },
   {
    "duration": 3,
    "start_time": "2023-10-10T14:35:48.100Z"
   },
   {
    "duration": 1350,
    "start_time": "2023-10-10T14:35:54.301Z"
   },
   {
    "duration": 1767,
    "start_time": "2023-10-10T14:36:32.663Z"
   },
   {
    "duration": 5,
    "start_time": "2023-10-10T14:39:30.222Z"
   },
   {
    "duration": 6,
    "start_time": "2023-10-10T14:39:39.093Z"
   },
   {
    "duration": 5,
    "start_time": "2023-10-10T14:39:49.988Z"
   },
   {
    "duration": 22,
    "start_time": "2023-10-10T14:40:40.134Z"
   },
   {
    "duration": 12,
    "start_time": "2023-10-10T14:40:48.310Z"
   },
   {
    "duration": 2626,
    "start_time": "2023-10-10T14:41:16.047Z"
   },
   {
    "duration": 11,
    "start_time": "2023-10-10T14:42:17.671Z"
   },
   {
    "duration": 8,
    "start_time": "2023-10-10T14:42:29.230Z"
   },
   {
    "duration": 7,
    "start_time": "2023-10-10T14:42:39.927Z"
   },
   {
    "duration": 1625,
    "start_time": "2023-10-10T14:42:45.270Z"
   },
   {
    "duration": 8,
    "start_time": "2023-10-10T14:42:49.094Z"
   },
   {
    "duration": 3,
    "start_time": "2023-10-10T14:42:59.486Z"
   },
   {
    "duration": 2075,
    "start_time": "2023-10-10T14:43:05.325Z"
   },
   {
    "duration": 3,
    "start_time": "2023-10-10T14:47:21.456Z"
   },
   {
    "duration": 1832,
    "start_time": "2023-10-10T14:47:24.760Z"
   },
   {
    "duration": 3,
    "start_time": "2023-10-10T14:48:30.609Z"
   },
   {
    "duration": 358,
    "start_time": "2023-10-10T14:48:37.873Z"
   },
   {
    "duration": 3,
    "start_time": "2023-10-10T14:49:33.442Z"
   },
   {
    "duration": 1547,
    "start_time": "2023-10-10T14:49:37.288Z"
   },
   {
    "duration": 7,
    "start_time": "2023-10-10T14:49:43.506Z"
   },
   {
    "duration": 3,
    "start_time": "2023-10-10T14:57:31.165Z"
   },
   {
    "duration": 7,
    "start_time": "2023-10-10T14:57:38.542Z"
   },
   {
    "duration": 3,
    "start_time": "2023-10-10T14:57:40.398Z"
   },
   {
    "duration": 7,
    "start_time": "2023-10-10T14:57:45.014Z"
   },
   {
    "duration": 830,
    "start_time": "2023-10-10T14:58:13.398Z"
   },
   {
    "duration": 647,
    "start_time": "2023-10-10T14:59:27.934Z"
   },
   {
    "duration": 68,
    "start_time": "2023-10-10T14:59:28.582Z"
   },
   {
    "duration": 11,
    "start_time": "2023-10-10T14:59:28.651Z"
   },
   {
    "duration": 46,
    "start_time": "2023-10-10T14:59:28.664Z"
   },
   {
    "duration": 65,
    "start_time": "2023-10-10T14:59:28.711Z"
   },
   {
    "duration": 81,
    "start_time": "2023-10-10T14:59:28.777Z"
   },
   {
    "duration": 54,
    "start_time": "2023-10-10T14:59:28.859Z"
   },
   {
    "duration": 32,
    "start_time": "2023-10-10T14:59:28.915Z"
   },
   {
    "duration": 50,
    "start_time": "2023-10-10T14:59:28.949Z"
   },
   {
    "duration": 17,
    "start_time": "2023-10-10T14:59:29.002Z"
   },
   {
    "duration": 29,
    "start_time": "2023-10-10T14:59:29.020Z"
   },
   {
    "duration": 20,
    "start_time": "2023-10-10T14:59:29.051Z"
   },
   {
    "duration": 13,
    "start_time": "2023-10-10T14:59:29.073Z"
   },
   {
    "duration": 7,
    "start_time": "2023-10-10T14:59:29.088Z"
   },
   {
    "duration": 20,
    "start_time": "2023-10-10T14:59:29.096Z"
   },
   {
    "duration": 33,
    "start_time": "2023-10-10T14:59:29.118Z"
   },
   {
    "duration": 30,
    "start_time": "2023-10-10T14:59:29.152Z"
   },
   {
    "duration": 18,
    "start_time": "2023-10-10T14:59:29.184Z"
   },
   {
    "duration": 9,
    "start_time": "2023-10-10T14:59:29.203Z"
   },
   {
    "duration": 24,
    "start_time": "2023-10-10T14:59:29.213Z"
   },
   {
    "duration": 20,
    "start_time": "2023-10-10T14:59:29.238Z"
   },
   {
    "duration": 21,
    "start_time": "2023-10-10T14:59:29.259Z"
   },
   {
    "duration": 20,
    "start_time": "2023-10-10T14:59:29.281Z"
   },
   {
    "duration": 48,
    "start_time": "2023-10-10T14:59:29.302Z"
   },
   {
    "duration": 35,
    "start_time": "2023-10-10T14:59:29.352Z"
   },
   {
    "duration": 170,
    "start_time": "2023-10-10T14:59:29.389Z"
   },
   {
    "duration": 126,
    "start_time": "2023-10-10T14:59:29.561Z"
   },
   {
    "duration": 254,
    "start_time": "2023-10-10T14:59:29.690Z"
   },
   {
    "duration": 7,
    "start_time": "2023-10-10T14:59:29.949Z"
   },
   {
    "duration": 221,
    "start_time": "2023-10-10T14:59:29.958Z"
   },
   {
    "duration": 9,
    "start_time": "2023-10-10T14:59:30.181Z"
   },
   {
    "duration": 275,
    "start_time": "2023-10-10T14:59:30.192Z"
   },
   {
    "duration": 11,
    "start_time": "2023-10-10T14:59:30.469Z"
   },
   {
    "duration": 56,
    "start_time": "2023-10-10T14:59:30.481Z"
   },
   {
    "duration": 71,
    "start_time": "2023-10-10T14:59:30.539Z"
   },
   {
    "duration": 67,
    "start_time": "2023-10-10T14:59:30.611Z"
   },
   {
    "duration": 34,
    "start_time": "2023-10-10T14:59:30.680Z"
   },
   {
    "duration": 96,
    "start_time": "2023-10-10T14:59:30.716Z"
   },
   {
    "duration": 46,
    "start_time": "2023-10-10T14:59:30.814Z"
   },
   {
    "duration": 59,
    "start_time": "2023-10-10T14:59:30.862Z"
   },
   {
    "duration": 180,
    "start_time": "2023-10-10T14:59:30.923Z"
   },
   {
    "duration": 128,
    "start_time": "2023-10-10T14:59:31.104Z"
   },
   {
    "duration": 43,
    "start_time": "2023-10-10T14:59:31.234Z"
   },
   {
    "duration": 78,
    "start_time": "2023-10-10T14:59:31.278Z"
   },
   {
    "duration": 0,
    "start_time": "2023-10-10T14:59:31.358Z"
   },
   {
    "duration": 0,
    "start_time": "2023-10-10T14:59:31.359Z"
   },
   {
    "duration": 0,
    "start_time": "2023-10-10T14:59:31.361Z"
   },
   {
    "duration": 3,
    "start_time": "2023-10-10T14:59:47.936Z"
   },
   {
    "duration": 379,
    "start_time": "2023-10-10T14:59:49.867Z"
   },
   {
    "duration": 3,
    "start_time": "2023-10-10T15:01:28.695Z"
   },
   {
    "duration": 3,
    "start_time": "2023-10-10T15:01:36.002Z"
   },
   {
    "duration": 15,
    "start_time": "2023-10-10T15:01:38.312Z"
   },
   {
    "duration": 3,
    "start_time": "2023-10-10T15:02:14.018Z"
   },
   {
    "duration": 400,
    "start_time": "2023-10-10T15:02:15.752Z"
   },
   {
    "duration": 3,
    "start_time": "2023-10-10T15:03:09.809Z"
   },
   {
    "duration": 1019,
    "start_time": "2023-10-10T15:03:12.665Z"
   },
   {
    "duration": 3,
    "start_time": "2023-10-10T15:03:19.442Z"
   },
   {
    "duration": 645,
    "start_time": "2023-10-10T15:07:16.379Z"
   },
   {
    "duration": 4,
    "start_time": "2023-10-10T15:07:29.459Z"
   },
   {
    "duration": 14,
    "start_time": "2023-10-10T15:07:31.835Z"
   },
   {
    "duration": 3,
    "start_time": "2023-10-10T15:08:07.941Z"
   },
   {
    "duration": 406,
    "start_time": "2023-10-10T15:08:19.453Z"
   },
   {
    "duration": 10,
    "start_time": "2023-10-10T15:10:22.200Z"
   },
   {
    "duration": 12,
    "start_time": "2023-10-10T15:10:55.576Z"
   },
   {
    "duration": 12,
    "start_time": "2023-10-10T15:11:01.934Z"
   },
   {
    "duration": 11,
    "start_time": "2023-10-10T15:11:27.175Z"
   },
   {
    "duration": 126,
    "start_time": "2023-10-10T15:23:14.450Z"
   },
   {
    "duration": 37,
    "start_time": "2023-10-10T15:23:21.033Z"
   },
   {
    "duration": 1982,
    "start_time": "2023-10-10T15:23:59.890Z"
   },
   {
    "duration": 53,
    "start_time": "2023-10-10T15:24:09.993Z"
   },
   {
    "duration": 991,
    "start_time": "2023-10-10T15:24:18.483Z"
   },
   {
    "duration": 11,
    "start_time": "2023-10-10T15:24:26.107Z"
   },
   {
    "duration": 26,
    "start_time": "2023-10-10T15:24:34.777Z"
   },
   {
    "duration": 39,
    "start_time": "2023-10-10T15:24:38.538Z"
   },
   {
    "duration": 41,
    "start_time": "2023-10-10T15:24:45.452Z"
   },
   {
    "duration": 65,
    "start_time": "2023-10-10T15:26:13.252Z"
   },
   {
    "duration": 29,
    "start_time": "2023-10-10T15:27:03.836Z"
   },
   {
    "duration": 45,
    "start_time": "2023-10-10T15:28:40.500Z"
   },
   {
    "duration": 66,
    "start_time": "2023-10-10T15:30:02.230Z"
   },
   {
    "duration": 24,
    "start_time": "2023-10-10T15:30:31.694Z"
   },
   {
    "duration": 17,
    "start_time": "2023-10-10T15:30:44.086Z"
   },
   {
    "duration": 24,
    "start_time": "2023-10-10T15:30:58.664Z"
   },
   {
    "duration": 14,
    "start_time": "2023-10-10T15:34:00.712Z"
   },
   {
    "duration": 16,
    "start_time": "2023-10-10T15:41:24.422Z"
   },
   {
    "duration": 21,
    "start_time": "2023-10-10T15:48:02.423Z"
   },
   {
    "duration": 49,
    "start_time": "2023-10-10T15:48:40.270Z"
   },
   {
    "duration": 59,
    "start_time": "2023-10-10T15:48:49.484Z"
   },
   {
    "duration": 13,
    "start_time": "2023-10-10T15:49:13.245Z"
   },
   {
    "duration": 28,
    "start_time": "2023-10-10T17:37:46.851Z"
   },
   {
    "duration": 11,
    "start_time": "2023-10-10T17:38:09.868Z"
   },
   {
    "duration": 1421,
    "start_time": "2023-10-10T17:46:05.721Z"
   },
   {
    "duration": 5,
    "start_time": "2023-10-10T17:46:17.427Z"
   },
   {
    "duration": 10,
    "start_time": "2023-10-10T17:47:54.873Z"
   },
   {
    "duration": 11,
    "start_time": "2023-10-10T17:48:26.098Z"
   },
   {
    "duration": 5,
    "start_time": "2023-10-10T17:49:41.163Z"
   },
   {
    "duration": 6,
    "start_time": "2023-10-10T17:49:54.251Z"
   },
   {
    "duration": 3,
    "start_time": "2023-10-10T17:50:11.148Z"
   },
   {
    "duration": 5,
    "start_time": "2023-10-10T17:50:59.867Z"
   },
   {
    "duration": 5,
    "start_time": "2023-10-10T17:51:08.363Z"
   },
   {
    "duration": 6,
    "start_time": "2023-10-10T17:51:33.780Z"
   },
   {
    "duration": 7,
    "start_time": "2023-10-10T17:51:36.835Z"
   },
   {
    "duration": 8,
    "start_time": "2023-10-10T17:51:39.772Z"
   },
   {
    "duration": 5,
    "start_time": "2023-10-10T17:53:12.661Z"
   },
   {
    "duration": 5,
    "start_time": "2023-10-10T17:53:31.636Z"
   },
   {
    "duration": 4,
    "start_time": "2023-10-10T17:54:16.862Z"
   },
   {
    "duration": 4,
    "start_time": "2023-10-10T17:54:19.782Z"
   },
   {
    "duration": 9,
    "start_time": "2023-10-10T18:00:26.473Z"
   },
   {
    "duration": 8,
    "start_time": "2023-10-10T18:00:29.337Z"
   },
   {
    "duration": 20,
    "start_time": "2023-10-10T18:12:44.825Z"
   },
   {
    "duration": 17,
    "start_time": "2023-10-10T18:14:02.652Z"
   },
   {
    "duration": 7,
    "start_time": "2023-10-10T18:14:59.908Z"
   },
   {
    "duration": 11,
    "start_time": "2023-10-10T18:15:15.196Z"
   },
   {
    "duration": 12,
    "start_time": "2023-10-10T18:17:28.301Z"
   },
   {
    "duration": 10,
    "start_time": "2023-10-10T18:18:12.389Z"
   },
   {
    "duration": 9,
    "start_time": "2023-10-10T18:22:18.489Z"
   },
   {
    "duration": 9,
    "start_time": "2023-10-10T18:22:33.793Z"
   },
   {
    "duration": 1114,
    "start_time": "2023-10-10T18:42:59.980Z"
   },
   {
    "duration": 78,
    "start_time": "2023-10-10T18:43:01.096Z"
   },
   {
    "duration": 11,
    "start_time": "2023-10-10T18:43:01.176Z"
   },
   {
    "duration": 51,
    "start_time": "2023-10-10T18:43:01.189Z"
   },
   {
    "duration": 127,
    "start_time": "2023-10-10T18:43:01.241Z"
   },
   {
    "duration": 71,
    "start_time": "2023-10-10T18:43:01.370Z"
   },
   {
    "duration": 67,
    "start_time": "2023-10-10T18:43:01.443Z"
   },
   {
    "duration": 59,
    "start_time": "2023-10-10T18:43:01.512Z"
   },
   {
    "duration": 74,
    "start_time": "2023-10-10T18:43:01.572Z"
   },
   {
    "duration": 67,
    "start_time": "2023-10-10T18:43:01.649Z"
   },
   {
    "duration": 74,
    "start_time": "2023-10-10T18:43:01.718Z"
   },
   {
    "duration": 55,
    "start_time": "2023-10-10T18:43:01.793Z"
   },
   {
    "duration": 65,
    "start_time": "2023-10-10T18:43:01.849Z"
   },
   {
    "duration": 59,
    "start_time": "2023-10-10T18:43:01.916Z"
   },
   {
    "duration": 52,
    "start_time": "2023-10-10T18:43:01.977Z"
   },
   {
    "duration": 73,
    "start_time": "2023-10-10T18:43:02.031Z"
   },
   {
    "duration": 71,
    "start_time": "2023-10-10T18:43:02.105Z"
   },
   {
    "duration": 50,
    "start_time": "2023-10-10T18:43:02.178Z"
   },
   {
    "duration": 73,
    "start_time": "2023-10-10T18:43:02.230Z"
   },
   {
    "duration": 64,
    "start_time": "2023-10-10T18:43:02.305Z"
   },
   {
    "duration": 35,
    "start_time": "2023-10-10T18:43:02.371Z"
   },
   {
    "duration": 45,
    "start_time": "2023-10-10T18:43:02.408Z"
   },
   {
    "duration": 55,
    "start_time": "2023-10-10T18:43:02.455Z"
   },
   {
    "duration": 53,
    "start_time": "2023-10-10T18:43:02.511Z"
   },
   {
    "duration": 51,
    "start_time": "2023-10-10T18:43:02.566Z"
   },
   {
    "duration": 186,
    "start_time": "2023-10-10T18:43:02.618Z"
   },
   {
    "duration": 126,
    "start_time": "2023-10-10T18:43:02.806Z"
   },
   {
    "duration": 250,
    "start_time": "2023-10-10T18:43:02.935Z"
   },
   {
    "duration": 7,
    "start_time": "2023-10-10T18:43:03.186Z"
   },
   {
    "duration": 182,
    "start_time": "2023-10-10T18:43:03.195Z"
   },
   {
    "duration": 9,
    "start_time": "2023-10-10T18:43:03.379Z"
   },
   {
    "duration": 219,
    "start_time": "2023-10-10T18:43:03.390Z"
   },
   {
    "duration": 9,
    "start_time": "2023-10-10T18:43:03.611Z"
   },
   {
    "duration": 59,
    "start_time": "2023-10-10T18:43:03.621Z"
   },
   {
    "duration": 13,
    "start_time": "2023-10-10T18:43:03.681Z"
   },
   {
    "duration": 25,
    "start_time": "2023-10-10T18:43:03.695Z"
   },
   {
    "duration": 3,
    "start_time": "2023-10-10T18:43:03.721Z"
   },
   {
    "duration": 40,
    "start_time": "2023-10-10T18:43:03.725Z"
   },
   {
    "duration": 12,
    "start_time": "2023-10-10T18:43:03.767Z"
   },
   {
    "duration": 17,
    "start_time": "2023-10-10T18:43:03.780Z"
   },
   {
    "duration": 141,
    "start_time": "2023-10-10T18:43:03.798Z"
   },
   {
    "duration": 128,
    "start_time": "2023-10-10T18:43:03.940Z"
   },
   {
    "duration": 50,
    "start_time": "2023-10-10T18:43:04.069Z"
   },
   {
    "duration": 44,
    "start_time": "2023-10-10T18:43:04.120Z"
   },
   {
    "duration": 10,
    "start_time": "2023-10-10T18:43:04.166Z"
   },
   {
    "duration": 11,
    "start_time": "2023-10-10T18:43:04.177Z"
   },
   {
    "duration": 13,
    "start_time": "2023-10-10T18:43:04.189Z"
   },
   {
    "duration": 18,
    "start_time": "2023-10-10T18:43:04.203Z"
   },
   {
    "duration": 19,
    "start_time": "2023-10-10T18:43:04.222Z"
   },
   {
    "duration": 39,
    "start_time": "2023-10-10T18:43:04.242Z"
   },
   {
    "duration": 23,
    "start_time": "2023-10-10T18:43:04.283Z"
   },
   {
    "duration": 15,
    "start_time": "2023-10-10T18:43:04.308Z"
   },
   {
    "duration": 7,
    "start_time": "2023-10-10T19:23:44.063Z"
   },
   {
    "duration": 6,
    "start_time": "2023-10-10T19:23:59.756Z"
   },
   {
    "duration": 6,
    "start_time": "2023-10-10T19:24:04.766Z"
   },
   {
    "duration": 6,
    "start_time": "2023-10-10T19:25:16.735Z"
   },
   {
    "duration": 6,
    "start_time": "2023-10-10T19:30:14.618Z"
   },
   {
    "duration": 6,
    "start_time": "2023-10-10T19:30:19.497Z"
   },
   {
    "duration": 7,
    "start_time": "2023-10-10T19:30:22.761Z"
   },
   {
    "duration": 5,
    "start_time": "2023-10-10T19:30:27.968Z"
   },
   {
    "duration": 105,
    "start_time": "2023-10-10T20:41:04.523Z"
   },
   {
    "duration": 9,
    "start_time": "2023-10-10T20:41:16.044Z"
   },
   {
    "duration": 5,
    "start_time": "2023-10-10T20:41:59.190Z"
   },
   {
    "duration": 5,
    "start_time": "2023-10-10T20:42:09.013Z"
   },
   {
    "duration": 6,
    "start_time": "2023-10-10T20:42:18.516Z"
   },
   {
    "duration": 5,
    "start_time": "2023-10-10T20:42:31.724Z"
   },
   {
    "duration": 5,
    "start_time": "2023-10-10T20:42:44.309Z"
   },
   {
    "duration": 10,
    "start_time": "2023-10-10T20:42:51.349Z"
   },
   {
    "duration": 5,
    "start_time": "2023-10-10T20:42:59.005Z"
   },
   {
    "duration": 7,
    "start_time": "2023-10-10T20:43:08.590Z"
   },
   {
    "duration": 5,
    "start_time": "2023-10-10T20:43:14.933Z"
   },
   {
    "duration": 5,
    "start_time": "2023-10-10T20:43:26.469Z"
   },
   {
    "duration": 13,
    "start_time": "2023-10-10T20:43:33.445Z"
   },
   {
    "duration": 6,
    "start_time": "2023-10-10T20:43:44.702Z"
   },
   {
    "duration": 13,
    "start_time": "2023-10-10T20:43:54.845Z"
   },
   {
    "duration": 7,
    "start_time": "2023-10-10T20:45:21.311Z"
   },
   {
    "duration": 12,
    "start_time": "2023-10-10T21:02:23.090Z"
   },
   {
    "duration": 46,
    "start_time": "2023-10-11T11:19:52.011Z"
   },
   {
    "duration": 1288,
    "start_time": "2023-10-11T11:20:16.815Z"
   },
   {
    "duration": 140,
    "start_time": "2023-10-11T11:20:30.671Z"
   },
   {
    "duration": 1105,
    "start_time": "2023-10-11T11:20:44.698Z"
   },
   {
    "duration": 298,
    "start_time": "2023-10-11T11:20:45.805Z"
   },
   {
    "duration": 11,
    "start_time": "2023-10-11T11:20:46.105Z"
   },
   {
    "duration": 20,
    "start_time": "2023-10-11T11:20:46.118Z"
   },
   {
    "duration": 27,
    "start_time": "2023-10-11T11:20:46.141Z"
   },
   {
    "duration": 33,
    "start_time": "2023-10-11T11:20:46.170Z"
   },
   {
    "duration": 30,
    "start_time": "2023-10-11T11:20:46.205Z"
   },
   {
    "duration": 27,
    "start_time": "2023-10-11T11:20:46.237Z"
   },
   {
    "duration": 10,
    "start_time": "2023-10-11T11:20:46.266Z"
   },
   {
    "duration": 15,
    "start_time": "2023-10-11T11:20:46.278Z"
   },
   {
    "duration": 11,
    "start_time": "2023-10-11T11:20:46.295Z"
   },
   {
    "duration": 6,
    "start_time": "2023-10-11T11:20:46.308Z"
   },
   {
    "duration": 19,
    "start_time": "2023-10-11T11:20:46.316Z"
   },
   {
    "duration": 34,
    "start_time": "2023-10-11T11:20:46.339Z"
   },
   {
    "duration": 8,
    "start_time": "2023-10-11T11:20:46.375Z"
   },
   {
    "duration": 7,
    "start_time": "2023-10-11T11:20:46.385Z"
   },
   {
    "duration": 22,
    "start_time": "2023-10-11T11:20:46.393Z"
   },
   {
    "duration": 13,
    "start_time": "2023-10-11T11:20:46.417Z"
   },
   {
    "duration": 29,
    "start_time": "2023-10-11T11:20:46.432Z"
   },
   {
    "duration": 17,
    "start_time": "2023-10-11T11:20:46.462Z"
   },
   {
    "duration": 6,
    "start_time": "2023-10-11T11:20:46.481Z"
   },
   {
    "duration": 6,
    "start_time": "2023-10-11T11:20:46.488Z"
   },
   {
    "duration": 8,
    "start_time": "2023-10-11T11:20:46.496Z"
   },
   {
    "duration": 12,
    "start_time": "2023-10-11T11:20:46.505Z"
   },
   {
    "duration": 16,
    "start_time": "2023-10-11T11:20:46.519Z"
   },
   {
    "duration": 142,
    "start_time": "2023-10-11T11:20:46.536Z"
   },
   {
    "duration": 123,
    "start_time": "2023-10-11T11:20:46.680Z"
   },
   {
    "duration": 242,
    "start_time": "2023-10-11T11:20:46.805Z"
   },
   {
    "duration": 8,
    "start_time": "2023-10-11T11:20:47.048Z"
   },
   {
    "duration": 179,
    "start_time": "2023-10-11T11:20:47.057Z"
   },
   {
    "duration": 13,
    "start_time": "2023-10-11T11:20:47.238Z"
   },
   {
    "duration": 191,
    "start_time": "2023-10-11T11:20:47.252Z"
   },
   {
    "duration": 7,
    "start_time": "2023-10-11T11:20:47.445Z"
   },
   {
    "duration": 32,
    "start_time": "2023-10-11T11:20:47.454Z"
   },
   {
    "duration": 18,
    "start_time": "2023-10-11T11:20:47.488Z"
   },
   {
    "duration": 18,
    "start_time": "2023-10-11T11:20:47.507Z"
   },
   {
    "duration": 4,
    "start_time": "2023-10-11T11:20:47.526Z"
   },
   {
    "duration": 15,
    "start_time": "2023-10-11T11:20:47.544Z"
   },
   {
    "duration": 13,
    "start_time": "2023-10-11T11:20:47.560Z"
   },
   {
    "duration": 28,
    "start_time": "2023-10-11T11:20:47.574Z"
   },
   {
    "duration": 153,
    "start_time": "2023-10-11T11:20:47.605Z"
   },
   {
    "duration": 121,
    "start_time": "2023-10-11T11:20:47.760Z"
   },
   {
    "duration": 68,
    "start_time": "2023-10-11T11:20:47.882Z"
   },
   {
    "duration": 14,
    "start_time": "2023-10-11T11:20:47.951Z"
   },
   {
    "duration": 24,
    "start_time": "2023-10-11T11:20:47.967Z"
   },
   {
    "duration": 7,
    "start_time": "2023-10-11T11:20:47.993Z"
   },
   {
    "duration": 52,
    "start_time": "2023-10-11T11:20:48.001Z"
   },
   {
    "duration": 143,
    "start_time": "2023-10-11T11:20:48.055Z"
   },
   {
    "duration": 1541,
    "start_time": "2023-10-11T11:21:38.091Z"
   },
   {
    "duration": 360,
    "start_time": "2023-10-11T11:22:44.962Z"
   },
   {
    "duration": 169,
    "start_time": "2023-10-11T11:22:56.537Z"
   },
   {
    "duration": 136,
    "start_time": "2023-10-11T11:23:02.537Z"
   },
   {
    "duration": 127,
    "start_time": "2023-10-11T11:23:20.577Z"
   },
   {
    "duration": 227,
    "start_time": "2023-10-11T11:28:31.702Z"
   },
   {
    "duration": 172,
    "start_time": "2023-10-11T11:28:38.189Z"
   },
   {
    "duration": 219,
    "start_time": "2023-10-11T11:28:44.370Z"
   },
   {
    "duration": 1473,
    "start_time": "2023-10-11T11:28:51.157Z"
   },
   {
    "duration": 1811,
    "start_time": "2023-10-11T11:30:38.770Z"
   },
   {
    "duration": 136,
    "start_time": "2023-10-11T11:30:51.185Z"
   },
   {
    "duration": 1730,
    "start_time": "2023-10-11T11:32:43.354Z"
   },
   {
    "duration": 1701,
    "start_time": "2023-10-11T11:33:05.758Z"
   },
   {
    "duration": 1581,
    "start_time": "2023-10-11T11:34:00.835Z"
   },
   {
    "duration": 1621,
    "start_time": "2023-10-11T11:34:36.843Z"
   },
   {
    "duration": 1626,
    "start_time": "2023-10-11T11:36:51.867Z"
   },
   {
    "duration": 1565,
    "start_time": "2023-10-11T11:38:02.302Z"
   },
   {
    "duration": 1599,
    "start_time": "2023-10-11T11:38:06.944Z"
   },
   {
    "duration": 1671,
    "start_time": "2023-10-11T11:38:11.975Z"
   },
   {
    "duration": 1697,
    "start_time": "2023-10-11T11:38:34.327Z"
   },
   {
    "duration": 7624,
    "start_time": "2023-10-11T11:47:00.318Z"
   },
   {
    "duration": 266,
    "start_time": "2023-10-11T11:47:17.673Z"
   },
   {
    "duration": 249,
    "start_time": "2023-10-11T11:53:29.690Z"
   },
   {
    "duration": 254,
    "start_time": "2023-10-11T11:53:44.977Z"
   },
   {
    "duration": 797,
    "start_time": "2023-10-11T11:53:48.499Z"
   },
   {
    "duration": 235,
    "start_time": "2023-10-11T11:54:08.219Z"
   },
   {
    "duration": 268,
    "start_time": "2023-10-11T11:54:14.463Z"
   },
   {
    "duration": 267,
    "start_time": "2023-10-11T11:54:19.229Z"
   },
   {
    "duration": 273,
    "start_time": "2023-10-11T11:54:23.068Z"
   },
   {
    "duration": 267,
    "start_time": "2023-10-11T11:55:53.349Z"
   },
   {
    "duration": 397,
    "start_time": "2023-10-11T11:58:12.362Z"
   },
   {
    "duration": 268,
    "start_time": "2023-10-11T11:58:18.950Z"
   },
   {
    "duration": 260,
    "start_time": "2023-10-11T11:58:30.095Z"
   },
   {
    "duration": 267,
    "start_time": "2023-10-11T11:58:38.406Z"
   },
   {
    "duration": 280,
    "start_time": "2023-10-11T11:58:43.750Z"
   },
   {
    "duration": 395,
    "start_time": "2023-10-11T11:58:49.095Z"
   },
   {
    "duration": 253,
    "start_time": "2023-10-11T11:59:01.119Z"
   },
   {
    "duration": 274,
    "start_time": "2023-10-11T11:59:06.784Z"
   },
   {
    "duration": 257,
    "start_time": "2023-10-11T11:59:09.063Z"
   },
   {
    "duration": 201,
    "start_time": "2023-10-11T11:59:22.112Z"
   },
   {
    "duration": 902,
    "start_time": "2023-10-11T11:59:44.281Z"
   },
   {
    "duration": 846,
    "start_time": "2023-10-11T12:00:03.793Z"
   },
   {
    "duration": 924,
    "start_time": "2023-10-11T12:00:57.747Z"
   },
   {
    "duration": 7980,
    "start_time": "2023-10-11T12:01:28.979Z"
   },
   {
    "duration": 7782,
    "start_time": "2023-10-11T12:01:46.164Z"
   },
   {
    "duration": 7600,
    "start_time": "2023-10-11T12:02:14.292Z"
   },
   {
    "duration": 7794,
    "start_time": "2023-10-11T12:10:04.821Z"
   },
   {
    "duration": 7702,
    "start_time": "2023-10-11T12:11:33.274Z"
   },
   {
    "duration": 7557,
    "start_time": "2023-10-11T12:15:19.626Z"
   },
   {
    "duration": 7448,
    "start_time": "2023-10-11T12:17:28.614Z"
   },
   {
    "duration": 7279,
    "start_time": "2023-10-11T12:18:27.958Z"
   },
   {
    "duration": 8048,
    "start_time": "2023-10-11T12:18:47.574Z"
   },
   {
    "duration": 7663,
    "start_time": "2023-10-11T12:20:33.372Z"
   },
   {
    "duration": 7291,
    "start_time": "2023-10-11T12:21:16.377Z"
   },
   {
    "duration": 7668,
    "start_time": "2023-10-11T12:21:30.737Z"
   },
   {
    "duration": 7468,
    "start_time": "2023-10-11T12:22:23.738Z"
   },
   {
    "duration": 7499,
    "start_time": "2023-10-11T12:23:14.156Z"
   },
   {
    "duration": 7552,
    "start_time": "2023-10-11T12:29:13.687Z"
   },
   {
    "duration": 1210,
    "start_time": "2023-10-11T12:43:38.108Z"
   },
   {
    "duration": 4,
    "start_time": "2023-10-11T12:44:15.821Z"
   },
   {
    "duration": 765,
    "start_time": "2023-10-11T12:44:23.638Z"
   },
   {
    "duration": 7021,
    "start_time": "2023-10-11T12:44:46.510Z"
   },
   {
    "duration": 7671,
    "start_time": "2023-10-11T12:45:04.414Z"
   },
   {
    "duration": 1555,
    "start_time": "2023-10-11T12:45:22.967Z"
   },
   {
    "duration": 938,
    "start_time": "2023-10-11T12:45:31.414Z"
   },
   {
    "duration": 842,
    "start_time": "2023-10-11T12:45:35.639Z"
   },
   {
    "duration": 1006,
    "start_time": "2023-10-11T12:45:47.284Z"
   },
   {
    "duration": 784,
    "start_time": "2023-10-11T12:46:27.433Z"
   },
   {
    "duration": 974,
    "start_time": "2023-10-11T12:46:37.687Z"
   },
   {
    "duration": 808,
    "start_time": "2023-10-11T16:18:01.749Z"
   },
   {
    "duration": 976,
    "start_time": "2023-10-11T16:18:08.693Z"
   },
   {
    "duration": 802,
    "start_time": "2023-10-11T16:18:47.422Z"
   },
   {
    "duration": 968,
    "start_time": "2023-10-11T16:18:55.596Z"
   },
   {
    "duration": 778,
    "start_time": "2023-10-11T16:19:29.285Z"
   },
   {
    "duration": 360,
    "start_time": "2023-10-11T16:19:59.406Z"
   },
   {
    "duration": 203,
    "start_time": "2023-10-11T16:20:53.359Z"
   },
   {
    "duration": 213,
    "start_time": "2023-10-11T16:21:18.998Z"
   },
   {
    "duration": 196,
    "start_time": "2023-10-11T16:22:09.232Z"
   },
   {
    "duration": 198,
    "start_time": "2023-10-11T16:22:34.847Z"
   },
   {
    "duration": 188,
    "start_time": "2023-10-11T16:22:47.992Z"
   },
   {
    "duration": 892,
    "start_time": "2023-10-11T16:23:48.875Z"
   },
   {
    "duration": 619,
    "start_time": "2023-10-11T16:23:56.261Z"
   },
   {
    "duration": 196,
    "start_time": "2023-10-11T16:25:20.385Z"
   },
   {
    "duration": 213,
    "start_time": "2023-10-11T16:25:31.179Z"
   },
   {
    "duration": 216,
    "start_time": "2023-10-11T16:26:15.450Z"
   },
   {
    "duration": 239,
    "start_time": "2023-10-11T16:27:45.045Z"
   },
   {
    "duration": 205,
    "start_time": "2023-10-11T16:28:22.083Z"
   },
   {
    "duration": 212,
    "start_time": "2023-10-11T16:29:05.579Z"
   },
   {
    "duration": 376,
    "start_time": "2023-10-11T16:29:38.463Z"
   },
   {
    "duration": 223,
    "start_time": "2023-10-11T16:29:56.835Z"
   },
   {
    "duration": 196,
    "start_time": "2023-10-11T16:30:08.787Z"
   },
   {
    "duration": 225,
    "start_time": "2023-10-11T16:30:20.764Z"
   },
   {
    "duration": 873,
    "start_time": "2023-10-11T16:34:17.421Z"
   },
   {
    "duration": 256,
    "start_time": "2023-10-11T16:34:29.797Z"
   },
   {
    "duration": 581,
    "start_time": "2023-10-11T16:34:36.181Z"
   },
   {
    "duration": 765,
    "start_time": "2023-10-11T16:34:41.038Z"
   },
   {
    "duration": 973,
    "start_time": "2023-10-11T16:36:38.319Z"
   },
   {
    "duration": 1014,
    "start_time": "2023-10-11T16:37:00.087Z"
   },
   {
    "duration": 770,
    "start_time": "2023-10-11T16:37:24.535Z"
   },
   {
    "duration": 897,
    "start_time": "2023-10-11T16:37:31.769Z"
   },
   {
    "duration": 281,
    "start_time": "2023-10-11T16:37:39.815Z"
   },
   {
    "duration": 1606,
    "start_time": "2023-10-11T16:39:31.864Z"
   },
   {
    "duration": 1705,
    "start_time": "2023-10-11T16:39:43.910Z"
   },
   {
    "duration": 1585,
    "start_time": "2023-10-11T16:39:54.792Z"
   },
   {
    "duration": 263,
    "start_time": "2023-10-11T16:40:14.472Z"
   },
   {
    "duration": 287,
    "start_time": "2023-10-11T16:41:24.287Z"
   },
   {
    "duration": 284,
    "start_time": "2023-10-11T16:41:33.809Z"
   },
   {
    "duration": 307,
    "start_time": "2023-10-11T16:42:37.859Z"
   },
   {
    "duration": 492,
    "start_time": "2023-10-11T16:42:46.602Z"
   },
   {
    "duration": 259,
    "start_time": "2023-10-11T16:44:02.617Z"
   },
   {
    "duration": 286,
    "start_time": "2023-10-11T16:44:14.537Z"
   },
   {
    "duration": 281,
    "start_time": "2023-10-11T16:44:50.538Z"
   },
   {
    "duration": 286,
    "start_time": "2023-10-11T16:47:08.755Z"
   },
   {
    "duration": 1008,
    "start_time": "2023-10-11T16:47:13.364Z"
   },
   {
    "duration": 1673,
    "start_time": "2023-10-11T16:47:22.083Z"
   },
   {
    "duration": 14838,
    "start_time": "2023-10-11T16:47:33.395Z"
   },
   {
    "duration": 8328,
    "start_time": "2023-10-11T16:48:00.283Z"
   },
   {
    "duration": 1932,
    "start_time": "2023-10-11T16:48:17.645Z"
   },
   {
    "duration": 4375,
    "start_time": "2023-10-11T16:48:41.188Z"
   },
   {
    "duration": 3314,
    "start_time": "2023-10-11T16:48:53.988Z"
   },
   {
    "duration": 3081,
    "start_time": "2023-10-11T16:50:32.655Z"
   },
   {
    "duration": 3092,
    "start_time": "2023-10-11T16:50:52.629Z"
   },
   {
    "duration": 3152,
    "start_time": "2023-10-11T16:51:47.703Z"
   },
   {
    "duration": 14,
    "start_time": "2023-10-11T16:51:58.151Z"
   },
   {
    "duration": 16,
    "start_time": "2023-10-11T16:53:17.895Z"
   },
   {
    "duration": 10,
    "start_time": "2023-10-11T16:53:21.294Z"
   },
   {
    "duration": 11,
    "start_time": "2023-10-11T16:53:26.567Z"
   },
   {
    "duration": 10,
    "start_time": "2023-10-11T16:54:04.703Z"
   },
   {
    "duration": 10,
    "start_time": "2023-10-11T16:54:10.178Z"
   },
   {
    "duration": 1155,
    "start_time": "2023-10-11T16:54:23.959Z"
   },
   {
    "duration": 81,
    "start_time": "2023-10-11T16:54:25.116Z"
   },
   {
    "duration": 12,
    "start_time": "2023-10-11T16:54:25.198Z"
   },
   {
    "duration": 31,
    "start_time": "2023-10-11T16:54:25.211Z"
   },
   {
    "duration": 19,
    "start_time": "2023-10-11T16:54:25.245Z"
   },
   {
    "duration": 35,
    "start_time": "2023-10-11T16:54:25.266Z"
   },
   {
    "duration": 24,
    "start_time": "2023-10-11T16:54:25.303Z"
   },
   {
    "duration": 42,
    "start_time": "2023-10-11T16:54:25.329Z"
   },
   {
    "duration": 22,
    "start_time": "2023-10-11T16:54:25.373Z"
   },
   {
    "duration": 36,
    "start_time": "2023-10-11T16:54:25.396Z"
   },
   {
    "duration": 23,
    "start_time": "2023-10-11T16:54:25.434Z"
   },
   {
    "duration": 6,
    "start_time": "2023-10-11T16:54:25.459Z"
   },
   {
    "duration": 14,
    "start_time": "2023-10-11T16:54:25.467Z"
   },
   {
    "duration": 15,
    "start_time": "2023-10-11T16:54:25.483Z"
   },
   {
    "duration": 31,
    "start_time": "2023-10-11T16:54:25.499Z"
   },
   {
    "duration": 23,
    "start_time": "2023-10-11T16:54:25.531Z"
   },
   {
    "duration": 15,
    "start_time": "2023-10-11T16:54:25.556Z"
   },
   {
    "duration": 21,
    "start_time": "2023-10-11T16:54:25.573Z"
   },
   {
    "duration": 18,
    "start_time": "2023-10-11T16:54:25.596Z"
   },
   {
    "duration": 21,
    "start_time": "2023-10-11T16:54:25.616Z"
   },
   {
    "duration": 19,
    "start_time": "2023-10-11T16:54:25.638Z"
   },
   {
    "duration": 22,
    "start_time": "2023-10-11T16:54:25.659Z"
   },
   {
    "duration": 24,
    "start_time": "2023-10-11T16:54:25.682Z"
   },
   {
    "duration": 32,
    "start_time": "2023-10-11T16:54:25.708Z"
   },
   {
    "duration": 23,
    "start_time": "2023-10-11T16:54:25.742Z"
   },
   {
    "duration": 154,
    "start_time": "2023-10-11T16:54:25.766Z"
   },
   {
    "duration": 153,
    "start_time": "2023-10-11T16:54:25.922Z"
   },
   {
    "duration": 279,
    "start_time": "2023-10-11T16:54:26.077Z"
   },
   {
    "duration": 7,
    "start_time": "2023-10-11T16:54:26.360Z"
   },
   {
    "duration": 210,
    "start_time": "2023-10-11T16:54:26.368Z"
   },
   {
    "duration": 10,
    "start_time": "2023-10-11T16:54:26.580Z"
   },
   {
    "duration": 196,
    "start_time": "2023-10-11T16:54:26.591Z"
   },
   {
    "duration": 8,
    "start_time": "2023-10-11T16:54:26.789Z"
   },
   {
    "duration": 59,
    "start_time": "2023-10-11T16:54:26.799Z"
   },
   {
    "duration": 16,
    "start_time": "2023-10-11T16:54:26.860Z"
   },
   {
    "duration": 50,
    "start_time": "2023-10-11T16:54:26.878Z"
   },
   {
    "duration": 34,
    "start_time": "2023-10-11T16:54:26.929Z"
   },
   {
    "duration": 35,
    "start_time": "2023-10-11T16:54:26.965Z"
   },
   {
    "duration": 356,
    "start_time": "2023-10-11T16:54:27.002Z"
   },
   {
    "duration": 120,
    "start_time": "2023-10-11T16:54:27.360Z"
   },
   {
    "duration": 323,
    "start_time": "2023-10-11T16:54:27.484Z"
   },
   {
    "duration": 155,
    "start_time": "2023-10-11T16:54:27.808Z"
   },
   {
    "duration": 56,
    "start_time": "2023-10-11T16:54:27.964Z"
   },
   {
    "duration": 35,
    "start_time": "2023-10-11T16:54:28.021Z"
   },
   {
    "duration": 8,
    "start_time": "2023-10-11T16:54:28.058Z"
   },
   {
    "duration": 46,
    "start_time": "2023-10-11T16:54:28.067Z"
   },
   {
    "duration": 59,
    "start_time": "2023-10-11T16:54:28.115Z"
   },
   {
    "duration": 343,
    "start_time": "2023-10-11T16:54:28.176Z"
   },
   {
    "duration": 220,
    "start_time": "2023-10-11T16:54:43.087Z"
   },
   {
    "duration": 220,
    "start_time": "2023-10-11T16:54:51.319Z"
   },
   {
    "duration": 264,
    "start_time": "2023-10-11T16:55:20.896Z"
   },
   {
    "duration": 265,
    "start_time": "2023-10-11T16:55:29.840Z"
   },
   {
    "duration": 258,
    "start_time": "2023-10-11T16:55:50.887Z"
   },
   {
    "duration": 367,
    "start_time": "2023-10-11T16:56:11.137Z"
   },
   {
    "duration": 265,
    "start_time": "2023-10-11T16:57:04.920Z"
   },
   {
    "duration": 249,
    "start_time": "2023-10-11T16:57:31.601Z"
   },
   {
    "duration": 279,
    "start_time": "2023-10-11T16:58:13.537Z"
   },
   {
    "duration": 264,
    "start_time": "2023-10-11T16:58:35.569Z"
   },
   {
    "duration": 351,
    "start_time": "2023-10-11T16:58:42.767Z"
   },
   {
    "duration": 290,
    "start_time": "2023-10-11T17:00:07.370Z"
   },
   {
    "duration": 256,
    "start_time": "2023-10-11T17:00:42.530Z"
   },
   {
    "duration": 2892,
    "start_time": "2023-10-11T17:00:50.075Z"
   },
   {
    "duration": 2965,
    "start_time": "2023-10-11T17:01:00.747Z"
   },
   {
    "duration": 1579,
    "start_time": "2023-10-11T17:01:31.875Z"
   },
   {
    "duration": 2112,
    "start_time": "2023-10-11T17:01:44.004Z"
   },
   {
    "duration": 2560,
    "start_time": "2023-10-11T17:02:01.476Z"
   },
   {
    "duration": 2712,
    "start_time": "2023-10-11T17:04:11.397Z"
   },
   {
    "duration": 2711,
    "start_time": "2023-10-11T17:05:51.742Z"
   },
   {
    "duration": 2641,
    "start_time": "2023-10-11T17:06:17.849Z"
   },
   {
    "duration": 2524,
    "start_time": "2023-10-11T17:07:37.887Z"
   },
   {
    "duration": 2446,
    "start_time": "2023-10-11T17:08:00.855Z"
   },
   {
    "duration": 1482,
    "start_time": "2023-10-11T17:08:17.415Z"
   },
   {
    "duration": 1687,
    "start_time": "2023-10-11T17:08:30.872Z"
   },
   {
    "duration": 1775,
    "start_time": "2023-10-11T17:09:16.628Z"
   },
   {
    "duration": 1842,
    "start_time": "2023-10-11T17:09:28.215Z"
   },
   {
    "duration": 1671,
    "start_time": "2023-10-11T17:13:07.563Z"
   },
   {
    "duration": 1700,
    "start_time": "2023-10-11T17:13:25.444Z"
   },
   {
    "duration": 1604,
    "start_time": "2023-10-11T17:15:55.323Z"
   },
   {
    "duration": 1628,
    "start_time": "2023-10-11T17:16:08.948Z"
   },
   {
    "duration": 267,
    "start_time": "2023-10-11T17:16:49.492Z"
   },
   {
    "duration": 2180,
    "start_time": "2023-10-11T17:16:55.768Z"
   },
   {
    "duration": 1851,
    "start_time": "2023-10-11T17:20:42.510Z"
   },
   {
    "duration": 1840,
    "start_time": "2023-10-11T17:21:08.543Z"
   },
   {
    "duration": 134,
    "start_time": "2023-10-11T17:36:12.287Z"
   },
   {
    "duration": 34025,
    "start_time": "2023-10-11T17:37:29.661Z"
   },
   {
    "duration": 36862,
    "start_time": "2023-10-11T17:38:12.915Z"
   },
   {
    "duration": 1829,
    "start_time": "2023-10-11T17:39:58.862Z"
   },
   {
    "duration": 1837,
    "start_time": "2023-10-11T17:42:16.612Z"
   },
   {
    "duration": 1763,
    "start_time": "2023-10-11T17:44:30.069Z"
   },
   {
    "duration": 3260,
    "start_time": "2023-10-11T17:46:30.592Z"
   },
   {
    "duration": 8231,
    "start_time": "2023-10-11T17:47:33.943Z"
   },
   {
    "duration": 2243,
    "start_time": "2023-10-11T17:48:04.560Z"
   },
   {
    "duration": 2656,
    "start_time": "2023-10-11T17:57:26.211Z"
   },
   {
    "duration": 2916,
    "start_time": "2023-10-11T18:08:11.084Z"
   },
   {
    "duration": 1935,
    "start_time": "2023-10-11T18:08:29.210Z"
   },
   {
    "duration": 15370,
    "start_time": "2023-10-11T18:08:44.101Z"
   },
   {
    "duration": 2774,
    "start_time": "2023-10-11T18:09:52.612Z"
   },
   {
    "duration": 1148,
    "start_time": "2023-10-11T18:57:26.152Z"
   },
   {
    "duration": 66,
    "start_time": "2023-10-11T18:57:27.302Z"
   },
   {
    "duration": 13,
    "start_time": "2023-10-11T18:57:27.370Z"
   },
   {
    "duration": 25,
    "start_time": "2023-10-11T18:57:27.385Z"
   },
   {
    "duration": 23,
    "start_time": "2023-10-11T18:57:27.411Z"
   },
   {
    "duration": 19,
    "start_time": "2023-10-11T18:57:27.436Z"
   },
   {
    "duration": 7,
    "start_time": "2023-10-11T18:57:27.457Z"
   },
   {
    "duration": 16,
    "start_time": "2023-10-11T18:57:27.466Z"
   },
   {
    "duration": 27,
    "start_time": "2023-10-11T18:57:27.483Z"
   },
   {
    "duration": 28,
    "start_time": "2023-10-11T18:57:27.513Z"
   },
   {
    "duration": 25,
    "start_time": "2023-10-11T18:57:27.542Z"
   },
   {
    "duration": 5,
    "start_time": "2023-10-11T18:57:27.568Z"
   },
   {
    "duration": 26,
    "start_time": "2023-10-11T18:57:27.575Z"
   },
   {
    "duration": 29,
    "start_time": "2023-10-11T18:57:27.603Z"
   },
   {
    "duration": 33,
    "start_time": "2023-10-11T18:57:27.634Z"
   },
   {
    "duration": 20,
    "start_time": "2023-10-11T18:57:27.668Z"
   },
   {
    "duration": 45,
    "start_time": "2023-10-11T18:57:27.689Z"
   },
   {
    "duration": 18,
    "start_time": "2023-10-11T18:57:27.736Z"
   },
   {
    "duration": 25,
    "start_time": "2023-10-11T18:57:27.756Z"
   },
   {
    "duration": 25,
    "start_time": "2023-10-11T18:57:27.783Z"
   },
   {
    "duration": 20,
    "start_time": "2023-10-11T18:57:27.809Z"
   },
   {
    "duration": 21,
    "start_time": "2023-10-11T18:57:27.831Z"
   },
   {
    "duration": 73,
    "start_time": "2023-10-11T18:57:27.854Z"
   },
   {
    "duration": 33,
    "start_time": "2023-10-11T18:57:27.929Z"
   },
   {
    "duration": 61,
    "start_time": "2023-10-11T18:57:27.964Z"
   },
   {
    "duration": 195,
    "start_time": "2023-10-11T18:57:28.027Z"
   },
   {
    "duration": 129,
    "start_time": "2023-10-11T18:57:28.224Z"
   },
   {
    "duration": 245,
    "start_time": "2023-10-11T18:57:28.356Z"
   },
   {
    "duration": 8,
    "start_time": "2023-10-11T18:57:28.603Z"
   },
   {
    "duration": 210,
    "start_time": "2023-10-11T18:57:28.613Z"
   },
   {
    "duration": 8,
    "start_time": "2023-10-11T18:57:28.825Z"
   },
   {
    "duration": 205,
    "start_time": "2023-10-11T18:57:28.835Z"
   },
   {
    "duration": 9,
    "start_time": "2023-10-11T18:57:29.045Z"
   },
   {
    "duration": 30,
    "start_time": "2023-10-11T18:57:29.056Z"
   },
   {
    "duration": 16,
    "start_time": "2023-10-11T18:57:29.087Z"
   },
   {
    "duration": 40,
    "start_time": "2023-10-11T18:57:29.105Z"
   },
   {
    "duration": 13,
    "start_time": "2023-10-11T18:57:29.147Z"
   },
   {
    "duration": 36,
    "start_time": "2023-10-11T18:57:29.161Z"
   },
   {
    "duration": 7,
    "start_time": "2023-10-11T18:57:29.198Z"
   },
   {
    "duration": 17,
    "start_time": "2023-10-11T18:57:29.207Z"
   },
   {
    "duration": 132,
    "start_time": "2023-10-11T18:57:29.225Z"
   },
   {
    "duration": 127,
    "start_time": "2023-10-11T18:57:29.358Z"
   },
   {
    "duration": 61,
    "start_time": "2023-10-11T18:57:29.487Z"
   },
   {
    "duration": 14,
    "start_time": "2023-10-11T18:57:29.550Z"
   },
   {
    "duration": 5,
    "start_time": "2023-10-11T18:57:29.565Z"
   },
   {
    "duration": 17,
    "start_time": "2023-10-11T18:57:29.572Z"
   },
   {
    "duration": 22,
    "start_time": "2023-10-11T18:57:29.591Z"
   },
   {
    "duration": 1991,
    "start_time": "2023-10-11T18:57:29.615Z"
   },
   {
    "duration": 63,
    "start_time": "2023-10-11T19:02:37.905Z"
   },
   {
    "duration": 9,
    "start_time": "2023-10-11T19:02:44.757Z"
   },
   {
    "duration": 1163,
    "start_time": "2023-10-11T19:02:52.225Z"
   },
   {
    "duration": 304,
    "start_time": "2023-10-11T19:02:53.390Z"
   },
   {
    "duration": 13,
    "start_time": "2023-10-11T19:02:53.696Z"
   },
   {
    "duration": 30,
    "start_time": "2023-10-11T19:02:53.711Z"
   },
   {
    "duration": 18,
    "start_time": "2023-10-11T19:02:53.743Z"
   },
   {
    "duration": 28,
    "start_time": "2023-10-11T19:02:53.763Z"
   },
   {
    "duration": 7,
    "start_time": "2023-10-11T19:02:53.793Z"
   },
   {
    "duration": 13,
    "start_time": "2023-10-11T19:02:53.801Z"
   },
   {
    "duration": 13,
    "start_time": "2023-10-11T19:02:53.815Z"
   },
   {
    "duration": 9,
    "start_time": "2023-10-11T19:02:53.831Z"
   },
   {
    "duration": 16,
    "start_time": "2023-10-11T19:02:53.845Z"
   },
   {
    "duration": 6,
    "start_time": "2023-10-11T19:02:53.863Z"
   },
   {
    "duration": 29,
    "start_time": "2023-10-11T19:02:53.871Z"
   },
   {
    "duration": 18,
    "start_time": "2023-10-11T19:02:53.902Z"
   },
   {
    "duration": 32,
    "start_time": "2023-10-11T19:02:53.922Z"
   },
   {
    "duration": 20,
    "start_time": "2023-10-11T19:02:53.958Z"
   },
   {
    "duration": 12,
    "start_time": "2023-10-11T19:02:53.979Z"
   },
   {
    "duration": 9,
    "start_time": "2023-10-11T19:02:53.993Z"
   },
   {
    "duration": 11,
    "start_time": "2023-10-11T19:02:54.003Z"
   },
   {
    "duration": 13,
    "start_time": "2023-10-11T19:02:54.016Z"
   },
   {
    "duration": 49,
    "start_time": "2023-10-11T19:02:54.031Z"
   },
   {
    "duration": 11,
    "start_time": "2023-10-11T19:02:54.082Z"
   },
   {
    "duration": 25,
    "start_time": "2023-10-11T19:02:54.095Z"
   },
   {
    "duration": 28,
    "start_time": "2023-10-11T19:02:54.122Z"
   },
   {
    "duration": 14,
    "start_time": "2023-10-11T19:02:54.157Z"
   },
   {
    "duration": 196,
    "start_time": "2023-10-11T19:02:54.174Z"
   },
   {
    "duration": 158,
    "start_time": "2023-10-11T19:02:54.372Z"
   },
   {
    "duration": 262,
    "start_time": "2023-10-11T19:02:54.545Z"
   },
   {
    "duration": 8,
    "start_time": "2023-10-11T19:02:54.809Z"
   },
   {
    "duration": 187,
    "start_time": "2023-10-11T19:02:54.819Z"
   },
   {
    "duration": 10,
    "start_time": "2023-10-11T19:02:55.008Z"
   },
   {
    "duration": 205,
    "start_time": "2023-10-11T19:02:55.020Z"
   },
   {
    "duration": 18,
    "start_time": "2023-10-11T19:02:55.227Z"
   },
   {
    "duration": 25,
    "start_time": "2023-10-11T19:02:55.252Z"
   },
   {
    "duration": 40,
    "start_time": "2023-10-11T19:02:55.279Z"
   },
   {
    "duration": 43,
    "start_time": "2023-10-11T19:02:55.320Z"
   },
   {
    "duration": 4,
    "start_time": "2023-10-11T19:02:55.365Z"
   },
   {
    "duration": 65,
    "start_time": "2023-10-11T19:02:55.371Z"
   },
   {
    "duration": 5,
    "start_time": "2023-10-11T19:02:55.438Z"
   },
   {
    "duration": 49,
    "start_time": "2023-10-11T19:02:55.447Z"
   },
   {
    "duration": 128,
    "start_time": "2023-10-11T19:02:55.497Z"
   },
   {
    "duration": 147,
    "start_time": "2023-10-11T19:02:55.627Z"
   },
   {
    "duration": 53,
    "start_time": "2023-10-11T19:02:55.776Z"
   },
   {
    "duration": 34,
    "start_time": "2023-10-11T19:02:55.831Z"
   },
   {
    "duration": 10,
    "start_time": "2023-10-11T19:02:55.867Z"
   },
   {
    "duration": 55,
    "start_time": "2023-10-11T19:02:55.879Z"
   },
   {
    "duration": 36,
    "start_time": "2023-10-11T19:02:55.936Z"
   },
   {
    "duration": 2163,
    "start_time": "2023-10-11T19:02:55.974Z"
   },
   {
    "duration": 77719,
    "start_time": "2023-10-11T19:02:58.139Z"
   },
   {
    "duration": 1937,
    "start_time": "2023-10-11T19:05:43.875Z"
   },
   {
    "duration": 18,
    "start_time": "2023-10-11T19:11:08.044Z"
   },
   {
    "duration": 1103,
    "start_time": "2023-10-11T19:11:52.282Z"
   },
   {
    "duration": 73,
    "start_time": "2023-10-11T19:11:53.387Z"
   },
   {
    "duration": 18,
    "start_time": "2023-10-11T19:11:53.462Z"
   },
   {
    "duration": 23,
    "start_time": "2023-10-11T19:11:53.482Z"
   },
   {
    "duration": 13,
    "start_time": "2023-10-11T19:11:53.509Z"
   },
   {
    "duration": 42,
    "start_time": "2023-10-11T19:11:53.523Z"
   },
   {
    "duration": 8,
    "start_time": "2023-10-11T19:11:53.567Z"
   },
   {
    "duration": 13,
    "start_time": "2023-10-11T19:11:53.577Z"
   },
   {
    "duration": 17,
    "start_time": "2023-10-11T19:11:53.593Z"
   },
   {
    "duration": 11,
    "start_time": "2023-10-11T19:11:53.613Z"
   },
   {
    "duration": 28,
    "start_time": "2023-10-11T19:11:53.626Z"
   },
   {
    "duration": 7,
    "start_time": "2023-10-11T19:11:53.656Z"
   },
   {
    "duration": 9,
    "start_time": "2023-10-11T19:11:53.665Z"
   },
   {
    "duration": 7,
    "start_time": "2023-10-11T19:11:53.677Z"
   },
   {
    "duration": 13,
    "start_time": "2023-10-11T19:11:53.685Z"
   },
   {
    "duration": 9,
    "start_time": "2023-10-11T19:11:53.699Z"
   },
   {
    "duration": 8,
    "start_time": "2023-10-11T19:11:53.709Z"
   },
   {
    "duration": 30,
    "start_time": "2023-10-11T19:11:53.719Z"
   },
   {
    "duration": 13,
    "start_time": "2023-10-11T19:11:53.751Z"
   },
   {
    "duration": 10,
    "start_time": "2023-10-11T19:11:53.766Z"
   },
   {
    "duration": 5,
    "start_time": "2023-10-11T19:11:53.778Z"
   },
   {
    "duration": 21,
    "start_time": "2023-10-11T19:11:53.784Z"
   },
   {
    "duration": 18,
    "start_time": "2023-10-11T19:11:53.806Z"
   },
   {
    "duration": 20,
    "start_time": "2023-10-11T19:11:53.825Z"
   },
   {
    "duration": 20,
    "start_time": "2023-10-11T19:11:53.846Z"
   },
   {
    "duration": 164,
    "start_time": "2023-10-11T19:11:53.868Z"
   },
   {
    "duration": 158,
    "start_time": "2023-10-11T19:11:54.035Z"
   },
   {
    "duration": 296,
    "start_time": "2023-10-11T19:11:54.196Z"
   },
   {
    "duration": 9,
    "start_time": "2023-10-11T19:11:54.494Z"
   },
   {
    "duration": 208,
    "start_time": "2023-10-11T19:11:54.505Z"
   },
   {
    "duration": 8,
    "start_time": "2023-10-11T19:11:54.715Z"
   },
   {
    "duration": 196,
    "start_time": "2023-10-11T19:11:54.725Z"
   },
   {
    "duration": 9,
    "start_time": "2023-10-11T19:11:54.923Z"
   },
   {
    "duration": 26,
    "start_time": "2023-10-11T19:11:54.951Z"
   },
   {
    "duration": 13,
    "start_time": "2023-10-11T19:11:54.978Z"
   },
   {
    "duration": 17,
    "start_time": "2023-10-11T19:11:54.992Z"
   },
   {
    "duration": 4,
    "start_time": "2023-10-11T19:11:55.011Z"
   },
   {
    "duration": 48,
    "start_time": "2023-10-11T19:11:55.018Z"
   },
   {
    "duration": 8,
    "start_time": "2023-10-11T19:11:55.067Z"
   },
   {
    "duration": 6,
    "start_time": "2023-10-11T19:11:55.077Z"
   },
   {
    "duration": 142,
    "start_time": "2023-10-11T19:11:55.086Z"
   },
   {
    "duration": 136,
    "start_time": "2023-10-11T19:11:55.230Z"
   },
   {
    "duration": 94,
    "start_time": "2023-10-11T19:11:55.369Z"
   },
   {
    "duration": 14,
    "start_time": "2023-10-11T19:11:55.465Z"
   },
   {
    "duration": 7,
    "start_time": "2023-10-11T19:11:55.481Z"
   },
   {
    "duration": 13,
    "start_time": "2023-10-11T19:11:55.490Z"
   },
   {
    "duration": 18,
    "start_time": "2023-10-11T19:11:55.505Z"
   },
   {
    "duration": 2154,
    "start_time": "2023-10-11T19:11:55.525Z"
   },
   {
    "duration": 7,
    "start_time": "2023-10-11T19:11:57.681Z"
   },
   {
    "duration": 6,
    "start_time": "2023-10-11T19:14:16.703Z"
   },
   {
    "duration": 9,
    "start_time": "2023-10-11T19:14:22.506Z"
   },
   {
    "duration": 6,
    "start_time": "2023-10-11T19:14:27.909Z"
   },
   {
    "duration": 8,
    "start_time": "2023-10-11T19:14:34.294Z"
   },
   {
    "duration": 6,
    "start_time": "2023-10-11T19:14:41.859Z"
   },
   {
    "duration": 11,
    "start_time": "2023-10-11T19:14:47.742Z"
   },
   {
    "duration": 8,
    "start_time": "2023-10-11T19:14:51.062Z"
   },
   {
    "duration": 8,
    "start_time": "2023-10-11T19:15:14.111Z"
   },
   {
    "duration": 6,
    "start_time": "2023-10-11T19:15:34.510Z"
   },
   {
    "duration": 9,
    "start_time": "2023-10-11T19:15:38.615Z"
   },
   {
    "duration": 8,
    "start_time": "2023-10-11T19:15:43.163Z"
   },
   {
    "duration": 2014,
    "start_time": "2023-10-11T20:23:44.536Z"
   },
   {
    "duration": 8,
    "start_time": "2023-10-11T20:26:45.922Z"
   },
   {
    "duration": 6,
    "start_time": "2023-10-11T20:27:21.813Z"
   },
   {
    "duration": 177,
    "start_time": "2023-10-11T20:32:55.488Z"
   },
   {
    "duration": 106,
    "start_time": "2023-10-11T20:33:18.184Z"
   },
   {
    "duration": 105,
    "start_time": "2023-10-11T20:33:52.386Z"
   },
   {
    "duration": 102,
    "start_time": "2023-10-11T20:34:19.730Z"
   },
   {
    "duration": 102,
    "start_time": "2023-10-11T20:35:22.412Z"
   },
   {
    "duration": 12,
    "start_time": "2023-10-11T20:36:10.260Z"
   },
   {
    "duration": 14,
    "start_time": "2023-10-11T20:36:47.387Z"
   },
   {
    "duration": 11,
    "start_time": "2023-10-11T20:37:35.876Z"
   },
   {
    "duration": 14,
    "start_time": "2023-10-11T20:38:54.480Z"
   },
   {
    "duration": 16,
    "start_time": "2023-10-11T20:39:58.182Z"
   },
   {
    "duration": 13,
    "start_time": "2023-10-11T20:40:03.470Z"
   },
   {
    "duration": 13,
    "start_time": "2023-10-11T20:46:46.301Z"
   },
   {
    "duration": 1194,
    "start_time": "2023-10-11T20:48:08.485Z"
   },
   {
    "duration": 70,
    "start_time": "2023-10-11T20:48:09.681Z"
   },
   {
    "duration": 13,
    "start_time": "2023-10-11T20:48:09.753Z"
   },
   {
    "duration": 31,
    "start_time": "2023-10-11T20:48:09.769Z"
   },
   {
    "duration": 48,
    "start_time": "2023-10-11T20:48:09.802Z"
   },
   {
    "duration": 38,
    "start_time": "2023-10-11T20:48:09.851Z"
   },
   {
    "duration": 28,
    "start_time": "2023-10-11T20:48:09.891Z"
   },
   {
    "duration": 37,
    "start_time": "2023-10-11T20:48:09.921Z"
   },
   {
    "duration": 37,
    "start_time": "2023-10-11T20:48:09.959Z"
   },
   {
    "duration": 119,
    "start_time": "2023-10-11T20:48:09.999Z"
   },
   {
    "duration": 33,
    "start_time": "2023-10-11T20:48:10.119Z"
   },
   {
    "duration": 21,
    "start_time": "2023-10-11T20:48:10.154Z"
   },
   {
    "duration": 46,
    "start_time": "2023-10-11T20:48:10.177Z"
   },
   {
    "duration": 30,
    "start_time": "2023-10-11T20:48:10.225Z"
   },
   {
    "duration": 31,
    "start_time": "2023-10-11T20:48:10.257Z"
   },
   {
    "duration": 25,
    "start_time": "2023-10-11T20:48:10.290Z"
   },
   {
    "duration": 29,
    "start_time": "2023-10-11T20:48:10.317Z"
   },
   {
    "duration": 59,
    "start_time": "2023-10-11T20:48:10.348Z"
   },
   {
    "duration": 34,
    "start_time": "2023-10-11T20:48:10.409Z"
   },
   {
    "duration": 36,
    "start_time": "2023-10-11T20:48:10.445Z"
   },
   {
    "duration": 33,
    "start_time": "2023-10-11T20:48:10.483Z"
   },
   {
    "duration": 33,
    "start_time": "2023-10-11T20:48:10.518Z"
   },
   {
    "duration": 34,
    "start_time": "2023-10-11T20:48:10.552Z"
   },
   {
    "duration": 27,
    "start_time": "2023-10-11T20:48:10.587Z"
   },
   {
    "duration": 44,
    "start_time": "2023-10-11T20:48:10.616Z"
   },
   {
    "duration": 202,
    "start_time": "2023-10-11T20:48:10.661Z"
   },
   {
    "duration": 153,
    "start_time": "2023-10-11T20:48:10.865Z"
   },
   {
    "duration": 292,
    "start_time": "2023-10-11T20:48:11.022Z"
   },
   {
    "duration": 11,
    "start_time": "2023-10-11T20:48:11.316Z"
   },
   {
    "duration": 216,
    "start_time": "2023-10-11T20:48:11.330Z"
   },
   {
    "duration": 10,
    "start_time": "2023-10-11T20:48:11.549Z"
   },
   {
    "duration": 210,
    "start_time": "2023-10-11T20:48:11.560Z"
   },
   {
    "duration": 10,
    "start_time": "2023-10-11T20:48:11.771Z"
   },
   {
    "duration": 26,
    "start_time": "2023-10-11T20:48:11.783Z"
   },
   {
    "duration": 40,
    "start_time": "2023-10-11T20:48:11.810Z"
   },
   {
    "duration": 20,
    "start_time": "2023-10-11T20:48:11.851Z"
   },
   {
    "duration": 4,
    "start_time": "2023-10-11T20:48:11.873Z"
   },
   {
    "duration": 33,
    "start_time": "2023-10-11T20:48:11.878Z"
   },
   {
    "duration": 4,
    "start_time": "2023-10-11T20:48:11.913Z"
   },
   {
    "duration": 9,
    "start_time": "2023-10-11T20:48:11.919Z"
   },
   {
    "duration": 138,
    "start_time": "2023-10-11T20:48:11.948Z"
   },
   {
    "duration": 147,
    "start_time": "2023-10-11T20:48:12.088Z"
   },
   {
    "duration": 154,
    "start_time": "2023-10-11T20:48:12.236Z"
   },
   {
    "duration": 17,
    "start_time": "2023-10-11T20:48:12.392Z"
   },
   {
    "duration": 16,
    "start_time": "2023-10-11T20:48:12.410Z"
   },
   {
    "duration": 19,
    "start_time": "2023-10-11T20:48:12.427Z"
   },
   {
    "duration": 14,
    "start_time": "2023-10-11T20:48:12.448Z"
   },
   {
    "duration": 2092,
    "start_time": "2023-10-11T20:48:12.464Z"
   },
   {
    "duration": 138,
    "start_time": "2023-10-11T20:48:14.558Z"
   },
   {
    "duration": 2097,
    "start_time": "2023-10-11T20:50:01.823Z"
   },
   {
    "duration": 1966,
    "start_time": "2023-10-11T20:50:48.447Z"
   },
   {
    "duration": 2223,
    "start_time": "2023-10-11T20:51:04.089Z"
   },
   {
    "duration": 15,
    "start_time": "2023-10-11T20:52:09.303Z"
   },
   {
    "duration": 16,
    "start_time": "2023-10-11T21:00:04.126Z"
   },
   {
    "duration": 20,
    "start_time": "2023-10-11T21:00:17.693Z"
   },
   {
    "duration": 14,
    "start_time": "2023-10-11T21:00:27.494Z"
   },
   {
    "duration": 159,
    "start_time": "2023-10-11T21:00:51.028Z"
   },
   {
    "duration": 170,
    "start_time": "2023-10-11T21:02:09.939Z"
   },
   {
    "duration": 149,
    "start_time": "2023-10-11T21:02:19.887Z"
   },
   {
    "duration": 294,
    "start_time": "2023-10-11T21:02:24.304Z"
   },
   {
    "duration": 164,
    "start_time": "2023-10-11T21:02:34.750Z"
   },
   {
    "duration": 154,
    "start_time": "2023-10-11T21:02:41.319Z"
   },
   {
    "duration": 193,
    "start_time": "2023-10-11T21:03:22.771Z"
   },
   {
    "duration": 175,
    "start_time": "2023-10-11T21:04:11.947Z"
   },
   {
    "duration": 193,
    "start_time": "2023-10-11T21:04:50.962Z"
   },
   {
    "duration": 2218,
    "start_time": "2023-10-11T21:06:28.350Z"
   },
   {
    "duration": 2207,
    "start_time": "2023-10-11T21:06:31.187Z"
   },
   {
    "duration": 2302,
    "start_time": "2023-10-11T21:06:53.075Z"
   },
   {
    "duration": 2213,
    "start_time": "2023-10-11T21:07:07.667Z"
   },
   {
    "duration": 147,
    "start_time": "2023-10-11T21:12:31.785Z"
   },
   {
    "duration": 151,
    "start_time": "2023-10-11T21:13:11.431Z"
   },
   {
    "duration": 166,
    "start_time": "2023-10-11T21:16:12.971Z"
   },
   {
    "duration": 141,
    "start_time": "2023-10-11T21:16:19.729Z"
   },
   {
    "duration": 149,
    "start_time": "2023-10-11T21:16:35.065Z"
   },
   {
    "duration": 154,
    "start_time": "2023-10-11T21:16:40.281Z"
   },
   {
    "duration": 146,
    "start_time": "2023-10-11T21:16:50.074Z"
   },
   {
    "duration": 3,
    "start_time": "2023-10-11T21:24:57.111Z"
   },
   {
    "duration": 2175,
    "start_time": "2023-10-11T21:25:25.312Z"
   },
   {
    "duration": 2116,
    "start_time": "2023-10-11T21:25:44.617Z"
   },
   {
    "duration": 1938,
    "start_time": "2023-10-11T21:26:18.234Z"
   },
   {
    "duration": 2294,
    "start_time": "2023-10-11T21:26:36.158Z"
   },
   {
    "duration": 1992,
    "start_time": "2023-10-11T21:26:48.889Z"
   },
   {
    "duration": 155,
    "start_time": "2023-10-11T21:31:55.869Z"
   },
   {
    "duration": 81,
    "start_time": "2023-10-12T08:23:04.102Z"
   },
   {
    "duration": 1506,
    "start_time": "2023-10-12T08:23:21.155Z"
   },
   {
    "duration": 213,
    "start_time": "2023-10-12T08:23:22.664Z"
   },
   {
    "duration": 20,
    "start_time": "2023-10-12T08:23:22.879Z"
   },
   {
    "duration": 16,
    "start_time": "2023-10-12T08:23:22.901Z"
   },
   {
    "duration": 30,
    "start_time": "2023-10-12T08:23:22.920Z"
   },
   {
    "duration": 29,
    "start_time": "2023-10-12T08:23:22.952Z"
   },
   {
    "duration": 14,
    "start_time": "2023-10-12T08:23:22.983Z"
   },
   {
    "duration": 22,
    "start_time": "2023-10-12T08:23:22.999Z"
   },
   {
    "duration": 28,
    "start_time": "2023-10-12T08:23:23.023Z"
   },
   {
    "duration": 13,
    "start_time": "2023-10-12T08:23:23.053Z"
   },
   {
    "duration": 18,
    "start_time": "2023-10-12T08:23:23.069Z"
   },
   {
    "duration": 8,
    "start_time": "2023-10-12T08:23:23.090Z"
   },
   {
    "duration": 29,
    "start_time": "2023-10-12T08:23:23.099Z"
   },
   {
    "duration": 6,
    "start_time": "2023-10-12T08:23:23.133Z"
   },
   {
    "duration": 28,
    "start_time": "2023-10-12T08:23:23.141Z"
   },
   {
    "duration": 32,
    "start_time": "2023-10-12T08:23:23.171Z"
   },
   {
    "duration": 8,
    "start_time": "2023-10-12T08:23:23.214Z"
   },
   {
    "duration": 20,
    "start_time": "2023-10-12T08:23:23.224Z"
   },
   {
    "duration": 26,
    "start_time": "2023-10-12T08:23:23.246Z"
   },
   {
    "duration": 18,
    "start_time": "2023-10-12T08:23:23.273Z"
   },
   {
    "duration": 24,
    "start_time": "2023-10-12T08:23:23.293Z"
   },
   {
    "duration": 7,
    "start_time": "2023-10-12T08:23:23.319Z"
   },
   {
    "duration": 41,
    "start_time": "2023-10-12T08:23:23.328Z"
   },
   {
    "duration": 35,
    "start_time": "2023-10-12T08:23:23.372Z"
   },
   {
    "duration": 26,
    "start_time": "2023-10-12T08:23:23.409Z"
   },
   {
    "duration": 204,
    "start_time": "2023-10-12T08:23:23.437Z"
   },
   {
    "duration": 151,
    "start_time": "2023-10-12T08:23:23.643Z"
   },
   {
    "duration": 293,
    "start_time": "2023-10-12T08:23:23.796Z"
   },
   {
    "duration": 22,
    "start_time": "2023-10-12T08:23:24.091Z"
   },
   {
    "duration": 245,
    "start_time": "2023-10-12T08:23:24.118Z"
   },
   {
    "duration": 10,
    "start_time": "2023-10-12T08:23:24.365Z"
   },
   {
    "duration": 253,
    "start_time": "2023-10-12T08:23:24.377Z"
   },
   {
    "duration": 16,
    "start_time": "2023-10-12T08:23:24.634Z"
   },
   {
    "duration": 34,
    "start_time": "2023-10-12T08:23:24.657Z"
   },
   {
    "duration": 22,
    "start_time": "2023-10-12T08:23:24.705Z"
   },
   {
    "duration": 29,
    "start_time": "2023-10-12T08:23:24.738Z"
   },
   {
    "duration": 4,
    "start_time": "2023-10-12T08:23:24.770Z"
   },
   {
    "duration": 47,
    "start_time": "2023-10-12T08:23:24.776Z"
   },
   {
    "duration": 4,
    "start_time": "2023-10-12T08:23:24.827Z"
   },
   {
    "duration": 17,
    "start_time": "2023-10-12T08:23:24.833Z"
   },
   {
    "duration": 178,
    "start_time": "2023-10-12T08:23:24.854Z"
   },
   {
    "duration": 149,
    "start_time": "2023-10-12T08:23:25.033Z"
   },
   {
    "duration": 74,
    "start_time": "2023-10-12T08:23:25.184Z"
   },
   {
    "duration": 17,
    "start_time": "2023-10-12T08:23:25.260Z"
   },
   {
    "duration": 42,
    "start_time": "2023-10-12T08:23:25.279Z"
   },
   {
    "duration": 21,
    "start_time": "2023-10-12T08:23:25.323Z"
   },
   {
    "duration": 12,
    "start_time": "2023-10-12T08:23:25.346Z"
   },
   {
    "duration": 17,
    "start_time": "2023-10-12T08:23:25.361Z"
   },
   {
    "duration": 2340,
    "start_time": "2023-10-12T08:23:25.380Z"
   },
   {
    "duration": 199,
    "start_time": "2023-10-12T08:23:27.722Z"
   },
   {
    "duration": 5,
    "start_time": "2023-10-12T08:25:07.967Z"
   },
   {
    "duration": 168,
    "start_time": "2023-10-12T08:30:18.779Z"
   },
   {
    "duration": 4,
    "start_time": "2023-10-12T08:31:11.180Z"
   },
   {
    "duration": 20,
    "start_time": "2023-10-12T08:32:38.328Z"
   },
   {
    "duration": 15,
    "start_time": "2023-10-12T08:33:09.831Z"
   },
   {
    "duration": 1290,
    "start_time": "2023-10-12T09:09:24.758Z"
   },
   {
    "duration": 83,
    "start_time": "2023-10-12T09:09:26.051Z"
   },
   {
    "duration": 21,
    "start_time": "2023-10-12T09:09:26.137Z"
   },
   {
    "duration": 18,
    "start_time": "2023-10-12T09:09:26.162Z"
   },
   {
    "duration": 64,
    "start_time": "2023-10-12T09:09:26.182Z"
   },
   {
    "duration": 40,
    "start_time": "2023-10-12T09:09:26.248Z"
   },
   {
    "duration": 36,
    "start_time": "2023-10-12T09:09:26.290Z"
   },
   {
    "duration": 56,
    "start_time": "2023-10-12T09:09:26.328Z"
   },
   {
    "duration": 50,
    "start_time": "2023-10-12T09:09:26.386Z"
   },
   {
    "duration": 66,
    "start_time": "2023-10-12T09:09:26.439Z"
   },
   {
    "duration": 75,
    "start_time": "2023-10-12T09:09:26.508Z"
   },
   {
    "duration": 30,
    "start_time": "2023-10-12T09:09:26.585Z"
   },
   {
    "duration": 24,
    "start_time": "2023-10-12T09:09:26.617Z"
   },
   {
    "duration": 23,
    "start_time": "2023-10-12T09:09:26.643Z"
   },
   {
    "duration": 50,
    "start_time": "2023-10-12T09:09:26.668Z"
   },
   {
    "duration": 50,
    "start_time": "2023-10-12T09:09:26.721Z"
   },
   {
    "duration": 47,
    "start_time": "2023-10-12T09:09:26.773Z"
   },
   {
    "duration": 26,
    "start_time": "2023-10-12T09:09:26.822Z"
   },
   {
    "duration": 31,
    "start_time": "2023-10-12T09:09:26.849Z"
   },
   {
    "duration": 25,
    "start_time": "2023-10-12T09:09:26.882Z"
   },
   {
    "duration": 71,
    "start_time": "2023-10-12T09:09:26.909Z"
   },
   {
    "duration": 76,
    "start_time": "2023-10-12T09:09:26.983Z"
   },
   {
    "duration": 72,
    "start_time": "2023-10-12T09:09:27.061Z"
   },
   {
    "duration": 286,
    "start_time": "2023-10-12T09:09:27.135Z"
   },
   {
    "duration": 65,
    "start_time": "2023-10-12T09:09:27.423Z"
   },
   {
    "duration": 214,
    "start_time": "2023-10-12T09:09:27.490Z"
   },
   {
    "duration": 153,
    "start_time": "2023-10-12T09:09:27.708Z"
   },
   {
    "duration": 320,
    "start_time": "2023-10-12T09:09:27.864Z"
   },
   {
    "duration": 23,
    "start_time": "2023-10-12T09:09:28.186Z"
   },
   {
    "duration": 266,
    "start_time": "2023-10-12T09:09:28.212Z"
   },
   {
    "duration": 30,
    "start_time": "2023-10-12T09:09:28.480Z"
   },
   {
    "duration": 247,
    "start_time": "2023-10-12T09:09:28.512Z"
   },
   {
    "duration": 9,
    "start_time": "2023-10-12T09:09:28.761Z"
   },
   {
    "duration": 74,
    "start_time": "2023-10-12T09:09:28.772Z"
   },
   {
    "duration": 21,
    "start_time": "2023-10-12T09:09:28.848Z"
   },
   {
    "duration": 57,
    "start_time": "2023-10-12T09:09:28.871Z"
   },
   {
    "duration": 6,
    "start_time": "2023-10-12T09:09:28.930Z"
   },
   {
    "duration": 61,
    "start_time": "2023-10-12T09:09:28.938Z"
   },
   {
    "duration": 18,
    "start_time": "2023-10-12T09:09:29.001Z"
   },
   {
    "duration": 20,
    "start_time": "2023-10-12T09:09:29.025Z"
   },
   {
    "duration": 168,
    "start_time": "2023-10-12T09:09:29.047Z"
   },
   {
    "duration": 164,
    "start_time": "2023-10-12T09:09:29.217Z"
   },
   {
    "duration": 92,
    "start_time": "2023-10-12T09:09:29.383Z"
   },
   {
    "duration": 33,
    "start_time": "2023-10-12T09:09:29.478Z"
   },
   {
    "duration": 50,
    "start_time": "2023-10-12T09:09:29.518Z"
   },
   {
    "duration": 54,
    "start_time": "2023-10-12T09:09:29.570Z"
   },
   {
    "duration": 42,
    "start_time": "2023-10-12T09:09:29.629Z"
   },
   {
    "duration": 52,
    "start_time": "2023-10-12T09:09:29.673Z"
   },
   {
    "duration": 2394,
    "start_time": "2023-10-12T09:09:29.727Z"
   },
   {
    "duration": 218,
    "start_time": "2023-10-12T09:09:32.123Z"
   },
   {
    "duration": 1235,
    "start_time": "2023-10-12T09:12:16.056Z"
   },
   {
    "duration": 75,
    "start_time": "2023-10-12T09:12:17.293Z"
   },
   {
    "duration": 32,
    "start_time": "2023-10-12T09:12:17.370Z"
   },
   {
    "duration": 19,
    "start_time": "2023-10-12T09:12:17.406Z"
   },
   {
    "duration": 24,
    "start_time": "2023-10-12T09:12:17.428Z"
   },
   {
    "duration": 44,
    "start_time": "2023-10-12T09:12:17.454Z"
   },
   {
    "duration": 45,
    "start_time": "2023-10-12T09:12:17.500Z"
   },
   {
    "duration": 72,
    "start_time": "2023-10-12T09:12:17.547Z"
   },
   {
    "duration": 9,
    "start_time": "2023-10-12T09:12:17.622Z"
   },
   {
    "duration": 10,
    "start_time": "2023-10-12T09:12:17.633Z"
   },
   {
    "duration": 15,
    "start_time": "2023-10-12T09:12:17.645Z"
   },
   {
    "duration": 18,
    "start_time": "2023-10-12T09:12:17.662Z"
   },
   {
    "duration": 21,
    "start_time": "2023-10-12T09:12:17.681Z"
   },
   {
    "duration": 16,
    "start_time": "2023-10-12T09:12:17.709Z"
   },
   {
    "duration": 13,
    "start_time": "2023-10-12T09:12:17.727Z"
   },
   {
    "duration": 11,
    "start_time": "2023-10-12T09:12:17.742Z"
   },
   {
    "duration": 25,
    "start_time": "2023-10-12T09:12:17.754Z"
   },
   {
    "duration": 7,
    "start_time": "2023-10-12T09:12:17.781Z"
   },
   {
    "duration": 31,
    "start_time": "2023-10-12T09:12:17.789Z"
   },
   {
    "duration": 16,
    "start_time": "2023-10-12T09:12:17.822Z"
   },
   {
    "duration": 17,
    "start_time": "2023-10-12T09:12:17.840Z"
   },
   {
    "duration": 15,
    "start_time": "2023-10-12T09:12:17.858Z"
   },
   {
    "duration": 19,
    "start_time": "2023-10-12T09:12:17.874Z"
   },
   {
    "duration": 22,
    "start_time": "2023-10-12T09:12:17.894Z"
   },
   {
    "duration": 23,
    "start_time": "2023-10-12T09:12:17.918Z"
   },
   {
    "duration": 177,
    "start_time": "2023-10-12T09:12:17.943Z"
   },
   {
    "duration": 148,
    "start_time": "2023-10-12T09:12:18.121Z"
   },
   {
    "duration": 294,
    "start_time": "2023-10-12T09:12:18.271Z"
   },
   {
    "duration": 11,
    "start_time": "2023-10-12T09:12:18.568Z"
   },
   {
    "duration": 235,
    "start_time": "2023-10-12T09:12:18.581Z"
   },
   {
    "duration": 9,
    "start_time": "2023-10-12T09:12:18.818Z"
   },
   {
    "duration": 204,
    "start_time": "2023-10-12T09:12:18.828Z"
   },
   {
    "duration": 8,
    "start_time": "2023-10-12T09:12:19.034Z"
   },
   {
    "duration": 32,
    "start_time": "2023-10-12T09:12:19.044Z"
   },
   {
    "duration": 34,
    "start_time": "2023-10-12T09:12:19.078Z"
   },
   {
    "duration": 21,
    "start_time": "2023-10-12T09:12:19.115Z"
   },
   {
    "duration": 4,
    "start_time": "2023-10-12T09:12:19.138Z"
   },
   {
    "duration": 108,
    "start_time": "2023-10-12T09:12:19.144Z"
   },
   {
    "duration": 46,
    "start_time": "2023-10-12T09:12:19.255Z"
   },
   {
    "duration": 32,
    "start_time": "2023-10-12T09:12:19.303Z"
   },
   {
    "duration": 174,
    "start_time": "2023-10-12T09:12:19.341Z"
   },
   {
    "duration": 137,
    "start_time": "2023-10-12T09:12:19.517Z"
   },
   {
    "duration": 74,
    "start_time": "2023-10-12T09:12:19.655Z"
   },
   {
    "duration": 15,
    "start_time": "2023-10-12T09:12:19.730Z"
   },
   {
    "duration": 41,
    "start_time": "2023-10-12T09:12:19.747Z"
   },
   {
    "duration": 28,
    "start_time": "2023-10-12T09:12:19.790Z"
   },
   {
    "duration": 36,
    "start_time": "2023-10-12T09:12:19.820Z"
   },
   {
    "duration": 61,
    "start_time": "2023-10-12T09:12:19.857Z"
   },
   {
    "duration": 2163,
    "start_time": "2023-10-12T09:12:19.920Z"
   },
   {
    "duration": 186,
    "start_time": "2023-10-12T09:12:22.085Z"
   },
   {
    "duration": 3,
    "start_time": "2023-10-12T09:21:30.095Z"
   },
   {
    "duration": 115,
    "start_time": "2023-10-12T09:25:33.987Z"
   },
   {
    "duration": 2158,
    "start_time": "2023-10-12T09:29:29.198Z"
   },
   {
    "duration": 2138,
    "start_time": "2023-10-12T09:29:53.542Z"
   },
   {
    "duration": 2120,
    "start_time": "2023-10-12T09:30:07.111Z"
   },
   {
    "duration": 2127,
    "start_time": "2023-10-12T09:30:15.511Z"
   },
   {
    "duration": 2260,
    "start_time": "2023-10-12T09:30:21.631Z"
   },
   {
    "duration": 2221,
    "start_time": "2023-10-12T09:30:36.369Z"
   },
   {
    "duration": 760,
    "start_time": "2023-10-12T09:30:49.480Z"
   },
   {
    "duration": 10122,
    "start_time": "2023-10-12T09:31:34.335Z"
   },
   {
    "duration": 5128,
    "start_time": "2023-10-12T09:31:56.409Z"
   },
   {
    "duration": 2197,
    "start_time": "2023-10-12T09:32:20.400Z"
   },
   {
    "duration": 2070,
    "start_time": "2023-10-12T09:32:55.450Z"
   },
   {
    "duration": 10,
    "start_time": "2023-10-12T09:42:17.820Z"
   },
   {
    "duration": 5,
    "start_time": "2023-10-12T09:48:07.381Z"
   },
   {
    "duration": 1249,
    "start_time": "2023-10-12T10:00:23.790Z"
   },
   {
    "duration": 80,
    "start_time": "2023-10-12T10:00:25.041Z"
   },
   {
    "duration": 209,
    "start_time": "2023-10-12T10:00:25.123Z"
   },
   {
    "duration": 75,
    "start_time": "2023-10-12T10:00:25.334Z"
   },
   {
    "duration": 81,
    "start_time": "2023-10-12T10:00:25.413Z"
   },
   {
    "duration": 77,
    "start_time": "2023-10-12T10:00:25.496Z"
   },
   {
    "duration": 71,
    "start_time": "2023-10-12T10:00:25.575Z"
   },
   {
    "duration": 92,
    "start_time": "2023-10-12T10:00:25.649Z"
   },
   {
    "duration": 137,
    "start_time": "2023-10-12T10:00:25.743Z"
   },
   {
    "duration": 87,
    "start_time": "2023-10-12T10:00:25.882Z"
   },
   {
    "duration": 27,
    "start_time": "2023-10-12T10:00:25.972Z"
   },
   {
    "duration": 95,
    "start_time": "2023-10-12T10:00:26.001Z"
   },
   {
    "duration": 70,
    "start_time": "2023-10-12T10:00:26.098Z"
   },
   {
    "duration": 42,
    "start_time": "2023-10-12T10:00:26.172Z"
   },
   {
    "duration": 59,
    "start_time": "2023-10-12T10:00:26.215Z"
   },
   {
    "duration": 54,
    "start_time": "2023-10-12T10:00:26.275Z"
   },
   {
    "duration": 55,
    "start_time": "2023-10-12T10:00:26.331Z"
   },
   {
    "duration": 47,
    "start_time": "2023-10-12T10:00:26.388Z"
   },
   {
    "duration": 72,
    "start_time": "2023-10-12T10:00:26.437Z"
   },
   {
    "duration": 96,
    "start_time": "2023-10-12T10:00:26.512Z"
   },
   {
    "duration": 26,
    "start_time": "2023-10-12T10:00:26.611Z"
   },
   {
    "duration": 26,
    "start_time": "2023-10-12T10:00:26.639Z"
   },
   {
    "duration": 48,
    "start_time": "2023-10-12T10:00:26.667Z"
   },
   {
    "duration": 33,
    "start_time": "2023-10-12T10:00:26.717Z"
   },
   {
    "duration": 115,
    "start_time": "2023-10-12T10:00:26.751Z"
   },
   {
    "duration": 300,
    "start_time": "2023-10-12T10:00:26.868Z"
   },
   {
    "duration": 173,
    "start_time": "2023-10-12T10:00:27.171Z"
   },
   {
    "duration": 477,
    "start_time": "2023-10-12T10:00:27.346Z"
   },
   {
    "duration": 8,
    "start_time": "2023-10-12T10:00:27.826Z"
   },
   {
    "duration": 517,
    "start_time": "2023-10-12T10:00:27.836Z"
   },
   {
    "duration": 193,
    "start_time": "2023-10-12T10:00:28.354Z"
   },
   {
    "duration": 278,
    "start_time": "2023-10-12T10:00:28.548Z"
   },
   {
    "duration": 9,
    "start_time": "2023-10-12T10:00:28.828Z"
   },
   {
    "duration": 220,
    "start_time": "2023-10-12T10:00:28.839Z"
   },
   {
    "duration": 161,
    "start_time": "2023-10-12T10:00:29.061Z"
   },
   {
    "duration": 212,
    "start_time": "2023-10-12T10:00:29.224Z"
   },
   {
    "duration": 220,
    "start_time": "2023-10-12T10:00:29.438Z"
   },
   {
    "duration": 75,
    "start_time": "2023-10-12T10:00:29.660Z"
   },
   {
    "duration": 66,
    "start_time": "2023-10-12T10:00:29.738Z"
   },
   {
    "duration": 32,
    "start_time": "2023-10-12T10:00:29.806Z"
   },
   {
    "duration": 221,
    "start_time": "2023-10-12T10:00:29.843Z"
   },
   {
    "duration": 176,
    "start_time": "2023-10-12T10:00:30.067Z"
   },
   {
    "duration": 732,
    "start_time": "2023-10-12T10:00:30.245Z"
   },
   {
    "duration": 324,
    "start_time": "2023-10-12T10:00:30.979Z"
   },
   {
    "duration": 170,
    "start_time": "2023-10-12T10:00:31.304Z"
   },
   {
    "duration": 289,
    "start_time": "2023-10-12T10:00:31.475Z"
   },
   {
    "duration": 191,
    "start_time": "2023-10-12T10:00:31.766Z"
   },
   {
    "duration": 303,
    "start_time": "2023-10-12T10:00:31.959Z"
   },
   {
    "duration": 2605,
    "start_time": "2023-10-12T10:00:32.265Z"
   },
   {
    "duration": 182,
    "start_time": "2023-10-12T10:00:34.872Z"
   },
   {
    "duration": 4,
    "start_time": "2023-10-12T10:02:52.682Z"
   },
   {
    "duration": 1997,
    "start_time": "2023-10-12T10:06:24.843Z"
   },
   {
    "duration": 2008,
    "start_time": "2023-10-12T10:06:53.755Z"
   },
   {
    "duration": 103,
    "start_time": "2023-10-12T10:08:19.548Z"
   },
   {
    "duration": 1983,
    "start_time": "2023-10-12T10:08:59.181Z"
   },
   {
    "duration": 2024,
    "start_time": "2023-10-12T10:09:14.660Z"
   },
   {
    "duration": 1321,
    "start_time": "2023-10-12T10:10:10.187Z"
   },
   {
    "duration": 78,
    "start_time": "2023-10-12T10:10:11.510Z"
   },
   {
    "duration": 15,
    "start_time": "2023-10-12T10:10:11.590Z"
   },
   {
    "duration": 50,
    "start_time": "2023-10-12T10:10:11.606Z"
   },
   {
    "duration": 32,
    "start_time": "2023-10-12T10:10:11.659Z"
   },
   {
    "duration": 18,
    "start_time": "2023-10-12T10:10:11.693Z"
   },
   {
    "duration": 21,
    "start_time": "2023-10-12T10:10:11.713Z"
   },
   {
    "duration": 36,
    "start_time": "2023-10-12T10:10:11.735Z"
   },
   {
    "duration": 31,
    "start_time": "2023-10-12T10:10:11.773Z"
   },
   {
    "duration": 16,
    "start_time": "2023-10-12T10:10:11.806Z"
   },
   {
    "duration": 31,
    "start_time": "2023-10-12T10:10:11.823Z"
   },
   {
    "duration": 64,
    "start_time": "2023-10-12T10:10:11.856Z"
   },
   {
    "duration": 44,
    "start_time": "2023-10-12T10:10:11.922Z"
   },
   {
    "duration": 19,
    "start_time": "2023-10-12T10:10:11.970Z"
   },
   {
    "duration": 20,
    "start_time": "2023-10-12T10:10:11.991Z"
   },
   {
    "duration": 43,
    "start_time": "2023-10-12T10:10:12.013Z"
   },
   {
    "duration": 27,
    "start_time": "2023-10-12T10:10:12.058Z"
   },
   {
    "duration": 53,
    "start_time": "2023-10-12T10:10:12.087Z"
   },
   {
    "duration": 48,
    "start_time": "2023-10-12T10:10:12.141Z"
   },
   {
    "duration": 19,
    "start_time": "2023-10-12T10:10:12.191Z"
   },
   {
    "duration": 6,
    "start_time": "2023-10-12T10:10:12.212Z"
   },
   {
    "duration": 12,
    "start_time": "2023-10-12T10:10:12.220Z"
   },
   {
    "duration": 23,
    "start_time": "2023-10-12T10:10:12.234Z"
   },
   {
    "duration": 12,
    "start_time": "2023-10-12T10:10:12.259Z"
   },
   {
    "duration": 40,
    "start_time": "2023-10-12T10:10:12.272Z"
   },
   {
    "duration": 172,
    "start_time": "2023-10-12T10:10:12.314Z"
   },
   {
    "duration": 155,
    "start_time": "2023-10-12T10:10:12.488Z"
   },
   {
    "duration": 407,
    "start_time": "2023-10-12T10:10:12.645Z"
   },
   {
    "duration": 9,
    "start_time": "2023-10-12T10:10:13.054Z"
   },
   {
    "duration": 488,
    "start_time": "2023-10-12T10:10:13.064Z"
   },
   {
    "duration": 9,
    "start_time": "2023-10-12T10:10:13.554Z"
   },
   {
    "duration": 217,
    "start_time": "2023-10-12T10:10:13.566Z"
   },
   {
    "duration": 17,
    "start_time": "2023-10-12T10:10:13.785Z"
   },
   {
    "duration": 85,
    "start_time": "2023-10-12T10:10:13.804Z"
   },
   {
    "duration": 33,
    "start_time": "2023-10-12T10:10:13.892Z"
   },
   {
    "duration": 127,
    "start_time": "2023-10-12T10:10:13.927Z"
   },
   {
    "duration": 92,
    "start_time": "2023-10-12T10:10:14.057Z"
   },
   {
    "duration": 317,
    "start_time": "2023-10-12T10:10:14.151Z"
   },
   {
    "duration": 268,
    "start_time": "2023-10-12T10:10:14.470Z"
   },
   {
    "duration": 222,
    "start_time": "2023-10-12T10:10:14.741Z"
   },
   {
    "duration": 492,
    "start_time": "2023-10-12T10:10:14.969Z"
   },
   {
    "duration": 155,
    "start_time": "2023-10-12T10:10:15.462Z"
   },
   {
    "duration": 58,
    "start_time": "2023-10-12T10:10:15.619Z"
   },
   {
    "duration": 113,
    "start_time": "2023-10-12T10:10:15.679Z"
   },
   {
    "duration": 104,
    "start_time": "2023-10-12T10:10:15.794Z"
   },
   {
    "duration": 145,
    "start_time": "2023-10-12T10:10:15.899Z"
   },
   {
    "duration": 49,
    "start_time": "2023-10-12T10:10:16.045Z"
   },
   {
    "duration": 148,
    "start_time": "2023-10-12T10:10:16.095Z"
   },
   {
    "duration": 2067,
    "start_time": "2023-10-12T10:10:16.246Z"
   },
   {
    "duration": 171,
    "start_time": "2023-10-12T10:10:18.314Z"
   },
   {
    "duration": 1257,
    "start_time": "2023-10-12T10:12:38.529Z"
   },
   {
    "duration": 68,
    "start_time": "2023-10-12T10:12:39.788Z"
   },
   {
    "duration": 13,
    "start_time": "2023-10-12T10:12:39.858Z"
   },
   {
    "duration": 32,
    "start_time": "2023-10-12T10:12:39.873Z"
   },
   {
    "duration": 42,
    "start_time": "2023-10-12T10:12:39.907Z"
   },
   {
    "duration": 23,
    "start_time": "2023-10-12T10:12:39.951Z"
   },
   {
    "duration": 33,
    "start_time": "2023-10-12T10:12:39.975Z"
   },
   {
    "duration": 40,
    "start_time": "2023-10-12T10:12:40.011Z"
   },
   {
    "duration": 42,
    "start_time": "2023-10-12T10:12:40.053Z"
   },
   {
    "duration": 65,
    "start_time": "2023-10-12T10:12:40.097Z"
   },
   {
    "duration": 50,
    "start_time": "2023-10-12T10:12:40.164Z"
   },
   {
    "duration": 16,
    "start_time": "2023-10-12T10:12:40.217Z"
   },
   {
    "duration": 16,
    "start_time": "2023-10-12T10:12:40.234Z"
   },
   {
    "duration": 10,
    "start_time": "2023-10-12T10:12:40.253Z"
   },
   {
    "duration": 47,
    "start_time": "2023-10-12T10:12:40.265Z"
   },
   {
    "duration": 20,
    "start_time": "2023-10-12T10:12:40.314Z"
   },
   {
    "duration": 16,
    "start_time": "2023-10-12T10:12:40.336Z"
   },
   {
    "duration": 11,
    "start_time": "2023-10-12T10:12:40.354Z"
   },
   {
    "duration": 23,
    "start_time": "2023-10-12T10:12:40.366Z"
   },
   {
    "duration": 13,
    "start_time": "2023-10-12T10:12:40.391Z"
   },
   {
    "duration": 21,
    "start_time": "2023-10-12T10:12:40.406Z"
   },
   {
    "duration": 21,
    "start_time": "2023-10-12T10:12:40.429Z"
   },
   {
    "duration": 33,
    "start_time": "2023-10-12T10:12:40.452Z"
   },
   {
    "duration": 30,
    "start_time": "2023-10-12T10:12:40.487Z"
   },
   {
    "duration": 26,
    "start_time": "2023-10-12T10:12:40.518Z"
   },
   {
    "duration": 202,
    "start_time": "2023-10-12T10:12:40.546Z"
   },
   {
    "duration": 145,
    "start_time": "2023-10-12T10:12:40.751Z"
   },
   {
    "duration": 272,
    "start_time": "2023-10-12T10:12:40.901Z"
   },
   {
    "duration": 9,
    "start_time": "2023-10-12T10:12:41.175Z"
   },
   {
    "duration": 206,
    "start_time": "2023-10-12T10:12:41.200Z"
   },
   {
    "duration": 10,
    "start_time": "2023-10-12T10:12:41.408Z"
   },
   {
    "duration": 212,
    "start_time": "2023-10-12T10:12:41.420Z"
   },
   {
    "duration": 9,
    "start_time": "2023-10-12T10:12:41.634Z"
   },
   {
    "duration": 122,
    "start_time": "2023-10-12T10:12:41.645Z"
   },
   {
    "duration": 141,
    "start_time": "2023-10-12T10:12:41.769Z"
   },
   {
    "duration": 137,
    "start_time": "2023-10-12T10:12:41.912Z"
   },
   {
    "duration": 61,
    "start_time": "2023-10-12T10:12:42.051Z"
   },
   {
    "duration": 80,
    "start_time": "2023-10-12T10:12:42.114Z"
   },
   {
    "duration": 25,
    "start_time": "2023-10-12T10:12:42.196Z"
   },
   {
    "duration": 14,
    "start_time": "2023-10-12T10:12:42.223Z"
   },
   {
    "duration": 129,
    "start_time": "2023-10-12T10:12:42.241Z"
   },
   {
    "duration": 138,
    "start_time": "2023-10-12T10:12:42.371Z"
   },
   {
    "duration": 63,
    "start_time": "2023-10-12T10:12:42.511Z"
   },
   {
    "duration": 35,
    "start_time": "2023-10-12T10:12:42.576Z"
   },
   {
    "duration": 17,
    "start_time": "2023-10-12T10:12:42.612Z"
   },
   {
    "duration": 25,
    "start_time": "2023-10-12T10:12:42.631Z"
   },
   {
    "duration": 8,
    "start_time": "2023-10-12T10:12:42.658Z"
   },
   {
    "duration": 18,
    "start_time": "2023-10-12T10:12:42.667Z"
   },
   {
    "duration": 2162,
    "start_time": "2023-10-12T10:12:42.687Z"
   },
   {
    "duration": 182,
    "start_time": "2023-10-12T10:12:44.851Z"
   },
   {
    "duration": 1313,
    "start_time": "2023-10-12T10:13:07.182Z"
   },
   {
    "duration": 70,
    "start_time": "2023-10-12T10:13:08.497Z"
   },
   {
    "duration": 15,
    "start_time": "2023-10-12T10:13:08.569Z"
   },
   {
    "duration": 30,
    "start_time": "2023-10-12T10:13:08.586Z"
   },
   {
    "duration": 44,
    "start_time": "2023-10-12T10:13:08.619Z"
   },
   {
    "duration": 36,
    "start_time": "2023-10-12T10:13:08.665Z"
   },
   {
    "duration": 21,
    "start_time": "2023-10-12T10:13:08.703Z"
   },
   {
    "duration": 23,
    "start_time": "2023-10-12T10:13:08.726Z"
   },
   {
    "duration": 30,
    "start_time": "2023-10-12T10:13:08.751Z"
   },
   {
    "duration": 19,
    "start_time": "2023-10-12T10:13:08.783Z"
   },
   {
    "duration": 56,
    "start_time": "2023-10-12T10:13:08.804Z"
   },
   {
    "duration": 25,
    "start_time": "2023-10-12T10:13:08.862Z"
   },
   {
    "duration": 46,
    "start_time": "2023-10-12T10:13:08.889Z"
   },
   {
    "duration": 23,
    "start_time": "2023-10-12T10:13:08.939Z"
   },
   {
    "duration": 141,
    "start_time": "2023-10-12T10:13:08.963Z"
   },
   {
    "duration": 32,
    "start_time": "2023-10-12T10:13:09.106Z"
   },
   {
    "duration": 48,
    "start_time": "2023-10-12T10:13:09.140Z"
   },
   {
    "duration": 20,
    "start_time": "2023-10-12T10:13:09.190Z"
   },
   {
    "duration": 67,
    "start_time": "2023-10-12T10:13:09.212Z"
   },
   {
    "duration": 23,
    "start_time": "2023-10-12T10:13:09.281Z"
   },
   {
    "duration": 39,
    "start_time": "2023-10-12T10:13:09.306Z"
   },
   {
    "duration": 17,
    "start_time": "2023-10-12T10:13:09.347Z"
   },
   {
    "duration": 49,
    "start_time": "2023-10-12T10:13:09.366Z"
   },
   {
    "duration": 20,
    "start_time": "2023-10-12T10:13:09.417Z"
   },
   {
    "duration": 29,
    "start_time": "2023-10-12T10:13:09.439Z"
   },
   {
    "duration": 213,
    "start_time": "2023-10-12T10:13:09.470Z"
   },
   {
    "duration": 147,
    "start_time": "2023-10-12T10:13:09.685Z"
   },
   {
    "duration": 275,
    "start_time": "2023-10-12T10:13:09.834Z"
   },
   {
    "duration": 8,
    "start_time": "2023-10-12T10:13:10.110Z"
   },
   {
    "duration": 219,
    "start_time": "2023-10-12T10:13:10.119Z"
   },
   {
    "duration": 8,
    "start_time": "2023-10-12T10:13:10.340Z"
   },
   {
    "duration": 197,
    "start_time": "2023-10-12T10:13:10.350Z"
   },
   {
    "duration": 9,
    "start_time": "2023-10-12T10:13:10.550Z"
   },
   {
    "duration": 43,
    "start_time": "2023-10-12T10:13:10.561Z"
   },
   {
    "duration": 23,
    "start_time": "2023-10-12T10:13:10.606Z"
   },
   {
    "duration": 25,
    "start_time": "2023-10-12T10:13:10.631Z"
   },
   {
    "duration": 4,
    "start_time": "2023-10-12T10:13:10.658Z"
   },
   {
    "duration": 26,
    "start_time": "2023-10-12T10:13:10.664Z"
   },
   {
    "duration": 44,
    "start_time": "2023-10-12T10:13:10.702Z"
   },
   {
    "duration": 38,
    "start_time": "2023-10-12T10:13:10.749Z"
   },
   {
    "duration": 133,
    "start_time": "2023-10-12T10:13:10.791Z"
   },
   {
    "duration": 146,
    "start_time": "2023-10-12T10:13:10.926Z"
   },
   {
    "duration": 66,
    "start_time": "2023-10-12T10:13:11.074Z"
   },
   {
    "duration": 16,
    "start_time": "2023-10-12T10:13:11.142Z"
   },
   {
    "duration": 28,
    "start_time": "2023-10-12T10:13:11.160Z"
   },
   {
    "duration": 124,
    "start_time": "2023-10-12T10:13:11.202Z"
   },
   {
    "duration": 60,
    "start_time": "2023-10-12T10:13:11.328Z"
   },
   {
    "duration": 83,
    "start_time": "2023-10-12T10:13:11.390Z"
   },
   {
    "duration": 2128,
    "start_time": "2023-10-12T10:13:11.475Z"
   },
   {
    "duration": 177,
    "start_time": "2023-10-12T10:13:13.605Z"
   },
   {
    "duration": 1263,
    "start_time": "2023-10-12T18:29:59.929Z"
   },
   {
    "duration": 198,
    "start_time": "2023-10-12T18:30:01.194Z"
   },
   {
    "duration": 552,
    "start_time": "2023-10-12T18:30:01.394Z"
   },
   {
    "duration": 192,
    "start_time": "2023-10-12T18:30:01.948Z"
   },
   {
    "duration": 208,
    "start_time": "2023-10-12T18:30:02.142Z"
   },
   {
    "duration": 174,
    "start_time": "2023-10-12T18:30:02.352Z"
   },
   {
    "duration": 112,
    "start_time": "2023-10-12T18:30:02.528Z"
   },
   {
    "duration": 58,
    "start_time": "2023-10-12T18:30:02.641Z"
   },
   {
    "duration": 71,
    "start_time": "2023-10-12T18:30:02.701Z"
   },
   {
    "duration": 84,
    "start_time": "2023-10-12T18:30:02.775Z"
   },
   {
    "duration": 56,
    "start_time": "2023-10-12T18:30:02.861Z"
   },
   {
    "duration": 71,
    "start_time": "2023-10-12T18:30:02.918Z"
   },
   {
    "duration": 33,
    "start_time": "2023-10-12T18:30:02.991Z"
   },
   {
    "duration": 46,
    "start_time": "2023-10-12T18:30:03.026Z"
   },
   {
    "duration": 63,
    "start_time": "2023-10-12T18:30:03.074Z"
   },
   {
    "duration": 37,
    "start_time": "2023-10-12T18:30:03.138Z"
   },
   {
    "duration": 167,
    "start_time": "2023-10-12T18:30:03.177Z"
   },
   {
    "duration": 62,
    "start_time": "2023-10-12T18:30:03.346Z"
   },
   {
    "duration": 24,
    "start_time": "2023-10-12T18:30:03.412Z"
   },
   {
    "duration": 50,
    "start_time": "2023-10-12T18:30:03.438Z"
   },
   {
    "duration": 32,
    "start_time": "2023-10-12T18:30:03.490Z"
   },
   {
    "duration": 30,
    "start_time": "2023-10-12T18:30:03.524Z"
   },
   {
    "duration": 54,
    "start_time": "2023-10-12T18:30:03.556Z"
   },
   {
    "duration": 42,
    "start_time": "2023-10-12T18:30:03.612Z"
   },
   {
    "duration": 66,
    "start_time": "2023-10-12T18:30:03.656Z"
   },
   {
    "duration": 190,
    "start_time": "2023-10-12T18:30:03.724Z"
   },
   {
    "duration": 136,
    "start_time": "2023-10-12T18:30:03.916Z"
   },
   {
    "duration": 287,
    "start_time": "2023-10-12T18:30:04.055Z"
   },
   {
    "duration": 8,
    "start_time": "2023-10-12T18:30:04.344Z"
   },
   {
    "duration": 222,
    "start_time": "2023-10-12T18:30:04.354Z"
   },
   {
    "duration": 8,
    "start_time": "2023-10-12T18:30:04.578Z"
   },
   {
    "duration": 207,
    "start_time": "2023-10-12T18:30:04.602Z"
   },
   {
    "duration": 10,
    "start_time": "2023-10-12T18:30:04.811Z"
   },
   {
    "duration": 56,
    "start_time": "2023-10-12T18:30:04.823Z"
   },
   {
    "duration": 23,
    "start_time": "2023-10-12T18:30:04.883Z"
   },
   {
    "duration": 50,
    "start_time": "2023-10-12T18:30:04.908Z"
   },
   {
    "duration": 34,
    "start_time": "2023-10-12T18:30:04.960Z"
   },
   {
    "duration": 106,
    "start_time": "2023-10-12T18:30:04.996Z"
   },
   {
    "duration": 113,
    "start_time": "2023-10-12T18:30:05.104Z"
   },
   {
    "duration": 72,
    "start_time": "2023-10-12T18:30:05.218Z"
   },
   {
    "duration": 186,
    "start_time": "2023-10-12T18:30:05.292Z"
   },
   {
    "duration": 144,
    "start_time": "2023-10-12T18:30:05.480Z"
   },
   {
    "duration": 88,
    "start_time": "2023-10-12T18:30:05.626Z"
   },
   {
    "duration": 138,
    "start_time": "2023-10-12T18:30:05.716Z"
   },
   {
    "duration": 206,
    "start_time": "2023-10-12T18:30:05.855Z"
   },
   {
    "duration": 98,
    "start_time": "2023-10-12T18:30:06.062Z"
   },
   {
    "duration": 57,
    "start_time": "2023-10-12T18:30:06.162Z"
   },
   {
    "duration": 104,
    "start_time": "2023-10-12T18:30:06.221Z"
   },
   {
    "duration": 1970,
    "start_time": "2023-10-12T18:30:06.327Z"
   },
   {
    "duration": 179,
    "start_time": "2023-10-12T18:30:08.300Z"
   },
   {
    "duration": 108,
    "start_time": "2023-10-12T19:19:44.770Z"
   },
   {
    "duration": 7,
    "start_time": "2023-10-12T19:19:54.231Z"
   },
   {
    "duration": 10,
    "start_time": "2023-10-12T19:36:52.982Z"
   },
   {
    "duration": 16,
    "start_time": "2023-10-12T19:37:02.694Z"
   },
   {
    "duration": 6,
    "start_time": "2023-10-12T19:37:32.365Z"
   },
   {
    "duration": 7,
    "start_time": "2023-10-12T19:38:12.295Z"
   },
   {
    "duration": 7,
    "start_time": "2023-10-12T19:40:14.040Z"
   },
   {
    "duration": 1240,
    "start_time": "2023-10-12T19:40:46.986Z"
   },
   {
    "duration": 72,
    "start_time": "2023-10-12T19:40:48.228Z"
   },
   {
    "duration": 20,
    "start_time": "2023-10-12T19:40:48.302Z"
   },
   {
    "duration": 18,
    "start_time": "2023-10-12T19:40:48.325Z"
   },
   {
    "duration": 22,
    "start_time": "2023-10-12T19:40:48.344Z"
   },
   {
    "duration": 13,
    "start_time": "2023-10-12T19:40:48.369Z"
   },
   {
    "duration": 23,
    "start_time": "2023-10-12T19:40:48.385Z"
   },
   {
    "duration": 20,
    "start_time": "2023-10-12T19:40:48.410Z"
   },
   {
    "duration": 15,
    "start_time": "2023-10-12T19:40:48.432Z"
   },
   {
    "duration": 16,
    "start_time": "2023-10-12T19:40:48.450Z"
   },
   {
    "duration": 14,
    "start_time": "2023-10-12T19:40:48.468Z"
   },
   {
    "duration": 23,
    "start_time": "2023-10-12T19:40:48.484Z"
   },
   {
    "duration": 12,
    "start_time": "2023-10-12T19:40:48.509Z"
   },
   {
    "duration": 5,
    "start_time": "2023-10-12T19:40:48.522Z"
   },
   {
    "duration": 11,
    "start_time": "2023-10-12T19:40:48.529Z"
   },
   {
    "duration": 17,
    "start_time": "2023-10-12T19:40:48.541Z"
   },
   {
    "duration": 41,
    "start_time": "2023-10-12T19:40:48.563Z"
   },
   {
    "duration": 12,
    "start_time": "2023-10-12T19:40:48.606Z"
   },
   {
    "duration": 16,
    "start_time": "2023-10-12T19:40:48.621Z"
   },
   {
    "duration": 8,
    "start_time": "2023-10-12T19:40:48.640Z"
   },
   {
    "duration": 18,
    "start_time": "2023-10-12T19:40:48.650Z"
   },
   {
    "duration": 17,
    "start_time": "2023-10-12T19:40:48.670Z"
   },
   {
    "duration": 21,
    "start_time": "2023-10-12T19:40:48.689Z"
   },
   {
    "duration": 20,
    "start_time": "2023-10-12T19:40:48.712Z"
   },
   {
    "duration": 29,
    "start_time": "2023-10-12T19:40:48.735Z"
   },
   {
    "duration": 165,
    "start_time": "2023-10-12T19:40:48.765Z"
   },
   {
    "duration": 138,
    "start_time": "2023-10-12T19:40:48.931Z"
   },
   {
    "duration": 278,
    "start_time": "2023-10-12T19:40:49.073Z"
   },
   {
    "duration": 9,
    "start_time": "2023-10-12T19:40:49.352Z"
   },
   {
    "duration": 202,
    "start_time": "2023-10-12T19:40:49.363Z"
   },
   {
    "duration": 10,
    "start_time": "2023-10-12T19:40:49.567Z"
   },
   {
    "duration": 205,
    "start_time": "2023-10-12T19:40:49.578Z"
   },
   {
    "duration": 19,
    "start_time": "2023-10-12T19:40:49.785Z"
   },
   {
    "duration": 26,
    "start_time": "2023-10-12T19:40:49.805Z"
   },
   {
    "duration": 14,
    "start_time": "2023-10-12T19:40:49.832Z"
   },
   {
    "duration": 55,
    "start_time": "2023-10-12T19:40:49.848Z"
   },
   {
    "duration": 4,
    "start_time": "2023-10-12T19:40:49.904Z"
   },
   {
    "duration": 21,
    "start_time": "2023-10-12T19:40:49.910Z"
   },
   {
    "duration": 10,
    "start_time": "2023-10-12T19:40:49.933Z"
   },
   {
    "duration": 15,
    "start_time": "2023-10-12T19:40:49.945Z"
   },
   {
    "duration": 197,
    "start_time": "2023-10-12T19:40:49.962Z"
   },
   {
    "duration": 141,
    "start_time": "2023-10-12T19:40:50.161Z"
   },
   {
    "duration": 120,
    "start_time": "2023-10-12T19:40:50.303Z"
   },
   {
    "duration": 0,
    "start_time": "2023-10-12T19:40:50.425Z"
   },
   {
    "duration": 0,
    "start_time": "2023-10-12T19:40:50.426Z"
   },
   {
    "duration": 0,
    "start_time": "2023-10-12T19:40:50.427Z"
   },
   {
    "duration": 0,
    "start_time": "2023-10-12T19:40:50.428Z"
   },
   {
    "duration": 0,
    "start_time": "2023-10-12T19:40:50.429Z"
   },
   {
    "duration": 0,
    "start_time": "2023-10-12T19:40:50.430Z"
   },
   {
    "duration": 0,
    "start_time": "2023-10-12T19:40:50.431Z"
   },
   {
    "duration": 0,
    "start_time": "2023-10-12T19:40:50.432Z"
   },
   {
    "duration": 0,
    "start_time": "2023-10-12T19:40:50.433Z"
   },
   {
    "duration": 9,
    "start_time": "2023-10-12T19:41:13.051Z"
   },
   {
    "duration": 9,
    "start_time": "2023-10-12T19:41:17.590Z"
   },
   {
    "duration": 1388,
    "start_time": "2023-10-12T19:41:50.264Z"
   },
   {
    "duration": 4,
    "start_time": "2023-10-12T19:42:17.122Z"
   },
   {
    "duration": 64,
    "start_time": "2023-10-12T19:42:18.705Z"
   },
   {
    "duration": 16,
    "start_time": "2023-10-12T19:42:21.672Z"
   },
   {
    "duration": 17,
    "start_time": "2023-10-12T19:42:24.920Z"
   },
   {
    "duration": 13,
    "start_time": "2023-10-12T19:42:26.519Z"
   },
   {
    "duration": 6,
    "start_time": "2023-10-12T19:42:34.271Z"
   },
   {
    "duration": 8,
    "start_time": "2023-10-12T19:43:10.279Z"
   },
   {
    "duration": 1236,
    "start_time": "2023-10-12T19:44:18.957Z"
   },
   {
    "duration": 77,
    "start_time": "2023-10-12T19:44:20.195Z"
   },
   {
    "duration": 12,
    "start_time": "2023-10-12T19:44:20.274Z"
   },
   {
    "duration": 37,
    "start_time": "2023-10-12T19:44:20.288Z"
   },
   {
    "duration": 17,
    "start_time": "2023-10-12T19:44:20.327Z"
   },
   {
    "duration": 25,
    "start_time": "2023-10-12T19:44:20.345Z"
   },
   {
    "duration": 16,
    "start_time": "2023-10-12T19:44:20.372Z"
   },
   {
    "duration": 32,
    "start_time": "2023-10-12T19:44:20.390Z"
   },
   {
    "duration": 22,
    "start_time": "2023-10-12T19:44:20.424Z"
   },
   {
    "duration": 25,
    "start_time": "2023-10-12T19:44:20.449Z"
   },
   {
    "duration": 51,
    "start_time": "2023-10-12T19:44:20.475Z"
   },
   {
    "duration": 8,
    "start_time": "2023-10-12T19:44:20.529Z"
   },
   {
    "duration": 7,
    "start_time": "2023-10-12T19:44:20.540Z"
   },
   {
    "duration": 21,
    "start_time": "2023-10-12T19:44:20.549Z"
   },
   {
    "duration": 29,
    "start_time": "2023-10-12T19:44:20.572Z"
   },
   {
    "duration": 17,
    "start_time": "2023-10-12T19:44:20.603Z"
   },
   {
    "duration": 9,
    "start_time": "2023-10-12T19:44:20.622Z"
   },
   {
    "duration": 9,
    "start_time": "2023-10-12T19:44:20.633Z"
   },
   {
    "duration": 12,
    "start_time": "2023-10-12T19:44:20.643Z"
   },
   {
    "duration": 14,
    "start_time": "2023-10-12T19:44:20.657Z"
   },
   {
    "duration": 30,
    "start_time": "2023-10-12T19:44:20.673Z"
   },
   {
    "duration": 16,
    "start_time": "2023-10-12T19:44:20.706Z"
   },
   {
    "duration": 10,
    "start_time": "2023-10-12T19:44:20.724Z"
   },
   {
    "duration": 25,
    "start_time": "2023-10-12T19:44:20.736Z"
   },
   {
    "duration": 25,
    "start_time": "2023-10-12T19:44:20.763Z"
   },
   {
    "duration": 190,
    "start_time": "2023-10-12T19:44:20.791Z"
   },
   {
    "duration": 156,
    "start_time": "2023-10-12T19:44:20.983Z"
   },
   {
    "duration": 300,
    "start_time": "2023-10-12T19:44:21.144Z"
   },
   {
    "duration": 9,
    "start_time": "2023-10-12T19:44:21.447Z"
   },
   {
    "duration": 243,
    "start_time": "2023-10-12T19:44:21.458Z"
   },
   {
    "duration": 13,
    "start_time": "2023-10-12T19:44:21.704Z"
   },
   {
    "duration": 227,
    "start_time": "2023-10-12T19:44:21.719Z"
   },
   {
    "duration": 9,
    "start_time": "2023-10-12T19:44:21.948Z"
   },
   {
    "duration": 31,
    "start_time": "2023-10-12T19:44:21.959Z"
   },
   {
    "duration": 34,
    "start_time": "2023-10-12T19:44:21.992Z"
   },
   {
    "duration": 32,
    "start_time": "2023-10-12T19:44:22.028Z"
   },
   {
    "duration": 4,
    "start_time": "2023-10-12T19:44:22.062Z"
   },
   {
    "duration": 27,
    "start_time": "2023-10-12T19:44:22.067Z"
   },
   {
    "duration": 25,
    "start_time": "2023-10-12T19:44:22.095Z"
   },
   {
    "duration": 26,
    "start_time": "2023-10-12T19:44:22.121Z"
   },
   {
    "duration": 200,
    "start_time": "2023-10-12T19:44:22.149Z"
   },
   {
    "duration": 155,
    "start_time": "2023-10-12T19:44:22.350Z"
   },
   {
    "duration": 73,
    "start_time": "2023-10-12T19:44:22.507Z"
   },
   {
    "duration": 36,
    "start_time": "2023-10-12T19:44:22.582Z"
   },
   {
    "duration": 13,
    "start_time": "2023-10-12T19:44:22.619Z"
   },
   {
    "duration": 9,
    "start_time": "2023-10-12T19:44:22.634Z"
   },
   {
    "duration": 18,
    "start_time": "2023-10-12T19:44:22.645Z"
   },
   {
    "duration": 22,
    "start_time": "2023-10-12T19:44:22.665Z"
   },
   {
    "duration": 2469,
    "start_time": "2023-10-12T19:44:22.689Z"
   },
   {
    "duration": 209,
    "start_time": "2023-10-12T19:44:25.161Z"
   },
   {
    "duration": 1191,
    "start_time": "2023-10-12T19:58:45.590Z"
   },
   {
    "duration": 70,
    "start_time": "2023-10-12T19:58:46.783Z"
   },
   {
    "duration": 14,
    "start_time": "2023-10-12T19:58:46.855Z"
   },
   {
    "duration": 31,
    "start_time": "2023-10-12T19:58:46.871Z"
   },
   {
    "duration": 36,
    "start_time": "2023-10-12T19:58:46.904Z"
   },
   {
    "duration": 39,
    "start_time": "2023-10-12T19:58:46.941Z"
   },
   {
    "duration": 32,
    "start_time": "2023-10-12T19:58:46.982Z"
   },
   {
    "duration": 18,
    "start_time": "2023-10-12T19:58:47.015Z"
   },
   {
    "duration": 25,
    "start_time": "2023-10-12T19:58:47.035Z"
   },
   {
    "duration": 19,
    "start_time": "2023-10-12T19:58:47.064Z"
   },
   {
    "duration": 30,
    "start_time": "2023-10-12T19:58:47.085Z"
   },
   {
    "duration": 28,
    "start_time": "2023-10-12T19:58:47.116Z"
   },
   {
    "duration": 15,
    "start_time": "2023-10-12T19:58:47.146Z"
   },
   {
    "duration": 19,
    "start_time": "2023-10-12T19:58:47.164Z"
   },
   {
    "duration": 25,
    "start_time": "2023-10-12T19:58:47.186Z"
   },
   {
    "duration": 12,
    "start_time": "2023-10-12T19:58:47.214Z"
   },
   {
    "duration": 17,
    "start_time": "2023-10-12T19:58:47.228Z"
   },
   {
    "duration": 15,
    "start_time": "2023-10-12T19:58:47.247Z"
   },
   {
    "duration": 9,
    "start_time": "2023-10-12T19:58:47.264Z"
   },
   {
    "duration": 30,
    "start_time": "2023-10-12T19:58:47.275Z"
   },
   {
    "duration": 8,
    "start_time": "2023-10-12T19:58:47.308Z"
   },
   {
    "duration": 18,
    "start_time": "2023-10-12T19:58:47.318Z"
   },
   {
    "duration": 26,
    "start_time": "2023-10-12T19:58:47.338Z"
   },
   {
    "duration": 38,
    "start_time": "2023-10-12T19:58:47.366Z"
   },
   {
    "duration": 20,
    "start_time": "2023-10-12T19:58:47.406Z"
   },
   {
    "duration": 206,
    "start_time": "2023-10-12T19:58:47.427Z"
   },
   {
    "duration": 131,
    "start_time": "2023-10-12T19:58:47.635Z"
   },
   {
    "duration": 281,
    "start_time": "2023-10-12T19:58:47.772Z"
   },
   {
    "duration": 8,
    "start_time": "2023-10-12T19:58:48.055Z"
   },
   {
    "duration": 216,
    "start_time": "2023-10-12T19:58:48.065Z"
   },
   {
    "duration": 19,
    "start_time": "2023-10-12T19:58:48.283Z"
   },
   {
    "duration": 197,
    "start_time": "2023-10-12T19:58:48.304Z"
   },
   {
    "duration": 10,
    "start_time": "2023-10-12T19:58:48.503Z"
   },
   {
    "duration": 28,
    "start_time": "2023-10-12T19:58:48.515Z"
   },
   {
    "duration": 22,
    "start_time": "2023-10-12T19:58:48.545Z"
   },
   {
    "duration": 51,
    "start_time": "2023-10-12T19:58:48.568Z"
   },
   {
    "duration": 18,
    "start_time": "2023-10-12T19:58:48.621Z"
   },
   {
    "duration": 39,
    "start_time": "2023-10-12T19:58:48.642Z"
   },
   {
    "duration": 5,
    "start_time": "2023-10-12T19:58:48.683Z"
   },
   {
    "duration": 12,
    "start_time": "2023-10-12T19:58:48.691Z"
   },
   {
    "duration": 138,
    "start_time": "2023-10-12T19:58:48.705Z"
   },
   {
    "duration": 133,
    "start_time": "2023-10-12T19:58:48.845Z"
   },
   {
    "duration": 3,
    "start_time": "2023-10-12T19:58:48.980Z"
   },
   {
    "duration": 70,
    "start_time": "2023-10-12T19:58:48.985Z"
   },
   {
    "duration": 16,
    "start_time": "2023-10-12T19:58:49.057Z"
   },
   {
    "duration": 32,
    "start_time": "2023-10-12T19:58:49.074Z"
   },
   {
    "duration": 7,
    "start_time": "2023-10-12T19:58:49.108Z"
   },
   {
    "duration": 16,
    "start_time": "2023-10-12T19:58:49.117Z"
   },
   {
    "duration": 17,
    "start_time": "2023-10-12T19:58:49.135Z"
   },
   {
    "duration": 2538,
    "start_time": "2023-10-12T19:58:49.154Z"
   },
   {
    "duration": 178,
    "start_time": "2023-10-12T19:58:51.694Z"
   },
   {
    "duration": 1257,
    "start_time": "2023-10-12T20:12:59.213Z"
   },
   {
    "duration": 74,
    "start_time": "2023-10-12T20:13:00.472Z"
   },
   {
    "duration": 19,
    "start_time": "2023-10-12T20:13:00.549Z"
   },
   {
    "duration": 85,
    "start_time": "2023-10-12T20:13:00.570Z"
   },
   {
    "duration": 93,
    "start_time": "2023-10-12T20:13:00.658Z"
   },
   {
    "duration": 128,
    "start_time": "2023-10-12T20:13:00.753Z"
   },
   {
    "duration": 94,
    "start_time": "2023-10-12T20:13:00.883Z"
   },
   {
    "duration": 90,
    "start_time": "2023-10-12T20:13:00.979Z"
   },
   {
    "duration": 42,
    "start_time": "2023-10-12T20:13:01.071Z"
   },
   {
    "duration": 53,
    "start_time": "2023-10-12T20:13:01.115Z"
   },
   {
    "duration": 57,
    "start_time": "2023-10-12T20:13:01.170Z"
   },
   {
    "duration": 130,
    "start_time": "2023-10-12T20:13:01.229Z"
   },
   {
    "duration": 76,
    "start_time": "2023-10-12T20:13:01.361Z"
   },
   {
    "duration": 33,
    "start_time": "2023-10-12T20:13:01.442Z"
   },
   {
    "duration": 44,
    "start_time": "2023-10-12T20:13:01.477Z"
   },
   {
    "duration": 77,
    "start_time": "2023-10-12T20:13:01.523Z"
   },
   {
    "duration": 52,
    "start_time": "2023-10-12T20:13:01.602Z"
   },
   {
    "duration": 61,
    "start_time": "2023-10-12T20:13:01.655Z"
   },
   {
    "duration": 107,
    "start_time": "2023-10-12T20:13:01.718Z"
   },
   {
    "duration": 74,
    "start_time": "2023-10-12T20:13:01.827Z"
   },
   {
    "duration": 30,
    "start_time": "2023-10-12T20:13:01.903Z"
   },
   {
    "duration": 98,
    "start_time": "2023-10-12T20:13:01.935Z"
   },
   {
    "duration": 48,
    "start_time": "2023-10-12T20:13:02.035Z"
   },
   {
    "duration": 54,
    "start_time": "2023-10-12T20:13:02.085Z"
   },
   {
    "duration": 58,
    "start_time": "2023-10-12T20:13:02.142Z"
   },
   {
    "duration": 273,
    "start_time": "2023-10-12T20:13:02.203Z"
   },
   {
    "duration": 198,
    "start_time": "2023-10-12T20:13:02.479Z"
   },
   {
    "duration": 297,
    "start_time": "2023-10-12T20:13:02.680Z"
   },
   {
    "duration": 10,
    "start_time": "2023-10-12T20:13:02.979Z"
   },
   {
    "duration": 312,
    "start_time": "2023-10-12T20:13:03.002Z"
   },
   {
    "duration": 10,
    "start_time": "2023-10-12T20:13:03.316Z"
   },
   {
    "duration": 333,
    "start_time": "2023-10-12T20:13:03.328Z"
   },
   {
    "duration": 9,
    "start_time": "2023-10-12T20:13:03.663Z"
   },
   {
    "duration": 42,
    "start_time": "2023-10-12T20:13:03.674Z"
   },
   {
    "duration": 21,
    "start_time": "2023-10-12T20:13:03.718Z"
   },
   {
    "duration": 26,
    "start_time": "2023-10-12T20:13:03.741Z"
   },
   {
    "duration": 21,
    "start_time": "2023-10-12T20:13:03.770Z"
   },
   {
    "duration": 26,
    "start_time": "2023-10-12T20:13:03.792Z"
   },
   {
    "duration": 5,
    "start_time": "2023-10-12T20:13:03.820Z"
   },
   {
    "duration": 6,
    "start_time": "2023-10-12T20:13:03.828Z"
   },
   {
    "duration": 181,
    "start_time": "2023-10-12T20:13:03.840Z"
   },
   {
    "duration": 146,
    "start_time": "2023-10-12T20:13:04.023Z"
   },
   {
    "duration": 74,
    "start_time": "2023-10-12T20:13:04.171Z"
   },
   {
    "duration": 17,
    "start_time": "2023-10-12T20:13:04.248Z"
   },
   {
    "duration": 25,
    "start_time": "2023-10-12T20:13:04.266Z"
   },
   {
    "duration": 28,
    "start_time": "2023-10-12T20:13:04.301Z"
   },
   {
    "duration": 82,
    "start_time": "2023-10-12T20:13:04.332Z"
   },
   {
    "duration": 47,
    "start_time": "2023-10-12T20:13:04.416Z"
   },
   {
    "duration": 2193,
    "start_time": "2023-10-12T20:13:04.465Z"
   },
   {
    "duration": 186,
    "start_time": "2023-10-12T20:13:06.660Z"
   },
   {
    "duration": 2040,
    "start_time": "2023-10-12T20:35:29.574Z"
   },
   {
    "duration": 2003,
    "start_time": "2023-10-12T20:42:13.945Z"
   },
   {
    "duration": 1184,
    "start_time": "2023-10-12T20:57:37.788Z"
   },
   {
    "duration": 67,
    "start_time": "2023-10-12T20:57:38.974Z"
   },
   {
    "duration": 12,
    "start_time": "2023-10-12T20:57:39.043Z"
   },
   {
    "duration": 30,
    "start_time": "2023-10-12T20:57:39.057Z"
   },
   {
    "duration": 19,
    "start_time": "2023-10-12T20:57:39.088Z"
   },
   {
    "duration": 12,
    "start_time": "2023-10-12T20:57:39.108Z"
   },
   {
    "duration": 7,
    "start_time": "2023-10-12T20:57:39.122Z"
   },
   {
    "duration": 20,
    "start_time": "2023-10-12T20:57:39.131Z"
   },
   {
    "duration": 31,
    "start_time": "2023-10-12T20:57:39.153Z"
   },
   {
    "duration": 12,
    "start_time": "2023-10-12T20:57:39.187Z"
   },
   {
    "duration": 23,
    "start_time": "2023-10-12T20:57:39.201Z"
   },
   {
    "duration": 5,
    "start_time": "2023-10-12T20:57:39.226Z"
   },
   {
    "duration": 37,
    "start_time": "2023-10-12T20:57:39.233Z"
   },
   {
    "duration": 4,
    "start_time": "2023-10-12T20:57:39.272Z"
   },
   {
    "duration": 13,
    "start_time": "2023-10-12T20:57:39.278Z"
   },
   {
    "duration": 20,
    "start_time": "2023-10-12T20:57:39.292Z"
   },
   {
    "duration": 27,
    "start_time": "2023-10-12T20:57:39.314Z"
   },
   {
    "duration": 22,
    "start_time": "2023-10-12T20:57:39.343Z"
   },
   {
    "duration": 38,
    "start_time": "2023-10-12T20:57:39.367Z"
   },
   {
    "duration": 13,
    "start_time": "2023-10-12T20:57:39.407Z"
   },
   {
    "duration": 18,
    "start_time": "2023-10-12T20:57:39.421Z"
   },
   {
    "duration": 14,
    "start_time": "2023-10-12T20:57:39.441Z"
   },
   {
    "duration": 17,
    "start_time": "2023-10-12T20:57:39.456Z"
   },
   {
    "duration": 20,
    "start_time": "2023-10-12T20:57:39.475Z"
   },
   {
    "duration": 9,
    "start_time": "2023-10-12T20:57:39.497Z"
   },
   {
    "duration": 170,
    "start_time": "2023-10-12T20:57:39.507Z"
   },
   {
    "duration": 126,
    "start_time": "2023-10-12T20:57:39.678Z"
   },
   {
    "duration": 260,
    "start_time": "2023-10-12T20:57:39.807Z"
   },
   {
    "duration": 8,
    "start_time": "2023-10-12T20:57:40.069Z"
   },
   {
    "duration": 202,
    "start_time": "2023-10-12T20:57:40.079Z"
   },
   {
    "duration": 8,
    "start_time": "2023-10-12T20:57:40.283Z"
   },
   {
    "duration": 175,
    "start_time": "2023-10-12T20:57:40.301Z"
   },
   {
    "duration": 8,
    "start_time": "2023-10-12T20:57:40.478Z"
   },
   {
    "duration": 37,
    "start_time": "2023-10-12T20:57:40.488Z"
   },
   {
    "duration": 14,
    "start_time": "2023-10-12T20:57:40.526Z"
   },
   {
    "duration": 19,
    "start_time": "2023-10-12T20:57:40.542Z"
   },
   {
    "duration": 3,
    "start_time": "2023-10-12T20:57:40.563Z"
   },
   {
    "duration": 44,
    "start_time": "2023-10-12T20:57:40.568Z"
   },
   {
    "duration": 6,
    "start_time": "2023-10-12T20:57:40.614Z"
   },
   {
    "duration": 7,
    "start_time": "2023-10-12T20:57:40.622Z"
   },
   {
    "duration": 143,
    "start_time": "2023-10-12T20:57:40.630Z"
   },
   {
    "duration": 127,
    "start_time": "2023-10-12T20:57:40.775Z"
   },
   {
    "duration": 55,
    "start_time": "2023-10-12T20:57:40.903Z"
   },
   {
    "duration": 14,
    "start_time": "2023-10-12T20:57:40.960Z"
   },
   {
    "duration": 77,
    "start_time": "2023-10-12T20:57:40.975Z"
   },
   {
    "duration": 34,
    "start_time": "2023-10-12T20:57:41.054Z"
   },
   {
    "duration": 41,
    "start_time": "2023-10-12T20:57:41.090Z"
   },
   {
    "duration": 99,
    "start_time": "2023-10-12T20:57:41.133Z"
   },
   {
    "duration": 1931,
    "start_time": "2023-10-12T20:57:41.233Z"
   },
   {
    "duration": 161,
    "start_time": "2023-10-12T20:57:43.166Z"
   },
   {
    "duration": 49,
    "start_time": "2023-10-12T22:25:10.362Z"
   },
   {
    "duration": 1273,
    "start_time": "2023-10-12T22:25:19.355Z"
   },
   {
    "duration": 190,
    "start_time": "2023-10-12T22:25:20.629Z"
   },
   {
    "duration": 13,
    "start_time": "2023-10-12T22:25:20.822Z"
   },
   {
    "duration": 44,
    "start_time": "2023-10-12T22:25:20.836Z"
   },
   {
    "duration": 18,
    "start_time": "2023-10-12T22:25:20.882Z"
   },
   {
    "duration": 32,
    "start_time": "2023-10-12T22:25:20.901Z"
   },
   {
    "duration": 14,
    "start_time": "2023-10-12T22:25:20.935Z"
   },
   {
    "duration": 28,
    "start_time": "2023-10-12T22:25:20.953Z"
   },
   {
    "duration": 40,
    "start_time": "2023-10-12T22:25:20.983Z"
   },
   {
    "duration": 22,
    "start_time": "2023-10-12T22:25:21.025Z"
   },
   {
    "duration": 40,
    "start_time": "2023-10-12T22:25:21.048Z"
   },
   {
    "duration": 20,
    "start_time": "2023-10-12T22:25:21.089Z"
   },
   {
    "duration": 21,
    "start_time": "2023-10-12T22:25:21.110Z"
   },
   {
    "duration": 9,
    "start_time": "2023-10-12T22:25:21.132Z"
   },
   {
    "duration": 27,
    "start_time": "2023-10-12T22:25:21.142Z"
   },
   {
    "duration": 20,
    "start_time": "2023-10-12T22:25:21.171Z"
   },
   {
    "duration": 11,
    "start_time": "2023-10-12T22:25:21.193Z"
   },
   {
    "duration": 21,
    "start_time": "2023-10-12T22:25:21.206Z"
   },
   {
    "duration": 6,
    "start_time": "2023-10-12T22:25:21.228Z"
   },
   {
    "duration": 8,
    "start_time": "2023-10-12T22:25:21.235Z"
   },
   {
    "duration": 5,
    "start_time": "2023-10-12T22:25:21.244Z"
   },
   {
    "duration": 8,
    "start_time": "2023-10-12T22:25:21.251Z"
   },
   {
    "duration": 25,
    "start_time": "2023-10-12T22:25:21.262Z"
   },
   {
    "duration": 34,
    "start_time": "2023-10-12T22:25:21.288Z"
   },
   {
    "duration": 9,
    "start_time": "2023-10-12T22:25:21.324Z"
   },
   {
    "duration": 148,
    "start_time": "2023-10-12T22:25:21.334Z"
   },
   {
    "duration": 6,
    "start_time": "2023-10-12T22:25:21.483Z"
   },
   {
    "duration": 124,
    "start_time": "2023-10-12T22:25:21.490Z"
   },
   {
    "duration": 253,
    "start_time": "2023-10-12T22:25:21.616Z"
   },
   {
    "duration": 7,
    "start_time": "2023-10-12T22:25:21.871Z"
   },
   {
    "duration": 199,
    "start_time": "2023-10-12T22:25:21.880Z"
   },
   {
    "duration": 8,
    "start_time": "2023-10-12T22:25:22.081Z"
   },
   {
    "duration": 188,
    "start_time": "2023-10-12T22:25:22.091Z"
   },
   {
    "duration": 10,
    "start_time": "2023-10-12T22:25:22.281Z"
   },
   {
    "duration": 36,
    "start_time": "2023-10-12T22:25:22.292Z"
   },
   {
    "duration": 23,
    "start_time": "2023-10-12T22:25:22.329Z"
   },
   {
    "duration": 29,
    "start_time": "2023-10-12T22:25:22.353Z"
   },
   {
    "duration": 3,
    "start_time": "2023-10-12T22:25:22.384Z"
   },
   {
    "duration": 32,
    "start_time": "2023-10-12T22:25:22.389Z"
   },
   {
    "duration": 4,
    "start_time": "2023-10-12T22:25:22.422Z"
   },
   {
    "duration": 11,
    "start_time": "2023-10-12T22:25:22.428Z"
   },
   {
    "duration": 137,
    "start_time": "2023-10-12T22:25:22.441Z"
   },
   {
    "duration": 139,
    "start_time": "2023-10-12T22:25:22.579Z"
   },
   {
    "duration": 60,
    "start_time": "2023-10-12T22:25:22.720Z"
   },
   {
    "duration": 35,
    "start_time": "2023-10-12T22:25:22.782Z"
   },
   {
    "duration": 14,
    "start_time": "2023-10-12T22:25:22.819Z"
   },
   {
    "duration": 22,
    "start_time": "2023-10-12T22:25:22.834Z"
   },
   {
    "duration": 19,
    "start_time": "2023-10-12T22:25:22.858Z"
   },
   {
    "duration": 34,
    "start_time": "2023-10-12T22:25:22.878Z"
   },
   {
    "duration": 1935,
    "start_time": "2023-10-12T22:25:22.914Z"
   },
   {
    "duration": 157,
    "start_time": "2023-10-12T22:25:24.851Z"
   },
   {
    "duration": 6,
    "start_time": "2023-10-12T22:26:22.874Z"
   },
   {
    "duration": 6,
    "start_time": "2023-10-12T22:26:31.626Z"
   },
   {
    "duration": 127,
    "start_time": "2023-10-12T22:32:17.775Z"
   },
   {
    "duration": 204,
    "start_time": "2023-10-12T22:34:38.209Z"
   },
   {
    "duration": 138,
    "start_time": "2023-10-12T22:36:00.021Z"
   },
   {
    "duration": 136,
    "start_time": "2023-10-12T22:38:35.022Z"
   },
   {
    "duration": 15,
    "start_time": "2023-10-12T23:12:08.405Z"
   },
   {
    "duration": 8,
    "start_time": "2023-10-12T23:12:19.531Z"
   },
   {
    "duration": 8,
    "start_time": "2023-10-12T23:12:24.477Z"
   },
   {
    "duration": 9,
    "start_time": "2023-10-12T23:12:51.757Z"
   },
   {
    "duration": 9,
    "start_time": "2023-10-12T23:13:40.229Z"
   },
   {
    "duration": 8,
    "start_time": "2023-10-12T23:13:48.918Z"
   },
   {
    "duration": 9,
    "start_time": "2023-10-12T23:13:53.214Z"
   },
   {
    "duration": 4,
    "start_time": "2023-10-12T23:14:01.519Z"
   },
   {
    "duration": 141,
    "start_time": "2023-10-12T23:19:50.122Z"
   },
   {
    "duration": 127,
    "start_time": "2023-10-12T23:20:06.082Z"
   },
   {
    "duration": 139,
    "start_time": "2023-10-12T23:20:27.763Z"
   },
   {
    "duration": 135,
    "start_time": "2023-10-12T23:21:11.099Z"
   },
   {
    "duration": 348,
    "start_time": "2023-10-12T23:21:16.803Z"
   },
   {
    "duration": 145,
    "start_time": "2023-10-12T23:21:21.106Z"
   },
   {
    "duration": 123,
    "start_time": "2023-10-12T23:21:25.747Z"
   },
   {
    "duration": 25,
    "start_time": "2023-10-12T23:21:50.806Z"
   },
   {
    "duration": 24584,
    "start_time": "2023-10-12T23:22:29.958Z"
   },
   {
    "duration": 77,
    "start_time": "2023-10-12T23:23:15.277Z"
   },
   {
    "duration": 121,
    "start_time": "2023-10-12T23:23:34.539Z"
   },
   {
    "duration": 61,
    "start_time": "2023-10-12T23:31:15.464Z"
   },
   {
    "duration": 152,
    "start_time": "2023-10-12T23:32:02.426Z"
   },
   {
    "duration": 17,
    "start_time": "2023-10-12T23:36:16.285Z"
   },
   {
    "duration": 161,
    "start_time": "2023-10-12T23:36:45.790Z"
   },
   {
    "duration": 4,
    "start_time": "2023-10-12T23:37:58.573Z"
   },
   {
    "duration": 4,
    "start_time": "2023-10-12T23:38:01.989Z"
   },
   {
    "duration": 594,
    "start_time": "2023-10-12T23:39:00.494Z"
   },
   {
    "duration": 170,
    "start_time": "2023-10-12T23:47:20.427Z"
   },
   {
    "duration": 146,
    "start_time": "2023-10-12T23:51:49.030Z"
   },
   {
    "duration": 153,
    "start_time": "2023-10-12T23:52:00.015Z"
   },
   {
    "duration": 144,
    "start_time": "2023-10-12T23:52:13.087Z"
   },
   {
    "duration": 133,
    "start_time": "2023-10-12T23:53:31.511Z"
   },
   {
    "duration": 152,
    "start_time": "2023-10-12T23:53:38.671Z"
   },
   {
    "duration": 154,
    "start_time": "2023-10-12T23:54:30.248Z"
   },
   {
    "duration": 159,
    "start_time": "2023-10-12T23:55:19.913Z"
   },
   {
    "duration": 135,
    "start_time": "2023-10-12T23:56:16.873Z"
   },
   {
    "duration": 134,
    "start_time": "2023-10-12T23:56:19.450Z"
   },
   {
    "duration": 226,
    "start_time": "2023-10-12T23:56:55.313Z"
   },
   {
    "duration": 129,
    "start_time": "2023-10-12T23:56:57.977Z"
   },
   {
    "duration": 161,
    "start_time": "2023-10-12T23:57:10.996Z"
   },
   {
    "duration": 132,
    "start_time": "2023-10-12T23:57:26.394Z"
   },
   {
    "duration": 179,
    "start_time": "2023-10-12T23:57:47.283Z"
   },
   {
    "duration": 158,
    "start_time": "2023-10-12T23:57:56.290Z"
   },
   {
    "duration": 138,
    "start_time": "2023-10-12T23:58:59.625Z"
   },
   {
    "duration": 158,
    "start_time": "2023-10-12T23:59:02.682Z"
   },
   {
    "duration": 150,
    "start_time": "2023-10-12T23:59:12.570Z"
   },
   {
    "duration": 155,
    "start_time": "2023-10-12T23:59:21.819Z"
   },
   {
    "duration": 168,
    "start_time": "2023-10-12T23:59:37.786Z"
   },
   {
    "duration": 241,
    "start_time": "2023-10-12T23:59:43.972Z"
   },
   {
    "duration": 166,
    "start_time": "2023-10-12T23:59:51.403Z"
   },
   {
    "duration": 170,
    "start_time": "2023-10-12T23:59:57.740Z"
   },
   {
    "duration": 162,
    "start_time": "2023-10-13T00:02:07.438Z"
   },
   {
    "duration": 3,
    "start_time": "2023-10-13T00:08:15.226Z"
   },
   {
    "duration": 93,
    "start_time": "2023-10-13T00:08:32.876Z"
   },
   {
    "duration": 141,
    "start_time": "2023-10-13T00:08:46.250Z"
   },
   {
    "duration": 76,
    "start_time": "2023-10-13T00:09:02.169Z"
   },
   {
    "duration": 69,
    "start_time": "2023-10-13T00:09:47.331Z"
   },
   {
    "duration": 62,
    "start_time": "2023-10-13T00:10:10.479Z"
   },
   {
    "duration": 68,
    "start_time": "2023-10-13T00:10:21.322Z"
   },
   {
    "duration": 68,
    "start_time": "2023-10-13T00:10:25.025Z"
   },
   {
    "duration": 72,
    "start_time": "2023-10-13T00:10:41.434Z"
   },
   {
    "duration": 82,
    "start_time": "2023-10-13T00:10:46.051Z"
   },
   {
    "duration": 73,
    "start_time": "2023-10-13T00:10:51.243Z"
   },
   {
    "duration": 149,
    "start_time": "2023-10-13T00:13:40.566Z"
   },
   {
    "duration": 78,
    "start_time": "2023-10-13T00:14:22.333Z"
   },
   {
    "duration": 75,
    "start_time": "2023-10-13T00:14:34.396Z"
   },
   {
    "duration": 157,
    "start_time": "2023-10-13T00:14:59.789Z"
   },
   {
    "duration": 73,
    "start_time": "2023-10-13T00:16:10.947Z"
   },
   {
    "duration": 81,
    "start_time": "2023-10-13T00:16:57.319Z"
   },
   {
    "duration": 82,
    "start_time": "2023-10-13T00:17:57.775Z"
   },
   {
    "duration": 80,
    "start_time": "2023-10-13T00:18:45.359Z"
   },
   {
    "duration": 77,
    "start_time": "2023-10-13T00:23:33.835Z"
   },
   {
    "duration": 82,
    "start_time": "2023-10-13T00:23:48.931Z"
   },
   {
    "duration": 76,
    "start_time": "2023-10-13T00:23:55.666Z"
   },
   {
    "duration": 80,
    "start_time": "2023-10-13T00:24:38.932Z"
   },
   {
    "duration": 76,
    "start_time": "2023-10-13T00:24:54.294Z"
   },
   {
    "duration": 74,
    "start_time": "2023-10-13T00:24:59.516Z"
   },
   {
    "duration": 80,
    "start_time": "2023-10-13T00:25:27.213Z"
   },
   {
    "duration": 76,
    "start_time": "2023-10-13T00:25:35.228Z"
   },
   {
    "duration": 76,
    "start_time": "2023-10-13T00:26:44.725Z"
   },
   {
    "duration": 82,
    "start_time": "2023-10-13T00:28:20.078Z"
   },
   {
    "duration": 107,
    "start_time": "2023-10-13T00:28:26.294Z"
   },
   {
    "duration": 82,
    "start_time": "2023-10-13T00:28:34.141Z"
   },
   {
    "duration": 77,
    "start_time": "2023-10-13T00:28:39.854Z"
   },
   {
    "duration": 80,
    "start_time": "2023-10-13T00:28:52.926Z"
   },
   {
    "duration": 1408,
    "start_time": "2023-10-13T08:50:52.051Z"
   },
   {
    "duration": 262,
    "start_time": "2023-10-13T08:50:53.461Z"
   },
   {
    "duration": 14,
    "start_time": "2023-10-13T08:50:53.725Z"
   },
   {
    "duration": 16,
    "start_time": "2023-10-13T08:50:53.742Z"
   },
   {
    "duration": 24,
    "start_time": "2023-10-13T08:50:53.759Z"
   },
   {
    "duration": 28,
    "start_time": "2023-10-13T08:50:53.785Z"
   },
   {
    "duration": 90,
    "start_time": "2023-10-13T08:50:53.815Z"
   },
   {
    "duration": 24,
    "start_time": "2023-10-13T08:50:53.907Z"
   },
   {
    "duration": 41,
    "start_time": "2023-10-13T08:50:53.932Z"
   },
   {
    "duration": 12,
    "start_time": "2023-10-13T08:50:53.975Z"
   },
   {
    "duration": 146,
    "start_time": "2023-10-13T08:50:53.988Z"
   },
   {
    "duration": 31,
    "start_time": "2023-10-13T08:50:54.136Z"
   },
   {
    "duration": 64,
    "start_time": "2023-10-13T08:50:54.169Z"
   },
   {
    "duration": 9,
    "start_time": "2023-10-13T08:50:54.234Z"
   },
   {
    "duration": 15,
    "start_time": "2023-10-13T08:50:54.244Z"
   },
   {
    "duration": 18,
    "start_time": "2023-10-13T08:50:54.260Z"
   },
   {
    "duration": 14,
    "start_time": "2023-10-13T08:50:54.280Z"
   },
   {
    "duration": 16,
    "start_time": "2023-10-13T08:50:54.296Z"
   },
   {
    "duration": 30,
    "start_time": "2023-10-13T08:50:54.314Z"
   },
   {
    "duration": 36,
    "start_time": "2023-10-13T08:50:54.346Z"
   },
   {
    "duration": 22,
    "start_time": "2023-10-13T08:50:54.384Z"
   },
   {
    "duration": 22,
    "start_time": "2023-10-13T08:50:54.408Z"
   },
   {
    "duration": 15,
    "start_time": "2023-10-13T08:50:54.431Z"
   },
   {
    "duration": 26,
    "start_time": "2023-10-13T08:50:54.448Z"
   },
   {
    "duration": 35,
    "start_time": "2023-10-13T08:50:54.477Z"
   },
   {
    "duration": 273,
    "start_time": "2023-10-13T08:50:54.515Z"
   },
   {
    "duration": 91,
    "start_time": "2023-10-13T08:50:54.790Z"
   },
   {
    "duration": 276,
    "start_time": "2023-10-13T08:50:54.885Z"
   },
   {
    "duration": 10,
    "start_time": "2023-10-13T08:50:55.163Z"
   },
   {
    "duration": 391,
    "start_time": "2023-10-13T08:50:55.175Z"
   },
   {
    "duration": 9,
    "start_time": "2023-10-13T08:50:55.568Z"
   },
   {
    "duration": 194,
    "start_time": "2023-10-13T08:50:55.578Z"
   },
   {
    "duration": 10,
    "start_time": "2023-10-13T08:50:55.774Z"
   },
   {
    "duration": 53,
    "start_time": "2023-10-13T08:50:55.786Z"
   },
   {
    "duration": 31,
    "start_time": "2023-10-13T08:50:55.841Z"
   },
   {
    "duration": 20,
    "start_time": "2023-10-13T08:50:55.874Z"
   },
   {
    "duration": 32,
    "start_time": "2023-10-13T08:50:55.896Z"
   },
   {
    "duration": 34,
    "start_time": "2023-10-13T08:50:55.930Z"
   },
   {
    "duration": 20,
    "start_time": "2023-10-13T08:50:55.966Z"
   },
   {
    "duration": 25,
    "start_time": "2023-10-13T08:50:55.988Z"
   },
   {
    "duration": 130,
    "start_time": "2023-10-13T08:50:56.014Z"
   },
   {
    "duration": 135,
    "start_time": "2023-10-13T08:50:56.146Z"
   },
   {
    "duration": 132,
    "start_time": "2023-10-13T08:50:56.283Z"
   },
   {
    "duration": 15,
    "start_time": "2023-10-13T08:50:56.417Z"
   },
   {
    "duration": 13,
    "start_time": "2023-10-13T08:50:56.445Z"
   },
   {
    "duration": 18,
    "start_time": "2023-10-13T08:50:56.461Z"
   },
   {
    "duration": 18,
    "start_time": "2023-10-13T08:50:56.481Z"
   },
   {
    "duration": 19,
    "start_time": "2023-10-13T08:50:56.502Z"
   },
   {
    "duration": 2162,
    "start_time": "2023-10-13T08:50:56.523Z"
   },
   {
    "duration": 360,
    "start_time": "2023-10-13T08:50:58.687Z"
   },
   {
    "duration": 156,
    "start_time": "2023-10-13T08:51:15.945Z"
   },
   {
    "duration": 182,
    "start_time": "2023-10-13T08:51:21.850Z"
   },
   {
    "duration": 100,
    "start_time": "2023-10-13T08:52:27.812Z"
   },
   {
    "duration": 78,
    "start_time": "2023-10-13T08:53:23.332Z"
   },
   {
    "duration": 1228,
    "start_time": "2023-10-13T08:53:37.518Z"
   },
   {
    "duration": 85,
    "start_time": "2023-10-13T08:53:38.748Z"
   },
   {
    "duration": 12,
    "start_time": "2023-10-13T08:53:38.834Z"
   },
   {
    "duration": 12,
    "start_time": "2023-10-13T08:53:38.848Z"
   },
   {
    "duration": 25,
    "start_time": "2023-10-13T08:53:38.862Z"
   },
   {
    "duration": 39,
    "start_time": "2023-10-13T08:53:38.889Z"
   },
   {
    "duration": 31,
    "start_time": "2023-10-13T08:53:38.929Z"
   },
   {
    "duration": 21,
    "start_time": "2023-10-13T08:53:38.962Z"
   },
   {
    "duration": 25,
    "start_time": "2023-10-13T08:53:38.984Z"
   },
   {
    "duration": 24,
    "start_time": "2023-10-13T08:53:39.011Z"
   },
   {
    "duration": 19,
    "start_time": "2023-10-13T08:53:39.037Z"
   },
   {
    "duration": 18,
    "start_time": "2023-10-13T08:53:39.058Z"
   },
   {
    "duration": 12,
    "start_time": "2023-10-13T08:53:39.078Z"
   },
   {
    "duration": 15,
    "start_time": "2023-10-13T08:53:39.093Z"
   },
   {
    "duration": 17,
    "start_time": "2023-10-13T08:53:39.109Z"
   },
   {
    "duration": 13,
    "start_time": "2023-10-13T08:53:39.127Z"
   },
   {
    "duration": 24,
    "start_time": "2023-10-13T08:53:39.142Z"
   },
   {
    "duration": 18,
    "start_time": "2023-10-13T08:53:39.167Z"
   },
   {
    "duration": 34,
    "start_time": "2023-10-13T08:53:39.187Z"
   },
   {
    "duration": 31,
    "start_time": "2023-10-13T08:53:39.222Z"
   },
   {
    "duration": 12,
    "start_time": "2023-10-13T08:53:39.255Z"
   },
   {
    "duration": 11,
    "start_time": "2023-10-13T08:53:39.269Z"
   },
   {
    "duration": 14,
    "start_time": "2023-10-13T08:53:39.282Z"
   },
   {
    "duration": 32,
    "start_time": "2023-10-13T08:53:39.298Z"
   },
   {
    "duration": 9,
    "start_time": "2023-10-13T08:53:39.332Z"
   },
   {
    "duration": 207,
    "start_time": "2023-10-13T08:53:39.343Z"
   },
   {
    "duration": 80,
    "start_time": "2023-10-13T08:53:39.552Z"
   },
   {
    "duration": 255,
    "start_time": "2023-10-13T08:53:39.634Z"
   },
   {
    "duration": 7,
    "start_time": "2023-10-13T08:53:39.891Z"
   },
   {
    "duration": 170,
    "start_time": "2023-10-13T08:53:39.900Z"
   },
   {
    "duration": 9,
    "start_time": "2023-10-13T08:53:40.072Z"
   },
   {
    "duration": 173,
    "start_time": "2023-10-13T08:53:40.082Z"
   },
   {
    "duration": 8,
    "start_time": "2023-10-13T08:53:40.256Z"
   },
   {
    "duration": 24,
    "start_time": "2023-10-13T08:53:40.266Z"
   },
   {
    "duration": 13,
    "start_time": "2023-10-13T08:53:40.291Z"
   },
   {
    "duration": 38,
    "start_time": "2023-10-13T08:53:40.306Z"
   },
   {
    "duration": 3,
    "start_time": "2023-10-13T08:53:40.346Z"
   },
   {
    "duration": 18,
    "start_time": "2023-10-13T08:53:40.351Z"
   },
   {
    "duration": 4,
    "start_time": "2023-10-13T08:53:40.370Z"
   },
   {
    "duration": 8,
    "start_time": "2023-10-13T08:53:40.375Z"
   },
   {
    "duration": 134,
    "start_time": "2023-10-13T08:53:40.387Z"
   },
   {
    "duration": 131,
    "start_time": "2023-10-13T08:53:40.523Z"
   },
   {
    "duration": 131,
    "start_time": "2023-10-13T08:53:40.655Z"
   },
   {
    "duration": 13,
    "start_time": "2023-10-13T08:53:40.787Z"
   },
   {
    "duration": 39,
    "start_time": "2023-10-13T08:53:40.801Z"
   },
   {
    "duration": 37,
    "start_time": "2023-10-13T08:53:40.842Z"
   },
   {
    "duration": 21,
    "start_time": "2023-10-13T08:53:40.880Z"
   },
   {
    "duration": 66,
    "start_time": "2023-10-13T08:53:40.903Z"
   },
   {
    "duration": 2767,
    "start_time": "2023-10-13T08:53:40.971Z"
   },
   {
    "duration": 177,
    "start_time": "2023-10-13T08:53:43.740Z"
   },
   {
    "duration": 104,
    "start_time": "2023-10-13T08:57:00.541Z"
   },
   {
    "duration": 5,
    "start_time": "2023-10-13T08:57:04.533Z"
   },
   {
    "duration": 129,
    "start_time": "2023-10-13T08:59:04.326Z"
   },
   {
    "duration": 4,
    "start_time": "2023-10-13T08:59:08.925Z"
   },
   {
    "duration": 3,
    "start_time": "2023-10-13T08:59:15.895Z"
   },
   {
    "duration": 3,
    "start_time": "2023-10-13T08:59:28.296Z"
   },
   {
    "duration": 3,
    "start_time": "2023-10-13T09:01:18.105Z"
   },
   {
    "duration": 5,
    "start_time": "2023-10-13T09:01:30.322Z"
   },
   {
    "duration": 4,
    "start_time": "2023-10-13T09:01:34.816Z"
   },
   {
    "duration": 3,
    "start_time": "2023-10-13T09:03:47.502Z"
   },
   {
    "duration": 10,
    "start_time": "2023-10-13T09:07:19.298Z"
   },
   {
    "duration": 9,
    "start_time": "2023-10-13T09:08:29.797Z"
   },
   {
    "duration": 135,
    "start_time": "2023-10-13T09:08:45.300Z"
   },
   {
    "duration": 157,
    "start_time": "2023-10-13T09:28:57.061Z"
   },
   {
    "duration": 150,
    "start_time": "2023-10-13T09:29:06.114Z"
   },
   {
    "duration": 158,
    "start_time": "2023-10-13T09:29:10.585Z"
   },
   {
    "duration": 265,
    "start_time": "2023-10-13T09:30:08.035Z"
   },
   {
    "duration": 619,
    "start_time": "2023-10-13T09:31:18.325Z"
   },
   {
    "duration": 243,
    "start_time": "2023-10-13T09:31:27.152Z"
   },
   {
    "duration": 143,
    "start_time": "2023-10-13T09:31:34.885Z"
   },
   {
    "duration": 177,
    "start_time": "2023-10-13T09:33:10.212Z"
   },
   {
    "duration": 177,
    "start_time": "2023-10-13T09:33:34.181Z"
   },
   {
    "duration": 184,
    "start_time": "2023-10-13T09:33:42.236Z"
   },
   {
    "duration": 178,
    "start_time": "2023-10-13T09:33:49.509Z"
   },
   {
    "duration": 249,
    "start_time": "2023-10-13T09:33:52.790Z"
   },
   {
    "duration": 190,
    "start_time": "2023-10-13T09:34:01.982Z"
   },
   {
    "duration": 50,
    "start_time": "2023-10-13T13:01:03.059Z"
   },
   {
    "duration": 1501,
    "start_time": "2023-10-13T13:01:10.229Z"
   },
   {
    "duration": 319,
    "start_time": "2023-10-13T13:01:11.734Z"
   },
   {
    "duration": 14,
    "start_time": "2023-10-13T13:01:12.055Z"
   },
   {
    "duration": 58,
    "start_time": "2023-10-13T13:01:12.071Z"
   },
   {
    "duration": 26,
    "start_time": "2023-10-13T13:01:12.131Z"
   },
   {
    "duration": 31,
    "start_time": "2023-10-13T13:01:12.159Z"
   },
   {
    "duration": 38,
    "start_time": "2023-10-13T13:01:12.192Z"
   },
   {
    "duration": 20,
    "start_time": "2023-10-13T13:01:12.232Z"
   },
   {
    "duration": 31,
    "start_time": "2023-10-13T13:01:12.253Z"
   },
   {
    "duration": 54,
    "start_time": "2023-10-13T13:01:12.287Z"
   },
   {
    "duration": 14,
    "start_time": "2023-10-13T13:01:12.342Z"
   },
   {
    "duration": 6,
    "start_time": "2023-10-13T13:01:12.357Z"
   },
   {
    "duration": 19,
    "start_time": "2023-10-13T13:01:12.365Z"
   },
   {
    "duration": 33,
    "start_time": "2023-10-13T13:01:12.386Z"
   },
   {
    "duration": 13,
    "start_time": "2023-10-13T13:01:12.421Z"
   },
   {
    "duration": 24,
    "start_time": "2023-10-13T13:01:12.436Z"
   },
   {
    "duration": 18,
    "start_time": "2023-10-13T13:01:12.462Z"
   },
   {
    "duration": 32,
    "start_time": "2023-10-13T13:01:12.482Z"
   },
   {
    "duration": 38,
    "start_time": "2023-10-13T13:01:12.516Z"
   },
   {
    "duration": 22,
    "start_time": "2023-10-13T13:01:12.555Z"
   },
   {
    "duration": 32,
    "start_time": "2023-10-13T13:01:12.578Z"
   },
   {
    "duration": 18,
    "start_time": "2023-10-13T13:01:12.611Z"
   },
   {
    "duration": 38,
    "start_time": "2023-10-13T13:01:12.631Z"
   },
   {
    "duration": 16,
    "start_time": "2023-10-13T13:01:12.671Z"
   },
   {
    "duration": 18,
    "start_time": "2023-10-13T13:01:12.689Z"
   },
   {
    "duration": 224,
    "start_time": "2023-10-13T13:01:12.709Z"
   },
   {
    "duration": 97,
    "start_time": "2023-10-13T13:01:12.935Z"
   },
   {
    "duration": 282,
    "start_time": "2023-10-13T13:01:13.036Z"
   },
   {
    "duration": 9,
    "start_time": "2023-10-13T13:01:13.320Z"
   },
   {
    "duration": 205,
    "start_time": "2023-10-13T13:01:13.330Z"
   },
   {
    "duration": 23,
    "start_time": "2023-10-13T13:01:13.537Z"
   },
   {
    "duration": 199,
    "start_time": "2023-10-13T13:01:13.562Z"
   },
   {
    "duration": 9,
    "start_time": "2023-10-13T13:01:13.763Z"
   },
   {
    "duration": 34,
    "start_time": "2023-10-13T13:01:13.774Z"
   },
   {
    "duration": 14,
    "start_time": "2023-10-13T13:01:13.810Z"
   },
   {
    "duration": 25,
    "start_time": "2023-10-13T13:01:13.826Z"
   },
   {
    "duration": 31,
    "start_time": "2023-10-13T13:01:13.855Z"
   },
   {
    "duration": 49,
    "start_time": "2023-10-13T13:01:13.887Z"
   },
   {
    "duration": 39,
    "start_time": "2023-10-13T13:01:13.938Z"
   },
   {
    "duration": 59,
    "start_time": "2023-10-13T13:01:13.978Z"
   },
   {
    "duration": 21,
    "start_time": "2023-10-13T13:01:14.039Z"
   },
   {
    "duration": 36,
    "start_time": "2023-10-13T13:01:14.062Z"
   },
   {
    "duration": 180,
    "start_time": "2023-10-13T13:01:14.099Z"
   },
   {
    "duration": 212,
    "start_time": "2023-10-13T13:01:14.281Z"
   },
   {
    "duration": 341,
    "start_time": "2023-10-13T13:01:14.495Z"
   },
   {
    "duration": 147,
    "start_time": "2023-10-13T13:01:14.837Z"
   },
   {
    "duration": 72,
    "start_time": "2023-10-13T13:01:14.986Z"
   },
   {
    "duration": 20,
    "start_time": "2023-10-13T13:01:15.059Z"
   },
   {
    "duration": 55,
    "start_time": "2023-10-13T13:01:15.080Z"
   },
   {
    "duration": 15,
    "start_time": "2023-10-13T13:01:15.136Z"
   },
   {
    "duration": 33,
    "start_time": "2023-10-13T13:01:15.153Z"
   },
   {
    "duration": 49,
    "start_time": "2023-10-13T13:01:15.188Z"
   },
   {
    "duration": 2085,
    "start_time": "2023-10-13T13:01:15.239Z"
   },
   {
    "duration": 180,
    "start_time": "2023-10-13T13:01:17.325Z"
   },
   {
    "duration": 223,
    "start_time": "2023-10-13T13:02:44.845Z"
   },
   {
    "duration": 277,
    "start_time": "2023-10-13T13:03:18.692Z"
   },
   {
    "duration": 188,
    "start_time": "2023-10-13T13:03:33.632Z"
   },
   {
    "duration": 447,
    "start_time": "2023-10-13T13:03:41.796Z"
   },
   {
    "duration": 219,
    "start_time": "2023-10-13T13:04:11.206Z"
   },
   {
    "duration": 217,
    "start_time": "2023-10-13T13:04:21.630Z"
   },
   {
    "duration": 230,
    "start_time": "2023-10-13T13:04:27.407Z"
   },
   {
    "duration": 250,
    "start_time": "2023-10-13T13:04:32.065Z"
   },
   {
    "duration": 387,
    "start_time": "2023-10-13T13:04:38.829Z"
   },
   {
    "duration": 241,
    "start_time": "2023-10-13T13:08:06.609Z"
   },
   {
    "duration": 201,
    "start_time": "2023-10-13T13:09:02.490Z"
   },
   {
    "duration": 245,
    "start_time": "2023-10-13T13:09:17.635Z"
   },
   {
    "duration": 236,
    "start_time": "2023-10-13T13:10:07.298Z"
   },
   {
    "duration": 291,
    "start_time": "2023-10-13T13:10:28.281Z"
   },
   {
    "duration": 374,
    "start_time": "2023-10-13T13:10:47.700Z"
   },
   {
    "duration": 289,
    "start_time": "2023-10-13T13:10:56.410Z"
   },
   {
    "duration": 10,
    "start_time": "2023-10-13T13:12:05.066Z"
   },
   {
    "duration": 10,
    "start_time": "2023-10-13T13:12:22.434Z"
   },
   {
    "duration": 302,
    "start_time": "2023-10-13T13:14:19.948Z"
   },
   {
    "duration": 297,
    "start_time": "2023-10-13T13:14:29.869Z"
   },
   {
    "duration": 9,
    "start_time": "2023-10-13T13:15:56.421Z"
   },
   {
    "duration": 10,
    "start_time": "2023-10-13T13:16:34.341Z"
   },
   {
    "duration": 10,
    "start_time": "2023-10-13T13:16:47.086Z"
   },
   {
    "duration": 301,
    "start_time": "2023-10-13T13:48:03.270Z"
   },
   {
    "duration": 306,
    "start_time": "2023-10-13T13:49:29.001Z"
   },
   {
    "duration": 434,
    "start_time": "2023-10-13T13:50:52.680Z"
   },
   {
    "duration": 10,
    "start_time": "2023-10-13T13:51:31.776Z"
   },
   {
    "duration": 10,
    "start_time": "2023-10-13T13:52:02.881Z"
   },
   {
    "duration": 10,
    "start_time": "2023-10-13T13:57:59.294Z"
   },
   {
    "duration": 2,
    "start_time": "2023-10-13T14:05:06.005Z"
   },
   {
    "duration": 224,
    "start_time": "2023-10-13T14:12:36.985Z"
   },
   {
    "duration": 233,
    "start_time": "2023-10-13T14:12:54.305Z"
   },
   {
    "duration": 112,
    "start_time": "2023-10-13T14:16:50.485Z"
   },
   {
    "duration": 262,
    "start_time": "2023-10-13T14:16:58.698Z"
   },
   {
    "duration": 207,
    "start_time": "2023-10-13T14:17:07.236Z"
   },
   {
    "duration": 214,
    "start_time": "2023-10-13T14:17:12.140Z"
   },
   {
    "duration": 211,
    "start_time": "2023-10-13T14:17:15.315Z"
   },
   {
    "duration": 202,
    "start_time": "2023-10-13T14:17:18.621Z"
   },
   {
    "duration": 215,
    "start_time": "2023-10-13T14:17:22.555Z"
   },
   {
    "duration": 388,
    "start_time": "2023-10-13T14:17:27.832Z"
   },
   {
    "duration": 202,
    "start_time": "2023-10-13T14:17:32.891Z"
   },
   {
    "duration": 216,
    "start_time": "2023-10-13T14:17:36.636Z"
   },
   {
    "duration": 203,
    "start_time": "2023-10-13T14:17:41.180Z"
   },
   {
    "duration": 205,
    "start_time": "2023-10-13T14:17:46.411Z"
   },
   {
    "duration": 197,
    "start_time": "2023-10-13T14:17:51.411Z"
   },
   {
    "duration": 209,
    "start_time": "2023-10-13T14:17:55.291Z"
   },
   {
    "duration": 211,
    "start_time": "2023-10-13T14:18:00.860Z"
   },
   {
    "duration": 220,
    "start_time": "2023-10-13T14:18:06.812Z"
   },
   {
    "duration": 206,
    "start_time": "2023-10-13T14:18:15.109Z"
   },
   {
    "duration": 7,
    "start_time": "2023-10-13T14:19:22.516Z"
   },
   {
    "duration": 125,
    "start_time": "2023-10-13T14:19:48.583Z"
   },
   {
    "duration": 232,
    "start_time": "2023-10-13T14:19:53.431Z"
   },
   {
    "duration": 341,
    "start_time": "2023-10-13T14:20:11.486Z"
   },
   {
    "duration": 210,
    "start_time": "2023-10-13T14:20:21.127Z"
   },
   {
    "duration": 204,
    "start_time": "2023-10-13T14:20:35.614Z"
   },
   {
    "duration": 218,
    "start_time": "2023-10-13T14:20:40.655Z"
   },
   {
    "duration": 198,
    "start_time": "2023-10-13T14:20:47.086Z"
   },
   {
    "duration": 201,
    "start_time": "2023-10-13T14:20:52.169Z"
   },
   {
    "duration": 218,
    "start_time": "2023-10-13T14:20:56.206Z"
   },
   {
    "duration": 221,
    "start_time": "2023-10-13T14:21:30.526Z"
   },
   {
    "duration": 201,
    "start_time": "2023-10-13T14:21:35.999Z"
   },
   {
    "duration": 211,
    "start_time": "2023-10-13T14:21:41.320Z"
   },
   {
    "duration": 227,
    "start_time": "2023-10-13T14:21:45.240Z"
   },
   {
    "duration": 382,
    "start_time": "2023-10-13T14:22:03.527Z"
   },
   {
    "duration": 125,
    "start_time": "2023-10-13T14:22:10.823Z"
   },
   {
    "duration": 226,
    "start_time": "2023-10-13T14:22:23.456Z"
   },
   {
    "duration": 226,
    "start_time": "2023-10-13T14:22:32.048Z"
   },
   {
    "duration": 205,
    "start_time": "2023-10-13T14:22:49.664Z"
   },
   {
    "duration": 213,
    "start_time": "2023-10-13T14:22:55.132Z"
   },
   {
    "duration": 21,
    "start_time": "2023-10-13T14:23:06.570Z"
   },
   {
    "duration": 211,
    "start_time": "2023-10-13T14:23:10.682Z"
   },
   {
    "duration": 19,
    "start_time": "2023-10-13T14:38:52.299Z"
   },
   {
    "duration": 41,
    "start_time": "2023-10-13T14:39:35.836Z"
   },
   {
    "duration": 58,
    "start_time": "2023-10-13T14:41:20.087Z"
   },
   {
    "duration": 5,
    "start_time": "2023-10-13T16:20:33.216Z"
   },
   {
    "duration": 4,
    "start_time": "2023-10-13T16:20:47.488Z"
   },
   {
    "duration": 10,
    "start_time": "2023-10-13T16:21:47.409Z"
   },
   {
    "duration": 5,
    "start_time": "2023-10-13T16:21:53.160Z"
   },
   {
    "duration": 5,
    "start_time": "2023-10-13T16:23:52.178Z"
   },
   {
    "duration": 6,
    "start_time": "2023-10-13T16:24:05.049Z"
   },
   {
    "duration": 10,
    "start_time": "2023-10-13T16:24:40.082Z"
   },
   {
    "duration": 5,
    "start_time": "2023-10-13T16:24:45.405Z"
   },
   {
    "duration": 5,
    "start_time": "2023-10-13T16:25:07.161Z"
   },
   {
    "duration": 5,
    "start_time": "2023-10-13T16:25:12.667Z"
   },
   {
    "duration": 10,
    "start_time": "2023-10-13T16:25:29.170Z"
   },
   {
    "duration": 5,
    "start_time": "2023-10-13T16:25:43.898Z"
   },
   {
    "duration": 5,
    "start_time": "2023-10-13T16:25:55.314Z"
   },
   {
    "duration": 10,
    "start_time": "2023-10-13T16:26:04.554Z"
   },
   {
    "duration": 9,
    "start_time": "2023-10-13T16:26:11.258Z"
   },
   {
    "duration": 11,
    "start_time": "2023-10-13T16:26:14.954Z"
   },
   {
    "duration": 5,
    "start_time": "2023-10-13T16:26:18.035Z"
   },
   {
    "duration": 5,
    "start_time": "2023-10-13T16:27:50.403Z"
   },
   {
    "duration": 4,
    "start_time": "2023-10-13T16:28:03.894Z"
   },
   {
    "duration": 6,
    "start_time": "2023-10-13T16:30:27.845Z"
   },
   {
    "duration": 6,
    "start_time": "2023-10-13T16:31:23.650Z"
   },
   {
    "duration": 5,
    "start_time": "2023-10-13T16:31:32.631Z"
   },
   {
    "duration": 1560,
    "start_time": "2023-10-13T18:55:21.767Z"
   },
   {
    "duration": 5,
    "start_time": "2023-10-13T18:55:50.424Z"
   },
   {
    "duration": 13,
    "start_time": "2023-10-13T18:57:07.553Z"
   },
   {
    "duration": 16,
    "start_time": "2023-10-13T18:57:32.785Z"
   },
   {
    "duration": 55,
    "start_time": "2023-10-13T18:58:20.817Z"
   },
   {
    "duration": 1319,
    "start_time": "2023-10-13T18:58:34.804Z"
   },
   {
    "duration": 1248,
    "start_time": "2023-10-13T18:58:55.445Z"
   },
   {
    "duration": 72,
    "start_time": "2023-10-13T18:58:56.695Z"
   },
   {
    "duration": 14,
    "start_time": "2023-10-13T18:58:56.768Z"
   },
   {
    "duration": 66,
    "start_time": "2023-10-13T18:58:56.784Z"
   },
   {
    "duration": 18,
    "start_time": "2023-10-13T18:58:56.852Z"
   },
   {
    "duration": 27,
    "start_time": "2023-10-13T18:58:56.872Z"
   },
   {
    "duration": 8,
    "start_time": "2023-10-13T18:58:56.901Z"
   },
   {
    "duration": 14,
    "start_time": "2023-10-13T18:58:56.911Z"
   },
   {
    "duration": 24,
    "start_time": "2023-10-13T18:58:56.927Z"
   },
   {
    "duration": 11,
    "start_time": "2023-10-13T18:58:56.954Z"
   },
   {
    "duration": 13,
    "start_time": "2023-10-13T18:58:56.967Z"
   },
   {
    "duration": 16,
    "start_time": "2023-10-13T18:58:56.983Z"
   },
   {
    "duration": 9,
    "start_time": "2023-10-13T18:58:57.001Z"
   },
   {
    "duration": 13,
    "start_time": "2023-10-13T18:58:57.013Z"
   },
   {
    "duration": 18,
    "start_time": "2023-10-13T18:58:57.028Z"
   },
   {
    "duration": 21,
    "start_time": "2023-10-13T18:58:57.048Z"
   },
   {
    "duration": 8,
    "start_time": "2023-10-13T18:58:57.071Z"
   },
   {
    "duration": 6,
    "start_time": "2023-10-13T18:58:57.081Z"
   },
   {
    "duration": 9,
    "start_time": "2023-10-13T18:58:57.089Z"
   },
   {
    "duration": 7,
    "start_time": "2023-10-13T18:58:57.100Z"
   },
   {
    "duration": 7,
    "start_time": "2023-10-13T18:58:57.110Z"
   },
   {
    "duration": 40,
    "start_time": "2023-10-13T18:58:57.119Z"
   },
   {
    "duration": 12,
    "start_time": "2023-10-13T18:58:57.161Z"
   },
   {
    "duration": 21,
    "start_time": "2023-10-13T18:58:57.174Z"
   },
   {
    "duration": 13,
    "start_time": "2023-10-13T18:58:57.197Z"
   },
   {
    "duration": 18,
    "start_time": "2023-10-13T18:58:57.212Z"
   },
   {
    "duration": 214,
    "start_time": "2023-10-13T18:58:57.231Z"
   },
   {
    "duration": 90,
    "start_time": "2023-10-13T18:58:57.447Z"
   },
   {
    "duration": 261,
    "start_time": "2023-10-13T18:58:57.539Z"
   },
   {
    "duration": 9,
    "start_time": "2023-10-13T18:58:57.801Z"
   },
   {
    "duration": 215,
    "start_time": "2023-10-13T18:58:57.812Z"
   },
   {
    "duration": 26,
    "start_time": "2023-10-13T18:58:58.030Z"
   },
   {
    "duration": 192,
    "start_time": "2023-10-13T18:58:58.058Z"
   },
   {
    "duration": 9,
    "start_time": "2023-10-13T18:58:58.256Z"
   },
   {
    "duration": 25,
    "start_time": "2023-10-13T18:58:58.267Z"
   },
   {
    "duration": 15,
    "start_time": "2023-10-13T18:58:58.293Z"
   },
   {
    "duration": 4,
    "start_time": "2023-10-13T18:58:58.310Z"
   },
   {
    "duration": 46,
    "start_time": "2023-10-13T18:58:58.315Z"
   },
   {
    "duration": 20,
    "start_time": "2023-10-13T18:58:58.363Z"
   },
   {
    "duration": 5,
    "start_time": "2023-10-13T18:58:58.385Z"
   },
   {
    "duration": 18,
    "start_time": "2023-10-13T18:58:58.395Z"
   },
   {
    "duration": 4,
    "start_time": "2023-10-13T18:58:58.415Z"
   },
   {
    "duration": 36,
    "start_time": "2023-10-13T18:58:58.421Z"
   },
   {
    "duration": 310,
    "start_time": "2023-10-13T18:58:58.459Z"
   },
   {
    "duration": 9,
    "start_time": "2023-10-13T18:58:58.771Z"
   },
   {
    "duration": 21,
    "start_time": "2023-10-13T18:58:58.782Z"
   },
   {
    "duration": 415,
    "start_time": "2023-10-13T18:58:58.806Z"
   },
   {
    "duration": 11,
    "start_time": "2023-10-13T18:58:59.224Z"
   },
   {
    "duration": 26,
    "start_time": "2023-10-13T18:58:59.237Z"
   },
   {
    "duration": 21,
    "start_time": "2023-10-13T18:58:59.265Z"
   },
   {
    "duration": 28,
    "start_time": "2023-10-13T18:58:59.289Z"
   },
   {
    "duration": 60,
    "start_time": "2023-10-13T18:58:59.319Z"
   },
   {
    "duration": 16,
    "start_time": "2023-10-13T18:58:59.381Z"
   },
   {
    "duration": 21,
    "start_time": "2023-10-13T18:58:59.399Z"
   },
   {
    "duration": 5,
    "start_time": "2023-10-13T18:58:59.422Z"
   },
   {
    "duration": 28,
    "start_time": "2023-10-13T18:58:59.429Z"
   },
   {
    "duration": 36,
    "start_time": "2023-10-13T18:58:59.458Z"
   },
   {
    "duration": 1987,
    "start_time": "2023-10-13T18:58:59.496Z"
   },
   {
    "duration": 174,
    "start_time": "2023-10-13T18:59:01.485Z"
   },
   {
    "duration": 7,
    "start_time": "2023-10-13T19:13:43.127Z"
   },
   {
    "duration": 15,
    "start_time": "2023-10-13T19:48:13.166Z"
   },
   {
    "duration": 101,
    "start_time": "2023-10-13T19:52:23.056Z"
   },
   {
    "duration": 21,
    "start_time": "2023-10-13T19:53:06.034Z"
   },
   {
    "duration": 15,
    "start_time": "2023-10-13T19:53:16.986Z"
   },
   {
    "duration": 25,
    "start_time": "2023-10-13T19:54:34.596Z"
   },
   {
    "duration": 18,
    "start_time": "2023-10-13T19:55:06.651Z"
   },
   {
    "duration": 15,
    "start_time": "2023-10-13T19:55:17.877Z"
   },
   {
    "duration": 1275,
    "start_time": "2023-10-13T19:55:43.959Z"
   },
   {
    "duration": 73,
    "start_time": "2023-10-13T19:55:45.236Z"
   },
   {
    "duration": 12,
    "start_time": "2023-10-13T19:55:45.311Z"
   },
   {
    "duration": 70,
    "start_time": "2023-10-13T19:55:45.325Z"
   },
   {
    "duration": 41,
    "start_time": "2023-10-13T19:55:45.398Z"
   },
   {
    "duration": 36,
    "start_time": "2023-10-13T19:55:45.441Z"
   },
   {
    "duration": 20,
    "start_time": "2023-10-13T19:55:45.479Z"
   },
   {
    "duration": 16,
    "start_time": "2023-10-13T19:55:45.501Z"
   },
   {
    "duration": 10,
    "start_time": "2023-10-13T19:55:45.519Z"
   },
   {
    "duration": 15,
    "start_time": "2023-10-13T19:55:45.531Z"
   },
   {
    "duration": 17,
    "start_time": "2023-10-13T19:55:45.548Z"
   },
   {
    "duration": 6,
    "start_time": "2023-10-13T19:55:45.567Z"
   },
   {
    "duration": 11,
    "start_time": "2023-10-13T19:55:45.575Z"
   },
   {
    "duration": 16,
    "start_time": "2023-10-13T19:55:45.589Z"
   },
   {
    "duration": 14,
    "start_time": "2023-10-13T19:55:45.607Z"
   },
   {
    "duration": 8,
    "start_time": "2023-10-13T19:55:45.623Z"
   },
   {
    "duration": 16,
    "start_time": "2023-10-13T19:55:45.633Z"
   },
   {
    "duration": 9,
    "start_time": "2023-10-13T19:55:45.655Z"
   },
   {
    "duration": 15,
    "start_time": "2023-10-13T19:55:45.665Z"
   },
   {
    "duration": 19,
    "start_time": "2023-10-13T19:55:45.681Z"
   },
   {
    "duration": 5,
    "start_time": "2023-10-13T19:55:45.702Z"
   },
   {
    "duration": 11,
    "start_time": "2023-10-13T19:55:45.709Z"
   },
   {
    "duration": 22,
    "start_time": "2023-10-13T19:55:45.722Z"
   },
   {
    "duration": 13,
    "start_time": "2023-10-13T19:55:45.746Z"
   },
   {
    "duration": 19,
    "start_time": "2023-10-13T19:55:45.760Z"
   },
   {
    "duration": 23,
    "start_time": "2023-10-13T19:55:45.781Z"
   },
   {
    "duration": 183,
    "start_time": "2023-10-13T19:55:45.806Z"
   },
   {
    "duration": 91,
    "start_time": "2023-10-13T19:55:45.991Z"
   },
   {
    "duration": 260,
    "start_time": "2023-10-13T19:55:46.084Z"
   },
   {
    "duration": 15,
    "start_time": "2023-10-13T19:55:46.346Z"
   },
   {
    "duration": 183,
    "start_time": "2023-10-13T19:55:46.363Z"
   },
   {
    "duration": 15,
    "start_time": "2023-10-13T19:55:46.548Z"
   },
   {
    "duration": 183,
    "start_time": "2023-10-13T19:55:46.565Z"
   },
   {
    "duration": 13,
    "start_time": "2023-10-13T19:55:46.750Z"
   },
   {
    "duration": 25,
    "start_time": "2023-10-13T19:55:46.765Z"
   },
   {
    "duration": 37,
    "start_time": "2023-10-13T19:55:46.792Z"
   },
   {
    "duration": 32,
    "start_time": "2023-10-13T19:55:46.831Z"
   },
   {
    "duration": 14,
    "start_time": "2023-10-13T19:55:46.865Z"
   },
   {
    "duration": 28,
    "start_time": "2023-10-13T19:55:46.881Z"
   },
   {
    "duration": 30,
    "start_time": "2023-10-13T19:55:46.911Z"
   },
   {
    "duration": 12,
    "start_time": "2023-10-13T19:55:46.945Z"
   },
   {
    "duration": 28,
    "start_time": "2023-10-13T19:55:46.959Z"
   },
   {
    "duration": 3,
    "start_time": "2023-10-13T19:55:46.989Z"
   },
   {
    "duration": 22,
    "start_time": "2023-10-13T19:55:46.994Z"
   },
   {
    "duration": 311,
    "start_time": "2023-10-13T19:55:47.020Z"
   },
   {
    "duration": 10,
    "start_time": "2023-10-13T19:55:47.333Z"
   },
   {
    "duration": 8,
    "start_time": "2023-10-13T19:55:47.357Z"
   },
   {
    "duration": 395,
    "start_time": "2023-10-13T19:55:47.367Z"
   },
   {
    "duration": 10,
    "start_time": "2023-10-13T19:55:47.765Z"
   },
   {
    "duration": 10,
    "start_time": "2023-10-13T19:55:47.777Z"
   },
   {
    "duration": 3,
    "start_time": "2023-10-13T19:55:47.789Z"
   },
   {
    "duration": 25,
    "start_time": "2023-10-13T19:55:47.794Z"
   },
   {
    "duration": 83,
    "start_time": "2023-10-13T19:55:47.821Z"
   },
   {
    "duration": 7,
    "start_time": "2023-10-13T19:55:47.906Z"
   },
   {
    "duration": 28,
    "start_time": "2023-10-13T19:55:47.914Z"
   },
   {
    "duration": 24,
    "start_time": "2023-10-13T19:55:47.944Z"
   },
   {
    "duration": 7,
    "start_time": "2023-10-13T19:55:47.970Z"
   },
   {
    "duration": 31,
    "start_time": "2023-10-13T19:55:47.979Z"
   },
   {
    "duration": 27,
    "start_time": "2023-10-13T19:55:48.011Z"
   },
   {
    "duration": 1948,
    "start_time": "2023-10-13T19:55:48.040Z"
   },
   {
    "duration": 164,
    "start_time": "2023-10-13T19:55:49.990Z"
   },
   {
    "duration": 19,
    "start_time": "2023-10-13T19:57:52.261Z"
   },
   {
    "duration": 18,
    "start_time": "2023-10-13T19:57:56.837Z"
   },
   {
    "duration": 1280,
    "start_time": "2023-10-13T19:58:21.826Z"
   },
   {
    "duration": 73,
    "start_time": "2023-10-13T19:58:23.109Z"
   },
   {
    "duration": 14,
    "start_time": "2023-10-13T19:58:23.184Z"
   },
   {
    "duration": 20,
    "start_time": "2023-10-13T19:58:23.200Z"
   },
   {
    "duration": 16,
    "start_time": "2023-10-13T19:58:23.222Z"
   },
   {
    "duration": 16,
    "start_time": "2023-10-13T19:58:23.240Z"
   },
   {
    "duration": 8,
    "start_time": "2023-10-13T19:58:23.257Z"
   },
   {
    "duration": 17,
    "start_time": "2023-10-13T19:58:23.267Z"
   },
   {
    "duration": 14,
    "start_time": "2023-10-13T19:58:23.285Z"
   },
   {
    "duration": 15,
    "start_time": "2023-10-13T19:58:23.303Z"
   },
   {
    "duration": 13,
    "start_time": "2023-10-13T19:58:23.319Z"
   },
   {
    "duration": 6,
    "start_time": "2023-10-13T19:58:23.334Z"
   },
   {
    "duration": 7,
    "start_time": "2023-10-13T19:58:23.357Z"
   },
   {
    "duration": 8,
    "start_time": "2023-10-13T19:58:23.365Z"
   },
   {
    "duration": 23,
    "start_time": "2023-10-13T19:58:23.375Z"
   },
   {
    "duration": 8,
    "start_time": "2023-10-13T19:58:23.400Z"
   },
   {
    "duration": 24,
    "start_time": "2023-10-13T19:58:23.409Z"
   },
   {
    "duration": 24,
    "start_time": "2023-10-13T19:58:23.434Z"
   },
   {
    "duration": 18,
    "start_time": "2023-10-13T19:58:23.460Z"
   },
   {
    "duration": 21,
    "start_time": "2023-10-13T19:58:23.480Z"
   },
   {
    "duration": 11,
    "start_time": "2023-10-13T19:58:23.503Z"
   },
   {
    "duration": 20,
    "start_time": "2023-10-13T19:58:23.515Z"
   },
   {
    "duration": 12,
    "start_time": "2023-10-13T19:58:23.537Z"
   },
   {
    "duration": 10,
    "start_time": "2023-10-13T19:58:23.551Z"
   },
   {
    "duration": 13,
    "start_time": "2023-10-13T19:58:23.563Z"
   },
   {
    "duration": 10,
    "start_time": "2023-10-13T19:58:23.578Z"
   },
   {
    "duration": 211,
    "start_time": "2023-10-13T19:58:23.590Z"
   },
   {
    "duration": 95,
    "start_time": "2023-10-13T19:58:23.806Z"
   },
   {
    "duration": 254,
    "start_time": "2023-10-13T19:58:23.903Z"
   },
   {
    "duration": 8,
    "start_time": "2023-10-13T19:58:24.159Z"
   },
   {
    "duration": 192,
    "start_time": "2023-10-13T19:58:24.168Z"
   },
   {
    "duration": 10,
    "start_time": "2023-10-13T19:58:24.361Z"
   },
   {
    "duration": 194,
    "start_time": "2023-10-13T19:58:24.372Z"
   },
   {
    "duration": 9,
    "start_time": "2023-10-13T19:58:24.568Z"
   },
   {
    "duration": 14,
    "start_time": "2023-10-13T19:58:24.579Z"
   },
   {
    "duration": 19,
    "start_time": "2023-10-13T19:58:24.595Z"
   },
   {
    "duration": 42,
    "start_time": "2023-10-13T19:58:24.616Z"
   },
   {
    "duration": 3,
    "start_time": "2023-10-13T19:58:24.660Z"
   },
   {
    "duration": 25,
    "start_time": "2023-10-13T19:58:24.665Z"
   },
   {
    "duration": 44,
    "start_time": "2023-10-13T19:58:24.692Z"
   },
   {
    "duration": 3,
    "start_time": "2023-10-13T19:58:24.738Z"
   },
   {
    "duration": 33,
    "start_time": "2023-10-13T19:58:24.742Z"
   },
   {
    "duration": 4,
    "start_time": "2023-10-13T19:58:24.777Z"
   },
   {
    "duration": 10,
    "start_time": "2023-10-13T19:58:24.782Z"
   },
   {
    "duration": 299,
    "start_time": "2023-10-13T19:58:24.793Z"
   },
   {
    "duration": 9,
    "start_time": "2023-10-13T19:58:25.094Z"
   },
   {
    "duration": 7,
    "start_time": "2023-10-13T19:58:25.105Z"
   },
   {
    "duration": 409,
    "start_time": "2023-10-13T19:58:25.114Z"
   },
   {
    "duration": 8,
    "start_time": "2023-10-13T19:58:25.525Z"
   },
   {
    "duration": 139,
    "start_time": "2023-10-13T19:58:25.535Z"
   },
   {
    "duration": 49,
    "start_time": "2023-10-13T19:58:25.676Z"
   },
   {
    "duration": 21,
    "start_time": "2023-10-13T19:58:25.728Z"
   },
   {
    "duration": 110,
    "start_time": "2023-10-13T19:58:25.750Z"
   },
   {
    "duration": 6,
    "start_time": "2023-10-13T19:58:25.861Z"
   },
   {
    "duration": 27,
    "start_time": "2023-10-13T19:58:25.869Z"
   },
   {
    "duration": 31,
    "start_time": "2023-10-13T19:58:25.898Z"
   },
   {
    "duration": 24,
    "start_time": "2023-10-13T19:58:25.930Z"
   },
   {
    "duration": 15,
    "start_time": "2023-10-13T19:58:25.956Z"
   },
   {
    "duration": 22,
    "start_time": "2023-10-13T19:58:25.972Z"
   },
   {
    "duration": 1961,
    "start_time": "2023-10-13T19:58:25.996Z"
   },
   {
    "duration": 184,
    "start_time": "2023-10-13T19:58:27.959Z"
   },
   {
    "duration": 12,
    "start_time": "2023-10-13T20:03:49.704Z"
   },
   {
    "duration": 11,
    "start_time": "2023-10-13T20:04:27.081Z"
   },
   {
    "duration": 10,
    "start_time": "2023-10-13T20:05:10.124Z"
   },
   {
    "duration": 13,
    "start_time": "2023-10-13T20:06:56.387Z"
   },
   {
    "duration": 9,
    "start_time": "2023-10-13T20:08:27.699Z"
   },
   {
    "duration": 5,
    "start_time": "2023-10-13T20:10:20.853Z"
   },
   {
    "duration": 66,
    "start_time": "2023-10-13T20:12:18.848Z"
   },
   {
    "duration": 6,
    "start_time": "2023-10-13T20:12:35.288Z"
   },
   {
    "duration": 58,
    "start_time": "2023-10-13T20:13:32.120Z"
   },
   {
    "duration": 60,
    "start_time": "2023-10-13T20:13:41.241Z"
   },
   {
    "duration": 17,
    "start_time": "2023-10-13T20:15:40.643Z"
   },
   {
    "duration": 22,
    "start_time": "2023-10-13T20:15:48.810Z"
   },
   {
    "duration": 17,
    "start_time": "2023-10-13T20:17:13.249Z"
   },
   {
    "duration": 13,
    "start_time": "2023-10-13T20:27:09.787Z"
   },
   {
    "duration": 1884,
    "start_time": "2023-10-13T20:32:52.338Z"
   },
   {
    "duration": 1895,
    "start_time": "2023-10-13T20:33:34.784Z"
   },
   {
    "duration": 19,
    "start_time": "2023-10-13T21:29:59.691Z"
   },
   {
    "duration": 95,
    "start_time": "2023-10-13T21:36:35.471Z"
   },
   {
    "duration": 4,
    "start_time": "2023-10-13T21:36:40.326Z"
   },
   {
    "duration": 9,
    "start_time": "2023-10-13T21:37:32.311Z"
   },
   {
    "duration": 13,
    "start_time": "2023-10-13T21:37:38.840Z"
   },
   {
    "duration": 94,
    "start_time": "2023-10-13T21:40:22.194Z"
   },
   {
    "duration": 13,
    "start_time": "2023-10-13T21:45:04.051Z"
   },
   {
    "duration": 14,
    "start_time": "2023-10-13T21:45:14.140Z"
   },
   {
    "duration": 12,
    "start_time": "2023-10-13T21:45:43.613Z"
   },
   {
    "duration": 1273,
    "start_time": "2023-10-13T21:51:14.050Z"
   },
   {
    "duration": 73,
    "start_time": "2023-10-13T21:51:15.325Z"
   },
   {
    "duration": 13,
    "start_time": "2023-10-13T21:51:15.400Z"
   },
   {
    "duration": 12,
    "start_time": "2023-10-13T21:51:15.415Z"
   },
   {
    "duration": 20,
    "start_time": "2023-10-13T21:51:15.429Z"
   },
   {
    "duration": 19,
    "start_time": "2023-10-13T21:51:15.450Z"
   },
   {
    "duration": 13,
    "start_time": "2023-10-13T21:51:15.470Z"
   },
   {
    "duration": 21,
    "start_time": "2023-10-13T21:51:15.485Z"
   },
   {
    "duration": 15,
    "start_time": "2023-10-13T21:51:15.508Z"
   },
   {
    "duration": 18,
    "start_time": "2023-10-13T21:51:15.525Z"
   },
   {
    "duration": 13,
    "start_time": "2023-10-13T21:51:15.545Z"
   },
   {
    "duration": 8,
    "start_time": "2023-10-13T21:51:15.560Z"
   },
   {
    "duration": 23,
    "start_time": "2023-10-13T21:51:15.570Z"
   },
   {
    "duration": 6,
    "start_time": "2023-10-13T21:51:15.596Z"
   },
   {
    "duration": 10,
    "start_time": "2023-10-13T21:51:15.604Z"
   },
   {
    "duration": 7,
    "start_time": "2023-10-13T21:51:15.616Z"
   },
   {
    "duration": 13,
    "start_time": "2023-10-13T21:51:15.625Z"
   },
   {
    "duration": 17,
    "start_time": "2023-10-13T21:51:15.640Z"
   },
   {
    "duration": 20,
    "start_time": "2023-10-13T21:51:15.659Z"
   },
   {
    "duration": 10,
    "start_time": "2023-10-13T21:51:15.680Z"
   },
   {
    "duration": 5,
    "start_time": "2023-10-13T21:51:15.692Z"
   },
   {
    "duration": 27,
    "start_time": "2023-10-13T21:51:15.699Z"
   },
   {
    "duration": 10,
    "start_time": "2023-10-13T21:51:15.728Z"
   },
   {
    "duration": 12,
    "start_time": "2023-10-13T21:51:15.739Z"
   },
   {
    "duration": 30,
    "start_time": "2023-10-13T21:51:15.753Z"
   },
   {
    "duration": 20,
    "start_time": "2023-10-13T21:51:15.785Z"
   },
   {
    "duration": 178,
    "start_time": "2023-10-13T21:51:15.806Z"
   },
   {
    "duration": 82,
    "start_time": "2023-10-13T21:51:15.985Z"
   },
   {
    "duration": 245,
    "start_time": "2023-10-13T21:51:16.069Z"
   },
   {
    "duration": 8,
    "start_time": "2023-10-13T21:51:16.316Z"
   },
   {
    "duration": 184,
    "start_time": "2023-10-13T21:51:16.326Z"
   },
   {
    "duration": 10,
    "start_time": "2023-10-13T21:51:16.512Z"
   },
   {
    "duration": 187,
    "start_time": "2023-10-13T21:51:16.523Z"
   },
   {
    "duration": 10,
    "start_time": "2023-10-13T21:51:16.712Z"
   },
   {
    "duration": 32,
    "start_time": "2023-10-13T21:51:16.724Z"
   },
   {
    "duration": 18,
    "start_time": "2023-10-13T21:51:16.758Z"
   },
   {
    "duration": 25,
    "start_time": "2023-10-13T21:51:16.778Z"
   },
   {
    "duration": 4,
    "start_time": "2023-10-13T21:51:16.806Z"
   },
   {
    "duration": 18,
    "start_time": "2023-10-13T21:51:16.813Z"
   },
   {
    "duration": 31,
    "start_time": "2023-10-13T21:51:16.833Z"
   },
   {
    "duration": 16,
    "start_time": "2023-10-13T21:51:16.868Z"
   },
   {
    "duration": 4,
    "start_time": "2023-10-13T21:51:16.886Z"
   },
   {
    "duration": 18,
    "start_time": "2023-10-13T21:51:16.891Z"
   },
   {
    "duration": 4,
    "start_time": "2023-10-13T21:51:16.910Z"
   },
   {
    "duration": 10,
    "start_time": "2023-10-13T21:51:16.916Z"
   },
   {
    "duration": 310,
    "start_time": "2023-10-13T21:51:16.928Z"
   },
   {
    "duration": 21,
    "start_time": "2023-10-13T21:51:17.240Z"
   },
   {
    "duration": 7,
    "start_time": "2023-10-13T21:51:17.263Z"
   },
   {
    "duration": 378,
    "start_time": "2023-10-13T21:51:17.272Z"
   },
   {
    "duration": 13,
    "start_time": "2023-10-13T21:51:17.651Z"
   },
   {
    "duration": 20,
    "start_time": "2023-10-13T21:51:17.665Z"
   },
   {
    "duration": 24,
    "start_time": "2023-10-13T21:51:17.687Z"
   },
   {
    "duration": 33,
    "start_time": "2023-10-13T21:51:17.713Z"
   },
   {
    "duration": 18,
    "start_time": "2023-10-13T21:51:17.747Z"
   },
   {
    "duration": 26,
    "start_time": "2023-10-13T21:51:17.766Z"
   },
   {
    "duration": 72,
    "start_time": "2023-10-13T21:51:17.793Z"
   },
   {
    "duration": 15,
    "start_time": "2023-10-13T21:51:17.866Z"
   },
   {
    "duration": 6,
    "start_time": "2023-10-13T21:51:17.882Z"
   },
   {
    "duration": 17,
    "start_time": "2023-10-13T21:51:17.889Z"
   },
   {
    "duration": 13,
    "start_time": "2023-10-13T21:51:17.908Z"
   },
   {
    "duration": 34,
    "start_time": "2023-10-13T21:51:17.923Z"
   },
   {
    "duration": 6,
    "start_time": "2023-10-13T21:51:17.959Z"
   },
   {
    "duration": 34,
    "start_time": "2023-10-13T21:51:17.968Z"
   },
   {
    "duration": 1909,
    "start_time": "2023-10-13T21:51:18.004Z"
   },
   {
    "duration": 170,
    "start_time": "2023-10-13T21:51:19.915Z"
   },
   {
    "duration": 1278,
    "start_time": "2023-10-13T21:52:00.425Z"
   },
   {
    "duration": 75,
    "start_time": "2023-10-13T21:52:01.705Z"
   },
   {
    "duration": 95,
    "start_time": "2023-10-13T21:52:01.782Z"
   },
   {
    "duration": 92,
    "start_time": "2023-10-13T21:52:01.879Z"
   },
   {
    "duration": 56,
    "start_time": "2023-10-13T21:52:01.973Z"
   },
   {
    "duration": 37,
    "start_time": "2023-10-13T21:52:02.031Z"
   },
   {
    "duration": 43,
    "start_time": "2023-10-13T21:52:02.070Z"
   },
   {
    "duration": 69,
    "start_time": "2023-10-13T21:52:02.115Z"
   },
   {
    "duration": 60,
    "start_time": "2023-10-13T21:52:02.185Z"
   },
   {
    "duration": 35,
    "start_time": "2023-10-13T21:52:02.247Z"
   },
   {
    "duration": 23,
    "start_time": "2023-10-13T21:52:02.284Z"
   },
   {
    "duration": 27,
    "start_time": "2023-10-13T21:52:02.309Z"
   },
   {
    "duration": 24,
    "start_time": "2023-10-13T21:52:02.337Z"
   },
   {
    "duration": 24,
    "start_time": "2023-10-13T21:52:02.364Z"
   },
   {
    "duration": 45,
    "start_time": "2023-10-13T21:52:02.389Z"
   },
   {
    "duration": 34,
    "start_time": "2023-10-13T21:52:02.436Z"
   },
   {
    "duration": 63,
    "start_time": "2023-10-13T21:52:02.472Z"
   },
   {
    "duration": 42,
    "start_time": "2023-10-13T21:52:02.537Z"
   },
   {
    "duration": 58,
    "start_time": "2023-10-13T21:52:02.581Z"
   },
   {
    "duration": 38,
    "start_time": "2023-10-13T21:52:02.640Z"
   },
   {
    "duration": 34,
    "start_time": "2023-10-13T21:52:02.681Z"
   },
   {
    "duration": 38,
    "start_time": "2023-10-13T21:52:02.718Z"
   },
   {
    "duration": 43,
    "start_time": "2023-10-13T21:52:02.759Z"
   },
   {
    "duration": 29,
    "start_time": "2023-10-13T21:52:02.804Z"
   },
   {
    "duration": 39,
    "start_time": "2023-10-13T21:52:02.835Z"
   },
   {
    "duration": 51,
    "start_time": "2023-10-13T21:52:02.876Z"
   },
   {
    "duration": 197,
    "start_time": "2023-10-13T21:52:02.929Z"
   },
   {
    "duration": 82,
    "start_time": "2023-10-13T21:52:03.128Z"
   },
   {
    "duration": 251,
    "start_time": "2023-10-13T21:52:03.212Z"
   },
   {
    "duration": 8,
    "start_time": "2023-10-13T21:52:03.464Z"
   },
   {
    "duration": 190,
    "start_time": "2023-10-13T21:52:03.474Z"
   },
   {
    "duration": 10,
    "start_time": "2023-10-13T21:52:03.666Z"
   },
   {
    "duration": 230,
    "start_time": "2023-10-13T21:52:03.678Z"
   },
   {
    "duration": 9,
    "start_time": "2023-10-13T21:52:03.910Z"
   },
   {
    "duration": 18,
    "start_time": "2023-10-13T21:52:03.921Z"
   },
   {
    "duration": 33,
    "start_time": "2023-10-13T21:52:03.940Z"
   },
   {
    "duration": 20,
    "start_time": "2023-10-13T21:52:03.975Z"
   },
   {
    "duration": 13,
    "start_time": "2023-10-13T21:52:03.997Z"
   },
   {
    "duration": 27,
    "start_time": "2023-10-13T21:52:04.012Z"
   },
   {
    "duration": 26,
    "start_time": "2023-10-13T21:52:04.041Z"
   },
   {
    "duration": 25,
    "start_time": "2023-10-13T21:52:04.072Z"
   },
   {
    "duration": 4,
    "start_time": "2023-10-13T21:52:04.099Z"
   },
   {
    "duration": 26,
    "start_time": "2023-10-13T21:52:04.105Z"
   },
   {
    "duration": 4,
    "start_time": "2023-10-13T21:52:04.133Z"
   },
   {
    "duration": 18,
    "start_time": "2023-10-13T21:52:04.138Z"
   },
   {
    "duration": 298,
    "start_time": "2023-10-13T21:52:04.158Z"
   },
   {
    "duration": 8,
    "start_time": "2023-10-13T21:52:04.458Z"
   },
   {
    "duration": 31,
    "start_time": "2023-10-13T21:52:04.468Z"
   },
   {
    "duration": 399,
    "start_time": "2023-10-13T21:52:04.500Z"
   },
   {
    "duration": 9,
    "start_time": "2023-10-13T21:52:04.902Z"
   },
   {
    "duration": 23,
    "start_time": "2023-10-13T21:52:04.912Z"
   },
   {
    "duration": 30,
    "start_time": "2023-10-13T21:52:04.937Z"
   },
   {
    "duration": 31,
    "start_time": "2023-10-13T21:52:04.968Z"
   },
   {
    "duration": 11,
    "start_time": "2023-10-13T21:52:05.000Z"
   },
   {
    "duration": 27,
    "start_time": "2023-10-13T21:52:05.013Z"
   },
   {
    "duration": 76,
    "start_time": "2023-10-13T21:52:05.042Z"
   },
   {
    "duration": 15,
    "start_time": "2023-10-13T21:52:05.120Z"
   },
   {
    "duration": 23,
    "start_time": "2023-10-13T21:52:05.137Z"
   },
   {
    "duration": 28,
    "start_time": "2023-10-13T21:52:05.162Z"
   },
   {
    "duration": 19,
    "start_time": "2023-10-13T21:52:05.192Z"
   },
   {
    "duration": 24,
    "start_time": "2023-10-13T21:52:05.213Z"
   },
   {
    "duration": 28,
    "start_time": "2023-10-13T21:52:05.238Z"
   },
   {
    "duration": 42,
    "start_time": "2023-10-13T21:52:05.268Z"
   },
   {
    "duration": 1844,
    "start_time": "2023-10-13T21:52:05.312Z"
   },
   {
    "duration": 164,
    "start_time": "2023-10-13T21:52:07.158Z"
   },
   {
    "duration": 1148,
    "start_time": "2023-10-13T22:52:11.498Z"
   },
   {
    "duration": 289,
    "start_time": "2023-10-13T22:52:12.648Z"
   },
   {
    "duration": 11,
    "start_time": "2023-10-13T22:52:12.939Z"
   },
   {
    "duration": 18,
    "start_time": "2023-10-13T22:52:12.952Z"
   },
   {
    "duration": 32,
    "start_time": "2023-10-13T22:52:12.971Z"
   },
   {
    "duration": 54,
    "start_time": "2023-10-13T22:52:13.004Z"
   },
   {
    "duration": 25,
    "start_time": "2023-10-13T22:52:13.060Z"
   },
   {
    "duration": 22,
    "start_time": "2023-10-13T22:52:13.086Z"
   },
   {
    "duration": 27,
    "start_time": "2023-10-13T22:52:13.109Z"
   },
   {
    "duration": 45,
    "start_time": "2023-10-13T22:52:13.138Z"
   },
   {
    "duration": 18,
    "start_time": "2023-10-13T22:52:13.184Z"
   },
   {
    "duration": 60,
    "start_time": "2023-10-13T22:52:13.204Z"
   },
   {
    "duration": 35,
    "start_time": "2023-10-13T22:52:13.266Z"
   },
   {
    "duration": 25,
    "start_time": "2023-10-13T22:52:13.303Z"
   },
   {
    "duration": 46,
    "start_time": "2023-10-13T22:52:13.330Z"
   },
   {
    "duration": 33,
    "start_time": "2023-10-13T22:52:13.378Z"
   },
   {
    "duration": 59,
    "start_time": "2023-10-13T22:52:13.413Z"
   },
   {
    "duration": 56,
    "start_time": "2023-10-13T22:52:13.474Z"
   },
   {
    "duration": 35,
    "start_time": "2023-10-13T22:52:13.531Z"
   },
   {
    "duration": 30,
    "start_time": "2023-10-13T22:52:13.567Z"
   },
   {
    "duration": 190,
    "start_time": "2023-10-13T22:52:13.599Z"
   },
   {
    "duration": 194,
    "start_time": "2023-10-13T22:52:13.790Z"
   },
   {
    "duration": 9,
    "start_time": "2023-10-13T22:52:13.986Z"
   },
   {
    "duration": 35,
    "start_time": "2023-10-13T22:52:13.996Z"
   },
   {
    "duration": 15,
    "start_time": "2023-10-13T22:52:14.032Z"
   },
   {
    "duration": 13,
    "start_time": "2023-10-13T22:52:14.048Z"
   },
   {
    "duration": 224,
    "start_time": "2023-10-13T22:52:14.063Z"
   },
   {
    "duration": 95,
    "start_time": "2023-10-13T22:52:14.290Z"
   },
   {
    "duration": 257,
    "start_time": "2023-10-13T22:52:14.387Z"
   },
   {
    "duration": 7,
    "start_time": "2023-10-13T22:52:14.646Z"
   },
   {
    "duration": 184,
    "start_time": "2023-10-13T22:52:14.654Z"
   },
   {
    "duration": 11,
    "start_time": "2023-10-13T22:52:14.840Z"
   },
   {
    "duration": 195,
    "start_time": "2023-10-13T22:52:14.852Z"
   },
   {
    "duration": 8,
    "start_time": "2023-10-13T22:52:15.049Z"
   },
   {
    "duration": 29,
    "start_time": "2023-10-13T22:52:15.059Z"
   },
   {
    "duration": 42,
    "start_time": "2023-10-13T22:52:15.089Z"
   },
   {
    "duration": 14,
    "start_time": "2023-10-13T22:52:15.132Z"
   },
   {
    "duration": 3,
    "start_time": "2023-10-13T22:52:15.148Z"
   },
   {
    "duration": 24,
    "start_time": "2023-10-13T22:52:15.152Z"
   },
   {
    "duration": 14,
    "start_time": "2023-10-13T22:52:15.177Z"
   },
   {
    "duration": 35,
    "start_time": "2023-10-13T22:52:15.193Z"
   },
   {
    "duration": 4,
    "start_time": "2023-10-13T22:52:15.229Z"
   },
   {
    "duration": 26,
    "start_time": "2023-10-13T22:52:15.235Z"
   },
   {
    "duration": 4,
    "start_time": "2023-10-13T22:52:15.262Z"
   },
   {
    "duration": 31,
    "start_time": "2023-10-13T22:52:15.267Z"
   },
   {
    "duration": 313,
    "start_time": "2023-10-13T22:52:15.300Z"
   },
   {
    "duration": 7,
    "start_time": "2023-10-13T22:52:15.615Z"
   },
   {
    "duration": 38,
    "start_time": "2023-10-13T22:52:15.623Z"
   },
   {
    "duration": 362,
    "start_time": "2023-10-13T22:52:15.663Z"
   },
   {
    "duration": 8,
    "start_time": "2023-10-13T22:52:16.026Z"
   },
   {
    "duration": 20,
    "start_time": "2023-10-13T22:52:16.036Z"
   },
   {
    "duration": 3,
    "start_time": "2023-10-13T22:52:16.057Z"
   },
   {
    "duration": 36,
    "start_time": "2023-10-13T22:52:16.062Z"
   },
   {
    "duration": 48,
    "start_time": "2023-10-13T22:52:16.100Z"
   },
   {
    "duration": 28,
    "start_time": "2023-10-13T22:52:16.150Z"
   },
   {
    "duration": 75,
    "start_time": "2023-10-13T22:52:16.179Z"
   },
   {
    "duration": 14,
    "start_time": "2023-10-13T22:52:16.256Z"
   },
   {
    "duration": 26,
    "start_time": "2023-10-13T22:52:16.272Z"
   },
   {
    "duration": 29,
    "start_time": "2023-10-13T22:52:16.300Z"
   },
   {
    "duration": 19,
    "start_time": "2023-10-13T22:52:16.330Z"
   },
   {
    "duration": 5,
    "start_time": "2023-10-13T22:52:16.351Z"
   },
   {
    "duration": 8,
    "start_time": "2023-10-13T22:52:16.357Z"
   },
   {
    "duration": 20,
    "start_time": "2023-10-13T22:52:16.366Z"
   },
   {
    "duration": 1809,
    "start_time": "2023-10-13T22:52:16.388Z"
   },
   {
    "duration": 157,
    "start_time": "2023-10-13T22:52:18.199Z"
   },
   {
    "duration": 142,
    "start_time": "2023-10-13T22:53:27.118Z"
   },
   {
    "duration": 159,
    "start_time": "2023-10-13T22:53:33.871Z"
   },
   {
    "duration": 236,
    "start_time": "2023-10-13T22:55:08.793Z"
   },
   {
    "duration": 13,
    "start_time": "2023-10-13T22:55:13.536Z"
   },
   {
    "duration": 140,
    "start_time": "2023-10-13T22:55:17.469Z"
   },
   {
    "duration": 150,
    "start_time": "2023-10-13T22:58:38.225Z"
   },
   {
    "duration": 158,
    "start_time": "2023-10-13T22:59:25.745Z"
   },
   {
    "duration": 213,
    "start_time": "2023-10-13T23:06:05.495Z"
   },
   {
    "duration": 155,
    "start_time": "2023-10-13T23:17:48.768Z"
   },
   {
    "duration": 154,
    "start_time": "2023-10-13T23:19:59.000Z"
   },
   {
    "duration": 148,
    "start_time": "2023-10-13T23:20:08.140Z"
   },
   {
    "duration": 171,
    "start_time": "2023-10-13T23:20:11.571Z"
   },
   {
    "duration": 156,
    "start_time": "2023-10-13T23:21:09.241Z"
   },
   {
    "duration": 141,
    "start_time": "2023-10-13T23:21:25.356Z"
   },
   {
    "duration": 133,
    "start_time": "2023-10-13T23:22:12.821Z"
   },
   {
    "duration": 135,
    "start_time": "2023-10-13T23:22:20.737Z"
   },
   {
    "duration": 136,
    "start_time": "2023-10-13T23:22:47.371Z"
   },
   {
    "duration": 134,
    "start_time": "2023-10-13T23:22:53.061Z"
   },
   {
    "duration": 155,
    "start_time": "2023-10-13T23:23:22.496Z"
   },
   {
    "duration": 239,
    "start_time": "2023-10-13T23:25:05.042Z"
   },
   {
    "duration": 141,
    "start_time": "2023-10-13T23:25:22.931Z"
   },
   {
    "duration": 129,
    "start_time": "2023-10-13T23:25:28.893Z"
   },
   {
    "duration": 145,
    "start_time": "2023-10-13T23:25:34.049Z"
   },
   {
    "duration": 146,
    "start_time": "2023-10-13T23:25:39.041Z"
   },
   {
    "duration": 138,
    "start_time": "2023-10-13T23:25:45.587Z"
   },
   {
    "duration": 132,
    "start_time": "2023-10-13T23:25:53.826Z"
   },
   {
    "duration": 132,
    "start_time": "2023-10-13T23:25:57.075Z"
   },
   {
    "duration": 156,
    "start_time": "2023-10-13T23:26:01.234Z"
   },
   {
    "duration": 170,
    "start_time": "2023-10-13T23:26:36.194Z"
   },
   {
    "duration": 373,
    "start_time": "2023-10-13T23:26:40.190Z"
   },
   {
    "duration": 135,
    "start_time": "2023-10-13T23:26:52.187Z"
   },
   {
    "duration": 237,
    "start_time": "2023-10-13T23:27:01.941Z"
   },
   {
    "duration": 141,
    "start_time": "2023-10-13T23:28:14.571Z"
   },
   {
    "duration": 1061,
    "start_time": "2023-10-13T23:28:52.876Z"
   },
   {
    "duration": 65,
    "start_time": "2023-10-13T23:28:53.939Z"
   },
   {
    "duration": 20,
    "start_time": "2023-10-13T23:28:54.005Z"
   },
   {
    "duration": 14,
    "start_time": "2023-10-13T23:28:54.026Z"
   },
   {
    "duration": 12,
    "start_time": "2023-10-13T23:28:54.042Z"
   },
   {
    "duration": 16,
    "start_time": "2023-10-13T23:28:54.056Z"
   },
   {
    "duration": 9,
    "start_time": "2023-10-13T23:28:54.074Z"
   },
   {
    "duration": 15,
    "start_time": "2023-10-13T23:28:54.086Z"
   },
   {
    "duration": 9,
    "start_time": "2023-10-13T23:28:54.103Z"
   },
   {
    "duration": 34,
    "start_time": "2023-10-13T23:28:54.114Z"
   },
   {
    "duration": 11,
    "start_time": "2023-10-13T23:28:54.150Z"
   },
   {
    "duration": 5,
    "start_time": "2023-10-13T23:28:54.162Z"
   },
   {
    "duration": 6,
    "start_time": "2023-10-13T23:28:54.169Z"
   },
   {
    "duration": 13,
    "start_time": "2023-10-13T23:28:54.178Z"
   },
   {
    "duration": 12,
    "start_time": "2023-10-13T23:28:54.192Z"
   },
   {
    "duration": 7,
    "start_time": "2023-10-13T23:28:54.206Z"
   },
   {
    "duration": 6,
    "start_time": "2023-10-13T23:28:54.214Z"
   },
   {
    "duration": 24,
    "start_time": "2023-10-13T23:28:54.221Z"
   },
   {
    "duration": 7,
    "start_time": "2023-10-13T23:28:54.247Z"
   },
   {
    "duration": 16,
    "start_time": "2023-10-13T23:28:54.255Z"
   },
   {
    "duration": 12,
    "start_time": "2023-10-13T23:28:54.273Z"
   },
   {
    "duration": 9,
    "start_time": "2023-10-13T23:28:54.287Z"
   },
   {
    "duration": 12,
    "start_time": "2023-10-13T23:28:54.298Z"
   },
   {
    "duration": 15,
    "start_time": "2023-10-13T23:28:54.312Z"
   },
   {
    "duration": 26,
    "start_time": "2023-10-13T23:28:54.329Z"
   },
   {
    "duration": 14,
    "start_time": "2023-10-13T23:28:54.357Z"
   },
   {
    "duration": 182,
    "start_time": "2023-10-13T23:28:54.373Z"
   },
   {
    "duration": 74,
    "start_time": "2023-10-13T23:28:54.556Z"
   },
   {
    "duration": 242,
    "start_time": "2023-10-13T23:28:54.632Z"
   },
   {
    "duration": 8,
    "start_time": "2023-10-13T23:28:54.876Z"
   },
   {
    "duration": 186,
    "start_time": "2023-10-13T23:28:54.886Z"
   },
   {
    "duration": 8,
    "start_time": "2023-10-13T23:28:55.074Z"
   },
   {
    "duration": 238,
    "start_time": "2023-10-13T23:28:55.084Z"
   },
   {
    "duration": 8,
    "start_time": "2023-10-13T23:28:55.324Z"
   },
   {
    "duration": 13,
    "start_time": "2023-10-13T23:28:55.344Z"
   },
   {
    "duration": 19,
    "start_time": "2023-10-13T23:28:55.358Z"
   },
   {
    "duration": 35,
    "start_time": "2023-10-13T23:28:55.378Z"
   },
   {
    "duration": 10,
    "start_time": "2023-10-13T23:28:55.414Z"
   },
   {
    "duration": 24,
    "start_time": "2023-10-13T23:28:55.425Z"
   },
   {
    "duration": 8,
    "start_time": "2023-10-13T23:28:55.451Z"
   },
   {
    "duration": 16,
    "start_time": "2023-10-13T23:28:55.463Z"
   },
   {
    "duration": 4,
    "start_time": "2023-10-13T23:28:55.480Z"
   },
   {
    "duration": 17,
    "start_time": "2023-10-13T23:28:55.485Z"
   },
   {
    "duration": 3,
    "start_time": "2023-10-13T23:28:55.504Z"
   },
   {
    "duration": 6,
    "start_time": "2023-10-13T23:28:55.508Z"
   },
   {
    "duration": 288,
    "start_time": "2023-10-13T23:28:55.544Z"
   },
   {
    "duration": 16,
    "start_time": "2023-10-13T23:28:55.833Z"
   },
   {
    "duration": 8,
    "start_time": "2023-10-13T23:28:55.850Z"
   },
   {
    "duration": 352,
    "start_time": "2023-10-13T23:28:55.860Z"
   },
   {
    "duration": 8,
    "start_time": "2023-10-13T23:28:56.213Z"
   },
   {
    "duration": 21,
    "start_time": "2023-10-13T23:28:56.223Z"
   },
   {
    "duration": 4,
    "start_time": "2023-10-13T23:28:56.245Z"
   },
   {
    "duration": 21,
    "start_time": "2023-10-13T23:28:56.250Z"
   },
   {
    "duration": 11,
    "start_time": "2023-10-13T23:28:56.273Z"
   },
   {
    "duration": 20,
    "start_time": "2023-10-13T23:28:56.286Z"
   },
   {
    "duration": 66,
    "start_time": "2023-10-13T23:28:56.308Z"
   },
   {
    "duration": 13,
    "start_time": "2023-10-13T23:28:56.376Z"
   },
   {
    "duration": 12,
    "start_time": "2023-10-13T23:28:56.390Z"
   },
   {
    "duration": 14,
    "start_time": "2023-10-13T23:28:56.403Z"
   },
   {
    "duration": 30,
    "start_time": "2023-10-13T23:28:56.418Z"
   },
   {
    "duration": 5,
    "start_time": "2023-10-13T23:28:56.449Z"
   },
   {
    "duration": 4,
    "start_time": "2023-10-13T23:28:56.456Z"
   },
   {
    "duration": 13,
    "start_time": "2023-10-13T23:28:56.462Z"
   },
   {
    "duration": 1685,
    "start_time": "2023-10-13T23:28:56.477Z"
   },
   {
    "duration": 156,
    "start_time": "2023-10-13T23:28:58.164Z"
   }
  ],
  "kernelspec": {
   "display_name": "Python 3 (ipykernel)",
   "language": "python",
   "name": "python3"
  },
  "language_info": {
   "codemirror_mode": {
    "name": "ipython",
    "version": 3
   },
   "file_extension": ".py",
   "mimetype": "text/x-python",
   "name": "python",
   "nbconvert_exporter": "python",
   "pygments_lexer": "ipython3",
   "version": "3.11.0"
  },
  "toc": {
   "base_numbering": 1,
   "nav_menu": {},
   "number_sections": true,
   "sideBar": true,
   "skip_h1_title": true,
   "title_cell": "Table of Contents",
   "title_sidebar": "Contents",
   "toc_cell": false,
   "toc_position": {
    "height": "calc(100% - 180px)",
    "left": "10px",
    "top": "150px",
    "width": "165px"
   },
   "toc_section_display": true,
   "toc_window_display": true
  }
 },
 "nbformat": 4,
 "nbformat_minor": 5
}
